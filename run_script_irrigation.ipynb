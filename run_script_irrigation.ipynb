{
 "cells": [
  {
   "cell_type": "code",
   "execution_count": 1,
   "id": "baace41f-31b6-494a-8be2-cd834485919d",
   "metadata": {},
   "outputs": [],
   "source": [
    "# import packages\n",
    "import glob\n",
    "from pathlib import Path\n",
    "import scipy.stats\n",
    "import os\n",
    "import numpy as np\n",
    "from datetime import datetime\n",
    "from datetime import timedelta\n",
    "import pandas as pd\n",
    "import calendar\n",
    "import matplotlib.pyplot as plt\n",
    "import matplotlib as mpl\n",
    "import math\n",
    "import cartopy.crs as ccrs\n",
    "from matplotlib.colors import ListedColormap, LinearSegmentedColormap\n",
    "from pathos.threading import ThreadPool as Pool\n",
    "from scipy.stats import gaussian_kde\n",
    "import xarray as xr\n",
    "from matplotlib import cm\n",
    "import matplotlib\n",
    "from collections import Counter"
   ]
  },
  {
   "cell_type": "code",
   "execution_count": 2,
   "id": "643afa20-841e-4018-8ea8-bed0410f3abb",
   "metadata": {},
   "outputs": [],
   "source": [
    "import warnings\n",
    "warnings.filterwarnings('ignore')"
   ]
  },
  {
   "cell_type": "code",
   "execution_count": 3,
   "id": "62a06465-3ac9-4d29-b926-78b7b7cce66d",
   "metadata": {},
   "outputs": [],
   "source": [
    "from f_sr_calculation import *"
   ]
  },
  {
   "cell_type": "code",
   "execution_count": 4,
   "id": "ff679958-2d48-48de-ac2c-db88c5749e13",
   "metadata": {},
   "outputs": [],
   "source": [
    "# work_dir=Path(\"/scratch/fransjevanoors/global_sr\")\n",
    "work_dir=Path(\"/mnt/u/LSM root zone/global_sr\")"
   ]
  },
  {
   "cell_type": "code",
   "execution_count": 5,
   "id": "5829a56f-f7f5-4efd-984a-8715effb3ab3",
   "metadata": {},
   "outputs": [],
   "source": [
    "def find_nearest(array, value):\n",
    "    array = np.asarray(array)\n",
    "    idx = (np.abs(array - value)).argmin()\n",
    "    return idx"
   ]
  },
  {
   "cell_type": "markdown",
   "id": "eb6c7955-211e-4ac1-b715-0f151485881b",
   "metadata": {},
   "source": [
    "# 2. optimize beta"
   ]
  },
  {
   "cell_type": "code",
   "execution_count": 38,
   "id": "5dfacb9d-64ed-4653-8b3c-4a58c9f2b5cf",
   "metadata": {},
   "outputs": [],
   "source": [
    "df = pd.read_csv(f'{work_dir}/data/irrigated_area/output/combined_ia.csv',index_col=0) "
   ]
  },
  {
   "cell_type": "code",
   "execution_count": null,
   "id": "71172cbe-56ed-4d28-8242-1444f531c95c",
   "metadata": {},
   "outputs": [],
   "source": [
    "el_id_list=[]\n",
    "for filepath in glob.iglob(f'{work_dir}/output/sr_calculation/sd_catchments/irri/fiwu2/se/*.csv'):\n",
    "    f = os.path.split(filepath)[1] # remove full path\n",
    "    f = f[:-10] # remove .year extension\n",
    "    el_id_list.append(f)\n",
    "print(len(el_id_list))\n",
    "\n",
    "# get fiwu values for catchments with ia>0, se only written for ia>0, sd for all catchments\n",
    "f = 'iwu2'\n",
    "fm = []\n",
    "for catch_id in el_id_list:\n",
    "    if os.path.exists(f'{work_dir}/output/sr_calculation/sd_catchments/irri/fiwu2/se/{catch_id}_f{f}.csv'):\n",
    "        d = pd.read_csv(f'{work_dir}/output/sr_calculation/sd_catchments/irri/fiwu2/se/{catch_id}_f{f}.csv',index_col=0)\n",
    "        fmean = d['f'][:-1].mean()\n",
    "        fm.append(fmean)\n",
    "print(len(fm))"
   ]
  },
  {
   "cell_type": "code",
   "execution_count": null,
   "id": "f4e074db-2b95-4ccd-82c3-7e3c1c3593c1",
   "metadata": {},
   "outputs": [],
   "source": [
    "d=pd.DataFrame(index=el_id_list, columns=['fiwu'])\n",
    "d['fiwu']=fm\n",
    "d['ia'] = df['hi']\n",
    "d['fopt'] = d['fiwu']/d['ia']\n",
    "d.to_csv(f'{work_dir}/output/sr_calculation/sd_catchments/irri/f_optimization2.csv')"
   ]
  },
  {
   "cell_type": "code",
   "execution_count": 39,
   "id": "0d86873f-d96f-432b-b0bb-f2178d9b4f22",
   "metadata": {},
   "outputs": [
    {
     "data": {
      "text/html": [
       "<div>\n",
       "<style scoped>\n",
       "    .dataframe tbody tr th:only-of-type {\n",
       "        vertical-align: middle;\n",
       "    }\n",
       "\n",
       "    .dataframe tbody tr th {\n",
       "        vertical-align: top;\n",
       "    }\n",
       "\n",
       "    .dataframe thead th {\n",
       "        text-align: right;\n",
       "    }\n",
       "</style>\n",
       "<table border=\"1\" class=\"dataframe\">\n",
       "  <thead>\n",
       "    <tr style=\"text-align: right;\">\n",
       "      <th></th>\n",
       "      <th>fiwu</th>\n",
       "      <th>ia</th>\n",
       "      <th>fopt</th>\n",
       "    </tr>\n",
       "  </thead>\n",
       "  <tbody>\n",
       "    <tr>\n",
       "      <th>ITEMI002</th>\n",
       "      <td>0.021073</td>\n",
       "      <td>0.025706</td>\n",
       "      <td>0.819797</td>\n",
       "    </tr>\n",
       "    <tr>\n",
       "      <th>at_0000002</th>\n",
       "      <td>0.000000</td>\n",
       "      <td>0.000283</td>\n",
       "      <td>0.000000</td>\n",
       "    </tr>\n",
       "    <tr>\n",
       "      <th>at_0000008</th>\n",
       "      <td>0.000000</td>\n",
       "      <td>0.000526</td>\n",
       "      <td>0.000000</td>\n",
       "    </tr>\n",
       "    <tr>\n",
       "      <th>at_0000012</th>\n",
       "      <td>0.000000</td>\n",
       "      <td>0.000650</td>\n",
       "      <td>0.000000</td>\n",
       "    </tr>\n",
       "    <tr>\n",
       "      <th>at_0000039</th>\n",
       "      <td>0.000002</td>\n",
       "      <td>0.000003</td>\n",
       "      <td>0.621673</td>\n",
       "    </tr>\n",
       "    <tr>\n",
       "      <th>...</th>\n",
       "      <td>...</td>\n",
       "      <td>...</td>\n",
       "      <td>...</td>\n",
       "    </tr>\n",
       "    <tr>\n",
       "      <th>ITTOS343</th>\n",
       "      <td>0.014590</td>\n",
       "      <td>0.013244</td>\n",
       "      <td>1.101644</td>\n",
       "    </tr>\n",
       "    <tr>\n",
       "      <th>ITTOS361</th>\n",
       "      <td>0.129887</td>\n",
       "      <td>0.051705</td>\n",
       "      <td>2.512075</td>\n",
       "    </tr>\n",
       "    <tr>\n",
       "      <th>ITTOS339</th>\n",
       "      <td>0.065910</td>\n",
       "      <td>0.025785</td>\n",
       "      <td>2.556098</td>\n",
       "    </tr>\n",
       "    <tr>\n",
       "      <th>ITTOS372</th>\n",
       "      <td>0.117494</td>\n",
       "      <td>0.042303</td>\n",
       "      <td>2.777431</td>\n",
       "    </tr>\n",
       "    <tr>\n",
       "      <th>ITTOS353</th>\n",
       "      <td>0.153720</td>\n",
       "      <td>0.021340</td>\n",
       "      <td>7.203476</td>\n",
       "    </tr>\n",
       "  </tbody>\n",
       "</table>\n",
       "<p>4635 rows × 3 columns</p>\n",
       "</div>"
      ],
      "text/plain": [
       "                fiwu        ia      fopt\n",
       "ITEMI002    0.021073  0.025706  0.819797\n",
       "at_0000002  0.000000  0.000283  0.000000\n",
       "at_0000008  0.000000  0.000526  0.000000\n",
       "at_0000012  0.000000  0.000650  0.000000\n",
       "at_0000039  0.000002  0.000003  0.621673\n",
       "...              ...       ...       ...\n",
       "ITTOS343    0.014590  0.013244  1.101644\n",
       "ITTOS361    0.129887  0.051705  2.512075\n",
       "ITTOS339    0.065910  0.025785  2.556098\n",
       "ITTOS372    0.117494  0.042303  2.777431\n",
       "ITTOS353    0.153720  0.021340  7.203476\n",
       "\n",
       "[4635 rows x 3 columns]"
      ]
     },
     "execution_count": 39,
     "metadata": {},
     "output_type": "execute_result"
    }
   ],
   "source": [
    "d = pd.read_csv(f'{work_dir}/output/sr_calculation/sd_catchments/irri/f_optimization2.csv',index_col=0)\n",
    "d"
   ]
  },
  {
   "cell_type": "code",
   "execution_count": 40,
   "id": "c76dc832-72ba-4111-a313-ed224aa170cd",
   "metadata": {},
   "outputs": [],
   "source": [
    "# MINIMIZE ABSOLUTE ERROR\n",
    "f_min=0\n",
    "f_max=4\n",
    "nmax=10000\n",
    "# A=np.zeros((int(nmax),8))\n",
    "b = np.linspace(0,2.5,1000)\n",
    "A=np.zeros((len(b),8))\n",
    "\n",
    "# for n in range(1,int(nmax+1)): \n",
    "#     Rnum=np.random.rand(1)\n",
    "#     f = f_min+(f_max-f_min)*Rnum\n",
    "\n",
    "for n in range(1,len(b)+1):\n",
    "    f = b[n-1]\n",
    "    o = f*d['ia']\n",
    "    er = o-d['fiwu']\n",
    "    er_m = er.mean()\n",
    "    er_mse = np.mean(er**2)\n",
    "    er_mae = np.mean(np.abs(er))\n",
    "    er_std =er.std()\n",
    "    er_med = er.median()\n",
    "    er_iqr =er.quantile(0.75) - er.quantile(0.25)\n",
    "    er_rmse = np.sqrt(np.mean((o-d['fiwu'])**2))\n",
    "    \n",
    "    A[n-1,:] = [f,er_m,er_mse,er_mae,er_std,er_med,er_iqr,er_rmse]\n",
    "\n",
    "ind=find_nearest(A[:,1],0)\n",
    "fopt_mean=np.round(A[ind,0],3)\n",
    "    \n",
    "ind=np.argmin(A[:,2],0)\n",
    "fopt_mse=np.round(A[ind,0],3)\n",
    "\n",
    "ind=np.argmin(A[:,3],0)\n",
    "fopt_mae=np.round(A[ind,0],3)\n",
    "\n",
    "ind=np.argmin(A[:,4])\n",
    "fopt_std=np.round(A[ind,0],3)\n",
    "\n",
    "ind=find_nearest(A[:,5],0)\n",
    "fopt_median=np.round(A[ind,0],3)\n",
    "\n",
    "ind=np.argmin(A[:,6])\n",
    "fopt_iqr=np.round(A[ind,0],3)\n",
    "\n",
    "ind=np.argmin(A[:,7])\n",
    "fopt_rmse=np.round(A[ind,0],3)"
   ]
  },
  {
   "cell_type": "code",
   "execution_count": 41,
   "id": "ddd0e96c-640e-483f-86d2-3303b673f326",
   "metadata": {},
   "outputs": [
    {
     "data": {
      "text/plain": [
       "<matplotlib.legend.Legend at 0x7fae4c382730>"
      ]
     },
     "execution_count": 41,
     "metadata": {},
     "output_type": "execute_result"
    },
    {
     "data": {
      "image/png": "[encoded data removed]",
      "text/plain": [
       "<Figure size 1296x720 with 6 Axes>"
      ]
     },
     "metadata": {
      "needs_background": "light"
     },
     "output_type": "display_data"
    }
   ],
   "source": [
    "fig = plt.figure(figsize=(18,10))\n",
    "ax = fig.add_subplot(231)\n",
    "ax.plot(A[:,0], A[:,2],'mo',markersize=0.5)\n",
    "ax.vlines(fopt_mse,A[:,2].min(),A[:,2].max(), label='fopt')\n",
    "ax.set_xlabel('f')\n",
    "ax.set_ylabel('mse f-error')\n",
    "ax.set_title(f'mse, fopt mmse={fopt_mse}',size=14)\n",
    "ax.legend()\n",
    "\n",
    "ax = fig.add_subplot(232)\n",
    "ax.plot(A[:,0], A[:,4],'mo',markersize=0.5)\n",
    "ax.vlines(fopt_std,A[:,4].min(),A[:,4].max(), label='fopt')\n",
    "ax.set_xlabel('f')\n",
    "ax.set_ylabel('std f-error')\n",
    "ax.set_title(f'std, fopt std={fopt_std}',size=14)\n",
    "ax.legend()\n",
    "\n",
    "ax = fig.add_subplot(233)\n",
    "ax.plot(A[:,0], A[:,5],'mo',markersize=0.5)\n",
    "ax.vlines(fopt_median,A[:,5].min(),A[:,5].max(), label='fopt')\n",
    "ax.set_xlabel('f')\n",
    "ax.set_ylabel('median f-error')\n",
    "ax.set_title(f'median, fopt median={fopt_median}',size=14)\n",
    "ax.legend()\n",
    "\n",
    "ax = fig.add_subplot(234)\n",
    "ax.plot(A[:,0], A[:,6],'mo',markersize=0.5)\n",
    "ax.vlines(fopt_iqr,A[:,6].min(),A[:,6].max(), label='fopt')\n",
    "ax.set_xlabel('f')\n",
    "ax.set_ylabel('iqr f-error')\n",
    "ax.set_title(f'IQR, fopt iqr={fopt_iqr}',size=14)\n",
    "ax.legend()\n",
    "\n",
    "ax = fig.add_subplot(235)\n",
    "ax.plot(A[:,0], A[:,7],'mo',markersize=0.5)\n",
    "ax.vlines(fopt_rmse,A[:,7].min(),A[:,7].max(), label='fopt')\n",
    "ax.set_xlabel('f')\n",
    "ax.set_ylabel('rmse f-error')\n",
    "ax.set_title(f'rmse, fopt rmse={fopt_rmse}',size=14)\n",
    "ax.legend()\n",
    "\n",
    "ax = fig.add_subplot(236)\n",
    "ax.plot(A[:,0], A[:,3],'mo',markersize=0.5)\n",
    "ax.vlines(fopt_mae,A[:,3].min(),A[:,3].max(), label='fopt')\n",
    "ax.set_xlabel('f')\n",
    "ax.set_ylabel('mae f-error')\n",
    "ax.set_title(f'mae, fopt mae={fopt_mae}',size=14)\n",
    "ax.legend()\n",
    "\n",
    "# fig.savefig(f'{work_dir}/output/figures/irrigation/optimization/monte_carlo_absdiff.jpg',dpi=300,bbox_inches='tight')"
   ]
  },
  {
   "cell_type": "code",
   "execution_count": 42,
   "id": "90c193fe-0df0-4497-8b01-374042cbfe16",
   "metadata": {},
   "outputs": [
    {
     "data": {
      "text/plain": [
       "<matplotlib.legend.Legend at 0x7fae4c234340>"
      ]
     },
     "execution_count": 42,
     "metadata": {},
     "output_type": "execute_result"
    },
    {
     "data": {
      "image/png": "[encoded data removed]",
      "text/plain": [
       "<Figure size 288x288 with 1 Axes>"
      ]
     },
     "metadata": {
      "needs_background": "light"
     },
     "output_type": "display_data"
    }
   ],
   "source": [
    "# RMSE figure optimization\n",
    "fig = plt.figure(figsize=(4,4))\n",
    "ax = fig.add_subplot(111)\n",
    "ax.plot(A[:,0], A[:,7],'o',color=c2,markersize=0.5)\n",
    "ax.plot(1,1,'o',color=c2,markersize=6)\n",
    "ax.plot(fopt_rmse,0.044,'o',color=c1,markersize=6,label=r'$\\beta_{\\mathrm{opt}}$='+str(np.round(fopt_rmse,1)))\n",
    "ax.set_xlim(0,2.5)\n",
    "ax.set_ylim(0.02,0.10)\n",
    "ax.set_yticks([0.02,0.04,0.06,0.08,0.10])\n",
    "ax.set_yticklabels([0.02,0.04,0.06,0.08,0.10],size=12)\n",
    "ax.set_xticklabels([0.0,0.5,1.0,1.5,2.0,2.5],size=12)\n",
    "ax.set_xlabel(r'$\\beta$ (-)',fontsize=14)\n",
    "ax.set_ylabel('RMSE($f_{\\mathrm{i,IA}}$, $f_{\\mathrm{i,IWU}}$) (-)',fontsize=14)\n",
    "# ax.set_title('min(RMSE) for $f_{\\mathrm{i,opt}}$='+str(fopt_rmse),size=14)\n",
    "ax.legend(fontsize=14,loc='upper left')"
   ]
  },
  {
   "cell_type": "code",
   "execution_count": 43,
   "id": "8135d36b-0761-458c-805b-9721b9b934df",
   "metadata": {},
   "outputs": [
    {
     "data": {
      "text/html": [
       "<div>\n",
       "<style scoped>\n",
       "    .dataframe tbody tr th:only-of-type {\n",
       "        vertical-align: middle;\n",
       "    }\n",
       "\n",
       "    .dataframe tbody tr th {\n",
       "        vertical-align: top;\n",
       "    }\n",
       "\n",
       "    .dataframe thead th {\n",
       "        text-align: right;\n",
       "    }\n",
       "</style>\n",
       "<table border=\"1\" class=\"dataframe\">\n",
       "  <thead>\n",
       "    <tr style=\"text-align: right;\">\n",
       "      <th></th>\n",
       "      <th>median</th>\n",
       "      <th>mean</th>\n",
       "      <th>std</th>\n",
       "      <th>iqr</th>\n",
       "      <th>rmse</th>\n",
       "      <th>mae</th>\n",
       "    </tr>\n",
       "  </thead>\n",
       "  <tbody>\n",
       "    <tr>\n",
       "      <th>fi,opt*IA - fi,iwu</th>\n",
       "      <td>0.001</td>\n",
       "      <td>-0.005</td>\n",
       "      <td>0.044</td>\n",
       "      <td>0.005</td>\n",
       "      <td>0.044</td>\n",
       "      <td>0.018</td>\n",
       "    </tr>\n",
       "  </tbody>\n",
       "</table>\n",
       "</div>"
      ],
      "text/plain": [
       "                    median   mean    std    iqr   rmse    mae\n",
       "fi,opt*IA - fi,iwu   0.001 -0.005  0.044  0.005  0.044  0.018"
      ]
     },
     "execution_count": 43,
     "metadata": {},
     "output_type": "execute_result"
    },
    {
     "data": {
      "image/png": "[encoded data removed]",
      "text/plain": [
       "<Figure size 648x288 with 2 Axes>"
      ]
     },
     "metadata": {
      "needs_background": "light"
     },
     "output_type": "display_data"
    }
   ],
   "source": [
    "d['fi,opt'] = 0.9*d['ia']\n",
    "d['dif'] = d['fi,opt']-d['fiwu']\n",
    "d['reldif'] = (d['fi,opt']-d['fiwu'])/d['fiwu'] * 100\n",
    "\n",
    "d = d.dropna()\n",
    "x = d['fiwu']\n",
    "y = d['fi,opt']\n",
    "\n",
    "# calculate point density\n",
    "xy = np.vstack([x,y])\n",
    "z = gaussian_kde(xy)(xy)\n",
    "\n",
    "fig = plt.figure(figsize=(9,4))\n",
    "ax = fig.add_subplot(121)\n",
    "# ax.plot(d['fiwu'],d['f1.85ia'],'mo',markersize=1)\n",
    "ax.scatter(x,y,c=z,s=3)\n",
    "ax.plot([0,12],[0,12],'k--')\n",
    "ax.set_xlabel('fi,iwu')\n",
    "ax.set_ylabel('fi,opt * IA')\n",
    "ax.set_xlim(0,0.6)\n",
    "ax.set_ylim(0,0.6)\n",
    "\n",
    "ax = fig.add_subplot(122)\n",
    "d = d.dropna()\n",
    "ax.yaxis.tick_right()\n",
    "ax.yaxis.set_label_position(\"right\")\n",
    "ax.boxplot(d['dif'])\n",
    "ax.set_xticklabels(['fi,opt*IA - fi,iwu'])\n",
    "ax.set_ylabel('abs diff fi,opt*IA - fi,iwu')\n",
    "ax.set_ylim(-0.02,0.02)\n",
    "ax.set_xlim(0.8,1.2)\n",
    "\n",
    "de = d['dif']\n",
    "\n",
    "e = pd.DataFrame(index=['fi,opt*IA - fi,iwu'])\n",
    "e['median']=np.round(de.median(),3)\n",
    "e['mean']=np.round(de.mean(),3)\n",
    "e['std']=np.round(de.std(),3)\n",
    "e['iqr'] = np.round((de.quantile(0.75) - de.quantile(0.25)),3)\n",
    "e['rmse'] = np.round(np.sqrt(np.mean((de**2))),3)\n",
    "e['mae'] = np.round(np.mean(np.abs(de)),3)\n",
    "e"
   ]
  },
  {
   "cell_type": "markdown",
   "id": "1768c2bd-0ad6-4624-b18a-4b1b8768aae1",
   "metadata": {},
   "source": [
    "## SD CALCULATION"
   ]
  },
  {
   "cell_type": "markdown",
   "id": "47d34b3c-4c37-4e3a-b389-36f0d28c4ea4",
   "metadata": {},
   "source": [
    "Run Sd calculation for three cases:\n",
    "- NI\n",
    "- IWU\n",
    "- IAF"
   ]
  },
  {
   "cell_type": "code",
   "execution_count": 8,
   "id": "fc5517b8-e036-49ba-8222-2fc77169dcdd",
   "metadata": {},
   "outputs": [],
   "source": [
    "ir_case = 'iaf' # or 'ni' or 'iwu'\n",
    "pep_dir = f'{work_dir}/output/forcing_timeseries/processed/daily'\n",
    "q_dir = f'{work_dir}/output/q_timeseries_selected'\n",
    "out_dir = f'{work_dir}/output/sr_calculation/sd_catchments'\n",
    "snow_ids = np.genfromtxt(f'{work_dir}/output/snow/catch_id_list_snow_t_and_p.txt',dtype='str')\n",
    "snow_dir = f'{work_dir}/output/snow/timeseries_gswp'\n",
    "\n",
    "catch_list = np.genfromtxt(f'{work_dir}/output/gsim_aus_catch_id_list_lo_sel_area_wb.txt',dtype='str')[:]\n",
    "\n",
    "# # check which catchments are missing\n",
    "# el_id_list=[]\n",
    "# for filepath in glob.iglob(f'{work_dir}/output/sr_calculation/sd_catchments/irri/f0.9ia/sd/*.csv'):\n",
    "#     f = os.path.split(filepath)[1] # remove full path\n",
    "#     f = f[:-11] # remove .year extension\n",
    "#     el_id_list.append(f)\n",
    "# dif = list(set(catch_list) - set(el_id_list))\n",
    "# print(len(dif))\n",
    "# catch_list = dif\n",
    "\n",
    "catch_id_list = catch_list[0:3]\n",
    "pep_dir_list = [pep_dir] * len(catch_id_list)\n",
    "q_dir_list = [q_dir] * len(catch_id_list)\n",
    "out_dir_list = [out_dir] * len(catch_id_list)\n",
    "snow_id_list = [snow_ids] * len(catch_id_list)\n",
    "snow_dir_list = [snow_dir] * len(catch_id_list)\n",
    "work_dir_list = [work_dir] * len(catch_id_list)\n",
    "ir_case_list = [ir_case] * len(catch_id_list)\n",
    "\n",
    "run_sd_calculation_parallel(catch_id_list,pep_dir_list,q_dir_list,out_dir_list,snow_id_list,snow_dir_list,work_dir_list,ir_case_list)"
   ]
  },
  {
   "cell_type": "markdown",
   "id": "59db9a94-4132-421e-aa9b-9466cc5a566c",
   "metadata": {},
   "source": [
    "## SR CALCULATION"
   ]
  },
  {
   "cell_type": "code",
   "execution_count": 6,
   "id": "8db88327-8999-47af-9f5e-8efab40894b4",
   "metadata": {},
   "outputs": [],
   "source": [
    "ir_case = 'ni'\n",
    "catch_list = np.genfromtxt(f'{work_dir}/output/gsim_aus_catch_id_list_lo_sel_area_wb.txt',dtype='str')[:]\n",
    "\n",
    "sd_list=[]\n",
    "for filepath in glob.iglob(f'{work_dir}/output/sr_calculation/sd_catchments/irri/f0.9ia/sd/*.csv'):\n",
    "    f = os.path.split(filepath)[1] # remove full path\n",
    "    f = f[:-11] # remove .year extension\n",
    "    sd_list.append(f)\n",
    "\n",
    "# define directories\n",
    "sd_dir = f'{work_dir}/output/sr_calculation/sd_catchments'\n",
    "out_dir = f'{work_dir}/output/sr_calculation/sd_catchments'\n",
    "\n",
    "# define return periods\n",
    "rp_array = [2,3,5,10,20,30,40,50,60,70,80]\n",
    "catch_id_list = sd_list[0:3]\n",
    "sd_dir_list = [sd_dir] * len(catch_id_list)\n",
    "out_dir_list = [out_dir] * len(catch_id_list) \n",
    "rp_array_list = [rp_array] * len(catch_id_list) \n",
    "ir_case_list = [ir_case] * len(catch_id_list)\n",
    "\n",
    "run_sr_calculation_parallel(catch_id_list,rp_array_list,sd_dir_list,out_dir_list,ir_case_list)"
   ]
  },
  {
   "cell_type": "markdown",
   "id": "9b1e359a-f022-4306-bc14-6cef5025c0f1",
   "metadata": {},
   "source": [
    "Combine calculated Sr values in one dataframe for each irrigation case:"
   ]
  },
  {
   "cell_type": "code",
   "execution_count": 9,
   "id": "b2c4ec37-3900-4ceb-bb81-e753afa2ca23",
   "metadata": {},
   "outputs": [
    {
     "name": "stdout",
     "output_type": "stream",
     "text": [
      "4582\n",
      "4582\n"
     ]
    }
   ],
   "source": [
    "# combine Sr output in dataframe - f no irri\n",
    "c_list=[]\n",
    "for filepath in glob.iglob(f'{work_dir}/output/sr_calculation/sd_catchments/no_irri/sr/*gumbelfit.csv'):\n",
    "    f = os.path.split(filepath)[1] # remove full path\n",
    "    f = f[:-14] # remove .year extension\n",
    "    c_list.append(f)\n",
    "print(len(c_list))\n",
    "\n",
    "sr_df_gf = pd.DataFrame(index=c_list, columns=['2','3','5','10','20','30','40','50','60','70','80'])\n",
    "sr_df_p = pd.DataFrame(index=c_list, columns=['k3','k5'])\n",
    "sr_df_gf.to_csv(f'{work_dir}/output/sr_calculation/sd_catchments/no_irri/sr_no_irri_combined_gumbelfit.csv')\n",
    "sr_df_p.to_csv(f'{work_dir}/output/sr_calculation/sd_catchments/no_irri/sr_no_irri_combined_points.csv')\n",
    "\n",
    "# sr_df_gf = pd.read_csv(f'{work_dir}/output/sr_calculation/sd_catchments/no_irri/sr_no_irri_combined_gumbelfit.csv',index_col=0)\n",
    "# sr_df_p = pd.read_csv(f'{work_dir}/output/sr_calculation/sd_catchments/no_irri/sr_no_irri_combined_points.csv',index_col=0)\n",
    "# sr_n = sr_df_p.dropna()\n",
    "\n",
    "p = []\n",
    "# p = sr_n.index\n",
    "di = list(set(c_list) - set(p)) #missing catchments in dataframe\n",
    "print(len(di))\n",
    "\n",
    "for catch_id in di[:]:\n",
    "    if os.path.exists(f'{work_dir}/output/sr_calculation/sd_catchments/no_irri/sr/{catch_id}_gumbelfit.csv'):\n",
    "        d = pd.read_csv(f'{work_dir}/output/sr_calculation/sd_catchments/no_irri/sr/{catch_id}_gumbelfit.csv',index_col=0)\n",
    "        sr_df_gf.loc[catch_id] = d.iloc[0]\n",
    "        \n",
    "        d = pd.read_csv(f'{work_dir}/output/sr_calculation/sd_catchments/no_irri/sr/{catch_id}_points.csv',index_col=0)\n",
    "        l = [2]#,3,5,10,20,30,40,50,60,70,80]\n",
    "        for i in range(len(l)):\n",
    "            a = d['T_a'].values\n",
    "            ix1 = find_nearest(a,l[i])\n",
    "            sr = np.mean(d.sd.values[[ix1,ix1-1,ix1+1]])\n",
    "            sr_df_p.loc[catch_id]['k3'] = sr\n",
    "            \n",
    "            a = d['T_a'].values\n",
    "            ix1 = find_nearest(a,l[i])\n",
    "            sr = np.mean(d.sd.values[[ix1,ix1-1,ix1+1,ix1-2,ix1+2]])\n",
    "            sr_df_p.loc[catch_id]['k5'] = sr\n",
    "\n",
    "sr_df_gf.to_csv(f'{work_dir}/output/sr_calculation/sd_catchments/no_irri/sr_no_irri_combined_gumbelfit.csv')\n",
    "sr_df_p.to_csv(f'{work_dir}/output/sr_calculation/sd_catchments/no_irri/sr_no_irri_combined_points.csv')"
   ]
  },
  {
   "cell_type": "code",
   "execution_count": 12,
   "id": "1aa8bad8-221a-44f9-816b-2954401f4133",
   "metadata": {},
   "outputs": [
    {
     "name": "stdout",
     "output_type": "stream",
     "text": [
      "4583\n"
     ]
    }
   ],
   "source": [
    "# combine Sr output in dataframe - f0.9ia\n",
    "c_list=[]\n",
    "for filepath in glob.iglob(f'{work_dir}/output/sr_calculation/sd_catchments/irri/f0.9ia/sr/*gumbelfit.csv'):\n",
    "    f = os.path.split(filepath)[1] # remove full path\n",
    "    f = f[:-21] # remove .year extension\n",
    "    c_list.append(f)\n",
    "print(len(c_list))\n",
    "\n",
    "sr_df_gf = pd.DataFrame(index=c_list, columns=['2','3','5','10','20','30','40','50','60','70','80'])\n",
    "sr_df_p = pd.DataFrame(index=c_list, columns=['k3','k5'])\n",
    "sr_df_gf.to_csv(f'{work_dir}/output/sr_calculation/sd_catchments/irri/f0.9ia/sr_irri_f0.9ia_combined_gumbelfit2.csv')\n",
    "sr_df_p.to_csv(f'{work_dir}/output/sr_calculation/sd_catchments/irri/f0.9ia/sr_irri_f0.9ia_combined_points2.csv')\n",
    "\n",
    "# sr_df_gf = pd.read_csv(f'{work_dir}/output/sr_calculation/sd_catchments/irri/f0.9ia/sr_irri_f0.9ia_combined_gumbelfit.csv',index_col=0)\n",
    "# sr_df_p = pd.read_csv(f'{work_dir}/output/sr_calculation/sd_catchments/irri/f0.9ia/sr_irri_f0.9ia_combined_points.csv',index_col=0)\n",
    "# sr_n = sr_df_p.dropna()\n",
    "\n",
    "p=[]\n",
    "# p = sr_n.index\n",
    "di = list(set(c_list) - set(p)) #missing catchments in dataframe\n",
    "\n",
    "for catch_id in di[:]:\n",
    "    if os.path.exists(f'{work_dir}/output/sr_calculation/sd_catchments/irri/f0.9ia/sr/{catch_id}_f0.9ia_gumbelfit.csv'):\n",
    "        d = pd.read_csv(f'{work_dir}/output/sr_calculation/sd_catchments/irri/f0.9ia/sr/{catch_id}_f0.9ia_gumbelfit.csv',index_col=0)\n",
    "        sr_df_gf.loc[catch_id] = d.iloc[0]\n",
    "        \n",
    "        d = pd.read_csv(f'{work_dir}/output/sr_calculation/sd_catchments/irri/f0.9ia/sr/{catch_id}_f0.9ia_points.csv',index_col=0)\n",
    "        l = [2]#,3,5,10,20,30,40,50,60,70,80]\n",
    "        for i in range(len(l)):\n",
    "            a = d['T_a'].values\n",
    "            ix1 = find_nearest(a,l[i])\n",
    "            sr = np.mean(d.sd.values[[ix1,ix1-1,ix1+1]])\n",
    "            sr_df_p.loc[catch_id]['k3'] = sr\n",
    "            \n",
    "            a = d['T_a'].values\n",
    "            ix1 = find_nearest(a,l[i])\n",
    "            sr = np.mean(d.sd.values[[ix1,ix1-1,ix1+1,ix1-2,ix1+2]])\n",
    "            sr_df_p.loc[catch_id]['k5'] = sr\n",
    "\n",
    "sr_df_gf.to_csv(f'{work_dir}/output/sr_calculation/sd_catchments/irri/f0.9ia/sr_irri_f0.9ia_combined_gumbelfit2.csv')\n",
    "sr_df_p.to_csv(f'{work_dir}/output/sr_calculation/sd_catchments/irri/f0.9ia/sr_irri_f0.9ia_combined_points2.csv')"
   ]
  },
  {
   "cell_type": "code",
   "execution_count": 18,
   "id": "1927b0c4-bfe1-4e3c-b9bd-b7201595a53c",
   "metadata": {},
   "outputs": [
    {
     "name": "stdout",
     "output_type": "stream",
     "text": [
      "4582\n"
     ]
    }
   ],
   "source": [
    "# combine Sr output in dataframe - fiwu2\n",
    "c_list=[]\n",
    "for filepath in glob.iglob(f'{work_dir}/output/sr_calculation/sd_catchments/irri/fiwu2/sr/*gumbelfit.csv'):\n",
    "    f = os.path.split(filepath)[1] # remove full path\n",
    "    f = f[:-20] # remove .year extension\n",
    "    c_list.append(f)\n",
    "print(len(c_list))\n",
    "\n",
    "sr_df_gf = pd.DataFrame(index=c_list, columns=['2','3','5','10','20','30','40','50','60','70','80'])\n",
    "sr_df_p = pd.DataFrame(index=c_list, columns=['k3','k5'])\n",
    "sr_df_gf.to_csv(f'{work_dir}/output/sr_calculation/sd_catchments/irri/fiwu2/sr_irri_fiwu2_combined_gumbelfit2.csv')\n",
    "sr_df_p.to_csv(f'{work_dir}/output/sr_calculation/sd_catchments/irri/fiwu2/sr_irri_fiwu2_combined_points2.csv')\n",
    "\n",
    "# sr_df_gf = pd.read_csv(f'{work_dir}/output/sr_calculation/sd_catchments/irri/fiwu2/sr_irri_fiwu2_combined_gumbelfit2.csv',index_col=0)\n",
    "# sr_df_p = pd.read_csv(f'{work_dir}/output/sr_calculation/sd_catchments/irri/fiwu2/sr_irri_fiwu2_combined_points2.csv',index_col=0)\n",
    "sr_n = sr_df_gf.dropna()\n",
    "# p=[]\n",
    "p = sr_n.index\n",
    "di = list(set(c_list) - set(p)) #missing catchments in dataframe\n",
    "\n",
    "for catch_id in di[:]:\n",
    "    if os.path.exists(f'{work_dir}/output/sr_calculation/sd_catchments/irri/fiwu2/sr/{catch_id}_fiwu2_gumbelfit.csv'):\n",
    "        d = pd.read_csv(f'{work_dir}/output/sr_calculation/sd_catchments/irri/fiwu2/sr/{catch_id}_fiwu2_gumbelfit.csv',index_col=0)\n",
    "        sr_df_gf.loc[catch_id] = d.iloc[0]\n",
    "        \n",
    "        d = pd.read_csv(f'{work_dir}/output/sr_calculation/sd_catchments/irri/fiwu2/sr/{catch_id}_fiwu2_points.csv',index_col=0)\n",
    "        l = [2]#,3,5,10,20,30,40,50,60,70,80]\n",
    "        for i in range(len(l)):\n",
    "            a = d['T_a'].values\n",
    "            ix1 = find_nearest(a,l[i])\n",
    "            sr = np.mean(d.sd.values[[ix1,ix1-1,ix1+1]])\n",
    "            sr_df_p.loc[catch_id]['k3'] = sr\n",
    "            \n",
    "            a = d['T_a'].values\n",
    "            ix1 = find_nearest(a,l[i])\n",
    "            sr = np.mean(d.sd.values[[ix1,ix1-1,ix1+1,ix1-2,ix1+2]])\n",
    "            sr_df_p.loc[catch_id]['k5'] = sr\n",
    "\n",
    "sr_df_gf.to_csv(f'{work_dir}/output/sr_calculation/sd_catchments/irri/fiwu2/sr_irri_fiwu2_combined_gumbelfit2.csv')\n",
    "sr_df_p.to_csv(f'{work_dir}/output/sr_calculation/sd_catchments/irri/fiwu2/sr_irri_fiwu2_combined_points2.csv')"
   ]
  },
  {
   "cell_type": "markdown",
   "id": "3244c753-5ebc-4494-957d-9e4847669ffb",
   "metadata": {},
   "source": [
    "## process Ss"
   ]
  },
  {
   "cell_type": "code",
   "execution_count": 87,
   "id": "8acd16ed-bfe9-4f77-a969-6b4aad178caf",
   "metadata": {},
   "outputs": [
    {
     "name": "stdout",
     "output_type": "stream",
     "text": [
      "4635\n"
     ]
    }
   ],
   "source": [
    "el_id_list=[]\n",
    "for filepath in glob.iglob(f'{work_dir}/output/sr_calculation/sd_catchments/irri/fiwu2/se/*.csv'):\n",
    "    f = os.path.split(filepath)[1] # remove full path\n",
    "    f = f[:-10] # remove .year extension\n",
    "    el_id_list.append(f)\n",
    "print(len(el_id_list))"
   ]
  },
  {
   "cell_type": "code",
   "execution_count": 88,
   "id": "5c18dd2e-e863-428f-8f93-6b1c0dff483c",
   "metadata": {},
   "outputs": [
    {
     "name": "stdout",
     "output_type": "stream",
     "text": [
      "4617\n"
     ]
    }
   ],
   "source": [
    "catch_list = el_id_list[:]\n",
    "\n",
    "# get fiwu values for catchments with ia>0, se only written for ia>0, sd for all catchments\n",
    "f = '0.9ia'\n",
    "fm = []\n",
    "fs = []\n",
    "fmd = []\n",
    "ufm = []\n",
    "ufs = []\n",
    "ufmd = []\n",
    "c = []\n",
    "for catch_id in catch_list:\n",
    "    if os.path.exists(f'{work_dir}/output/sr_calculation/sd_catchments/irri/f{f}/se/{catch_id}_f{f}.csv'):\n",
    "        if ((os.stat(f'{work_dir}/output/sr_calculation/sd_catchments/irri/f{f}/se/{catch_id}_f{f}.csv').st_size == 0)==False):\n",
    "            d = pd.read_csv(f'{work_dir}/output/sr_calculation/sd_catchments/irri/f{f}/se/{catch_id}_f{f}.csv',index_col=0)\n",
    "            semean = d['se'][:-1].mean()\n",
    "            sestd = d['se'][:-1].std()\n",
    "            semed = d['se'][:-1].median()\n",
    "            usemean = d['se_used'][:-1].mean()\n",
    "            usestd = d['se_used'][:-1].std()\n",
    "            usemed = d['se_used'][:-1].median()\n",
    "            fm.append(semean)\n",
    "            fs.append(sestd)\n",
    "            fmd.append(semed)\n",
    "            ufm.append(usemean)\n",
    "            ufs.append(usestd)\n",
    "            ufmd.append(usemed)\n",
    "            c.append(catch_id)\n",
    "print(len(fm))"
   ]
  },
  {
   "cell_type": "code",
   "execution_count": 89,
   "id": "be27b359-6cfc-4812-b19e-e17e1d87994c",
   "metadata": {},
   "outputs": [],
   "source": [
    "df = pd.DataFrame(index=c, columns=['se_mean','se_med','se_std','se_u_mean','se_u_med','se_u_std'])\n",
    "df['se_mean'] = fm\n",
    "df['se_med'] = fmd\n",
    "df['se_std'] = fs\n",
    "df['se_u_mean'] = ufm\n",
    "df['se_u_med'] = ufmd\n",
    "df['se_u_std'] = ufs"
   ]
  },
  {
   "cell_type": "code",
   "execution_count": 90,
   "id": "f0894eae-e483-4fd1-9ac3-d4ef2f897da3",
   "metadata": {},
   "outputs": [
    {
     "data": {
      "text/html": [
       "<div>\n",
       "<style scoped>\n",
       "    .dataframe tbody tr th:only-of-type {\n",
       "        vertical-align: middle;\n",
       "    }\n",
       "\n",
       "    .dataframe tbody tr th {\n",
       "        vertical-align: top;\n",
       "    }\n",
       "\n",
       "    .dataframe thead th {\n",
       "        text-align: right;\n",
       "    }\n",
       "</style>\n",
       "<table border=\"1\" class=\"dataframe\">\n",
       "  <thead>\n",
       "    <tr style=\"text-align: right;\">\n",
       "      <th></th>\n",
       "      <th>se_mean</th>\n",
       "      <th>se_med</th>\n",
       "      <th>se_std</th>\n",
       "      <th>se_u_mean</th>\n",
       "      <th>se_u_med</th>\n",
       "      <th>se_u_std</th>\n",
       "    </tr>\n",
       "  </thead>\n",
       "  <tbody>\n",
       "    <tr>\n",
       "      <th>ITEMI002</th>\n",
       "      <td>41.712954</td>\n",
       "      <td>0.000000</td>\n",
       "      <td>82.807757</td>\n",
       "      <td>0.965027</td>\n",
       "      <td>0.000000</td>\n",
       "      <td>1.915754</td>\n",
       "    </tr>\n",
       "    <tr>\n",
       "      <th>at_0000002</th>\n",
       "      <td>269.894526</td>\n",
       "      <td>238.107419</td>\n",
       "      <td>151.437294</td>\n",
       "      <td>0.068769</td>\n",
       "      <td>0.060670</td>\n",
       "      <td>0.038586</td>\n",
       "    </tr>\n",
       "    <tr>\n",
       "      <th>at_0000008</th>\n",
       "      <td>429.602336</td>\n",
       "      <td>472.816511</td>\n",
       "      <td>164.004743</td>\n",
       "      <td>0.217547</td>\n",
       "      <td>0.239431</td>\n",
       "      <td>0.083051</td>\n",
       "    </tr>\n",
       "    <tr>\n",
       "      <th>at_0000012</th>\n",
       "      <td>1061.950651</td>\n",
       "      <td>1119.515191</td>\n",
       "      <td>274.121193</td>\n",
       "      <td>0.415793</td>\n",
       "      <td>0.438332</td>\n",
       "      <td>0.107329</td>\n",
       "    </tr>\n",
       "    <tr>\n",
       "      <th>at_0000039</th>\n",
       "      <td>959.123427</td>\n",
       "      <td>919.755027</td>\n",
       "      <td>276.938776</td>\n",
       "      <td>0.002597</td>\n",
       "      <td>0.002491</td>\n",
       "      <td>0.000750</td>\n",
       "    </tr>\n",
       "    <tr>\n",
       "      <th>...</th>\n",
       "      <td>...</td>\n",
       "      <td>...</td>\n",
       "      <td>...</td>\n",
       "      <td>...</td>\n",
       "      <td>...</td>\n",
       "      <td>...</td>\n",
       "    </tr>\n",
       "    <tr>\n",
       "      <th>ITTOS343</th>\n",
       "      <td>87.114219</td>\n",
       "      <td>0.000000</td>\n",
       "      <td>129.124234</td>\n",
       "      <td>1.038349</td>\n",
       "      <td>0.000000</td>\n",
       "      <td>1.539084</td>\n",
       "    </tr>\n",
       "    <tr>\n",
       "      <th>ITTOS361</th>\n",
       "      <td>39.334022</td>\n",
       "      <td>0.000000</td>\n",
       "      <td>67.432614</td>\n",
       "      <td>1.830386</td>\n",
       "      <td>0.000000</td>\n",
       "      <td>3.137937</td>\n",
       "    </tr>\n",
       "    <tr>\n",
       "      <th>ITTOS339</th>\n",
       "      <td>58.810490</td>\n",
       "      <td>0.000000</td>\n",
       "      <td>97.039589</td>\n",
       "      <td>1.364800</td>\n",
       "      <td>0.000000</td>\n",
       "      <td>2.251973</td>\n",
       "    </tr>\n",
       "    <tr>\n",
       "      <th>ITTOS372</th>\n",
       "      <td>37.938966</td>\n",
       "      <td>0.000000</td>\n",
       "      <td>78.934075</td>\n",
       "      <td>1.444440</td>\n",
       "      <td>0.000000</td>\n",
       "      <td>3.005236</td>\n",
       "    </tr>\n",
       "    <tr>\n",
       "      <th>ITTOS353</th>\n",
       "      <td>34.001303</td>\n",
       "      <td>0.000000</td>\n",
       "      <td>68.387267</td>\n",
       "      <td>0.653019</td>\n",
       "      <td>0.000000</td>\n",
       "      <td>1.313426</td>\n",
       "    </tr>\n",
       "  </tbody>\n",
       "</table>\n",
       "<p>4617 rows × 6 columns</p>\n",
       "</div>"
      ],
      "text/plain": [
       "                se_mean       se_med      se_std  se_u_mean  se_u_med  \\\n",
       "ITEMI002      41.712954     0.000000   82.807757   0.965027  0.000000   \n",
       "at_0000002   269.894526   238.107419  151.437294   0.068769  0.060670   \n",
       "at_0000008   429.602336   472.816511  164.004743   0.217547  0.239431   \n",
       "at_0000012  1061.950651  1119.515191  274.121193   0.415793  0.438332   \n",
       "at_0000039   959.123427   919.755027  276.938776   0.002597  0.002491   \n",
       "...                 ...          ...         ...        ...       ...   \n",
       "ITTOS343      87.114219     0.000000  129.124234   1.038349  0.000000   \n",
       "ITTOS361      39.334022     0.000000   67.432614   1.830386  0.000000   \n",
       "ITTOS339      58.810490     0.000000   97.039589   1.364800  0.000000   \n",
       "ITTOS372      37.938966     0.000000   78.934075   1.444440  0.000000   \n",
       "ITTOS353      34.001303     0.000000   68.387267   0.653019  0.000000   \n",
       "\n",
       "            se_u_std  \n",
       "ITEMI002    1.915754  \n",
       "at_0000002  0.038586  \n",
       "at_0000008  0.083051  \n",
       "at_0000012  0.107329  \n",
       "at_0000039  0.000750  \n",
       "...              ...  \n",
       "ITTOS343    1.539084  \n",
       "ITTOS361    3.137937  \n",
       "ITTOS339    2.251973  \n",
       "ITTOS372    3.005236  \n",
       "ITTOS353    1.313426  \n",
       "\n",
       "[4617 rows x 6 columns]"
      ]
     },
     "execution_count": 90,
     "metadata": {},
     "output_type": "execute_result"
    }
   ],
   "source": [
    "df"
   ]
  },
  {
   "cell_type": "code",
   "execution_count": 91,
   "id": "0c8b9a18-2e4e-40ae-952e-26e80055ce5c",
   "metadata": {},
   "outputs": [],
   "source": [
    "df.to_csv(f'{work_dir}/output/sr_calculation/sd_catchments/irri/f{f}/se_combined.csv')"
   ]
  },
  {
   "cell_type": "code",
   "execution_count": null,
   "id": "0c9aeffa-3b97-44c0-84f5-7525c667ea51",
   "metadata": {},
   "outputs": [],
   "source": []
  }
 ],
 "metadata": {
  "kernelspec": {
   "display_name": "Python 3 (ipykernel)",
   "language": "python",
   "name": "python3"
  },
  "language_info": {
   "codemirror_mode": {
    "name": "ipython",
    "version": 3
   },
   "file_extension": ".py",
   "mimetype": "text/x-python",
   "name": "python",
   "nbconvert_exporter": "python",
   "pygments_lexer": "ipython3",
   "version": "3.9.7"
  }
 },
 "nbformat": 4,
 "nbformat_minor": 5
}
