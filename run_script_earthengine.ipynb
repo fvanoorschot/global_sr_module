{
 "cells": [
  {
   "cell_type": "markdown",
   "id": "88aeb366-c2a6-4d8b-aaeb-f258a9b8003d",
   "metadata": {},
   "source": [
    "# Run script - Google Earth Engine "
   ]
  },
  {
   "cell_type": "markdown",
   "id": "2ebe385b-14a0-4e18-b5bb-0e28cd1e70e0",
   "metadata": {},
   "source": [
    "In this script we will gather catchment data from satellite products (e.g. tree cover, NDVI, elevation) using Google Earth Engine (GEE). GEE allows us to directly use satellite data, avoiding the struggle of downloading them. Before using it, you need to create an account: https://signup.earthengine.google.com/#!/\n",
    "\n",
    "This scripts only works in the conda environment **sr_env**. In this environment all required packages are available. If you have **not** installed and activated this environment before opening this script, you should check the installation section in the *README* file. \n"
   ]
  },
  {
   "cell_type": "markdown",
   "id": "7b67728d-0330-4759-ad18-111c2f4502c7",
   "metadata": {},
   "source": [
    "### 1. Getting started\n",
    "First, import all the required packages."
   ]
  },
  {
   "cell_type": "code",
   "execution_count": 1,
   "id": "b2635bf0-42de-4a3b-a107-befcdca86195",
   "metadata": {},
   "outputs": [],
   "source": [
    "# import packages\n",
    "import ee\n",
    "import pandas as pd\n",
    "import numpy as np\n",
    "import matplotlib.pyplot as plt\n",
    "import geopandas as gpd\n",
    "import os\n",
    "import glob\n",
    "from pathlib import Path\n",
    "from pathos.threading import ThreadPool as Pool\n",
    "import datetime\n",
    "from dateutil.relativedelta import relativedelta"
   ]
  },
  {
   "cell_type": "markdown",
   "id": "c68078a0-2ec5-417e-9004-095751417a76",
   "metadata": {},
   "source": [
    "Before using the Earth Engine API or earthengine command line tool, you must perform a one-time authentication that authorizes access to Earth Engine on behalf of your Google account. Below you run the authentication command. A URL will be provided that generates an authorization code upon agreement. Copy the authorization code and enter it in the box below."
   ]
  },
  {
   "cell_type": "code",
   "execution_count": 2,
   "id": "99d331dd-c329-4695-83b2-7944f8f79cc3",
   "metadata": {},
   "outputs": [
    {
     "data": {
      "text/html": [
       "<p>To authorize access needed by Earth Engine, open the following\n",
       "        URL in a web browser and follow the instructions:</p>\n",
       "        <p><a href=https://code.earthengine.google.com/client-auth?scopes=https%3A//www.googleapis.com/auth/earthengine%20https%3A//www.googleapis.com/auth/devstorage.full_control&request_id=4indjAjKjxTFY8EXG4euzq5xXpKqtal11apbTvkvmZo&tc=2cHp96496D5oaexGRqALsKVcUDKpjmliXNc4ztpw_xY&cc=KGLw5xLj7TOJ6WJA4235xT8Dn75T-yoKCFJxTffSuFY>https://code.earthengine.google.com/client-auth?scopes=https%3A//www.googleapis.com/auth/earthengine%20https%3A//www.googleapis.com/auth/devstorage.full_control&request_id=4indjAjKjxTFY8EXG4euzq5xXpKqtal11apbTvkvmZo&tc=2cHp96496D5oaexGRqALsKVcUDKpjmliXNc4ztpw_xY&cc=KGLw5xLj7TOJ6WJA4235xT8Dn75T-yoKCFJxTffSuFY</a></p>\n",
       "        <p>The authorization workflow will generate a code, which you should paste in the box below.</p>\n",
       "        "
      ],
      "text/plain": [
       "<IPython.core.display.HTML object>"
      ]
     },
     "metadata": {},
     "output_type": "display_data"
    },
    {
     "name": "stdin",
     "output_type": "stream",
     "text": [
      "Enter verification code:  4/1AfJohXkKb7bV4TG6P5rYMx4lTUQ3SqoPT6j9FxwT2-XXWlnZEkcnaooJFoI\n"
     ]
    },
    {
     "name": "stdout",
     "output_type": "stream",
     "text": [
      "\n",
      "Successfully saved authorization token.\n"
     ]
    }
   ],
   "source": [
    "# Trigger the authentication flow.\n",
    "ee.Authenticate()\n",
    "\n",
    "# Initialize the library.\n",
    "ee.Initialize()"
   ]
  },
  {
   "cell_type": "markdown",
   "id": "9facad22-8802-442a-8629-35fba67e290f",
   "metadata": {},
   "source": [
    "After authentication we can import all the python functions defined in the scripts *f_earth_engine.py*."
   ]
  },
  {
   "cell_type": "code",
   "execution_count": 3,
   "id": "79ca0e4c-1a1b-4859-8630-4a7ffc49b997",
   "metadata": {},
   "outputs": [],
   "source": [
    "from f_earth_engine import *"
   ]
  },
  {
   "cell_type": "markdown",
   "id": "98827a13-1b21-4237-a029-bb48cb4aca16",
   "metadata": {},
   "source": [
    "### 2. Define working and data directories\n",
    "Here we define the working directory, where all the scripts and output are saved.\n",
    "\n",
    "We also define the data directory where you have the following subdirectories:\n",
    "\n",
    "/data/forcing/*netcdf forcing files*\\\n",
    "/data/shapes/*catchment shapefiles*\\\n",
    "/data/gsim_discharge/*gsim discharge timeseries*"
   ]
  },
  {
   "cell_type": "code",
   "execution_count": 4,
   "id": "26d6567f-a5a6-4f07-9b54-98df003f0623",
   "metadata": {},
   "outputs": [
    {
     "data": {
      "text/plain": [
       "'/home/fvanoorschot/global_sr_module'"
      ]
     },
     "execution_count": 4,
     "metadata": {},
     "output_type": "execute_result"
    }
   ],
   "source": [
    "# Check current working directory (helpful when filling in work_dir below)\n",
    "os.getcwd()"
   ]
  },
  {
   "cell_type": "code",
   "execution_count": 5,
   "id": "6d768f5a-f5f2-4920-89b4-1799aeeacc48",
   "metadata": {},
   "outputs": [],
   "source": [
    "# define your script working directory\n",
    "# work_dir=Path(\"/home/fransjevanoors/global_sr_module\")\n",
    "work_dir=Path(\"/mnt/u/LSM root zone/global_sr/\")\n",
    "# work_dir=Path(\"/work/users/vanoorschot/fransje/scripts/GLOBAL_SR/global_sr_module\")\n",
    "# work_dir=Path(\"/scratch/fransjevanoors/global_sr\")\n",
    "# define your data directory\n",
    "# data_dir=Path(\"/work/users/vanoorschot/fransje/scripts/GLOBAL_SR/global_sr_module/data\")"
   ]
  },
  {
   "cell_type": "markdown",
   "id": "5e3d58fc-372c-48d3-9ec0-776109f584d6",
   "metadata": {},
   "source": [
    "### 3. Load your list of catchment IDs\n",
    "Here we load the list of catchments IDs that was generated in the *run_script_main*."
   ]
  },
  {
   "cell_type": "code",
   "execution_count": 6,
   "id": "3ae9973b-a843-42ed-a4a0-f51613773320",
   "metadata": {},
   "outputs": [],
   "source": [
    "catch_id_list = np.genfromtxt(f'{work_dir}/output/gsim_aus_catch_id_list_lo_sel.txt',dtype='str')"
   ]
  },
  {
   "cell_type": "markdown",
   "id": "1164bffe-2544-40a4-99cb-426d0039445b",
   "metadata": {},
   "source": [
    "### 4. Earth Engine treecover\n",
    "We are interested in the treecover in a catchment. For this we use the MODIS treecover data (https://modis.gsfc.nasa.gov/data/dataprod/mod44.php). This product includes the percentage tree cover, non tree cover, and bare soil on a 250x250 m grid. Here we regrid the tree cover to a 1x1 km grid (to reduce computational costs), average the values over the time period of interest and extract the catchment statistics (mean, max, min and std).\n",
    "\n",
    "First we create the output directory:"
   ]
  },
  {
   "cell_type": "code",
   "execution_count": 8,
   "id": "0c76b09f-50bc-4cc7-9c8a-092278e66faa",
   "metadata": {},
   "outputs": [],
   "source": [
    "# make output directory\n",
    "if not os.path.exists(f'{work_dir}/output/earth_engine_timeseries/treecover'):\n",
    "    os.makedirs(f'{work_dir}/output/earth_engine_timeseries/treecover')"
   ]
  },
  {
   "cell_type": "markdown",
   "id": "7cfe1fa6-0ee3-4c9b-94c0-b5fda33d8205",
   "metadata": {},
   "source": [
    "Now we run the *preprocess_treecover_data* and *catchment_treecover* functions from the *f_earth_engine.py* script. The output is a dataframe with the treecover statistics for each catchment."
   ]
  },
  {
   "cell_type": "code",
   "execution_count": 9,
   "id": "de93dd08-d8c3-46a6-9be0-440d77f16930",
   "metadata": {},
   "outputs": [],
   "source": [
    "# define your time period\n",
    "start_date = '2000-01-01'\n",
    "end_date = '2020-12-31'\n",
    "\n",
    "# define your directories\n",
    "shape_dir = Path(f'{data_dir}/shapes/')\n",
    "out_dir = Path(f'{work_dir}/output/earth_engine_timeseries/treecover')\n",
    "\n",
    "# preprocess your modis satellite data for your time period (interpolation and averaging)\n",
    "(MOD44B_tree_res, MOD44B_nontree_res) = preprocess_treecover_data(start_date,end_date)\n",
    "\n",
    "# loop over catch ids\n",
    "for catch_id in catch_id_list:\n",
    "    # extract catchment values and store in dataframe\n",
    "    catchment_treecover(MOD44B_tree_res, MOD44B_nontree_res, catch_id, shape_dir, out_dir)"
   ]
  },
  {
   "cell_type": "code",
   "execution_count": 10,
   "id": "ff1623ef-db14-494e-bc35-ca42a892bf48",
   "metadata": {},
   "outputs": [
    {
     "data": {
      "text/html": [
       "<div>\n",
       "<style scoped>\n",
       "    .dataframe tbody tr th:only-of-type {\n",
       "        vertical-align: middle;\n",
       "    }\n",
       "\n",
       "    .dataframe tbody tr th {\n",
       "        vertical-align: top;\n",
       "    }\n",
       "\n",
       "    .dataframe thead th {\n",
       "        text-align: right;\n",
       "    }\n",
       "</style>\n",
       "<table border=\"1\" class=\"dataframe\">\n",
       "  <thead>\n",
       "    <tr style=\"text-align: right;\">\n",
       "      <th></th>\n",
       "      <th>max_tc</th>\n",
       "      <th>mean_tc</th>\n",
       "      <th>min_tc</th>\n",
       "      <th>std_tc</th>\n",
       "      <th>max_ntc</th>\n",
       "      <th>mean_ntc</th>\n",
       "      <th>min_ntc</th>\n",
       "      <th>std_ntc</th>\n",
       "      <th>mean_nonveg</th>\n",
       "    </tr>\n",
       "  </thead>\n",
       "  <tbody>\n",
       "    <tr>\n",
       "      <th>br_0000495</th>\n",
       "      <td>40.438792</td>\n",
       "      <td>40.389229</td>\n",
       "      <td>40.329825</td>\n",
       "      <td>0.027467</td>\n",
       "      <td>47.847697</td>\n",
       "      <td>47.804183</td>\n",
       "      <td>47.755285</td>\n",
       "      <td>0.024777</td>\n",
       "      <td>11.806588</td>\n",
       "    </tr>\n",
       "  </tbody>\n",
       "</table>\n",
       "</div>"
      ],
      "text/plain": [
       "               max_tc    mean_tc     min_tc    std_tc    max_ntc   mean_ntc  \\\n",
       "br_0000495  40.438792  40.389229  40.329825  0.027467  47.847697  47.804183   \n",
       "\n",
       "              min_ntc   std_ntc  mean_nonveg  \n",
       "br_0000495  47.755285  0.024777    11.806588  "
      ]
     },
     "execution_count": 10,
     "metadata": {},
     "output_type": "execute_result"
    }
   ],
   "source": [
    "# print treecover statistics for catchment [0] in catch_id_list\n",
    "catch_id = catch_id_list[0]\n",
    "c = pd.read_csv(f'{out_dir}/{catch_id}.csv',index_col=0)\n",
    "c.head()"
   ]
  },
  {
   "cell_type": "code",
   "execution_count": 16,
   "id": "64033b0c-4fd3-44d7-a767-2362ff84add2",
   "metadata": {},
   "outputs": [],
   "source": [
    "# update conda earth engine -> update environment.yml"
   ]
  },
  {
   "cell_type": "markdown",
   "id": "7ea8f4dc-c8da-4e18-a4b2-5a6a8156d2e2",
   "metadata": {},
   "source": [
    "### 5. Earth Engine DEM"
   ]
  },
  {
   "cell_type": "code",
   "execution_count": 6,
   "id": "fc40f5fc-2615-4ab5-9ede-c731bdf80a50",
   "metadata": {},
   "outputs": [],
   "source": [
    "# run elevation stats\n",
    "catch_list = np.genfromtxt(f'{work_dir}/output/gsim_aus_catch_id_list_lo_sel.txt',dtype='str')[:]\n",
    "work_dir_list = [work_dir]*len(catch_list)\n",
    "run_function_parallel_elevation_stats(catch_list,work_dir_list)"
   ]
  },
  {
   "cell_type": "code",
   "execution_count": 7,
   "id": "e757d932-0991-4329-8242-d89dbf66b6b8",
   "metadata": {},
   "outputs": [
    {
     "data": {
      "text/plain": [
       "523"
      ]
     },
     "execution_count": 7,
     "metadata": {},
     "output_type": "execute_result"
    }
   ],
   "source": [
    "# check which catchments are missing\n",
    "catch_list = np.genfromtxt(f'{work_dir}/output/gsim_aus_catch_id_list_lo_sel.txt',dtype='str')[:]\n",
    "el_id_list=[]\n",
    "for filepath in glob.iglob(f'{work_dir}/output/elevation/stats/*.csv'):\n",
    "    f = os.path.split(filepath)[1] # remove full path\n",
    "    f = f[:-4] # remove .year extension\n",
    "    el_id_list.append(f)\n",
    "dif = list(set(catch_list) - set(el_id_list))\n",
    "len(dif)"
   ]
  },
  {
   "cell_type": "code",
   "execution_count": 9,
   "id": "b5de5823-e042-41b8-b55b-19e6e7fc2dc3",
   "metadata": {},
   "outputs": [],
   "source": [
    "catch_list = dif[:]\n",
    "work_dir_list = [work_dir]*len(catch_list)\n",
    "run_function_parallel_elevation_stats(catch_list,work_dir_list)"
   ]
  },
  {
   "cell_type": "code",
   "execution_count": 6,
   "id": "8fabfd84-da37-4760-8d2c-24a3c51c821a",
   "metadata": {},
   "outputs": [],
   "source": [
    "# run elevation zones\n",
    "catch_list = np.genfromtxt(f'{work_dir}/output/snow/catch_id_list_snow_t_and_p.txt',dtype='str')[:]\n",
    "work_dir_list = [work_dir]*len(catch_list)\n",
    "run_function_parallel_elevation_zones(catch_list,work_dir_list)"
   ]
  },
  {
   "cell_type": "code",
   "execution_count": 7,
   "id": "40c75a27-1c9c-4aad-8a60-05490cbd1cd3",
   "metadata": {},
   "outputs": [],
   "source": [
    "#combine all files with elevation stats \n",
    "files = glob.glob(f\"{work_dir}/output/elevation/stats/*\")\n",
    "li=[] #empty list\n",
    "for filename in files:\n",
    "    df = pd.read_csv(filename, index_col=0) #read file as dataframe\n",
    "    li.append(df) #append file to list\n",
    "f = pd.concat(li, axis=0) #concatenate lists\n",
    "f.to_csv(f'{work_dir}/output/elevation/all_catchment_elevation_stats.csv')"
   ]
  },
  {
   "cell_type": "code",
   "execution_count": 8,
   "id": "8794aded-6256-4233-a8b9-ded7efffa833",
   "metadata": {},
   "outputs": [
    {
     "data": {
      "text/html": [
       "<div>\n",
       "<style scoped>\n",
       "    .dataframe tbody tr th:only-of-type {\n",
       "        vertical-align: middle;\n",
       "    }\n",
       "\n",
       "    .dataframe tbody tr th {\n",
       "        vertical-align: top;\n",
       "    }\n",
       "\n",
       "    .dataframe thead th {\n",
       "        text-align: right;\n",
       "    }\n",
       "</style>\n",
       "<table border=\"1\" class=\"dataframe\">\n",
       "  <thead>\n",
       "    <tr style=\"text-align: right;\">\n",
       "      <th></th>\n",
       "      <th>max_ele</th>\n",
       "      <th>mean_ele</th>\n",
       "      <th>min_ele</th>\n",
       "      <th>std_ele</th>\n",
       "    </tr>\n",
       "  </thead>\n",
       "  <tbody>\n",
       "    <tr>\n",
       "      <th>us_0005238</th>\n",
       "      <td>343.0</td>\n",
       "      <td>312.484613</td>\n",
       "      <td>269.0</td>\n",
       "      <td>13.725366</td>\n",
       "    </tr>\n",
       "    <tr>\n",
       "      <th>us_0007161</th>\n",
       "      <td>1658.0</td>\n",
       "      <td>575.471371</td>\n",
       "      <td>257.0</td>\n",
       "      <td>203.173182</td>\n",
       "    </tr>\n",
       "    <tr>\n",
       "      <th>ca_0000031</th>\n",
       "      <td>455.0</td>\n",
       "      <td>228.055524</td>\n",
       "      <td>90.0</td>\n",
       "      <td>71.531958</td>\n",
       "    </tr>\n",
       "    <tr>\n",
       "      <th>dk_0000031</th>\n",
       "      <td>131.0</td>\n",
       "      <td>58.761104</td>\n",
       "      <td>12.0</td>\n",
       "      <td>23.506379</td>\n",
       "    </tr>\n",
       "    <tr>\n",
       "      <th>br_0000991</th>\n",
       "      <td>1031.0</td>\n",
       "      <td>916.331157</td>\n",
       "      <td>786.0</td>\n",
       "      <td>60.193428</td>\n",
       "    </tr>\n",
       "    <tr>\n",
       "      <th>...</th>\n",
       "      <td>...</td>\n",
       "      <td>...</td>\n",
       "      <td>...</td>\n",
       "      <td>...</td>\n",
       "    </tr>\n",
       "    <tr>\n",
       "      <th>401012</th>\n",
       "      <td>2144.0</td>\n",
       "      <td>1099.375385</td>\n",
       "      <td>319.0</td>\n",
       "      <td>312.248318</td>\n",
       "    </tr>\n",
       "    <tr>\n",
       "      <th>us_0002055</th>\n",
       "      <td>199.0</td>\n",
       "      <td>88.046234</td>\n",
       "      <td>8.0</td>\n",
       "      <td>39.553167</td>\n",
       "    </tr>\n",
       "    <tr>\n",
       "      <th>ca_0001655</th>\n",
       "      <td>270.0</td>\n",
       "      <td>104.886951</td>\n",
       "      <td>19.0</td>\n",
       "      <td>52.654263</td>\n",
       "    </tr>\n",
       "    <tr>\n",
       "      <th>br_0000180</th>\n",
       "      <td>632.0</td>\n",
       "      <td>351.924966</td>\n",
       "      <td>176.0</td>\n",
       "      <td>113.036885</td>\n",
       "    </tr>\n",
       "    <tr>\n",
       "      <th>fr_0000841</th>\n",
       "      <td>213.0</td>\n",
       "      <td>119.835522</td>\n",
       "      <td>37.0</td>\n",
       "      <td>43.677737</td>\n",
       "    </tr>\n",
       "  </tbody>\n",
       "</table>\n",
       "<p>8658 rows × 4 columns</p>\n",
       "</div>"
      ],
      "text/plain": [
       "            max_ele     mean_ele  min_ele     std_ele\n",
       "us_0005238    343.0   312.484613    269.0   13.725366\n",
       "us_0007161   1658.0   575.471371    257.0  203.173182\n",
       "ca_0000031    455.0   228.055524     90.0   71.531958\n",
       "dk_0000031    131.0    58.761104     12.0   23.506379\n",
       "br_0000991   1031.0   916.331157    786.0   60.193428\n",
       "...             ...          ...      ...         ...\n",
       "401012       2144.0  1099.375385    319.0  312.248318\n",
       "us_0002055    199.0    88.046234      8.0   39.553167\n",
       "ca_0001655    270.0   104.886951     19.0   52.654263\n",
       "br_0000180    632.0   351.924966    176.0  113.036885\n",
       "fr_0000841    213.0   119.835522     37.0   43.677737\n",
       "\n",
       "[8658 rows x 4 columns]"
      ]
     },
     "execution_count": 8,
     "metadata": {},
     "output_type": "execute_result"
    }
   ],
   "source": [
    "f"
   ]
  },
  {
   "cell_type": "code",
   "execution_count": 9,
   "id": "17b7496d-7834-473a-9ecd-9ab1db921be8",
   "metadata": {},
   "outputs": [],
   "source": [
    "#combine all files with elevation stats \n",
    "files = glob.glob(f\"{work_dir}/output/elevation/stats_hydrosheds/ele*\")\n",
    "li=[] #empty list\n",
    "for filename in files:\n",
    "    df = pd.read_csv(filename, index_col=0) #read file as dataframe\n",
    "    li.append(df) #append file to list\n",
    "f = pd.concat(li, axis=0) #concatenate lists\n",
    "f.to_csv(f'{work_dir}/output/elevation/all_catchment_elevation_stats_hydrosheds.csv')"
   ]
  },
  {
   "cell_type": "code",
   "execution_count": 10,
   "id": "6b30c079-a2ce-47c4-a2d8-56c93502e4a1",
   "metadata": {},
   "outputs": [
    {
     "data": {
      "text/html": [
       "<div>\n",
       "<style scoped>\n",
       "    .dataframe tbody tr th:only-of-type {\n",
       "        vertical-align: middle;\n",
       "    }\n",
       "\n",
       "    .dataframe tbody tr th {\n",
       "        vertical-align: top;\n",
       "    }\n",
       "\n",
       "    .dataframe thead th {\n",
       "        text-align: right;\n",
       "    }\n",
       "</style>\n",
       "<table border=\"1\" class=\"dataframe\">\n",
       "  <thead>\n",
       "    <tr style=\"text-align: right;\">\n",
       "      <th></th>\n",
       "      <th>max_ele</th>\n",
       "      <th>mean_ele</th>\n",
       "      <th>min_ele</th>\n",
       "      <th>std_ele</th>\n",
       "    </tr>\n",
       "  </thead>\n",
       "  <tbody>\n",
       "    <tr>\n",
       "      <th>gb_0000095</th>\n",
       "      <td>196.000000</td>\n",
       "      <td>84.922715</td>\n",
       "      <td>17.000000</td>\n",
       "      <td>41.090700</td>\n",
       "    </tr>\n",
       "    <tr>\n",
       "      <th>fi_0000119</th>\n",
       "      <td>209.766769</td>\n",
       "      <td>114.088654</td>\n",
       "      <td>30.877821</td>\n",
       "      <td>34.458885</td>\n",
       "    </tr>\n",
       "    <tr>\n",
       "      <th>at_0000051</th>\n",
       "      <td>2283.000000</td>\n",
       "      <td>1485.988113</td>\n",
       "      <td>795.000000</td>\n",
       "      <td>315.558690</td>\n",
       "    </tr>\n",
       "    <tr>\n",
       "      <th>za_0000167</th>\n",
       "      <td>3346.000000</td>\n",
       "      <td>1704.004750</td>\n",
       "      <td>934.000000</td>\n",
       "      <td>424.675172</td>\n",
       "    </tr>\n",
       "    <tr>\n",
       "      <th>ch_0000092</th>\n",
       "      <td>860.000000</td>\n",
       "      <td>802.074109</td>\n",
       "      <td>743.000000</td>\n",
       "      <td>31.723866</td>\n",
       "    </tr>\n",
       "    <tr>\n",
       "      <th>...</th>\n",
       "      <td>...</td>\n",
       "      <td>...</td>\n",
       "      <td>...</td>\n",
       "      <td>...</td>\n",
       "    </tr>\n",
       "    <tr>\n",
       "      <th>us_0004962</th>\n",
       "      <td>4270.000000</td>\n",
       "      <td>1764.777514</td>\n",
       "      <td>562.000000</td>\n",
       "      <td>599.067547</td>\n",
       "    </tr>\n",
       "    <tr>\n",
       "      <th>at_0000121</th>\n",
       "      <td>1084.000000</td>\n",
       "      <td>700.612439</td>\n",
       "      <td>305.000000</td>\n",
       "      <td>114.303929</td>\n",
       "    </tr>\n",
       "    <tr>\n",
       "      <th>us_0006140</th>\n",
       "      <td>131.000000</td>\n",
       "      <td>87.955566</td>\n",
       "      <td>66.000000</td>\n",
       "      <td>11.464721</td>\n",
       "    </tr>\n",
       "    <tr>\n",
       "      <th>se_0000081</th>\n",
       "      <td>1520.459229</td>\n",
       "      <td>474.060638</td>\n",
       "      <td>12.350017</td>\n",
       "      <td>201.520522</td>\n",
       "    </tr>\n",
       "    <tr>\n",
       "      <th>ca_0005398</th>\n",
       "      <td>3199.000000</td>\n",
       "      <td>1527.114979</td>\n",
       "      <td>533.000000</td>\n",
       "      <td>473.751627</td>\n",
       "    </tr>\n",
       "  </tbody>\n",
       "</table>\n",
       "<p>8658 rows × 4 columns</p>\n",
       "</div>"
      ],
      "text/plain": [
       "                max_ele     mean_ele     min_ele     std_ele\n",
       "gb_0000095   196.000000    84.922715   17.000000   41.090700\n",
       "fi_0000119   209.766769   114.088654   30.877821   34.458885\n",
       "at_0000051  2283.000000  1485.988113  795.000000  315.558690\n",
       "za_0000167  3346.000000  1704.004750  934.000000  424.675172\n",
       "ch_0000092   860.000000   802.074109  743.000000   31.723866\n",
       "...                 ...          ...         ...         ...\n",
       "us_0004962  4270.000000  1764.777514  562.000000  599.067547\n",
       "at_0000121  1084.000000   700.612439  305.000000  114.303929\n",
       "us_0006140   131.000000    87.955566   66.000000   11.464721\n",
       "se_0000081  1520.459229   474.060638   12.350017  201.520522\n",
       "ca_0005398  3199.000000  1527.114979  533.000000  473.751627\n",
       "\n",
       "[8658 rows x 4 columns]"
      ]
     },
     "execution_count": 10,
     "metadata": {},
     "output_type": "execute_result"
    }
   ],
   "source": [
    "f"
   ]
  },
  {
   "cell_type": "code",
   "execution_count": 11,
   "id": "7fd60444-9d17-48be-99c8-c4b2add8e6a7",
   "metadata": {},
   "outputs": [],
   "source": [
    "#combine all files with elevation stats \n",
    "files = glob.glob(f\"{work_dir}/output/elevation/stats_hydrosheds/slope*\")\n",
    "li=[] #empty list\n",
    "for filename in files:\n",
    "    df = pd.read_csv(filename, index_col=0) #read file as dataframe\n",
    "    li.append(df) #append file to list\n",
    "f = pd.concat(li, axis=0) #concatenate lists\n",
    "f.to_csv(f'{work_dir}/output/elevation/all_catchment_slope_stats_hydrosheds.csv')"
   ]
  },
  {
   "cell_type": "code",
   "execution_count": 12,
   "id": "6bf72d61-4b8b-48ac-85db-cf05fb6f7581",
   "metadata": {},
   "outputs": [
    {
     "data": {
      "text/html": [
       "<div>\n",
       "<style scoped>\n",
       "    .dataframe tbody tr th:only-of-type {\n",
       "        vertical-align: middle;\n",
       "    }\n",
       "\n",
       "    .dataframe tbody tr th {\n",
       "        vertical-align: top;\n",
       "    }\n",
       "\n",
       "    .dataframe thead th {\n",
       "        text-align: right;\n",
       "    }\n",
       "</style>\n",
       "<table border=\"1\" class=\"dataframe\">\n",
       "  <thead>\n",
       "    <tr style=\"text-align: right;\">\n",
       "      <th></th>\n",
       "      <th>max_slope</th>\n",
       "      <th>mean_slope</th>\n",
       "      <th>min_slope</th>\n",
       "      <th>std_slope</th>\n",
       "    </tr>\n",
       "  </thead>\n",
       "  <tbody>\n",
       "    <tr>\n",
       "      <th>us_0006320</th>\n",
       "      <td>4.539580</td>\n",
       "      <td>1.455199</td>\n",
       "      <td>0.245985</td>\n",
       "      <td>0.464403</td>\n",
       "    </tr>\n",
       "    <tr>\n",
       "      <th>za_0000288</th>\n",
       "      <td>23.141903</td>\n",
       "      <td>9.458607</td>\n",
       "      <td>0.821960</td>\n",
       "      <td>3.999931</td>\n",
       "    </tr>\n",
       "    <tr>\n",
       "      <th>de_0000073</th>\n",
       "      <td>14.819275</td>\n",
       "      <td>5.093054</td>\n",
       "      <td>0.398146</td>\n",
       "      <td>2.442230</td>\n",
       "    </tr>\n",
       "    <tr>\n",
       "      <th>ca_0004232</th>\n",
       "      <td>42.247360</td>\n",
       "      <td>16.009535</td>\n",
       "      <td>0.000000</td>\n",
       "      <td>8.808050</td>\n",
       "    </tr>\n",
       "    <tr>\n",
       "      <th>ca_0005395</th>\n",
       "      <td>29.980062</td>\n",
       "      <td>15.597303</td>\n",
       "      <td>3.155189</td>\n",
       "      <td>5.547729</td>\n",
       "    </tr>\n",
       "    <tr>\n",
       "      <th>...</th>\n",
       "      <td>...</td>\n",
       "      <td>...</td>\n",
       "      <td>...</td>\n",
       "      <td>...</td>\n",
       "    </tr>\n",
       "    <tr>\n",
       "      <th>ca_0004158</th>\n",
       "      <td>48.630215</td>\n",
       "      <td>18.262962</td>\n",
       "      <td>0.000000</td>\n",
       "      <td>9.552706</td>\n",
       "    </tr>\n",
       "    <tr>\n",
       "      <th>at_0000022</th>\n",
       "      <td>35.759460</td>\n",
       "      <td>18.120913</td>\n",
       "      <td>1.688931</td>\n",
       "      <td>6.874375</td>\n",
       "    </tr>\n",
       "    <tr>\n",
       "      <th>us_0005114</th>\n",
       "      <td>2.032722</td>\n",
       "      <td>0.552257</td>\n",
       "      <td>0.025803</td>\n",
       "      <td>0.270654</td>\n",
       "    </tr>\n",
       "    <tr>\n",
       "      <th>fr_0001345</th>\n",
       "      <td>13.407174</td>\n",
       "      <td>3.476060</td>\n",
       "      <td>0.091281</td>\n",
       "      <td>1.882886</td>\n",
       "    </tr>\n",
       "    <tr>\n",
       "      <th>fr_0001179</th>\n",
       "      <td>19.797445</td>\n",
       "      <td>8.291379</td>\n",
       "      <td>0.872996</td>\n",
       "      <td>3.526229</td>\n",
       "    </tr>\n",
       "  </tbody>\n",
       "</table>\n",
       "<p>8658 rows × 4 columns</p>\n",
       "</div>"
      ],
      "text/plain": [
       "            max_slope  mean_slope  min_slope  std_slope\n",
       "us_0006320   4.539580    1.455199   0.245985   0.464403\n",
       "za_0000288  23.141903    9.458607   0.821960   3.999931\n",
       "de_0000073  14.819275    5.093054   0.398146   2.442230\n",
       "ca_0004232  42.247360   16.009535   0.000000   8.808050\n",
       "ca_0005395  29.980062   15.597303   3.155189   5.547729\n",
       "...               ...         ...        ...        ...\n",
       "ca_0004158  48.630215   18.262962   0.000000   9.552706\n",
       "at_0000022  35.759460   18.120913   1.688931   6.874375\n",
       "us_0005114   2.032722    0.552257   0.025803   0.270654\n",
       "fr_0001345  13.407174    3.476060   0.091281   1.882886\n",
       "fr_0001179  19.797445    8.291379   0.872996   3.526229\n",
       "\n",
       "[8658 rows x 4 columns]"
      ]
     },
     "execution_count": 12,
     "metadata": {},
     "output_type": "execute_result"
    }
   ],
   "source": [
    "f"
   ]
  },
  {
   "cell_type": "markdown",
   "id": "e06b1d6e-aa09-42a6-80c5-a857362afb92",
   "metadata": {},
   "source": [
    "## 6. soil types\n",
    "See code editor 'soil_types_catchments' for getting catchment soil characteristics. Here postprocess."
   ]
  },
  {
   "cell_type": "code",
   "execution_count": 20,
   "id": "3f4bb060-1be7-4b13-8c42-027bd821851f",
   "metadata": {},
   "outputs": [],
   "source": [
    "def process_soil(s):\n",
    "    files = glob.glob(f\"{work_dir}/output/soil_types/ee_output/{s}*\")[:]\n",
    "    li=[] #empty list\n",
    "    for filename in files:\n",
    "        df = pd.read_csv(filename) #read shapefile as geopandas dataframe\n",
    "        if ('FILENAME' in df.columns):\n",
    "            df.index = df.FILENAME\n",
    "        if ('Code' in df.columns):\n",
    "            df.index = df.Code\n",
    "        if ('CatchID' in df.columns):\n",
    "            df.index = df.CatchID\n",
    "        df = df[['max','mean','median','min']]\n",
    "        li.append(df) #append shapefile to list\n",
    "    f = pd.concat(li, axis=0) #concatenate lists\n",
    "    f.to_csv(f'{work_dir}/output/soil_types/processed/{s}.csv')"
   ]
  },
  {
   "cell_type": "code",
   "execution_count": 21,
   "id": "02c3d284-c83e-4417-afaf-e8b512a5e2d5",
   "metadata": {},
   "outputs": [],
   "source": [
    "process_soil('clay')\n",
    "process_soil('sand')\n",
    "process_soil('bulk')\n",
    "process_soil('carb')\n",
    "process_soil('text')"
   ]
  },
  {
   "cell_type": "code",
   "execution_count": 39,
   "id": "7d4eedb7-137d-4635-8638-cbea8a222a27",
   "metadata": {},
   "outputs": [],
   "source": [
    "textures = ['Cl','SiCl','SaCl','ClLo','SiClLo','SaClLo','Lo','SiLo','SaLo','Si','LoSa','Sa']\n",
    "t = pd.read_csv(f'{work_dir}/output/soil_types/processed/text.csv',index_col=0)\n",
    "t = t.astype(int)\n",
    "t['med_text'] = np.zeros(len(t.index))\n",
    "for i in range(len(textures)):\n",
    "    ix = t[t['median']==i].index\n",
    "    t.loc[ix,'med_text'] = textures[i]\n",
    "t.to_csv(f'{work_dir}/output/soil_types/processed/text.csv')"
   ]
  },
  {
   "cell_type": "markdown",
   "id": "310bcf4d-fda6-447e-aa25-868362baf7ca",
   "metadata": {},
   "source": [
    "## Earth Engine HAND\n",
    "see code editor 'hand_catchments' for getting catchment hand values. https://presentations.copernicus.org/EGU2016/EGU2016-17445_presentation.pdf\n",
    "https://gee-community-catalog.org/projects/hand/"
   ]
  },
  {
   "cell_type": "code",
   "execution_count": 7,
   "id": "27902f06-3a4e-4615-8e51-930d7cfeef8e",
   "metadata": {},
   "outputs": [],
   "source": [
    "files = glob.glob(f\"{work_dir}/output/HAND/ee_output/*\")[:]\n",
    "li=[] #empty list\n",
    "for filename in files:\n",
    "    df = pd.read_csv(filename) #read shapefile as geopandas dataframe\n",
    "    if ('FILENAME' in df.columns):\n",
    "        df.index = df.FILENAME\n",
    "    if ('Code' in df.columns):\n",
    "        df.index = df.Code\n",
    "    if ('CatchID' in df.columns):\n",
    "        df.index = df.CatchID\n",
    "    df = df[['max','mean','median','min']]\n",
    "    li.append(df) #append shapefile to list\n",
    "f = pd.concat(li, axis=0) #concatenate lists\n",
    "f.to_csv(f'{work_dir}/output/HAND/hand_all_catchments.csv')"
   ]
  },
  {
   "cell_type": "code",
   "execution_count": 6,
   "id": "59a344a6-1b95-4cdc-9f1b-cfafb481bd5e",
   "metadata": {},
   "outputs": [
    {
     "data": {
      "text/html": [
       "<div>\n",
       "<style scoped>\n",
       "    .dataframe tbody tr th:only-of-type {\n",
       "        vertical-align: middle;\n",
       "    }\n",
       "\n",
       "    .dataframe tbody tr th {\n",
       "        vertical-align: top;\n",
       "    }\n",
       "\n",
       "    .dataframe thead th {\n",
       "        text-align: right;\n",
       "    }\n",
       "</style>\n",
       "<table border=\"1\" class=\"dataframe\">\n",
       "  <thead>\n",
       "    <tr style=\"text-align: right;\">\n",
       "      <th></th>\n",
       "      <th>max</th>\n",
       "      <th>mean</th>\n",
       "      <th>median</th>\n",
       "      <th>min</th>\n",
       "    </tr>\n",
       "  </thead>\n",
       "  <tbody>\n",
       "    <tr>\n",
       "      <th>es_0000991</th>\n",
       "      <td>1112.468750</td>\n",
       "      <td>321.912613</td>\n",
       "      <td>299.649537</td>\n",
       "      <td>19.187500</td>\n",
       "    </tr>\n",
       "    <tr>\n",
       "      <th>us_0003601</th>\n",
       "      <td>316.765625</td>\n",
       "      <td>7.771120</td>\n",
       "      <td>4.900978</td>\n",
       "      <td>0.000000</td>\n",
       "    </tr>\n",
       "    <tr>\n",
       "      <th>at_0000053</th>\n",
       "      <td>1328.937500</td>\n",
       "      <td>315.746512</td>\n",
       "      <td>276.699170</td>\n",
       "      <td>10.625000</td>\n",
       "    </tr>\n",
       "    <tr>\n",
       "      <th>br_0000155</th>\n",
       "      <td>4883.328125</td>\n",
       "      <td>172.393988</td>\n",
       "      <td>43.369052</td>\n",
       "      <td>0.000000</td>\n",
       "    </tr>\n",
       "    <tr>\n",
       "      <th>br_0000270</th>\n",
       "      <td>339.203125</td>\n",
       "      <td>45.647960</td>\n",
       "      <td>33.107872</td>\n",
       "      <td>2.781250</td>\n",
       "    </tr>\n",
       "    <tr>\n",
       "      <th>...</th>\n",
       "      <td>...</td>\n",
       "      <td>...</td>\n",
       "      <td>...</td>\n",
       "      <td>...</td>\n",
       "    </tr>\n",
       "    <tr>\n",
       "      <th>ca_0005777</th>\n",
       "      <td>127.375000</td>\n",
       "      <td>65.948861</td>\n",
       "      <td>73.515625</td>\n",
       "      <td>14.328125</td>\n",
       "    </tr>\n",
       "    <tr>\n",
       "      <th>fr_0001269</th>\n",
       "      <td>124.937500</td>\n",
       "      <td>37.335819</td>\n",
       "      <td>32.171875</td>\n",
       "      <td>6.562500</td>\n",
       "    </tr>\n",
       "    <tr>\n",
       "      <th>ar_0000009</th>\n",
       "      <td>3348.531250</td>\n",
       "      <td>316.327435</td>\n",
       "      <td>247.688682</td>\n",
       "      <td>3.953125</td>\n",
       "    </tr>\n",
       "    <tr>\n",
       "      <th>no_0000199</th>\n",
       "      <td>922.296875</td>\n",
       "      <td>158.300688</td>\n",
       "      <td>114.022795</td>\n",
       "      <td>0.000000</td>\n",
       "    </tr>\n",
       "    <tr>\n",
       "      <th>us_0001626</th>\n",
       "      <td>57.125000</td>\n",
       "      <td>28.420418</td>\n",
       "      <td>30.304825</td>\n",
       "      <td>7.140625</td>\n",
       "    </tr>\n",
       "  </tbody>\n",
       "</table>\n",
       "<p>9098 rows × 4 columns</p>\n",
       "</div>"
      ],
      "text/plain": [
       "                    max        mean      median        min\n",
       "es_0000991  1112.468750  321.912613  299.649537  19.187500\n",
       "us_0003601   316.765625    7.771120    4.900978   0.000000\n",
       "at_0000053  1328.937500  315.746512  276.699170  10.625000\n",
       "br_0000155  4883.328125  172.393988   43.369052   0.000000\n",
       "br_0000270   339.203125   45.647960   33.107872   2.781250\n",
       "...                 ...         ...         ...        ...\n",
       "ca_0005777   127.375000   65.948861   73.515625  14.328125\n",
       "fr_0001269   124.937500   37.335819   32.171875   6.562500\n",
       "ar_0000009  3348.531250  316.327435  247.688682   3.953125\n",
       "no_0000199   922.296875  158.300688  114.022795   0.000000\n",
       "us_0001626    57.125000   28.420418   30.304825   7.140625\n",
       "\n",
       "[9098 rows x 4 columns]"
      ]
     },
     "execution_count": 6,
     "metadata": {},
     "output_type": "execute_result"
    }
   ],
   "source": [
    "f"
   ]
  },
  {
   "cell_type": "markdown",
   "id": "44c715a8-80b6-46ea-8e73-0440ad2c85d5",
   "metadata": {},
   "source": [
    "## GPP/NPP"
   ]
  },
  {
   "cell_type": "code",
   "execution_count": 22,
   "id": "dd42df3c-6b2d-4246-9434-0cf50b335478",
   "metadata": {},
   "outputs": [],
   "source": [
    "import geemap"
   ]
  },
  {
   "cell_type": "code",
   "execution_count": 25,
   "id": "05fa4aea-6527-40d5-8ff0-b32cd355b7bb",
   "metadata": {},
   "outputs": [],
   "source": [
    "js_snippet = \"\"\"\n",
    "//Use a function to iterate through months and calculate average NDVI\n",
    "var months = ee.List.sequence(1, 12);\n",
    "print(\"months\",months);\n",
    "var years = ee.List.sequence(2001, 2010);\n",
    "print(\"years\",years);\n",
    "\n",
    "// Map filtering and reducing across year-month combinations and convert to ImageCollection\n",
    "var yrMo = ee.ImageCollection.fromImages(\n",
    "  years.map(function (y) {\n",
    "        return months.map(function (m) {\n",
    "            return collection\n",
    "              .filter(ee.Filter.calendarRange(y, y, 'year'))\n",
    "              .filter(ee.Filter.calendarRange(m, m, 'month'))\n",
    "              .mean()\n",
    "              .set('year',y)\n",
    "              .set('month',m);\n",
    "        });\n",
    "    }).flatten());\n",
    "print(\"yrMo\",yrMo);\n",
    "\"\"\""
   ]
  },
  {
   "cell_type": "code",
   "execution_count": 26,
   "id": "fdc0b89e-eff7-4021-855c-c4e2de14e28a",
   "metadata": {},
   "outputs": [],
   "source": [
    "\n",
    "geemap.js_snippet_to_py(\n",
    "    js_snippet, add_new_cell=True, import_ee=True, import_geemap=True, show_map=True\n",
    ")\n",
    "   "
   ]
  },
  {
   "cell_type": "code",
   "execution_count": null,
   "id": "32dcb370-f2d9-4580-b010-85e3be77ed94",
   "metadata": {},
   "outputs": [],
   "source": [
    "import ee\n",
    "import geemap\n",
    "\n",
    "Map = geemap.Map()\n",
    "import geemap\n",
    "\n",
    "Map = geemap.Map()\n",
    "\n",
    "#Use a function to iterate through months and calculate average NDVI\n",
    "months = ee.List.sequence(1, 12)\n",
    "print(\"months\",months)\n",
    "years = ee.List.sequence(2001, 2010)\n",
    "print(\"years\",years)\n",
    "\n",
    "# Map filtering and reducing across year-month combinations and convert to ImageCollection\n",
    "yrMo = ee.ImageCollection.fromImages(\n",
    "\n",
    "def func_yku (y):\n",
    "        return months.map(function (m) {\n",
    "            return collection \\\n",
    "              .filter(ee.Filter.calendarRange(y, y, 'year')) \\\n",
    "              .filter(ee.Filter.calendarRange(m, m, 'month')) \\\n",
    "              .mean() \\\n",
    "              .set('year',y) \\\n",
    "              .set('month',m)\n",
    "        })\n",
    "\n",
    "  years.map(func_yku\n",
    ").flatten())\n",
    "\n",
    ").flatten())\n",
    "print(\"yrMo\",yrMo)\n",
    "Map"
   ]
  },
  {
   "cell_type": "code",
   "execution_count": null,
   "id": "d7bf0289-226d-458b-abf6-7cc8dc89f2c4",
   "metadata": {},
   "outputs": [],
   "source": [
    "import ee\n",
    "import geemap\n",
    "\n",
    "Map = geemap.Map()\n",
    "import geemap\n",
    "\n",
    "Map = geemap.Map()\n",
    "\n",
    "# Load an image.\n",
    "image = ee.Image('LANDSAT/LC08/C01/T1_TOA/LC08_044034_20140318')\n",
    "\n",
    "# Define the visualization parameters.\n",
    "vizParams = {\n",
    "  'bands': ['B5', 'B4', 'B3'],\n",
    "  'min': 0,\n",
    "  'max': 0.5,\n",
    "  'gamma': [0.95, 1.1, 1]\n",
    "}\n",
    "\n",
    "# Center the map and display the image.\n",
    "Map.setCenter(-122.1899, 37.5010, 10); # San Francisco Bay\n",
    "Map.addLayer(image, vizParams, 'False color composite')\n",
    "\n",
    "Map"
   ]
  },
  {
   "cell_type": "code",
   "execution_count": null,
   "id": "ba6cf28a-eebe-40dc-a715-bbb590819d31",
   "metadata": {},
   "outputs": [],
   "source": []
  },
  {
   "cell_type": "code",
   "execution_count": null,
   "id": "401e7494-b05b-4597-9496-842d50737072",
   "metadata": {},
   "outputs": [],
   "source": []
  },
  {
   "cell_type": "code",
   "execution_count": 8,
   "id": "da27f619-9d56-4525-9e23-b0d63bf54672",
   "metadata": {},
   "outputs": [
    {
     "data": {
      "text/plain": [
       "['/mnt/u/LSM root zone/global_sr/output/selected_shapes/ar_0000001.shp',\n",
       " '/mnt/u/LSM root zone/global_sr/output/selected_shapes/ar_0000005.shp',\n",
       " '/mnt/u/LSM root zone/global_sr/output/selected_shapes/ar_0000006.shp']"
      ]
     },
     "execution_count": 8,
     "metadata": {},
     "output_type": "execute_result"
    }
   ],
   "source": [
    "shape_dir = Path(f'{work_dir}/output/selected_shapes/')\n",
    "shapefile_list = glob.glob(f'{shape_dir}/*.shp')[:]\n",
    "shapefile_list[0:3]"
   ]
  },
  {
   "cell_type": "code",
   "execution_count": 20,
   "id": "c1a4ca96-d90c-4fc8-b7f6-a3d3bb307048",
   "metadata": {},
   "outputs": [],
   "source": [
    "#%% reducer function\n",
    "def reducer_function(geometry,reducer=ee.Reducer.mean(), scale=10,crs='EPSG:4326', maxPixels=2e10,):\n",
    "    def reduce_region_function(image):\n",
    "        stats = image.reduceRegion(reducer=reducer,geometry=geometry,scale=scale,crs=crs,maxPixels=maxPixels)\n",
    "        return ee.Feature(geometry, stats).set({'millis': image.date().millis()})\n",
    "    return reduce_region_function\n",
    "\n",
    "# function to write python dictionary\n",
    "def write_dict(fc):\n",
    "    names = fc.first().propertyNames()\n",
    "    lists = fc.reduceColumns(\n",
    "    reducer=ee.Reducer.toList().repeat(names.size()),\n",
    "    selectors=names).get('list')\n",
    "\n",
    "    return ee.Dictionary.fromLists(names, lists)"
   ]
  },
  {
   "cell_type": "code",
   "execution_count": 35,
   "id": "dd1c60d8-dc94-4b54-b376-50201c7b01f6",
   "metadata": {},
   "outputs": [
    {
     "ename": "SyntaxError",
     "evalue": "invalid syntax (1334758014.py, line 11)",
     "output_type": "error",
     "traceback": [
      "\u001b[0;36m  File \u001b[0;32m\"/tmp/ipykernel_169/1334758014.py\"\u001b[0;36m, line \u001b[0;32m11\u001b[0m\n\u001b[0;31m    yrMo = ee.ImageCollection.fromImages(def func_yku (y):\u001b[0m\n\u001b[0m                                         ^\u001b[0m\n\u001b[0;31mSyntaxError\u001b[0m\u001b[0;31m:\u001b[0m invalid syntax\n"
     ]
    }
   ],
   "source": [
    "# collection = ee.ImageCollection('MODIS/006/MOD10A1').filterDate(startDate, endDate).select('NDSI_Snow_Cover')\n",
    "collection=ee.ImageCollection(\"MODIS/061/MOD17A3HGF\").select('Npp')\n",
    "\n",
    "#Use a function to iterate through months and calculate average NDVI\n",
    "months = ee.List.sequence(1, 12)\n",
    "print(\"months\",months)\n",
    "years = ee.List.sequence(2001, 2010)\n",
    "print(\"years\",years)\n",
    "\n",
    "# Map filtering and reducing across year-month combinations and convert to ImageCollection\n",
    "yrMo = ee.ImageCollection.fromImages(def func_yku (y):\n",
    "        return months.map(function (m) {\n",
    "            return collection \\\n",
    "              .filter(ee.Filter.calendarRange(y, y, 'year')) \\\n",
    "              .filter(ee.Filter.calendarRange(m, m, 'month')) \\\n",
    "              .mean() \\\n",
    "              .set('year',y) \\\n",
    "              .set('month',m)\n",
    "        })\n",
    "\n",
    "    years.map(func_yku\n",
    ").flatten())\n",
    "\n",
    "# ).flatten())\n",
    "print(\"yrMo\",yrMo)\n",
    "\n",
    "# # Map filtering and reducing across year-month combinations and convert to ImageCollection\n",
    "# yrMo = ee.ImageCollection.fromImages(\n",
    "#     def func_yku(y):\n",
    "#         return months.map(function (m) {return collection.filter(ee.Filter.calendarRange(y, y, 'year')).filter(ee.Filter.calendarRange(m, m, 'month')).mean().set('year',y).set('month',m)})\n",
    "#         years.map(func_yku).flatten())\n",
    "\n",
    "# ).flatten())\n",
    "# print(\"yrMo\",yrMo)\n",
    "\n"
   ]
  },
  {
   "cell_type": "code",
   "execution_count": null,
   "id": "985b0240-0c27-4a6a-bcc8-a4c53511a93b",
   "metadata": {},
   "outputs": [],
   "source": [
    "\n",
    "for i in range(len(shapefile_list[0:3])):\n",
    "    print(i)\n",
    "    shapefile = gpd.read_file(f'{paths}/{shapefile_list[i]}')\n",
    "    features = []\n",
    "    for j in range(shapefile.shape[0]):\n",
    "        geom = shapefile.iloc[j:j+1,:] \n",
    "        jsonDict = eval(geom.to_json()) \n",
    "        geojsonDict = jsonDict['features'][0] \n",
    "        features.append(ee.Feature(geojsonDict))\n",
    "\n",
    "    aoi = ee.FeatureCollection(features).geometry()\n",
    "\n",
    "    \n",
    "    reduce_snow = reducer_function(geometry=aoi, reducer=ee.Reducer.mean(), scale=10, crs='EPSG:4326')\n",
    "    snow_stat_fc = ee.FeatureCollection(snow.map(reduce_snow)).filter(ee.Filter.notNull(snow.first().bandNames()))\n",
    "    \n",
    "    snow_dict = write_dict(snow_stat_fc).getInfo()\n",
    "    snow_df = pd.DataFrame(snow_dict)\n",
    "    \n",
    "    snow_df['NDSI_Snow_Cover'] = snow_df['NDSI_Snow_Cover']\n",
    "    \n",
    "    # add dates to dataframe\n",
    "    snow_df['Timestamp'] = pd.to_datetime(snow_df['millis'], unit='ms')\n",
    "    snow_df['Year'] = pd.DatetimeIndex(snow_df['Timestamp']).year\n",
    "    snow_df['Month'] = pd.DatetimeIndex(snow_df['Timestamp']).month\n",
    "    snow_df['Day'] = pd.DatetimeIndex(snow_df['Timestamp']).day\n",
    "    snow_df['DOY'] = pd.DatetimeIndex(snow_df['Timestamp']).dayofyear\n",
    "    \n",
    "    snow_df.index = snow_df['Timestamp']\n",
    "    snow_df = snow_df.drop(columns={'millis','system:index','Timestamp','Year','Month','Day','DOY'})\n",
    "    snow_df_monthly = snow_df.groupby(pd.Grouper(freq='M')).mean()\n",
    "    print(snow_df)\n",
    "    \n",
    "    f = files_list[i][:-4]\n",
    "    snow_df.to_csv(f'{paths}/ndsi_snowcover/ndsi_snowcover_{startDate}_{endDate}_{f}.csv')"
   ]
  },
  {
   "cell_type": "code",
   "execution_count": null,
   "id": "9a99169f-d564-44d6-a961-df92005d176b",
   "metadata": {},
   "outputs": [],
   "source": [
    "var landsat_resample = function(image){\n",
    "  return image.reproject(landsat_pro, null, 500) // insert here the desired scale in meters\n",
    "\n",
    "    // Force the next reprojection to aggregate instead of resampling.\n",
    "    .reduceResolution({\n",
    "      reducer: ee.Reducer.mean(),\n",
    "      maxPixels: 1024\n",
    "    })\n",
    "  .copyProperties(image)\n",
    "}\n",
    "\n",
    "var ndviResample = ndvi.map(landsat_resample)"
   ]
  },
  {
   "cell_type": "code",
   "execution_count": null,
   "id": "530a75fa-6611-4745-b881-4af3f10cd7d6",
   "metadata": {},
   "outputs": [],
   "source": []
  },
  {
   "cell_type": "code",
   "execution_count": 21,
   "id": "ceba0df9-b044-49c0-b173-073f294892b1",
   "metadata": {},
   "outputs": [
    {
     "name": "stdout",
     "output_type": "stream",
     "text": [
      "0\n"
     ]
    },
    {
     "ename": "EEException",
     "evalue": "Computation timed out.",
     "output_type": "error",
     "traceback": [
      "\u001b[0;31m---------------------------------------------------------------------------\u001b[0m",
      "\u001b[0;31mHttpError\u001b[0m                                 Traceback (most recent call last)",
      "\u001b[0;32m~/miniconda3/envs/sr_env/lib/python3.9/site-packages/ee/data.py\u001b[0m in \u001b[0;36m_execute_cloud_call\u001b[0;34m(call, num_retries)\u001b[0m\n\u001b[1;32m    327\u001b[0m   \u001b[0;32mtry\u001b[0m\u001b[0;34m:\u001b[0m\u001b[0;34m\u001b[0m\u001b[0;34m\u001b[0m\u001b[0m\n\u001b[0;32m--> 328\u001b[0;31m     \u001b[0;32mreturn\u001b[0m \u001b[0mcall\u001b[0m\u001b[0;34m.\u001b[0m\u001b[0mexecute\u001b[0m\u001b[0;34m(\u001b[0m\u001b[0mnum_retries\u001b[0m\u001b[0;34m=\u001b[0m\u001b[0mnum_retries\u001b[0m\u001b[0;34m)\u001b[0m\u001b[0;34m\u001b[0m\u001b[0;34m\u001b[0m\u001b[0m\n\u001b[0m\u001b[1;32m    329\u001b[0m   \u001b[0;32mexcept\u001b[0m \u001b[0mgoogleapiclient\u001b[0m\u001b[0;34m.\u001b[0m\u001b[0merrors\u001b[0m\u001b[0;34m.\u001b[0m\u001b[0mHttpError\u001b[0m \u001b[0;32mas\u001b[0m \u001b[0me\u001b[0m\u001b[0;34m:\u001b[0m\u001b[0;34m\u001b[0m\u001b[0;34m\u001b[0m\u001b[0m\n",
      "\u001b[0;32m~/miniconda3/envs/sr_env/lib/python3.9/site-packages/googleapiclient/_helpers.py\u001b[0m in \u001b[0;36mpositional_wrapper\u001b[0;34m(*args, **kwargs)\u001b[0m\n\u001b[1;32m    133\u001b[0m                     \u001b[0mlogger\u001b[0m\u001b[0;34m.\u001b[0m\u001b[0mwarning\u001b[0m\u001b[0;34m(\u001b[0m\u001b[0mmessage\u001b[0m\u001b[0;34m)\u001b[0m\u001b[0;34m\u001b[0m\u001b[0;34m\u001b[0m\u001b[0m\n\u001b[0;32m--> 134\u001b[0;31m             \u001b[0;32mreturn\u001b[0m \u001b[0mwrapped\u001b[0m\u001b[0;34m(\u001b[0m\u001b[0;34m*\u001b[0m\u001b[0margs\u001b[0m\u001b[0;34m,\u001b[0m \u001b[0;34m**\u001b[0m\u001b[0mkwargs\u001b[0m\u001b[0;34m)\u001b[0m\u001b[0;34m\u001b[0m\u001b[0;34m\u001b[0m\u001b[0m\n\u001b[0m\u001b[1;32m    135\u001b[0m \u001b[0;34m\u001b[0m\u001b[0m\n",
      "\u001b[0;32m~/miniconda3/envs/sr_env/lib/python3.9/site-packages/googleapiclient/http.py\u001b[0m in \u001b[0;36mexecute\u001b[0;34m(self, http, num_retries)\u001b[0m\n\u001b[1;32m    914\u001b[0m         \u001b[0;32mif\u001b[0m \u001b[0mresp\u001b[0m\u001b[0;34m.\u001b[0m\u001b[0mstatus\u001b[0m \u001b[0;34m>=\u001b[0m \u001b[0;36m300\u001b[0m\u001b[0;34m:\u001b[0m\u001b[0;34m\u001b[0m\u001b[0;34m\u001b[0m\u001b[0m\n\u001b[0;32m--> 915\u001b[0;31m             \u001b[0;32mraise\u001b[0m \u001b[0mHttpError\u001b[0m\u001b[0;34m(\u001b[0m\u001b[0mresp\u001b[0m\u001b[0;34m,\u001b[0m \u001b[0mcontent\u001b[0m\u001b[0;34m,\u001b[0m \u001b[0muri\u001b[0m\u001b[0;34m=\u001b[0m\u001b[0mself\u001b[0m\u001b[0;34m.\u001b[0m\u001b[0muri\u001b[0m\u001b[0;34m)\u001b[0m\u001b[0;34m\u001b[0m\u001b[0;34m\u001b[0m\u001b[0m\n\u001b[0m\u001b[1;32m    916\u001b[0m         \u001b[0;32mreturn\u001b[0m \u001b[0mself\u001b[0m\u001b[0;34m.\u001b[0m\u001b[0mpostproc\u001b[0m\u001b[0;34m(\u001b[0m\u001b[0mresp\u001b[0m\u001b[0;34m,\u001b[0m \u001b[0mcontent\u001b[0m\u001b[0;34m)\u001b[0m\u001b[0;34m\u001b[0m\u001b[0;34m\u001b[0m\u001b[0m\n",
      "\u001b[0;31mHttpError\u001b[0m: <HttpError 400 when requesting https://earthengine.googleapis.com/v1alpha/projects/earthengine-legacy/value:compute?prettyPrint=false&alt=json returned \"Computation timed out.\". Details: \"Computation timed out.\">",
      "\nDuring handling of the above exception, another exception occurred:\n",
      "\u001b[0;31mEEException\u001b[0m                               Traceback (most recent call last)",
      "\u001b[0;32m/tmp/ipykernel_169/4092024537.py\u001b[0m in \u001b[0;36m<module>\u001b[0;34m\u001b[0m\n\u001b[1;32m     33\u001b[0m     \u001b[0msnow_stat_fc\u001b[0m \u001b[0;34m=\u001b[0m \u001b[0mee\u001b[0m\u001b[0;34m.\u001b[0m\u001b[0mFeatureCollection\u001b[0m\u001b[0;34m(\u001b[0m\u001b[0msnow\u001b[0m\u001b[0;34m.\u001b[0m\u001b[0mmap\u001b[0m\u001b[0;34m(\u001b[0m\u001b[0mreduce_snow\u001b[0m\u001b[0;34m)\u001b[0m\u001b[0;34m)\u001b[0m\u001b[0;34m.\u001b[0m\u001b[0mfilter\u001b[0m\u001b[0;34m(\u001b[0m\u001b[0mee\u001b[0m\u001b[0;34m.\u001b[0m\u001b[0mFilter\u001b[0m\u001b[0;34m.\u001b[0m\u001b[0mnotNull\u001b[0m\u001b[0;34m(\u001b[0m\u001b[0msnow\u001b[0m\u001b[0;34m.\u001b[0m\u001b[0mfirst\u001b[0m\u001b[0;34m(\u001b[0m\u001b[0;34m)\u001b[0m\u001b[0;34m.\u001b[0m\u001b[0mbandNames\u001b[0m\u001b[0;34m(\u001b[0m\u001b[0;34m)\u001b[0m\u001b[0;34m)\u001b[0m\u001b[0;34m)\u001b[0m\u001b[0;34m\u001b[0m\u001b[0;34m\u001b[0m\u001b[0m\n\u001b[1;32m     34\u001b[0m \u001b[0;34m\u001b[0m\u001b[0m\n\u001b[0;32m---> 35\u001b[0;31m     \u001b[0msnow_dict\u001b[0m \u001b[0;34m=\u001b[0m \u001b[0mwrite_dict\u001b[0m\u001b[0;34m(\u001b[0m\u001b[0msnow_stat_fc\u001b[0m\u001b[0;34m)\u001b[0m\u001b[0;34m.\u001b[0m\u001b[0mgetInfo\u001b[0m\u001b[0;34m(\u001b[0m\u001b[0;34m)\u001b[0m\u001b[0;34m\u001b[0m\u001b[0;34m\u001b[0m\u001b[0m\n\u001b[0m\u001b[1;32m     36\u001b[0m     \u001b[0msnow_df\u001b[0m \u001b[0;34m=\u001b[0m \u001b[0mpd\u001b[0m\u001b[0;34m.\u001b[0m\u001b[0mDataFrame\u001b[0m\u001b[0;34m(\u001b[0m\u001b[0msnow_dict\u001b[0m\u001b[0;34m)\u001b[0m\u001b[0;34m\u001b[0m\u001b[0;34m\u001b[0m\u001b[0m\n\u001b[1;32m     37\u001b[0m \u001b[0;34m\u001b[0m\u001b[0m\n",
      "\u001b[0;32m~/miniconda3/envs/sr_env/lib/python3.9/site-packages/ee/computedobject.py\u001b[0m in \u001b[0;36mgetInfo\u001b[0;34m(self)\u001b[0m\n\u001b[1;32m     96\u001b[0m       \u001b[0mThe\u001b[0m \u001b[0mobject\u001b[0m \u001b[0mcan\u001b[0m \u001b[0mevaluate\u001b[0m \u001b[0mto\u001b[0m \u001b[0manything\u001b[0m\u001b[0;34m.\u001b[0m\u001b[0;34m\u001b[0m\u001b[0;34m\u001b[0m\u001b[0m\n\u001b[1;32m     97\u001b[0m     \"\"\"\n\u001b[0;32m---> 98\u001b[0;31m     \u001b[0;32mreturn\u001b[0m \u001b[0mdata\u001b[0m\u001b[0;34m.\u001b[0m\u001b[0mcomputeValue\u001b[0m\u001b[0;34m(\u001b[0m\u001b[0mself\u001b[0m\u001b[0;34m)\u001b[0m\u001b[0;34m\u001b[0m\u001b[0;34m\u001b[0m\u001b[0m\n\u001b[0m\u001b[1;32m     99\u001b[0m \u001b[0;34m\u001b[0m\u001b[0m\n\u001b[1;32m    100\u001b[0m   \u001b[0;32mdef\u001b[0m \u001b[0mencode\u001b[0m\u001b[0;34m(\u001b[0m\u001b[0mself\u001b[0m\u001b[0;34m,\u001b[0m \u001b[0mencoder\u001b[0m\u001b[0;34m)\u001b[0m\u001b[0;34m:\u001b[0m\u001b[0;34m\u001b[0m\u001b[0;34m\u001b[0m\u001b[0m\n",
      "\u001b[0;32m~/miniconda3/envs/sr_env/lib/python3.9/site-packages/ee/data.py\u001b[0m in \u001b[0;36mcomputeValue\u001b[0;34m(obj)\u001b[0m\n\u001b[1;32m    736\u001b[0m     \u001b[0mbody\u001b[0m\u001b[0;34m[\u001b[0m\u001b[0;34m'workloadTag'\u001b[0m\u001b[0;34m]\u001b[0m \u001b[0;34m=\u001b[0m \u001b[0mworkload_tag\u001b[0m\u001b[0;34m\u001b[0m\u001b[0;34m\u001b[0m\u001b[0m\n\u001b[1;32m    737\u001b[0m \u001b[0;34m\u001b[0m\u001b[0m\n\u001b[0;32m--> 738\u001b[0;31m   return _execute_cloud_call(\n\u001b[0m\u001b[1;32m    739\u001b[0m       _get_cloud_api_resource().projects().value().compute(\n\u001b[1;32m    740\u001b[0m           \u001b[0mbody\u001b[0m\u001b[0;34m=\u001b[0m\u001b[0mbody\u001b[0m\u001b[0;34m,\u001b[0m\u001b[0;34m\u001b[0m\u001b[0;34m\u001b[0m\u001b[0m\n",
      "\u001b[0;32m~/miniconda3/envs/sr_env/lib/python3.9/site-packages/ee/data.py\u001b[0m in \u001b[0;36m_execute_cloud_call\u001b[0;34m(call, num_retries)\u001b[0m\n\u001b[1;32m    328\u001b[0m     \u001b[0;32mreturn\u001b[0m \u001b[0mcall\u001b[0m\u001b[0;34m.\u001b[0m\u001b[0mexecute\u001b[0m\u001b[0;34m(\u001b[0m\u001b[0mnum_retries\u001b[0m\u001b[0;34m=\u001b[0m\u001b[0mnum_retries\u001b[0m\u001b[0;34m)\u001b[0m\u001b[0;34m\u001b[0m\u001b[0;34m\u001b[0m\u001b[0m\n\u001b[1;32m    329\u001b[0m   \u001b[0;32mexcept\u001b[0m \u001b[0mgoogleapiclient\u001b[0m\u001b[0;34m.\u001b[0m\u001b[0merrors\u001b[0m\u001b[0;34m.\u001b[0m\u001b[0mHttpError\u001b[0m \u001b[0;32mas\u001b[0m \u001b[0me\u001b[0m\u001b[0;34m:\u001b[0m\u001b[0;34m\u001b[0m\u001b[0;34m\u001b[0m\u001b[0m\n\u001b[0;32m--> 330\u001b[0;31m     \u001b[0;32mraise\u001b[0m \u001b[0m_translate_cloud_exception\u001b[0m\u001b[0;34m(\u001b[0m\u001b[0me\u001b[0m\u001b[0;34m)\u001b[0m\u001b[0;34m\u001b[0m\u001b[0;34m\u001b[0m\u001b[0m\n\u001b[0m\u001b[1;32m    331\u001b[0m \u001b[0;34m\u001b[0m\u001b[0m\n\u001b[1;32m    332\u001b[0m \u001b[0;34m\u001b[0m\u001b[0m\n",
      "\u001b[0;31mEEException\u001b[0m: Computation timed out."
     ]
    }
   ],
   "source": [
    "# #%% get snow cover timeseries for 1 catchment\n",
    "paths = f'{work_dir}/output/selected_shapes/'\n",
    "all_files = os.listdir(paths)           \n",
    "files_list = []                             \n",
    "for files in all_files:                    \n",
    "    if '.shp' in files:\n",
    "        files_list.append(files)\n",
    "        \n",
    "files_list = files_list[0:3] #only test 3 catchments here -> for all catchments run on cluster\n",
    "\n",
    "# paths = f'{work_dir}/output/selected_shapes/'\n",
    "# shape_dir = Path(f'{work_dir}/output/selected_shapes/')\n",
    "# shapefile_list = glob.glob(f'{shape_dir}/*.shp')[:]\n",
    "# files_list = shapefile_list[0:3]\n",
    "\n",
    "for i in range(len(files_list)):\n",
    "    print(i)\n",
    "    shapefile = gpd.read_file(f'{paths}/{files_list[i]}')\n",
    "    features = []\n",
    "    for j in range(shapefile.shape[0]):\n",
    "        geom = shapefile.iloc[j:j+1,:] \n",
    "        jsonDict = eval(geom.to_json()) \n",
    "        geojsonDict = jsonDict['features'][0] \n",
    "        features.append(ee.Feature(geojsonDict))\n",
    "\n",
    "    aoi = ee.FeatureCollection(features).geometry()\n",
    "    startDate = '2005-01-01'\n",
    "    endDate = '2005-12-31'\n",
    "    snow = ee.ImageCollection('MODIS/006/MOD10A1').filterDate(startDate, endDate).select('NDSI_Snow_Cover')\n",
    "    # snow = snow.resample('bilinear').reproject(crs=clay.projection().crs(), scale=1110);\n",
    "    \n",
    "    reduce_snow = reducer_function(geometry=aoi, reducer=ee.Reducer.mean(), scale=10, crs='EPSG:4326')\n",
    "    snow_stat_fc = ee.FeatureCollection(snow.map(reduce_snow)).filter(ee.Filter.notNull(snow.first().bandNames()))\n",
    "    \n",
    "    snow_dict = write_dict(snow_stat_fc).getInfo()\n",
    "    snow_df = pd.DataFrame(snow_dict)\n",
    "    \n",
    "    snow_df['NDSI_Snow_Cover'] = snow_df['NDSI_Snow_Cover']\n",
    "    \n",
    "    # add dates to dataframe\n",
    "    snow_df['Timestamp'] = pd.to_datetime(snow_df['millis'], unit='ms')\n",
    "    snow_df['Year'] = pd.DatetimeIndex(snow_df['Timestamp']).year\n",
    "    snow_df['Month'] = pd.DatetimeIndex(snow_df['Timestamp']).month\n",
    "    snow_df['Day'] = pd.DatetimeIndex(snow_df['Timestamp']).day\n",
    "    snow_df['DOY'] = pd.DatetimeIndex(snow_df['Timestamp']).dayofyear\n",
    "    \n",
    "    snow_df.index = snow_df['Timestamp']\n",
    "    snow_df = snow_df.drop(columns={'millis','system:index','Timestamp','Year','Month','Day','DOY'})\n",
    "    snow_df_monthly = snow_df.groupby(pd.Grouper(freq='M')).mean()\n",
    "    print(snow_df)\n",
    "    \n",
    "    f = files_list[i][:-4]\n",
    "    # snow_df.to_csv(f'{paths}/ndsi_snowcover/ndsi_snowcover_{startDate}_{endDate}_{f}.csv')\n"
   ]
  },
  {
   "cell_type": "code",
   "execution_count": 14,
   "id": "8bf7203f-a81e-49d9-a6e6-acd6ffef2a1c",
   "metadata": {},
   "outputs": [
    {
     "ename": "NameError",
     "evalue": "name 'snow_df' is not defined",
     "output_type": "error",
     "traceback": [
      "\u001b[0;31m---------------------------------------------------------------------------\u001b[0m",
      "\u001b[0;31mNameError\u001b[0m                                 Traceback (most recent call last)",
      "\u001b[0;32m/tmp/ipykernel_169/3904917268.py\u001b[0m in \u001b[0;36m<module>\u001b[0;34m\u001b[0m\n\u001b[0;32m----> 1\u001b[0;31m \u001b[0msnow_df\u001b[0m\u001b[0;34m\u001b[0m\u001b[0;34m\u001b[0m\u001b[0m\n\u001b[0m",
      "\u001b[0;31mNameError\u001b[0m: name 'snow_df' is not defined"
     ]
    }
   ],
   "source": [
    "snow_df"
   ]
  },
  {
   "cell_type": "code",
   "execution_count": null,
   "id": "6cd2f121-9569-42a8-8d6b-f53204ba9020",
   "metadata": {},
   "outputs": [],
   "source": []
  },
  {
   "cell_type": "code",
   "execution_count": null,
   "id": "0da5e907-aa39-4bcc-b8ba-36fc3ba535f3",
   "metadata": {},
   "outputs": [],
   "source": []
  },
  {
   "cell_type": "code",
   "execution_count": null,
   "id": "db9fef87-90b4-49d7-b03e-f8b90b6c1acb",
   "metadata": {},
   "outputs": [],
   "source": []
  },
  {
   "cell_type": "code",
   "execution_count": null,
   "id": "eb06110a-bc13-45a7-ab54-d978e1c59951",
   "metadata": {},
   "outputs": [],
   "source": []
  },
  {
   "cell_type": "markdown",
   "id": "02471d46-cad1-44a5-bcd1-6abea46d3aab",
   "metadata": {},
   "source": [
    "## 6. Earth Engine CHIRPS"
   ]
  },
  {
   "cell_type": "code",
   "execution_count": 6,
   "id": "c0fa6a79-ab40-4632-bc6b-dd119e853ab0",
   "metadata": {},
   "outputs": [
    {
     "ename": "EEException",
     "evalue": "Computation timed out.",
     "output_type": "error",
     "traceback": [
      "\u001b[0;31m---------------------------------------------------------------------------\u001b[0m",
      "\u001b[0;31mHttpError\u001b[0m                                 Traceback (most recent call last)",
      "\u001b[0;32m~/miniconda3/envs/sr_env/lib/python3.9/site-packages/ee/data.py\u001b[0m in \u001b[0;36m_execute_cloud_call\u001b[0;34m(call, num_retries)\u001b[0m\n\u001b[1;32m    329\u001b[0m   \u001b[0;32mtry\u001b[0m\u001b[0;34m:\u001b[0m\u001b[0;34m\u001b[0m\u001b[0;34m\u001b[0m\u001b[0m\n\u001b[0;32m--> 330\u001b[0;31m     \u001b[0;32mreturn\u001b[0m \u001b[0mcall\u001b[0m\u001b[0;34m.\u001b[0m\u001b[0mexecute\u001b[0m\u001b[0;34m(\u001b[0m\u001b[0mnum_retries\u001b[0m\u001b[0;34m=\u001b[0m\u001b[0mnum_retries\u001b[0m\u001b[0;34m)\u001b[0m\u001b[0;34m\u001b[0m\u001b[0;34m\u001b[0m\u001b[0m\n\u001b[0m\u001b[1;32m    331\u001b[0m   \u001b[0;32mexcept\u001b[0m \u001b[0mgoogleapiclient\u001b[0m\u001b[0;34m.\u001b[0m\u001b[0merrors\u001b[0m\u001b[0;34m.\u001b[0m\u001b[0mHttpError\u001b[0m \u001b[0;32mas\u001b[0m \u001b[0me\u001b[0m\u001b[0;34m:\u001b[0m\u001b[0;34m\u001b[0m\u001b[0;34m\u001b[0m\u001b[0m\n",
      "\u001b[0;32m~/miniconda3/envs/sr_env/lib/python3.9/site-packages/googleapiclient/_helpers.py\u001b[0m in \u001b[0;36mpositional_wrapper\u001b[0;34m(*args, **kwargs)\u001b[0m\n\u001b[1;32m    133\u001b[0m                     \u001b[0mlogger\u001b[0m\u001b[0;34m.\u001b[0m\u001b[0mwarning\u001b[0m\u001b[0;34m(\u001b[0m\u001b[0mmessage\u001b[0m\u001b[0;34m)\u001b[0m\u001b[0;34m\u001b[0m\u001b[0;34m\u001b[0m\u001b[0m\n\u001b[0;32m--> 134\u001b[0;31m             \u001b[0;32mreturn\u001b[0m \u001b[0mwrapped\u001b[0m\u001b[0;34m(\u001b[0m\u001b[0;34m*\u001b[0m\u001b[0margs\u001b[0m\u001b[0;34m,\u001b[0m \u001b[0;34m**\u001b[0m\u001b[0mkwargs\u001b[0m\u001b[0;34m)\u001b[0m\u001b[0;34m\u001b[0m\u001b[0;34m\u001b[0m\u001b[0m\n\u001b[0m\u001b[1;32m    135\u001b[0m \u001b[0;34m\u001b[0m\u001b[0m\n",
      "\u001b[0;32m~/miniconda3/envs/sr_env/lib/python3.9/site-packages/googleapiclient/http.py\u001b[0m in \u001b[0;36mexecute\u001b[0;34m(self, http, num_retries)\u001b[0m\n\u001b[1;32m    914\u001b[0m         \u001b[0;32mif\u001b[0m \u001b[0mresp\u001b[0m\u001b[0;34m.\u001b[0m\u001b[0mstatus\u001b[0m \u001b[0;34m>=\u001b[0m \u001b[0;36m300\u001b[0m\u001b[0;34m:\u001b[0m\u001b[0;34m\u001b[0m\u001b[0;34m\u001b[0m\u001b[0m\n\u001b[0;32m--> 915\u001b[0;31m             \u001b[0;32mraise\u001b[0m \u001b[0mHttpError\u001b[0m\u001b[0;34m(\u001b[0m\u001b[0mresp\u001b[0m\u001b[0;34m,\u001b[0m \u001b[0mcontent\u001b[0m\u001b[0;34m,\u001b[0m \u001b[0muri\u001b[0m\u001b[0;34m=\u001b[0m\u001b[0mself\u001b[0m\u001b[0;34m.\u001b[0m\u001b[0muri\u001b[0m\u001b[0;34m)\u001b[0m\u001b[0;34m\u001b[0m\u001b[0;34m\u001b[0m\u001b[0m\n\u001b[0m\u001b[1;32m    916\u001b[0m         \u001b[0;32mreturn\u001b[0m \u001b[0mself\u001b[0m\u001b[0;34m.\u001b[0m\u001b[0mpostproc\u001b[0m\u001b[0;34m(\u001b[0m\u001b[0mresp\u001b[0m\u001b[0;34m,\u001b[0m \u001b[0mcontent\u001b[0m\u001b[0;34m)\u001b[0m\u001b[0;34m\u001b[0m\u001b[0;34m\u001b[0m\u001b[0m\n",
      "\u001b[0;31mHttpError\u001b[0m: <HttpError 400 when requesting https://earthengine.googleapis.com/v1alpha/projects/earthengine-legacy/value:compute?prettyPrint=false&alt=json returned \"Computation timed out.\". Details: \"Computation timed out.\">",
      "\nDuring handling of the above exception, another exception occurred:\n",
      "\u001b[0;31mEEException\u001b[0m                               Traceback (most recent call last)",
      "\u001b[0;32m/tmp/ipykernel_971989/1714626126.py\u001b[0m in \u001b[0;36m<module>\u001b[0;34m\u001b[0m\n\u001b[1;32m      4\u001b[0m \u001b[0mstart_date_list\u001b[0m \u001b[0;34m=\u001b[0m \u001b[0;34m[\u001b[0m\u001b[0mstart_date\u001b[0m\u001b[0;34m]\u001b[0m\u001b[0;34m*\u001b[0m\u001b[0mlen\u001b[0m\u001b[0;34m(\u001b[0m\u001b[0mcatch_list\u001b[0m\u001b[0;34m)\u001b[0m\u001b[0;34m\u001b[0m\u001b[0;34m\u001b[0m\u001b[0m\n\u001b[1;32m      5\u001b[0m \u001b[0;34m\u001b[0m\u001b[0m\n\u001b[0;32m----> 6\u001b[0;31m \u001b[0mee_chirps_parallel\u001b[0m\u001b[0;34m(\u001b[0m\u001b[0mcatch_list\u001b[0m\u001b[0;34m,\u001b[0m\u001b[0mstart_date_list\u001b[0m\u001b[0;34m,\u001b[0m\u001b[0mwork_dir_list\u001b[0m\u001b[0;34m)\u001b[0m\u001b[0;34m\u001b[0m\u001b[0;34m\u001b[0m\u001b[0m\n\u001b[0m",
      "\u001b[0;32m~/global_sr_module/f_earth_engine.py\u001b[0m in \u001b[0;36mee_chirps_parallel\u001b[0;34m(catch_list, start_date_list, work_dir_list, threads)\u001b[0m\n\u001b[1;32m    415\u001b[0m         \u001b[0mpool\u001b[0m \u001b[0;34m=\u001b[0m \u001b[0mPool\u001b[0m\u001b[0;34m(\u001b[0m\u001b[0mnodes\u001b[0m\u001b[0;34m=\u001b[0m\u001b[0mthreads\u001b[0m\u001b[0;34m)\u001b[0m\u001b[0;34m\u001b[0m\u001b[0;34m\u001b[0m\u001b[0m\n\u001b[1;32m    416\u001b[0m     \u001b[0;31m# Run parallel models\u001b[0m\u001b[0;34m\u001b[0m\u001b[0;34m\u001b[0m\u001b[0m\n\u001b[0;32m--> 417\u001b[0;31m     results = pool.map(\n\u001b[0m\u001b[1;32m    418\u001b[0m         \u001b[0mee_chirps_timeseries\u001b[0m\u001b[0;34m,\u001b[0m\u001b[0;34m\u001b[0m\u001b[0;34m\u001b[0m\u001b[0m\n\u001b[1;32m    419\u001b[0m         \u001b[0mcatch_list\u001b[0m\u001b[0;34m,\u001b[0m\u001b[0;34m\u001b[0m\u001b[0;34m\u001b[0m\u001b[0m\n",
      "\u001b[0;32m~/miniconda3/envs/sr_env/lib/python3.9/site-packages/pathos/threading.py\u001b[0m in \u001b[0;36mmap\u001b[0;34m(self, f, *args, **kwds)\u001b[0m\n\u001b[1;32m    134\u001b[0m         \u001b[0mAbstractWorkerPool\u001b[0m\u001b[0;34m.\u001b[0m\u001b[0m_AbstractWorkerPool__map\u001b[0m\u001b[0;34m(\u001b[0m\u001b[0mself\u001b[0m\u001b[0;34m,\u001b[0m \u001b[0mf\u001b[0m\u001b[0;34m,\u001b[0m \u001b[0;34m*\u001b[0m\u001b[0margs\u001b[0m\u001b[0;34m,\u001b[0m \u001b[0;34m**\u001b[0m\u001b[0mkwds\u001b[0m\u001b[0;34m)\u001b[0m\u001b[0;34m\u001b[0m\u001b[0;34m\u001b[0m\u001b[0m\n\u001b[1;32m    135\u001b[0m         \u001b[0m_pool\u001b[0m \u001b[0;34m=\u001b[0m \u001b[0mself\u001b[0m\u001b[0;34m.\u001b[0m\u001b[0m_serve\u001b[0m\u001b[0;34m(\u001b[0m\u001b[0;34m)\u001b[0m\u001b[0;34m\u001b[0m\u001b[0;34m\u001b[0m\u001b[0m\n\u001b[0;32m--> 136\u001b[0;31m         \u001b[0;32mreturn\u001b[0m \u001b[0m_pool\u001b[0m\u001b[0;34m.\u001b[0m\u001b[0mmap\u001b[0m\u001b[0;34m(\u001b[0m\u001b[0mstar\u001b[0m\u001b[0;34m(\u001b[0m\u001b[0mf\u001b[0m\u001b[0;34m)\u001b[0m\u001b[0;34m,\u001b[0m \u001b[0mzip\u001b[0m\u001b[0;34m(\u001b[0m\u001b[0;34m*\u001b[0m\u001b[0margs\u001b[0m\u001b[0;34m)\u001b[0m\u001b[0;34m)\u001b[0m \u001b[0;31m# chunksize\u001b[0m\u001b[0;34m\u001b[0m\u001b[0;34m\u001b[0m\u001b[0m\n\u001b[0m\u001b[1;32m    137\u001b[0m     \u001b[0mmap\u001b[0m\u001b[0;34m.\u001b[0m\u001b[0m__doc__\u001b[0m \u001b[0;34m=\u001b[0m \u001b[0mAbstractWorkerPool\u001b[0m\u001b[0;34m.\u001b[0m\u001b[0mmap\u001b[0m\u001b[0;34m.\u001b[0m\u001b[0m__doc__\u001b[0m\u001b[0;34m\u001b[0m\u001b[0;34m\u001b[0m\u001b[0m\n\u001b[1;32m    138\u001b[0m     \u001b[0;32mdef\u001b[0m \u001b[0mimap\u001b[0m\u001b[0;34m(\u001b[0m\u001b[0mself\u001b[0m\u001b[0;34m,\u001b[0m \u001b[0mf\u001b[0m\u001b[0;34m,\u001b[0m \u001b[0;34m*\u001b[0m\u001b[0margs\u001b[0m\u001b[0;34m,\u001b[0m \u001b[0;34m**\u001b[0m\u001b[0mkwds\u001b[0m\u001b[0;34m)\u001b[0m\u001b[0;34m:\u001b[0m\u001b[0;34m\u001b[0m\u001b[0;34m\u001b[0m\u001b[0m\n",
      "\u001b[0;32m~/miniconda3/envs/sr_env/lib/python3.9/site-packages/multiprocess/pool.py\u001b[0m in \u001b[0;36mmap\u001b[0;34m(self, func, iterable, chunksize)\u001b[0m\n\u001b[1;32m    362\u001b[0m         \u001b[0;32min\u001b[0m \u001b[0ma\u001b[0m \u001b[0mlist\u001b[0m \u001b[0mthat\u001b[0m \u001b[0;32mis\u001b[0m \u001b[0mreturned\u001b[0m\u001b[0;34m.\u001b[0m\u001b[0;34m\u001b[0m\u001b[0;34m\u001b[0m\u001b[0m\n\u001b[1;32m    363\u001b[0m         '''\n\u001b[0;32m--> 364\u001b[0;31m         \u001b[0;32mreturn\u001b[0m \u001b[0mself\u001b[0m\u001b[0;34m.\u001b[0m\u001b[0m_map_async\u001b[0m\u001b[0;34m(\u001b[0m\u001b[0mfunc\u001b[0m\u001b[0;34m,\u001b[0m \u001b[0miterable\u001b[0m\u001b[0;34m,\u001b[0m \u001b[0mmapstar\u001b[0m\u001b[0;34m,\u001b[0m \u001b[0mchunksize\u001b[0m\u001b[0;34m)\u001b[0m\u001b[0;34m.\u001b[0m\u001b[0mget\u001b[0m\u001b[0;34m(\u001b[0m\u001b[0;34m)\u001b[0m\u001b[0;34m\u001b[0m\u001b[0;34m\u001b[0m\u001b[0m\n\u001b[0m\u001b[1;32m    365\u001b[0m \u001b[0;34m\u001b[0m\u001b[0m\n\u001b[1;32m    366\u001b[0m     \u001b[0;32mdef\u001b[0m \u001b[0mstarmap\u001b[0m\u001b[0;34m(\u001b[0m\u001b[0mself\u001b[0m\u001b[0;34m,\u001b[0m \u001b[0mfunc\u001b[0m\u001b[0;34m,\u001b[0m \u001b[0miterable\u001b[0m\u001b[0;34m,\u001b[0m \u001b[0mchunksize\u001b[0m\u001b[0;34m=\u001b[0m\u001b[0;32mNone\u001b[0m\u001b[0;34m)\u001b[0m\u001b[0;34m:\u001b[0m\u001b[0;34m\u001b[0m\u001b[0;34m\u001b[0m\u001b[0m\n",
      "\u001b[0;32m~/miniconda3/envs/sr_env/lib/python3.9/site-packages/multiprocess/pool.py\u001b[0m in \u001b[0;36mget\u001b[0;34m(self, timeout)\u001b[0m\n\u001b[1;32m    769\u001b[0m             \u001b[0;32mreturn\u001b[0m \u001b[0mself\u001b[0m\u001b[0;34m.\u001b[0m\u001b[0m_value\u001b[0m\u001b[0;34m\u001b[0m\u001b[0;34m\u001b[0m\u001b[0m\n\u001b[1;32m    770\u001b[0m         \u001b[0;32melse\u001b[0m\u001b[0;34m:\u001b[0m\u001b[0;34m\u001b[0m\u001b[0;34m\u001b[0m\u001b[0m\n\u001b[0;32m--> 771\u001b[0;31m             \u001b[0;32mraise\u001b[0m \u001b[0mself\u001b[0m\u001b[0;34m.\u001b[0m\u001b[0m_value\u001b[0m\u001b[0;34m\u001b[0m\u001b[0;34m\u001b[0m\u001b[0m\n\u001b[0m\u001b[1;32m    772\u001b[0m \u001b[0;34m\u001b[0m\u001b[0m\n\u001b[1;32m    773\u001b[0m     \u001b[0;32mdef\u001b[0m \u001b[0m_set\u001b[0m\u001b[0;34m(\u001b[0m\u001b[0mself\u001b[0m\u001b[0;34m,\u001b[0m \u001b[0mi\u001b[0m\u001b[0;34m,\u001b[0m \u001b[0mobj\u001b[0m\u001b[0;34m)\u001b[0m\u001b[0;34m:\u001b[0m\u001b[0;34m\u001b[0m\u001b[0;34m\u001b[0m\u001b[0m\n",
      "\u001b[0;32m~/miniconda3/envs/sr_env/lib/python3.9/site-packages/multiprocess/pool.py\u001b[0m in \u001b[0;36mworker\u001b[0;34m(inqueue, outqueue, initializer, initargs, maxtasks, wrap_exception)\u001b[0m\n\u001b[1;32m    123\u001b[0m         \u001b[0mjob\u001b[0m\u001b[0;34m,\u001b[0m \u001b[0mi\u001b[0m\u001b[0;34m,\u001b[0m \u001b[0mfunc\u001b[0m\u001b[0;34m,\u001b[0m \u001b[0margs\u001b[0m\u001b[0;34m,\u001b[0m \u001b[0mkwds\u001b[0m \u001b[0;34m=\u001b[0m \u001b[0mtask\u001b[0m\u001b[0;34m\u001b[0m\u001b[0;34m\u001b[0m\u001b[0m\n\u001b[1;32m    124\u001b[0m         \u001b[0;32mtry\u001b[0m\u001b[0;34m:\u001b[0m\u001b[0;34m\u001b[0m\u001b[0;34m\u001b[0m\u001b[0m\n\u001b[0;32m--> 125\u001b[0;31m             \u001b[0mresult\u001b[0m \u001b[0;34m=\u001b[0m \u001b[0;34m(\u001b[0m\u001b[0;32mTrue\u001b[0m\u001b[0;34m,\u001b[0m \u001b[0mfunc\u001b[0m\u001b[0;34m(\u001b[0m\u001b[0;34m*\u001b[0m\u001b[0margs\u001b[0m\u001b[0;34m,\u001b[0m \u001b[0;34m**\u001b[0m\u001b[0mkwds\u001b[0m\u001b[0;34m)\u001b[0m\u001b[0;34m)\u001b[0m\u001b[0;34m\u001b[0m\u001b[0;34m\u001b[0m\u001b[0m\n\u001b[0m\u001b[1;32m    126\u001b[0m         \u001b[0;32mexcept\u001b[0m \u001b[0mException\u001b[0m \u001b[0;32mas\u001b[0m \u001b[0me\u001b[0m\u001b[0;34m:\u001b[0m\u001b[0;34m\u001b[0m\u001b[0;34m\u001b[0m\u001b[0m\n\u001b[1;32m    127\u001b[0m             \u001b[0;32mif\u001b[0m \u001b[0mwrap_exception\u001b[0m \u001b[0;32mand\u001b[0m \u001b[0mfunc\u001b[0m \u001b[0;32mis\u001b[0m \u001b[0;32mnot\u001b[0m \u001b[0m_helper_reraises_exception\u001b[0m\u001b[0;34m:\u001b[0m\u001b[0;34m\u001b[0m\u001b[0;34m\u001b[0m\u001b[0m\n",
      "\u001b[0;32m~/miniconda3/envs/sr_env/lib/python3.9/site-packages/multiprocess/pool.py\u001b[0m in \u001b[0;36mmapstar\u001b[0;34m(args)\u001b[0m\n\u001b[1;32m     46\u001b[0m \u001b[0;34m\u001b[0m\u001b[0m\n\u001b[1;32m     47\u001b[0m \u001b[0;32mdef\u001b[0m \u001b[0mmapstar\u001b[0m\u001b[0;34m(\u001b[0m\u001b[0margs\u001b[0m\u001b[0;34m)\u001b[0m\u001b[0;34m:\u001b[0m\u001b[0;34m\u001b[0m\u001b[0;34m\u001b[0m\u001b[0m\n\u001b[0;32m---> 48\u001b[0;31m     \u001b[0;32mreturn\u001b[0m \u001b[0mlist\u001b[0m\u001b[0;34m(\u001b[0m\u001b[0mmap\u001b[0m\u001b[0;34m(\u001b[0m\u001b[0;34m*\u001b[0m\u001b[0margs\u001b[0m\u001b[0;34m)\u001b[0m\u001b[0;34m)\u001b[0m\u001b[0;34m\u001b[0m\u001b[0;34m\u001b[0m\u001b[0m\n\u001b[0m\u001b[1;32m     49\u001b[0m \u001b[0;34m\u001b[0m\u001b[0m\n\u001b[1;32m     50\u001b[0m \u001b[0;32mdef\u001b[0m \u001b[0mstarmapstar\u001b[0m\u001b[0;34m(\u001b[0m\u001b[0margs\u001b[0m\u001b[0;34m)\u001b[0m\u001b[0;34m:\u001b[0m\u001b[0;34m\u001b[0m\u001b[0;34m\u001b[0m\u001b[0m\n",
      "\u001b[0;32m~/miniconda3/envs/sr_env/lib/python3.9/site-packages/pathos/helpers/mp_helper.py\u001b[0m in \u001b[0;36m<lambda>\u001b[0;34m(args)\u001b[0m\n\u001b[1;32m     13\u001b[0m \u001b[0;32mdef\u001b[0m \u001b[0mstarargs\u001b[0m\u001b[0;34m(\u001b[0m\u001b[0mf\u001b[0m\u001b[0;34m)\u001b[0m\u001b[0;34m:\u001b[0m\u001b[0;34m\u001b[0m\u001b[0;34m\u001b[0m\u001b[0m\n\u001b[1;32m     14\u001b[0m     \u001b[0;34m\"\"\"decorator to convert a many-arg function to a single-arg function\"\"\"\u001b[0m\u001b[0;34m\u001b[0m\u001b[0;34m\u001b[0m\u001b[0m\n\u001b[0;32m---> 15\u001b[0;31m     \u001b[0mfunc\u001b[0m \u001b[0;34m=\u001b[0m \u001b[0;32mlambda\u001b[0m \u001b[0margs\u001b[0m\u001b[0;34m:\u001b[0m \u001b[0mf\u001b[0m\u001b[0;34m(\u001b[0m\u001b[0;34m*\u001b[0m\u001b[0margs\u001b[0m\u001b[0;34m)\u001b[0m\u001b[0;34m\u001b[0m\u001b[0;34m\u001b[0m\u001b[0m\n\u001b[0m\u001b[1;32m     16\u001b[0m    \u001b[0;31m#func.__module__ = f.__module__\u001b[0m\u001b[0;34m\u001b[0m\u001b[0;34m\u001b[0m\u001b[0m\n\u001b[1;32m     17\u001b[0m    \u001b[0;31m#func.__name__ = f.__name__\u001b[0m\u001b[0;34m\u001b[0m\u001b[0;34m\u001b[0m\u001b[0m\n",
      "\u001b[0;32m~/global_sr_module/f_earth_engine.py\u001b[0m in \u001b[0;36mee_chirps_timeseries\u001b[0;34m(catch_id, start_date, work_dir)\u001b[0m\n\u001b[1;32m    391\u001b[0m     \u001b[0mp_stat_fc\u001b[0m \u001b[0;34m=\u001b[0m \u001b[0mee\u001b[0m\u001b[0;34m.\u001b[0m\u001b[0mFeatureCollection\u001b[0m\u001b[0;34m(\u001b[0m\u001b[0mp\u001b[0m\u001b[0;34m.\u001b[0m\u001b[0mmap\u001b[0m\u001b[0;34m(\u001b[0m\u001b[0mreduce_p\u001b[0m\u001b[0;34m)\u001b[0m\u001b[0;34m)\u001b[0m\u001b[0;34m.\u001b[0m\u001b[0mfilter\u001b[0m\u001b[0;34m(\u001b[0m\u001b[0mee\u001b[0m\u001b[0;34m.\u001b[0m\u001b[0mFilter\u001b[0m\u001b[0;34m.\u001b[0m\u001b[0mnotNull\u001b[0m\u001b[0;34m(\u001b[0m\u001b[0mp\u001b[0m\u001b[0;34m.\u001b[0m\u001b[0mfirst\u001b[0m\u001b[0;34m(\u001b[0m\u001b[0;34m)\u001b[0m\u001b[0;34m.\u001b[0m\u001b[0mbandNames\u001b[0m\u001b[0;34m(\u001b[0m\u001b[0;34m)\u001b[0m\u001b[0;34m)\u001b[0m\u001b[0;34m)\u001b[0m\u001b[0;34m\u001b[0m\u001b[0;34m\u001b[0m\u001b[0m\n\u001b[1;32m    392\u001b[0m \u001b[0;34m\u001b[0m\u001b[0m\n\u001b[0;32m--> 393\u001b[0;31m     \u001b[0mp_dict\u001b[0m \u001b[0;34m=\u001b[0m \u001b[0mwrite_dict\u001b[0m\u001b[0;34m(\u001b[0m\u001b[0mp_stat_fc\u001b[0m\u001b[0;34m)\u001b[0m\u001b[0;34m.\u001b[0m\u001b[0mgetInfo\u001b[0m\u001b[0;34m(\u001b[0m\u001b[0;34m)\u001b[0m\u001b[0;34m\u001b[0m\u001b[0;34m\u001b[0m\u001b[0m\n\u001b[0m\u001b[1;32m    394\u001b[0m     \u001b[0mp_df\u001b[0m \u001b[0;34m=\u001b[0m \u001b[0mpd\u001b[0m\u001b[0;34m.\u001b[0m\u001b[0mDataFrame\u001b[0m\u001b[0;34m(\u001b[0m\u001b[0mp_dict\u001b[0m\u001b[0;34m)\u001b[0m\u001b[0;34m\u001b[0m\u001b[0;34m\u001b[0m\u001b[0m\n\u001b[1;32m    395\u001b[0m \u001b[0;34m\u001b[0m\u001b[0m\n",
      "\u001b[0;32m~/miniconda3/envs/sr_env/lib/python3.9/site-packages/ee/computedobject.py\u001b[0m in \u001b[0;36mgetInfo\u001b[0;34m(self)\u001b[0m\n\u001b[1;32m     96\u001b[0m       \u001b[0mThe\u001b[0m \u001b[0mobject\u001b[0m \u001b[0mcan\u001b[0m \u001b[0mevaluate\u001b[0m \u001b[0mto\u001b[0m \u001b[0manything\u001b[0m\u001b[0;34m.\u001b[0m\u001b[0;34m\u001b[0m\u001b[0;34m\u001b[0m\u001b[0m\n\u001b[1;32m     97\u001b[0m     \"\"\"\n\u001b[0;32m---> 98\u001b[0;31m     \u001b[0;32mreturn\u001b[0m \u001b[0mdata\u001b[0m\u001b[0;34m.\u001b[0m\u001b[0mcomputeValue\u001b[0m\u001b[0;34m(\u001b[0m\u001b[0mself\u001b[0m\u001b[0;34m)\u001b[0m\u001b[0;34m\u001b[0m\u001b[0;34m\u001b[0m\u001b[0m\n\u001b[0m\u001b[1;32m     99\u001b[0m \u001b[0;34m\u001b[0m\u001b[0m\n\u001b[1;32m    100\u001b[0m   \u001b[0;32mdef\u001b[0m \u001b[0mencode\u001b[0m\u001b[0;34m(\u001b[0m\u001b[0mself\u001b[0m\u001b[0;34m,\u001b[0m \u001b[0mencoder\u001b[0m\u001b[0;34m)\u001b[0m\u001b[0;34m:\u001b[0m\u001b[0;34m\u001b[0m\u001b[0;34m\u001b[0m\u001b[0m\n",
      "\u001b[0;32m~/miniconda3/envs/sr_env/lib/python3.9/site-packages/ee/data.py\u001b[0m in \u001b[0;36mcomputeValue\u001b[0;34m(obj)\u001b[0m\n\u001b[1;32m    733\u001b[0m     \u001b[0mThe\u001b[0m \u001b[0mresult\u001b[0m \u001b[0mof\u001b[0m \u001b[0mevaluating\u001b[0m \u001b[0mthat\u001b[0m \u001b[0mobject\u001b[0m \u001b[0mon\u001b[0m \u001b[0mthe\u001b[0m \u001b[0mserver\u001b[0m\u001b[0;34m.\u001b[0m\u001b[0;34m\u001b[0m\u001b[0;34m\u001b[0m\u001b[0m\n\u001b[1;32m    734\u001b[0m   \"\"\"\n\u001b[0;32m--> 735\u001b[0;31m   return _execute_cloud_call(\n\u001b[0m\u001b[1;32m    736\u001b[0m       _get_cloud_api_resource().projects().value().compute(\n\u001b[1;32m    737\u001b[0m           \u001b[0mbody\u001b[0m\u001b[0;34m=\u001b[0m\u001b[0;34m{\u001b[0m\u001b[0;34m'expression'\u001b[0m\u001b[0;34m:\u001b[0m \u001b[0mserializer\u001b[0m\u001b[0;34m.\u001b[0m\u001b[0mencode\u001b[0m\u001b[0;34m(\u001b[0m\u001b[0mobj\u001b[0m\u001b[0;34m,\u001b[0m \u001b[0mfor_cloud_api\u001b[0m\u001b[0;34m=\u001b[0m\u001b[0;32mTrue\u001b[0m\u001b[0;34m)\u001b[0m\u001b[0;34m}\u001b[0m\u001b[0;34m,\u001b[0m\u001b[0;34m\u001b[0m\u001b[0;34m\u001b[0m\u001b[0m\n",
      "\u001b[0;32m~/miniconda3/envs/sr_env/lib/python3.9/site-packages/ee/data.py\u001b[0m in \u001b[0;36m_execute_cloud_call\u001b[0;34m(call, num_retries)\u001b[0m\n\u001b[1;32m    330\u001b[0m     \u001b[0;32mreturn\u001b[0m \u001b[0mcall\u001b[0m\u001b[0;34m.\u001b[0m\u001b[0mexecute\u001b[0m\u001b[0;34m(\u001b[0m\u001b[0mnum_retries\u001b[0m\u001b[0;34m=\u001b[0m\u001b[0mnum_retries\u001b[0m\u001b[0;34m)\u001b[0m\u001b[0;34m\u001b[0m\u001b[0;34m\u001b[0m\u001b[0m\n\u001b[1;32m    331\u001b[0m   \u001b[0;32mexcept\u001b[0m \u001b[0mgoogleapiclient\u001b[0m\u001b[0;34m.\u001b[0m\u001b[0merrors\u001b[0m\u001b[0;34m.\u001b[0m\u001b[0mHttpError\u001b[0m \u001b[0;32mas\u001b[0m \u001b[0me\u001b[0m\u001b[0;34m:\u001b[0m\u001b[0;34m\u001b[0m\u001b[0;34m\u001b[0m\u001b[0m\n\u001b[0;32m--> 332\u001b[0;31m     \u001b[0;32mraise\u001b[0m \u001b[0m_translate_cloud_exception\u001b[0m\u001b[0;34m(\u001b[0m\u001b[0me\u001b[0m\u001b[0;34m)\u001b[0m\u001b[0;34m\u001b[0m\u001b[0;34m\u001b[0m\u001b[0m\n\u001b[0m\u001b[1;32m    333\u001b[0m \u001b[0;34m\u001b[0m\u001b[0m\n\u001b[1;32m    334\u001b[0m \u001b[0;34m\u001b[0m\u001b[0m\n",
      "\u001b[0;31mEEException\u001b[0m: Computation timed out."
     ]
    }
   ],
   "source": [
    "catch_list = np.genfromtxt(f'{work_dir}/output/gsim_aus_catch_id_list_lo_sel.txt',dtype='str')[0:3]\n",
    "start_date='1990-01-01'\n",
    "work_dir_list = [work_dir]*len(catch_list)\n",
    "start_date_list = [start_date]*len(catch_list)\n",
    "\n",
    "ee_chirps_parallel(catch_list,start_date_list,work_dir_list)"
   ]
  },
  {
   "cell_type": "code",
   "execution_count": 6,
   "id": "75df58c9-156c-4105-8c05-1ab60def149b",
   "metadata": {},
   "outputs": [
    {
     "ename": "EEException",
     "evalue": "Computation timed out.",
     "output_type": "error",
     "traceback": [
      "\u001b[0;31m---------------------------------------------------------------------------\u001b[0m",
      "\u001b[0;31mHttpError\u001b[0m                                 Traceback (most recent call last)",
      "\u001b[0;32m~/miniconda3/envs/sr_env/lib/python3.9/site-packages/ee/data.py\u001b[0m in \u001b[0;36m_execute_cloud_call\u001b[0;34m(call, num_retries)\u001b[0m\n\u001b[1;32m    329\u001b[0m   \u001b[0;32mtry\u001b[0m\u001b[0;34m:\u001b[0m\u001b[0;34m\u001b[0m\u001b[0;34m\u001b[0m\u001b[0m\n\u001b[0;32m--> 330\u001b[0;31m     \u001b[0;32mreturn\u001b[0m \u001b[0mcall\u001b[0m\u001b[0;34m.\u001b[0m\u001b[0mexecute\u001b[0m\u001b[0;34m(\u001b[0m\u001b[0mnum_retries\u001b[0m\u001b[0;34m=\u001b[0m\u001b[0mnum_retries\u001b[0m\u001b[0;34m)\u001b[0m\u001b[0;34m\u001b[0m\u001b[0;34m\u001b[0m\u001b[0m\n\u001b[0m\u001b[1;32m    331\u001b[0m   \u001b[0;32mexcept\u001b[0m \u001b[0mgoogleapiclient\u001b[0m\u001b[0;34m.\u001b[0m\u001b[0merrors\u001b[0m\u001b[0;34m.\u001b[0m\u001b[0mHttpError\u001b[0m \u001b[0;32mas\u001b[0m \u001b[0me\u001b[0m\u001b[0;34m:\u001b[0m\u001b[0;34m\u001b[0m\u001b[0;34m\u001b[0m\u001b[0m\n",
      "\u001b[0;32m~/miniconda3/envs/sr_env/lib/python3.9/site-packages/googleapiclient/_helpers.py\u001b[0m in \u001b[0;36mpositional_wrapper\u001b[0;34m(*args, **kwargs)\u001b[0m\n\u001b[1;32m    133\u001b[0m                     \u001b[0mlogger\u001b[0m\u001b[0;34m.\u001b[0m\u001b[0mwarning\u001b[0m\u001b[0;34m(\u001b[0m\u001b[0mmessage\u001b[0m\u001b[0;34m)\u001b[0m\u001b[0;34m\u001b[0m\u001b[0;34m\u001b[0m\u001b[0m\n\u001b[0;32m--> 134\u001b[0;31m             \u001b[0;32mreturn\u001b[0m \u001b[0mwrapped\u001b[0m\u001b[0;34m(\u001b[0m\u001b[0;34m*\u001b[0m\u001b[0margs\u001b[0m\u001b[0;34m,\u001b[0m \u001b[0;34m**\u001b[0m\u001b[0mkwargs\u001b[0m\u001b[0;34m)\u001b[0m\u001b[0;34m\u001b[0m\u001b[0;34m\u001b[0m\u001b[0m\n\u001b[0m\u001b[1;32m    135\u001b[0m \u001b[0;34m\u001b[0m\u001b[0m\n",
      "\u001b[0;32m~/miniconda3/envs/sr_env/lib/python3.9/site-packages/googleapiclient/http.py\u001b[0m in \u001b[0;36mexecute\u001b[0;34m(self, http, num_retries)\u001b[0m\n\u001b[1;32m    914\u001b[0m         \u001b[0;32mif\u001b[0m \u001b[0mresp\u001b[0m\u001b[0;34m.\u001b[0m\u001b[0mstatus\u001b[0m \u001b[0;34m>=\u001b[0m \u001b[0;36m300\u001b[0m\u001b[0;34m:\u001b[0m\u001b[0;34m\u001b[0m\u001b[0;34m\u001b[0m\u001b[0m\n\u001b[0;32m--> 915\u001b[0;31m             \u001b[0;32mraise\u001b[0m \u001b[0mHttpError\u001b[0m\u001b[0;34m(\u001b[0m\u001b[0mresp\u001b[0m\u001b[0;34m,\u001b[0m \u001b[0mcontent\u001b[0m\u001b[0;34m,\u001b[0m \u001b[0muri\u001b[0m\u001b[0;34m=\u001b[0m\u001b[0mself\u001b[0m\u001b[0;34m.\u001b[0m\u001b[0muri\u001b[0m\u001b[0;34m)\u001b[0m\u001b[0;34m\u001b[0m\u001b[0;34m\u001b[0m\u001b[0m\n\u001b[0m\u001b[1;32m    916\u001b[0m         \u001b[0;32mreturn\u001b[0m \u001b[0mself\u001b[0m\u001b[0;34m.\u001b[0m\u001b[0mpostproc\u001b[0m\u001b[0;34m(\u001b[0m\u001b[0mresp\u001b[0m\u001b[0;34m,\u001b[0m \u001b[0mcontent\u001b[0m\u001b[0;34m)\u001b[0m\u001b[0;34m\u001b[0m\u001b[0;34m\u001b[0m\u001b[0m\n",
      "\u001b[0;31mHttpError\u001b[0m: <HttpError 400 when requesting https://earthengine.googleapis.com/v1alpha/projects/earthengine-legacy/value:compute?prettyPrint=false&alt=json returned \"Computation timed out.\". Details: \"Computation timed out.\">",
      "\nDuring handling of the above exception, another exception occurred:\n",
      "\u001b[0;31mEEException\u001b[0m                               Traceback (most recent call last)",
      "\u001b[0;32m/tmp/ipykernel_985598/3315585468.py\u001b[0m in \u001b[0;36m<module>\u001b[0;34m\u001b[0m\n\u001b[1;32m      4\u001b[0m \u001b[0mstart_date_list\u001b[0m \u001b[0;34m=\u001b[0m \u001b[0;34m[\u001b[0m\u001b[0mstart_date\u001b[0m\u001b[0;34m]\u001b[0m\u001b[0;34m*\u001b[0m\u001b[0mlen\u001b[0m\u001b[0;34m(\u001b[0m\u001b[0mcatch_list\u001b[0m\u001b[0;34m)\u001b[0m\u001b[0;34m\u001b[0m\u001b[0;34m\u001b[0m\u001b[0m\n\u001b[1;32m      5\u001b[0m \u001b[0;34m\u001b[0m\u001b[0m\n\u001b[0;32m----> 6\u001b[0;31m \u001b[0mee_chirps_parallel\u001b[0m\u001b[0;34m(\u001b[0m\u001b[0mcatch_list\u001b[0m\u001b[0;34m,\u001b[0m\u001b[0mstart_date_list\u001b[0m\u001b[0;34m,\u001b[0m\u001b[0mwork_dir_list\u001b[0m\u001b[0;34m)\u001b[0m\u001b[0;34m\u001b[0m\u001b[0;34m\u001b[0m\u001b[0m\n\u001b[0m",
      "\u001b[0;32m~/global_sr_module/f_earth_engine.py\u001b[0m in \u001b[0;36mee_chirps_parallel\u001b[0;34m(catch_list, start_date_list, work_dir_list, threads)\u001b[0m\n\u001b[1;32m    415\u001b[0m         \u001b[0mpool\u001b[0m \u001b[0;34m=\u001b[0m \u001b[0mPool\u001b[0m\u001b[0;34m(\u001b[0m\u001b[0mnodes\u001b[0m\u001b[0;34m=\u001b[0m\u001b[0mthreads\u001b[0m\u001b[0;34m)\u001b[0m\u001b[0;34m\u001b[0m\u001b[0;34m\u001b[0m\u001b[0m\n\u001b[1;32m    416\u001b[0m     \u001b[0;31m# Run parallel models\u001b[0m\u001b[0;34m\u001b[0m\u001b[0;34m\u001b[0m\u001b[0m\n\u001b[0;32m--> 417\u001b[0;31m     results = pool.map(\n\u001b[0m\u001b[1;32m    418\u001b[0m         \u001b[0mee_chirps_timeseries\u001b[0m\u001b[0;34m,\u001b[0m\u001b[0;34m\u001b[0m\u001b[0;34m\u001b[0m\u001b[0m\n\u001b[1;32m    419\u001b[0m         \u001b[0mcatch_list\u001b[0m\u001b[0;34m,\u001b[0m\u001b[0;34m\u001b[0m\u001b[0;34m\u001b[0m\u001b[0m\n",
      "\u001b[0;32m~/miniconda3/envs/sr_env/lib/python3.9/site-packages/pathos/threading.py\u001b[0m in \u001b[0;36mmap\u001b[0;34m(self, f, *args, **kwds)\u001b[0m\n\u001b[1;32m    134\u001b[0m         \u001b[0mAbstractWorkerPool\u001b[0m\u001b[0;34m.\u001b[0m\u001b[0m_AbstractWorkerPool__map\u001b[0m\u001b[0;34m(\u001b[0m\u001b[0mself\u001b[0m\u001b[0;34m,\u001b[0m \u001b[0mf\u001b[0m\u001b[0;34m,\u001b[0m \u001b[0;34m*\u001b[0m\u001b[0margs\u001b[0m\u001b[0;34m,\u001b[0m \u001b[0;34m**\u001b[0m\u001b[0mkwds\u001b[0m\u001b[0;34m)\u001b[0m\u001b[0;34m\u001b[0m\u001b[0;34m\u001b[0m\u001b[0m\n\u001b[1;32m    135\u001b[0m         \u001b[0m_pool\u001b[0m \u001b[0;34m=\u001b[0m \u001b[0mself\u001b[0m\u001b[0;34m.\u001b[0m\u001b[0m_serve\u001b[0m\u001b[0;34m(\u001b[0m\u001b[0;34m)\u001b[0m\u001b[0;34m\u001b[0m\u001b[0;34m\u001b[0m\u001b[0m\n\u001b[0;32m--> 136\u001b[0;31m         \u001b[0;32mreturn\u001b[0m \u001b[0m_pool\u001b[0m\u001b[0;34m.\u001b[0m\u001b[0mmap\u001b[0m\u001b[0;34m(\u001b[0m\u001b[0mstar\u001b[0m\u001b[0;34m(\u001b[0m\u001b[0mf\u001b[0m\u001b[0;34m)\u001b[0m\u001b[0;34m,\u001b[0m \u001b[0mzip\u001b[0m\u001b[0;34m(\u001b[0m\u001b[0;34m*\u001b[0m\u001b[0margs\u001b[0m\u001b[0;34m)\u001b[0m\u001b[0;34m)\u001b[0m \u001b[0;31m# chunksize\u001b[0m\u001b[0;34m\u001b[0m\u001b[0;34m\u001b[0m\u001b[0m\n\u001b[0m\u001b[1;32m    137\u001b[0m     \u001b[0mmap\u001b[0m\u001b[0;34m.\u001b[0m\u001b[0m__doc__\u001b[0m \u001b[0;34m=\u001b[0m \u001b[0mAbstractWorkerPool\u001b[0m\u001b[0;34m.\u001b[0m\u001b[0mmap\u001b[0m\u001b[0;34m.\u001b[0m\u001b[0m__doc__\u001b[0m\u001b[0;34m\u001b[0m\u001b[0;34m\u001b[0m\u001b[0m\n\u001b[1;32m    138\u001b[0m     \u001b[0;32mdef\u001b[0m \u001b[0mimap\u001b[0m\u001b[0;34m(\u001b[0m\u001b[0mself\u001b[0m\u001b[0;34m,\u001b[0m \u001b[0mf\u001b[0m\u001b[0;34m,\u001b[0m \u001b[0;34m*\u001b[0m\u001b[0margs\u001b[0m\u001b[0;34m,\u001b[0m \u001b[0;34m**\u001b[0m\u001b[0mkwds\u001b[0m\u001b[0;34m)\u001b[0m\u001b[0;34m:\u001b[0m\u001b[0;34m\u001b[0m\u001b[0;34m\u001b[0m\u001b[0m\n",
      "\u001b[0;32m~/miniconda3/envs/sr_env/lib/python3.9/site-packages/multiprocess/pool.py\u001b[0m in \u001b[0;36mmap\u001b[0;34m(self, func, iterable, chunksize)\u001b[0m\n\u001b[1;32m    362\u001b[0m         \u001b[0;32min\u001b[0m \u001b[0ma\u001b[0m \u001b[0mlist\u001b[0m \u001b[0mthat\u001b[0m \u001b[0;32mis\u001b[0m \u001b[0mreturned\u001b[0m\u001b[0;34m.\u001b[0m\u001b[0;34m\u001b[0m\u001b[0;34m\u001b[0m\u001b[0m\n\u001b[1;32m    363\u001b[0m         '''\n\u001b[0;32m--> 364\u001b[0;31m         \u001b[0;32mreturn\u001b[0m \u001b[0mself\u001b[0m\u001b[0;34m.\u001b[0m\u001b[0m_map_async\u001b[0m\u001b[0;34m(\u001b[0m\u001b[0mfunc\u001b[0m\u001b[0;34m,\u001b[0m \u001b[0miterable\u001b[0m\u001b[0;34m,\u001b[0m \u001b[0mmapstar\u001b[0m\u001b[0;34m,\u001b[0m \u001b[0mchunksize\u001b[0m\u001b[0;34m)\u001b[0m\u001b[0;34m.\u001b[0m\u001b[0mget\u001b[0m\u001b[0;34m(\u001b[0m\u001b[0;34m)\u001b[0m\u001b[0;34m\u001b[0m\u001b[0;34m\u001b[0m\u001b[0m\n\u001b[0m\u001b[1;32m    365\u001b[0m \u001b[0;34m\u001b[0m\u001b[0m\n\u001b[1;32m    366\u001b[0m     \u001b[0;32mdef\u001b[0m \u001b[0mstarmap\u001b[0m\u001b[0;34m(\u001b[0m\u001b[0mself\u001b[0m\u001b[0;34m,\u001b[0m \u001b[0mfunc\u001b[0m\u001b[0;34m,\u001b[0m \u001b[0miterable\u001b[0m\u001b[0;34m,\u001b[0m \u001b[0mchunksize\u001b[0m\u001b[0;34m=\u001b[0m\u001b[0;32mNone\u001b[0m\u001b[0;34m)\u001b[0m\u001b[0;34m:\u001b[0m\u001b[0;34m\u001b[0m\u001b[0;34m\u001b[0m\u001b[0m\n",
      "\u001b[0;32m~/miniconda3/envs/sr_env/lib/python3.9/site-packages/multiprocess/pool.py\u001b[0m in \u001b[0;36mget\u001b[0;34m(self, timeout)\u001b[0m\n\u001b[1;32m    769\u001b[0m             \u001b[0;32mreturn\u001b[0m \u001b[0mself\u001b[0m\u001b[0;34m.\u001b[0m\u001b[0m_value\u001b[0m\u001b[0;34m\u001b[0m\u001b[0;34m\u001b[0m\u001b[0m\n\u001b[1;32m    770\u001b[0m         \u001b[0;32melse\u001b[0m\u001b[0;34m:\u001b[0m\u001b[0;34m\u001b[0m\u001b[0;34m\u001b[0m\u001b[0m\n\u001b[0;32m--> 771\u001b[0;31m             \u001b[0;32mraise\u001b[0m \u001b[0mself\u001b[0m\u001b[0;34m.\u001b[0m\u001b[0m_value\u001b[0m\u001b[0;34m\u001b[0m\u001b[0;34m\u001b[0m\u001b[0m\n\u001b[0m\u001b[1;32m    772\u001b[0m \u001b[0;34m\u001b[0m\u001b[0m\n\u001b[1;32m    773\u001b[0m     \u001b[0;32mdef\u001b[0m \u001b[0m_set\u001b[0m\u001b[0;34m(\u001b[0m\u001b[0mself\u001b[0m\u001b[0;34m,\u001b[0m \u001b[0mi\u001b[0m\u001b[0;34m,\u001b[0m \u001b[0mobj\u001b[0m\u001b[0;34m)\u001b[0m\u001b[0;34m:\u001b[0m\u001b[0;34m\u001b[0m\u001b[0;34m\u001b[0m\u001b[0m\n",
      "\u001b[0;32m~/miniconda3/envs/sr_env/lib/python3.9/site-packages/multiprocess/pool.py\u001b[0m in \u001b[0;36mworker\u001b[0;34m(inqueue, outqueue, initializer, initargs, maxtasks, wrap_exception)\u001b[0m\n\u001b[1;32m    123\u001b[0m         \u001b[0mjob\u001b[0m\u001b[0;34m,\u001b[0m \u001b[0mi\u001b[0m\u001b[0;34m,\u001b[0m \u001b[0mfunc\u001b[0m\u001b[0;34m,\u001b[0m \u001b[0margs\u001b[0m\u001b[0;34m,\u001b[0m \u001b[0mkwds\u001b[0m \u001b[0;34m=\u001b[0m \u001b[0mtask\u001b[0m\u001b[0;34m\u001b[0m\u001b[0;34m\u001b[0m\u001b[0m\n\u001b[1;32m    124\u001b[0m         \u001b[0;32mtry\u001b[0m\u001b[0;34m:\u001b[0m\u001b[0;34m\u001b[0m\u001b[0;34m\u001b[0m\u001b[0m\n\u001b[0;32m--> 125\u001b[0;31m             \u001b[0mresult\u001b[0m \u001b[0;34m=\u001b[0m \u001b[0;34m(\u001b[0m\u001b[0;32mTrue\u001b[0m\u001b[0;34m,\u001b[0m \u001b[0mfunc\u001b[0m\u001b[0;34m(\u001b[0m\u001b[0;34m*\u001b[0m\u001b[0margs\u001b[0m\u001b[0;34m,\u001b[0m \u001b[0;34m**\u001b[0m\u001b[0mkwds\u001b[0m\u001b[0;34m)\u001b[0m\u001b[0;34m)\u001b[0m\u001b[0;34m\u001b[0m\u001b[0;34m\u001b[0m\u001b[0m\n\u001b[0m\u001b[1;32m    126\u001b[0m         \u001b[0;32mexcept\u001b[0m \u001b[0mException\u001b[0m \u001b[0;32mas\u001b[0m \u001b[0me\u001b[0m\u001b[0;34m:\u001b[0m\u001b[0;34m\u001b[0m\u001b[0;34m\u001b[0m\u001b[0m\n\u001b[1;32m    127\u001b[0m             \u001b[0;32mif\u001b[0m \u001b[0mwrap_exception\u001b[0m \u001b[0;32mand\u001b[0m \u001b[0mfunc\u001b[0m \u001b[0;32mis\u001b[0m \u001b[0;32mnot\u001b[0m \u001b[0m_helper_reraises_exception\u001b[0m\u001b[0;34m:\u001b[0m\u001b[0;34m\u001b[0m\u001b[0;34m\u001b[0m\u001b[0m\n",
      "\u001b[0;32m~/miniconda3/envs/sr_env/lib/python3.9/site-packages/multiprocess/pool.py\u001b[0m in \u001b[0;36mmapstar\u001b[0;34m(args)\u001b[0m\n\u001b[1;32m     46\u001b[0m \u001b[0;34m\u001b[0m\u001b[0m\n\u001b[1;32m     47\u001b[0m \u001b[0;32mdef\u001b[0m \u001b[0mmapstar\u001b[0m\u001b[0;34m(\u001b[0m\u001b[0margs\u001b[0m\u001b[0;34m)\u001b[0m\u001b[0;34m:\u001b[0m\u001b[0;34m\u001b[0m\u001b[0;34m\u001b[0m\u001b[0m\n\u001b[0;32m---> 48\u001b[0;31m     \u001b[0;32mreturn\u001b[0m \u001b[0mlist\u001b[0m\u001b[0;34m(\u001b[0m\u001b[0mmap\u001b[0m\u001b[0;34m(\u001b[0m\u001b[0;34m*\u001b[0m\u001b[0margs\u001b[0m\u001b[0;34m)\u001b[0m\u001b[0;34m)\u001b[0m\u001b[0;34m\u001b[0m\u001b[0;34m\u001b[0m\u001b[0m\n\u001b[0m\u001b[1;32m     49\u001b[0m \u001b[0;34m\u001b[0m\u001b[0m\n\u001b[1;32m     50\u001b[0m \u001b[0;32mdef\u001b[0m \u001b[0mstarmapstar\u001b[0m\u001b[0;34m(\u001b[0m\u001b[0margs\u001b[0m\u001b[0;34m)\u001b[0m\u001b[0;34m:\u001b[0m\u001b[0;34m\u001b[0m\u001b[0;34m\u001b[0m\u001b[0m\n",
      "\u001b[0;32m~/miniconda3/envs/sr_env/lib/python3.9/site-packages/pathos/helpers/mp_helper.py\u001b[0m in \u001b[0;36m<lambda>\u001b[0;34m(args)\u001b[0m\n\u001b[1;32m     13\u001b[0m \u001b[0;32mdef\u001b[0m \u001b[0mstarargs\u001b[0m\u001b[0;34m(\u001b[0m\u001b[0mf\u001b[0m\u001b[0;34m)\u001b[0m\u001b[0;34m:\u001b[0m\u001b[0;34m\u001b[0m\u001b[0;34m\u001b[0m\u001b[0m\n\u001b[1;32m     14\u001b[0m     \u001b[0;34m\"\"\"decorator to convert a many-arg function to a single-arg function\"\"\"\u001b[0m\u001b[0;34m\u001b[0m\u001b[0;34m\u001b[0m\u001b[0m\n\u001b[0;32m---> 15\u001b[0;31m     \u001b[0mfunc\u001b[0m \u001b[0;34m=\u001b[0m \u001b[0;32mlambda\u001b[0m \u001b[0margs\u001b[0m\u001b[0;34m:\u001b[0m \u001b[0mf\u001b[0m\u001b[0;34m(\u001b[0m\u001b[0;34m*\u001b[0m\u001b[0margs\u001b[0m\u001b[0;34m)\u001b[0m\u001b[0;34m\u001b[0m\u001b[0;34m\u001b[0m\u001b[0m\n\u001b[0m\u001b[1;32m     16\u001b[0m    \u001b[0;31m#func.__module__ = f.__module__\u001b[0m\u001b[0;34m\u001b[0m\u001b[0;34m\u001b[0m\u001b[0m\n\u001b[1;32m     17\u001b[0m    \u001b[0;31m#func.__name__ = f.__name__\u001b[0m\u001b[0;34m\u001b[0m\u001b[0;34m\u001b[0m\u001b[0m\n",
      "\u001b[0;32m~/global_sr_module/f_earth_engine.py\u001b[0m in \u001b[0;36mee_chirps_timeseries\u001b[0;34m(catch_id, start_date, work_dir)\u001b[0m\n\u001b[1;32m    391\u001b[0m     \u001b[0mp_stat_fc\u001b[0m \u001b[0;34m=\u001b[0m \u001b[0mee\u001b[0m\u001b[0;34m.\u001b[0m\u001b[0mFeatureCollection\u001b[0m\u001b[0;34m(\u001b[0m\u001b[0mp\u001b[0m\u001b[0;34m.\u001b[0m\u001b[0mmap\u001b[0m\u001b[0;34m(\u001b[0m\u001b[0mreduce_p\u001b[0m\u001b[0;34m)\u001b[0m\u001b[0;34m)\u001b[0m\u001b[0;34m.\u001b[0m\u001b[0mfilter\u001b[0m\u001b[0;34m(\u001b[0m\u001b[0mee\u001b[0m\u001b[0;34m.\u001b[0m\u001b[0mFilter\u001b[0m\u001b[0;34m.\u001b[0m\u001b[0mnotNull\u001b[0m\u001b[0;34m(\u001b[0m\u001b[0mp\u001b[0m\u001b[0;34m.\u001b[0m\u001b[0mfirst\u001b[0m\u001b[0;34m(\u001b[0m\u001b[0;34m)\u001b[0m\u001b[0;34m.\u001b[0m\u001b[0mbandNames\u001b[0m\u001b[0;34m(\u001b[0m\u001b[0;34m)\u001b[0m\u001b[0;34m)\u001b[0m\u001b[0;34m)\u001b[0m\u001b[0;34m\u001b[0m\u001b[0;34m\u001b[0m\u001b[0m\n\u001b[1;32m    392\u001b[0m \u001b[0;34m\u001b[0m\u001b[0m\n\u001b[0;32m--> 393\u001b[0;31m     \u001b[0mp_dict\u001b[0m \u001b[0;34m=\u001b[0m \u001b[0mwrite_dict\u001b[0m\u001b[0;34m(\u001b[0m\u001b[0mp_stat_fc\u001b[0m\u001b[0;34m)\u001b[0m\u001b[0;34m.\u001b[0m\u001b[0mgetInfo\u001b[0m\u001b[0;34m(\u001b[0m\u001b[0;34m)\u001b[0m\u001b[0;34m\u001b[0m\u001b[0;34m\u001b[0m\u001b[0m\n\u001b[0m\u001b[1;32m    394\u001b[0m     \u001b[0mp_df\u001b[0m \u001b[0;34m=\u001b[0m \u001b[0mpd\u001b[0m\u001b[0;34m.\u001b[0m\u001b[0mDataFrame\u001b[0m\u001b[0;34m(\u001b[0m\u001b[0mp_dict\u001b[0m\u001b[0;34m)\u001b[0m\u001b[0;34m\u001b[0m\u001b[0;34m\u001b[0m\u001b[0m\n\u001b[1;32m    395\u001b[0m \u001b[0;34m\u001b[0m\u001b[0m\n",
      "\u001b[0;32m~/miniconda3/envs/sr_env/lib/python3.9/site-packages/ee/computedobject.py\u001b[0m in \u001b[0;36mgetInfo\u001b[0;34m(self)\u001b[0m\n\u001b[1;32m     96\u001b[0m       \u001b[0mThe\u001b[0m \u001b[0mobject\u001b[0m \u001b[0mcan\u001b[0m \u001b[0mevaluate\u001b[0m \u001b[0mto\u001b[0m \u001b[0manything\u001b[0m\u001b[0;34m.\u001b[0m\u001b[0;34m\u001b[0m\u001b[0;34m\u001b[0m\u001b[0m\n\u001b[1;32m     97\u001b[0m     \"\"\"\n\u001b[0;32m---> 98\u001b[0;31m     \u001b[0;32mreturn\u001b[0m \u001b[0mdata\u001b[0m\u001b[0;34m.\u001b[0m\u001b[0mcomputeValue\u001b[0m\u001b[0;34m(\u001b[0m\u001b[0mself\u001b[0m\u001b[0;34m)\u001b[0m\u001b[0;34m\u001b[0m\u001b[0;34m\u001b[0m\u001b[0m\n\u001b[0m\u001b[1;32m     99\u001b[0m \u001b[0;34m\u001b[0m\u001b[0m\n\u001b[1;32m    100\u001b[0m   \u001b[0;32mdef\u001b[0m \u001b[0mencode\u001b[0m\u001b[0;34m(\u001b[0m\u001b[0mself\u001b[0m\u001b[0;34m,\u001b[0m \u001b[0mencoder\u001b[0m\u001b[0;34m)\u001b[0m\u001b[0;34m:\u001b[0m\u001b[0;34m\u001b[0m\u001b[0;34m\u001b[0m\u001b[0m\n",
      "\u001b[0;32m~/miniconda3/envs/sr_env/lib/python3.9/site-packages/ee/data.py\u001b[0m in \u001b[0;36mcomputeValue\u001b[0;34m(obj)\u001b[0m\n\u001b[1;32m    733\u001b[0m     \u001b[0mThe\u001b[0m \u001b[0mresult\u001b[0m \u001b[0mof\u001b[0m \u001b[0mevaluating\u001b[0m \u001b[0mthat\u001b[0m \u001b[0mobject\u001b[0m \u001b[0mon\u001b[0m \u001b[0mthe\u001b[0m \u001b[0mserver\u001b[0m\u001b[0;34m.\u001b[0m\u001b[0;34m\u001b[0m\u001b[0;34m\u001b[0m\u001b[0m\n\u001b[1;32m    734\u001b[0m   \"\"\"\n\u001b[0;32m--> 735\u001b[0;31m   return _execute_cloud_call(\n\u001b[0m\u001b[1;32m    736\u001b[0m       _get_cloud_api_resource().projects().value().compute(\n\u001b[1;32m    737\u001b[0m           \u001b[0mbody\u001b[0m\u001b[0;34m=\u001b[0m\u001b[0;34m{\u001b[0m\u001b[0;34m'expression'\u001b[0m\u001b[0;34m:\u001b[0m \u001b[0mserializer\u001b[0m\u001b[0;34m.\u001b[0m\u001b[0mencode\u001b[0m\u001b[0;34m(\u001b[0m\u001b[0mobj\u001b[0m\u001b[0;34m,\u001b[0m \u001b[0mfor_cloud_api\u001b[0m\u001b[0;34m=\u001b[0m\u001b[0;32mTrue\u001b[0m\u001b[0;34m)\u001b[0m\u001b[0;34m}\u001b[0m\u001b[0;34m,\u001b[0m\u001b[0;34m\u001b[0m\u001b[0;34m\u001b[0m\u001b[0m\n",
      "\u001b[0;32m~/miniconda3/envs/sr_env/lib/python3.9/site-packages/ee/data.py\u001b[0m in \u001b[0;36m_execute_cloud_call\u001b[0;34m(call, num_retries)\u001b[0m\n\u001b[1;32m    330\u001b[0m     \u001b[0;32mreturn\u001b[0m \u001b[0mcall\u001b[0m\u001b[0;34m.\u001b[0m\u001b[0mexecute\u001b[0m\u001b[0;34m(\u001b[0m\u001b[0mnum_retries\u001b[0m\u001b[0;34m=\u001b[0m\u001b[0mnum_retries\u001b[0m\u001b[0;34m)\u001b[0m\u001b[0;34m\u001b[0m\u001b[0;34m\u001b[0m\u001b[0m\n\u001b[1;32m    331\u001b[0m   \u001b[0;32mexcept\u001b[0m \u001b[0mgoogleapiclient\u001b[0m\u001b[0;34m.\u001b[0m\u001b[0merrors\u001b[0m\u001b[0;34m.\u001b[0m\u001b[0mHttpError\u001b[0m \u001b[0;32mas\u001b[0m \u001b[0me\u001b[0m\u001b[0;34m:\u001b[0m\u001b[0;34m\u001b[0m\u001b[0;34m\u001b[0m\u001b[0m\n\u001b[0;32m--> 332\u001b[0;31m     \u001b[0;32mraise\u001b[0m \u001b[0m_translate_cloud_exception\u001b[0m\u001b[0;34m(\u001b[0m\u001b[0me\u001b[0m\u001b[0;34m)\u001b[0m\u001b[0;34m\u001b[0m\u001b[0;34m\u001b[0m\u001b[0m\n\u001b[0m\u001b[1;32m    333\u001b[0m \u001b[0;34m\u001b[0m\u001b[0m\n\u001b[1;32m    334\u001b[0m \u001b[0;34m\u001b[0m\u001b[0m\n",
      "\u001b[0;31mEEException\u001b[0m: Computation timed out."
     ]
    }
   ],
   "source": [
    "catch_list = np.genfromtxt(f'{work_dir}/output/gsim_aus_catch_id_list_lo_sel.txt',dtype='str')[0:3]\n",
    "start_date='1993-01-01'\n",
    "work_dir_list = [work_dir]*len(catch_list)\n",
    "start_date_list = [start_date]*len(catch_list)\n",
    "\n",
    "ee_chirps_parallel(catch_list,start_date_list,work_dir_list)"
   ]
  },
  {
   "cell_type": "code",
   "execution_count": null,
   "id": "87e84f40-265c-4de8-b8c3-4599266f73e5",
   "metadata": {},
   "outputs": [],
   "source": [
    "catch_list = np.genfromtxt(f'{work_dir}/output/gsim_aus_catch_id_list_lo_sel.txt',dtype='str')[0:3]\n",
    "start_date='1996-01-01'\n",
    "work_dir_list = [work_dir]*len(catch_list)\n",
    "start_date_list = [start_date]*len(catch_list)\n",
    "\n",
    "ee_chirps_parallel(catch_list,start_date_list,work_dir_list)"
   ]
  },
  {
   "cell_type": "code",
   "execution_count": null,
   "id": "c23ec57a-8735-4ec5-8669-0302d76c8744",
   "metadata": {},
   "outputs": [],
   "source": []
  }
 ],
 "metadata": {
  "kernelspec": {
   "display_name": "Python 3 (ipykernel)",
   "language": "python",
   "name": "python3"
  },
  "language_info": {
   "codemirror_mode": {
    "name": "ipython",
    "version": 3
   },
   "file_extension": ".py",
   "mimetype": "text/x-python",
   "name": "python",
   "nbconvert_exporter": "python",
   "pygments_lexer": "ipython3",
   "version": "3.9.7"
  }
 },
 "nbformat": 4,
 "nbformat_minor": 5
}
