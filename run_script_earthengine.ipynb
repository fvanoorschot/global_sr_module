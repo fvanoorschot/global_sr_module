{
 "cells": [
  {
   "cell_type": "markdown",
   "id": "88aeb366-c2a6-4d8b-aaeb-f258a9b8003d",
   "metadata": {},
   "source": [
    "# Run script - Google Earth Engine "
   ]
  },
  {
   "cell_type": "markdown",
   "id": "2ebe385b-14a0-4e18-b5bb-0e28cd1e70e0",
   "metadata": {},
   "source": [
    "In this script we will gather catchment data from satellite products (e.g. tree cover, NDVI, elevation) using Google Earth Engine (GEE). GEE allows us to directly use satellite data, avoiding the struggle of downloading them. Before using it, you need to create an account: https://signup.earthengine.google.com/#!/\n",
    "\n",
    "This scripts only works in the conda environment **sr_env**. In this environment all required packages are available. If you have **not** installed and activated this environment before opening this script, you should check the installation section in the *README* file. \n"
   ]
  },
  {
   "cell_type": "markdown",
   "id": "7b67728d-0330-4759-ad18-111c2f4502c7",
   "metadata": {},
   "source": [
    "### 1. Getting started\n",
    "First, import all the required packages."
   ]
  },
  {
   "cell_type": "code",
   "execution_count": 1,
   "id": "b2635bf0-42de-4a3b-a107-befcdca86195",
   "metadata": {},
   "outputs": [],
   "source": [
    "# import packages\n",
    "import ee\n",
    "import pandas as pd\n",
    "import numpy as np\n",
    "import matplotlib.pyplot as plt\n",
    "import geopandas as gpd\n",
    "import os\n",
    "import glob\n",
    "from pathlib import Path"
   ]
  },
  {
   "cell_type": "markdown",
   "id": "c68078a0-2ec5-417e-9004-095751417a76",
   "metadata": {},
   "source": [
    "Before using the Earth Engine API or earthengine command line tool, you must perform a one-time authentication that authorizes access to Earth Engine on behalf of your Google account. Below you run the authentication command. A URL will be provided that generates an authorization code upon agreement. Copy the authorization code and enter it in the box below."
   ]
  },
  {
   "cell_type": "code",
   "execution_count": 2,
   "id": "99d331dd-c329-4695-83b2-7944f8f79cc3",
   "metadata": {},
   "outputs": [
    {
     "data": {
      "text/html": [
       "<p>To authorize access needed by Earth Engine, open the following\n",
       "        URL in a web browser and follow the instructions:</p>\n",
       "        <p><a href=https://accounts.google.com/o/oauth2/auth?client_id=517222506229-vsmmajv00ul0bs7p89v5m89qs8eb9359.apps.googleusercontent.com&scope=https%3A%2F%2Fwww.googleapis.com%2Fauth%2Fearthengine+https%3A%2F%2Fwww.googleapis.com%2Fauth%2Fdevstorage.full_control&redirect_uri=urn%3Aietf%3Awg%3Aoauth%3A2.0%3Aoob&response_type=code&code_challenge=7qYndmeTEpkiMexfWWmrDjGEol6awXZtpYSkj2CgQrM&code_challenge_method=S256>https://accounts.google.com/o/oauth2/auth?client_id=517222506229-vsmmajv00ul0bs7p89v5m89qs8eb9359.apps.googleusercontent.com&scope=https%3A%2F%2Fwww.googleapis.com%2Fauth%2Fearthengine+https%3A%2F%2Fwww.googleapis.com%2Fauth%2Fdevstorage.full_control&redirect_uri=urn%3Aietf%3Awg%3Aoauth%3A2.0%3Aoob&response_type=code&code_challenge=7qYndmeTEpkiMexfWWmrDjGEol6awXZtpYSkj2CgQrM&code_challenge_method=S256</a></p>\n",
       "        <p>The authorization workflow will generate a code, which you\n",
       "        should paste in the box below</p>\n",
       "        "
      ],
      "text/plain": [
       "<IPython.core.display.HTML object>"
      ]
     },
     "metadata": {},
     "output_type": "display_data"
    },
    {
     "name": "stdin",
     "output_type": "stream",
     "text": [
      "Enter verification code:  4/1AX4XfWhR8SmpZ90Kjmj347KKskeFUfNu_FKCtepFeWaBmZueOZCP31zn_d8\n"
     ]
    },
    {
     "name": "stdout",
     "output_type": "stream",
     "text": [
      "\n",
      "Successfully saved authorization token.\n"
     ]
    },
    {
     "name": "stderr",
     "output_type": "stream",
     "text": [
      "*** Earth Engine *** Authenticate calls from this Earth Engine Python client will fail after 2022-05-09: please upgrade. https://developers.google.com/earth-engine/guides/python_install\n"
     ]
    }
   ],
   "source": [
    "# Trigger the authentication flow.\n",
    "ee.Authenticate()\n",
    "\n",
    "# Initialize the library.\n",
    "ee.Initialize()"
   ]
  },
  {
   "cell_type": "markdown",
   "id": "9facad22-8802-442a-8629-35fba67e290f",
   "metadata": {},
   "source": [
    "After authentication we can import all the python functions defined in the scripts *f_earth_engine.py*."
   ]
  },
  {
   "cell_type": "code",
   "execution_count": 3,
   "id": "79ca0e4c-1a1b-4859-8630-4a7ffc49b997",
   "metadata": {},
   "outputs": [],
   "source": [
    "from f_earth_engine import *"
   ]
  },
  {
   "cell_type": "markdown",
   "id": "98827a13-1b21-4237-a029-bb48cb4aca16",
   "metadata": {},
   "source": [
    "### 2. Define working directory\n",
    "Here we define the working directory, where all the scripts and data are saved. Make sure that you generate within this working directory the following subdirectories with the data:\\\n",
    "/work_dir/data/forcing/*netcdf forcing files*\\\n",
    "/work_dir/data/shapes/*catchment shapefiles*\\\n",
    "/work_dir/data/gsim_discharge/*gsim discharge timeseries*"
   ]
  },
  {
   "cell_type": "code",
   "execution_count": 4,
   "id": "26d6567f-a5a6-4f07-9b54-98df003f0623",
   "metadata": {},
   "outputs": [
    {
     "data": {
      "text/plain": [
       "'/home/fransjevanoors/global_sr_module/scripts'"
      ]
     },
     "execution_count": 4,
     "metadata": {},
     "output_type": "execute_result"
    }
   ],
   "source": [
    "# Check current working directory (helpful when filling in work_dir below)\n",
    "os.getcwd()"
   ]
  },
  {
   "cell_type": "code",
   "execution_count": 5,
   "id": "6d768f5a-f5f2-4920-89b4-1799aeeacc48",
   "metadata": {},
   "outputs": [],
   "source": [
    "# define your working directory\n",
    "work_dir=Path(\"/work/users/vanoorschot/fransje/scripts/GLOBAL_SR/global_sr_module\")\n",
    "work_dir=Path(\"/home/fransjevanoors/global_sr_module\")"
   ]
  },
  {
   "cell_type": "markdown",
   "id": "5e3d58fc-372c-48d3-9ec0-776109f584d6",
   "metadata": {},
   "source": [
    "### 3. Load your list of catchment IDs\n",
    "Here we load the list of catchments IDs that was generated in the *run_script_main*."
   ]
  },
  {
   "cell_type": "code",
   "execution_count": 6,
   "id": "3ae9973b-a843-42ed-a4a0-f51613773320",
   "metadata": {},
   "outputs": [],
   "source": [
    "catch_id_list = np.genfromtxt(f'{work_dir}/output/catch_id_list.txt',dtype='str')"
   ]
  },
  {
   "cell_type": "markdown",
   "id": "1164bffe-2544-40a4-99cb-426d0039445b",
   "metadata": {},
   "source": [
    "### 4. Earth Engine treecover\n",
    "We are interested in the treecover in a catchment. For this we use the MODIS treecover data (https://modis.gsfc.nasa.gov/data/dataprod/mod44.php). This product includes the percentage tree cover, non tree cover, and bare soil on a 250x250 m grid. Here we regrid the tree cover to a 1x1 km grid (to reduce computational costs), average the values over the time period of interest and extract the catchment statistics (mean, max, min and std).\n",
    "\n",
    "First we create the output directory:"
   ]
  },
  {
   "cell_type": "code",
   "execution_count": 7,
   "id": "0c76b09f-50bc-4cc7-9c8a-092278e66faa",
   "metadata": {},
   "outputs": [],
   "source": [
    "# make output directory\n",
    "if not os.path.exists(f'{work_dir}/output/earth_engine_timeseries/treecover'):\n",
    "    os.makedirs(f'{work_dir}/output/earth_engine_timeseries/treecover')"
   ]
  },
  {
   "cell_type": "markdown",
   "id": "7cfe1fa6-0ee3-4c9b-94c0-b5fda33d8205",
   "metadata": {},
   "source": [
    "Now we run the *preprocess_treecover_data* and *catchment_treecover* functions from the *f_earth_engine.py* script. The output is a dataframe with the treecover statistics for each catchment."
   ]
  },
  {
   "cell_type": "code",
   "execution_count": 8,
   "id": "de93dd08-d8c3-46a6-9be0-440d77f16930",
   "metadata": {},
   "outputs": [],
   "source": [
    "# define your time period\n",
    "start_date = '2000-01-01'\n",
    "end_date = '2020-12-31'\n",
    "\n",
    "# define your directories\n",
    "shape_dir = Path(f'{work_dir}/data/shapes/')\n",
    "out_dir = Path(f'{work_dir}/output/earth_engine_timeseries/treecover')\n",
    "\n",
    "# preprocess your modis satellite data for your time period (interpolation and averaging)\n",
    "(MOD44B_tree_res, MOD44B_nontree_res) = preprocess_treecover_data(start_date,end_date)\n",
    "\n",
    "# loop over catch ids\n",
    "for catch_id in catch_id_list:\n",
    "    # extract catchment values and store in dataframe\n",
    "    catchment_treecover(MOD44B_tree_res, MOD44B_nontree_res, catch_id, shape_dir, out_dir)"
   ]
  },
  {
   "cell_type": "code",
   "execution_count": 17,
   "id": "ff1623ef-db14-494e-bc35-ca42a892bf48",
   "metadata": {},
   "outputs": [
    {
     "data": {
      "text/html": [
       "<div>\n",
       "<style scoped>\n",
       "    .dataframe tbody tr th:only-of-type {\n",
       "        vertical-align: middle;\n",
       "    }\n",
       "\n",
       "    .dataframe tbody tr th {\n",
       "        vertical-align: top;\n",
       "    }\n",
       "\n",
       "    .dataframe thead th {\n",
       "        text-align: right;\n",
       "    }\n",
       "</style>\n",
       "<table border=\"1\" class=\"dataframe\">\n",
       "  <thead>\n",
       "    <tr style=\"text-align: right;\">\n",
       "      <th></th>\n",
       "      <th>max_tc</th>\n",
       "      <th>mean_tc</th>\n",
       "      <th>min_tc</th>\n",
       "      <th>std_tc</th>\n",
       "      <th>max_ntc</th>\n",
       "      <th>mean_ntc</th>\n",
       "      <th>min_ntc</th>\n",
       "      <th>std_ntc</th>\n",
       "      <th>mean_nonveg</th>\n",
       "    </tr>\n",
       "  </thead>\n",
       "  <tbody>\n",
       "    <tr>\n",
       "      <th>br_0000495</th>\n",
       "      <td>40.438792</td>\n",
       "      <td>40.389229</td>\n",
       "      <td>40.329825</td>\n",
       "      <td>0.027467</td>\n",
       "      <td>47.847697</td>\n",
       "      <td>47.804183</td>\n",
       "      <td>47.755285</td>\n",
       "      <td>0.024777</td>\n",
       "      <td>11.806588</td>\n",
       "    </tr>\n",
       "  </tbody>\n",
       "</table>\n",
       "</div>"
      ],
      "text/plain": [
       "               max_tc    mean_tc     min_tc    std_tc    max_ntc   mean_ntc  \\\n",
       "br_0000495  40.438792  40.389229  40.329825  0.027467  47.847697  47.804183   \n",
       "\n",
       "              min_ntc   std_ntc  mean_nonveg  \n",
       "br_0000495  47.755285  0.024777    11.806588  "
      ]
     },
     "execution_count": 17,
     "metadata": {},
     "output_type": "execute_result"
    }
   ],
   "source": [
    "# print treecover statistics for catchment [0] in catch_id_list\n",
    "catch_id = catch_id_list[0]\n",
    "c = pd.read_csv(f'{out_dir}/{catch_id}.csv',index_col=0)\n",
    "c.head()"
   ]
  },
  {
   "cell_type": "code",
   "execution_count": 16,
   "id": "64033b0c-4fd3-44d7-a767-2362ff84add2",
   "metadata": {},
   "outputs": [],
   "source": [
    "# update conda earth engine -> update environment.yml"
   ]
  },
  {
   "cell_type": "code",
   "execution_count": null,
   "id": "6fc497b3-0d84-416d-9d05-7602c4e7a54e",
   "metadata": {},
   "outputs": [],
   "source": []
  }
 ],
 "metadata": {
  "kernelspec": {
   "display_name": "Python 3 (ipykernel)",
   "language": "python",
   "name": "python3"
  },
  "language_info": {
   "codemirror_mode": {
    "name": "ipython",
    "version": 3
   },
   "file_extension": ".py",
   "mimetype": "text/x-python",
   "name": "python",
   "nbconvert_exporter": "python",
   "pygments_lexer": "ipython3",
   "version": "3.9.7"
  }
 },
 "nbformat": 4,
 "nbformat_minor": 5
}
