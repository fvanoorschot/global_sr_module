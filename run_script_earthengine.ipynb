{
 "cells": [
  {
   "cell_type": "markdown",
   "id": "88aeb366-c2a6-4d8b-aaeb-f258a9b8003d",
   "metadata": {},
   "source": [
    "# Run script - Google Earth Engine "
   ]
  },
  {
   "cell_type": "markdown",
   "id": "2ebe385b-14a0-4e18-b5bb-0e28cd1e70e0",
   "metadata": {},
   "source": [
    "In this script we will gather catchment data from satellite products (e.g. tree cover, NDVI, elevation) using Google Earth Engine (GEE). GEE allows us to directly use satellite data, avoiding the struggle of downloading them. Before using it, you need to create an account: https://signup.earthengine.google.com/#!/\n",
    "\n",
    "This scripts only works in the conda environment **sr_env**. In this environment all required packages are available. If you have **not** installed and activated this environment before opening this script, you should check the installation section in the *README* file. \n"
   ]
  },
  {
   "cell_type": "markdown",
   "id": "7b67728d-0330-4759-ad18-111c2f4502c7",
   "metadata": {},
   "source": [
    "### 1. Getting started\n",
    "First, import all the required packages."
   ]
  },
  {
   "cell_type": "code",
   "execution_count": 1,
   "id": "b2635bf0-42de-4a3b-a107-befcdca86195",
   "metadata": {},
   "outputs": [],
   "source": [
    "# import packages\n",
    "import ee\n",
    "import pandas as pd\n",
    "import numpy as np\n",
    "import matplotlib.pyplot as plt\n",
    "import geopandas as gpd\n",
    "import os\n",
    "import glob\n",
    "from pathlib import Path"
   ]
  },
  {
   "cell_type": "markdown",
   "id": "c68078a0-2ec5-417e-9004-095751417a76",
   "metadata": {},
   "source": [
    "Before using the Earth Engine API or earthengine command line tool, you must perform a one-time authentication that authorizes access to Earth Engine on behalf of your Google account. Below you run the authentication command. A URL will be provided that generates an authorization code upon agreement. Copy the authorization code and enter it in the box below."
   ]
  },
  {
   "cell_type": "code",
   "execution_count": 3,
   "id": "99d331dd-c329-4695-83b2-7944f8f79cc3",
   "metadata": {},
   "outputs": [
    {
     "data": {
      "text/html": [
       "<p>To authorize access needed by Earth Engine, open the following\n",
       "        URL in a web browser and follow the instructions:</p>\n",
       "        <p><a href=https://code.earthengine.google.com/client-auth?scopes=https%3A//www.googleapis.com/auth/earthengine%20https%3A//www.googleapis.com/auth/devstorage.full_control&request_id=iVSbrBagS7tSpWc-Wr9zOjhChj-cHWL3SSeod09EqtE&tc=5Xyf0cXvAL0Bwxey-juPHX0NuP8P8vUWoPpKqTKetQY&cc=yNBgvPu0gL2r4kcistgNufhgYjof5i0tWh7vIPYYKIY>https://code.earthengine.google.com/client-auth?scopes=https%3A//www.googleapis.com/auth/earthengine%20https%3A//www.googleapis.com/auth/devstorage.full_control&request_id=iVSbrBagS7tSpWc-Wr9zOjhChj-cHWL3SSeod09EqtE&tc=5Xyf0cXvAL0Bwxey-juPHX0NuP8P8vUWoPpKqTKetQY&cc=yNBgvPu0gL2r4kcistgNufhgYjof5i0tWh7vIPYYKIY</a></p>\n",
       "        <p>The authorization workflow will generate a code, which you should paste in the box below.</p>\n",
       "        "
      ],
      "text/plain": [
       "<IPython.core.display.HTML object>"
      ]
     },
     "metadata": {},
     "output_type": "display_data"
    },
    {
     "name": "stdin",
     "output_type": "stream",
     "text": [
      "Enter verification code:  4/1AdQt8qjr0fdaHHTR5itS34qPrV8REfdU4CLezZoOSovtuMdfCNDtHDi_eHc\n"
     ]
    },
    {
     "ename": "KeyError",
     "evalue": "'client_id'",
     "output_type": "error",
     "traceback": [
      "\u001b[0;31m---------------------------------------------------------------------------\u001b[0m",
      "\u001b[0;31mKeyError\u001b[0m                                  Traceback (most recent call last)",
      "\u001b[0;32m/tmp/ipykernel_53613/2886432879.py\u001b[0m in \u001b[0;36m<module>\u001b[0;34m\u001b[0m\n\u001b[1;32m      1\u001b[0m \u001b[0;31m# Trigger the authentication flow.\u001b[0m\u001b[0;34m\u001b[0m\u001b[0;34m\u001b[0m\u001b[0m\n\u001b[0;32m----> 2\u001b[0;31m \u001b[0mee\u001b[0m\u001b[0;34m.\u001b[0m\u001b[0mAuthenticate\u001b[0m\u001b[0;34m(\u001b[0m\u001b[0;34m)\u001b[0m\u001b[0;34m\u001b[0m\u001b[0;34m\u001b[0m\u001b[0m\n\u001b[0m\u001b[1;32m      3\u001b[0m \u001b[0;34m\u001b[0m\u001b[0m\n\u001b[1;32m      4\u001b[0m \u001b[0;31m# Initialize the library.\u001b[0m\u001b[0;34m\u001b[0m\u001b[0;34m\u001b[0m\u001b[0m\n\u001b[1;32m      5\u001b[0m \u001b[0mee\u001b[0m\u001b[0;34m.\u001b[0m\u001b[0mInitialize\u001b[0m\u001b[0;34m(\u001b[0m\u001b[0;34m)\u001b[0m\u001b[0;34m\u001b[0m\u001b[0;34m\u001b[0m\u001b[0m\n",
      "\u001b[0;32m~/miniconda3/envs/sr_env/lib/python3.9/site-packages/ee/__init__.py\u001b[0m in \u001b[0;36mAuthenticate\u001b[0;34m(authorization_code, quiet, code_verifier, auth_mode, scopes)\u001b[0m\n\u001b[1;32m    102\u001b[0m      \u001b[0;34m(\u001b[0m\u001b[0mauth_url\u001b[0m\u001b[0;34m,\u001b[0m \u001b[0mcode_verifier\u001b[0m\u001b[0;34m)\u001b[0m \u001b[0mwhen\u001b[0m \u001b[0mcalled\u001b[0m \u001b[0;32mwith\u001b[0m \u001b[0mquiet\u001b[0m\u001b[0;34m=\u001b[0m\u001b[0;34m'init_only'\u001b[0m\u001b[0;34m\u001b[0m\u001b[0;34m\u001b[0m\u001b[0m\n\u001b[1;32m    103\u001b[0m   \"\"\"\n\u001b[0;32m--> 104\u001b[0;31m   return oauth.authenticate(authorization_code, quiet, code_verifier, auth_mode,\n\u001b[0m\u001b[1;32m    105\u001b[0m                             scopes)\n\u001b[1;32m    106\u001b[0m \u001b[0;34m\u001b[0m\u001b[0m\n",
      "\u001b[0;32m~/miniconda3/envs/sr_env/lib/python3.9/site-packages/ee/oauth.py\u001b[0m in \u001b[0;36mauthenticate\u001b[0;34m(cli_authorization_code, quiet, cli_code_verifier, auth_mode, scopes)\u001b[0m\n\u001b[1;32m    387\u001b[0m     \u001b[0m_open_new_browser\u001b[0m\u001b[0;34m(\u001b[0m\u001b[0mflow\u001b[0m\u001b[0;34m.\u001b[0m\u001b[0mauth_url\u001b[0m\u001b[0;34m)\u001b[0m\u001b[0;34m\u001b[0m\u001b[0;34m\u001b[0m\u001b[0m\n\u001b[1;32m    388\u001b[0m \u001b[0;34m\u001b[0m\u001b[0m\n\u001b[0;32m--> 389\u001b[0;31m   \u001b[0mflow\u001b[0m\u001b[0;34m.\u001b[0m\u001b[0msave_code\u001b[0m\u001b[0;34m(\u001b[0m\u001b[0;34m)\u001b[0m\u001b[0;34m\u001b[0m\u001b[0;34m\u001b[0m\u001b[0m\n\u001b[0m\u001b[1;32m    390\u001b[0m \u001b[0;34m\u001b[0m\u001b[0m\n\u001b[1;32m    391\u001b[0m \u001b[0;34m\u001b[0m\u001b[0m\n",
      "\u001b[0;32m~/miniconda3/envs/sr_env/lib/python3.9/site-packages/ee/oauth.py\u001b[0m in \u001b[0;36msave_code\u001b[0;34m(self, code)\u001b[0m\n\u001b[1;32m    430\u001b[0m       \u001b[0mredirect_uri\u001b[0m \u001b[0;34m=\u001b[0m \u001b[0mself\u001b[0m\u001b[0;34m.\u001b[0m\u001b[0mserver\u001b[0m\u001b[0;34m.\u001b[0m\u001b[0murl\u001b[0m\u001b[0;34m\u001b[0m\u001b[0;34m\u001b[0m\u001b[0m\n\u001b[1;32m    431\u001b[0m       \u001b[0mcode\u001b[0m \u001b[0;34m=\u001b[0m \u001b[0mself\u001b[0m\u001b[0;34m.\u001b[0m\u001b[0mserver\u001b[0m\u001b[0;34m.\u001b[0m\u001b[0mfetch_code\u001b[0m\u001b[0;34m(\u001b[0m\u001b[0;34m)\u001b[0m  \u001b[0;31m# Waits for oauth callback\u001b[0m\u001b[0;34m\u001b[0m\u001b[0;34m\u001b[0m\u001b[0m\n\u001b[0;32m--> 432\u001b[0;31m     \u001b[0m_obtain_and_write_token\u001b[0m\u001b[0;34m(\u001b[0m\u001b[0mcode\u001b[0m\u001b[0;34m,\u001b[0m \u001b[0mself\u001b[0m\u001b[0;34m.\u001b[0m\u001b[0mcode_verifier\u001b[0m\u001b[0;34m,\u001b[0m \u001b[0mself\u001b[0m\u001b[0;34m.\u001b[0m\u001b[0mscopes\u001b[0m\u001b[0;34m,\u001b[0m \u001b[0mredirect_uri\u001b[0m\u001b[0;34m)\u001b[0m\u001b[0;34m\u001b[0m\u001b[0;34m\u001b[0m\u001b[0m\n\u001b[0m\u001b[1;32m    433\u001b[0m \u001b[0;34m\u001b[0m\u001b[0m\n\u001b[1;32m    434\u001b[0m   \u001b[0;32mdef\u001b[0m \u001b[0mdisplay_instructions\u001b[0m\u001b[0;34m(\u001b[0m\u001b[0mself\u001b[0m\u001b[0;34m,\u001b[0m \u001b[0mquiet\u001b[0m\u001b[0;34m=\u001b[0m\u001b[0;32mNone\u001b[0m\u001b[0;34m)\u001b[0m\u001b[0;34m:\u001b[0m\u001b[0;34m\u001b[0m\u001b[0;34m\u001b[0m\u001b[0m\n",
      "\u001b[0;32m~/miniconda3/envs/sr_env/lib/python3.9/site-packages/ee/oauth.py\u001b[0m in \u001b[0;36m_obtain_and_write_token\u001b[0;34m(auth_code, code_verifier, scopes, redirect_uri)\u001b[0m\n\u001b[1;32m    187\u001b[0m     \u001b[0mfetch_client\u001b[0m \u001b[0;34m=\u001b[0m \u001b[0mrequest\u001b[0m\u001b[0;34m.\u001b[0m\u001b[0mRequest\u001b[0m\u001b[0;34m(\u001b[0m\u001b[0mFETCH_URL\u001b[0m\u001b[0;34m,\u001b[0m \u001b[0mdata\u001b[0m\u001b[0;34m=\u001b[0m\u001b[0mdata\u001b[0m\u001b[0;34m,\u001b[0m \u001b[0mheaders\u001b[0m\u001b[0;34m=\u001b[0m\u001b[0mheaders\u001b[0m\u001b[0;34m)\u001b[0m\u001b[0;34m\u001b[0m\u001b[0;34m\u001b[0m\u001b[0m\n\u001b[1;32m    188\u001b[0m     \u001b[0mfetched_info\u001b[0m \u001b[0;34m=\u001b[0m \u001b[0mjson\u001b[0m\u001b[0;34m.\u001b[0m\u001b[0mloads\u001b[0m\u001b[0;34m(\u001b[0m\u001b[0mrequest\u001b[0m\u001b[0;34m.\u001b[0m\u001b[0murlopen\u001b[0m\u001b[0;34m(\u001b[0m\u001b[0mfetch_client\u001b[0m\u001b[0;34m)\u001b[0m\u001b[0;34m.\u001b[0m\u001b[0mread\u001b[0m\u001b[0;34m(\u001b[0m\u001b[0;34m)\u001b[0m\u001b[0;34m.\u001b[0m\u001b[0mdecode\u001b[0m\u001b[0;34m(\u001b[0m\u001b[0;34m)\u001b[0m\u001b[0;34m)\u001b[0m\u001b[0;34m\u001b[0m\u001b[0;34m\u001b[0m\u001b[0m\n\u001b[0;32m--> 189\u001b[0;31m     \u001b[0mclient_info\u001b[0m \u001b[0;34m=\u001b[0m \u001b[0;34m{\u001b[0m\u001b[0mk\u001b[0m\u001b[0;34m:\u001b[0m \u001b[0mfetched_info\u001b[0m\u001b[0;34m[\u001b[0m\u001b[0mk\u001b[0m\u001b[0;34m]\u001b[0m \u001b[0;32mfor\u001b[0m \u001b[0mk\u001b[0m \u001b[0;32min\u001b[0m \u001b[0;34m[\u001b[0m\u001b[0;34m'client_id'\u001b[0m\u001b[0;34m,\u001b[0m \u001b[0;34m'client_secret'\u001b[0m\u001b[0;34m]\u001b[0m\u001b[0;34m}\u001b[0m\u001b[0;34m\u001b[0m\u001b[0;34m\u001b[0m\u001b[0m\n\u001b[0m\u001b[1;32m    190\u001b[0m     \u001b[0mscopes\u001b[0m \u001b[0;34m=\u001b[0m \u001b[0mfetched_info\u001b[0m\u001b[0;34m.\u001b[0m\u001b[0mget\u001b[0m\u001b[0;34m(\u001b[0m\u001b[0;34m'scopes'\u001b[0m\u001b[0;34m)\u001b[0m \u001b[0;32mor\u001b[0m \u001b[0mscopes\u001b[0m\u001b[0;34m\u001b[0m\u001b[0;34m\u001b[0m\u001b[0m\n\u001b[1;32m    191\u001b[0m   \u001b[0mtoken\u001b[0m \u001b[0;34m=\u001b[0m \u001b[0mrequest_token\u001b[0m\u001b[0;34m(\u001b[0m\u001b[0mauth_code\u001b[0m\u001b[0;34m.\u001b[0m\u001b[0mstrip\u001b[0m\u001b[0;34m(\u001b[0m\u001b[0;34m)\u001b[0m\u001b[0;34m,\u001b[0m \u001b[0mcode_verifier\u001b[0m\u001b[0;34m,\u001b[0m \u001b[0;34m**\u001b[0m\u001b[0mclient_info\u001b[0m\u001b[0;34m)\u001b[0m\u001b[0;34m\u001b[0m\u001b[0;34m\u001b[0m\u001b[0m\n",
      "\u001b[0;32m~/miniconda3/envs/sr_env/lib/python3.9/site-packages/ee/oauth.py\u001b[0m in \u001b[0;36m<dictcomp>\u001b[0;34m(.0)\u001b[0m\n\u001b[1;32m    187\u001b[0m     \u001b[0mfetch_client\u001b[0m \u001b[0;34m=\u001b[0m \u001b[0mrequest\u001b[0m\u001b[0;34m.\u001b[0m\u001b[0mRequest\u001b[0m\u001b[0;34m(\u001b[0m\u001b[0mFETCH_URL\u001b[0m\u001b[0;34m,\u001b[0m \u001b[0mdata\u001b[0m\u001b[0;34m=\u001b[0m\u001b[0mdata\u001b[0m\u001b[0;34m,\u001b[0m \u001b[0mheaders\u001b[0m\u001b[0;34m=\u001b[0m\u001b[0mheaders\u001b[0m\u001b[0;34m)\u001b[0m\u001b[0;34m\u001b[0m\u001b[0;34m\u001b[0m\u001b[0m\n\u001b[1;32m    188\u001b[0m     \u001b[0mfetched_info\u001b[0m \u001b[0;34m=\u001b[0m \u001b[0mjson\u001b[0m\u001b[0;34m.\u001b[0m\u001b[0mloads\u001b[0m\u001b[0;34m(\u001b[0m\u001b[0mrequest\u001b[0m\u001b[0;34m.\u001b[0m\u001b[0murlopen\u001b[0m\u001b[0;34m(\u001b[0m\u001b[0mfetch_client\u001b[0m\u001b[0;34m)\u001b[0m\u001b[0;34m.\u001b[0m\u001b[0mread\u001b[0m\u001b[0;34m(\u001b[0m\u001b[0;34m)\u001b[0m\u001b[0;34m.\u001b[0m\u001b[0mdecode\u001b[0m\u001b[0;34m(\u001b[0m\u001b[0;34m)\u001b[0m\u001b[0;34m)\u001b[0m\u001b[0;34m\u001b[0m\u001b[0;34m\u001b[0m\u001b[0m\n\u001b[0;32m--> 189\u001b[0;31m     \u001b[0mclient_info\u001b[0m \u001b[0;34m=\u001b[0m \u001b[0;34m{\u001b[0m\u001b[0mk\u001b[0m\u001b[0;34m:\u001b[0m \u001b[0mfetched_info\u001b[0m\u001b[0;34m[\u001b[0m\u001b[0mk\u001b[0m\u001b[0;34m]\u001b[0m \u001b[0;32mfor\u001b[0m \u001b[0mk\u001b[0m \u001b[0;32min\u001b[0m \u001b[0;34m[\u001b[0m\u001b[0;34m'client_id'\u001b[0m\u001b[0;34m,\u001b[0m \u001b[0;34m'client_secret'\u001b[0m\u001b[0;34m]\u001b[0m\u001b[0;34m}\u001b[0m\u001b[0;34m\u001b[0m\u001b[0;34m\u001b[0m\u001b[0m\n\u001b[0m\u001b[1;32m    190\u001b[0m     \u001b[0mscopes\u001b[0m \u001b[0;34m=\u001b[0m \u001b[0mfetched_info\u001b[0m\u001b[0;34m.\u001b[0m\u001b[0mget\u001b[0m\u001b[0;34m(\u001b[0m\u001b[0;34m'scopes'\u001b[0m\u001b[0;34m)\u001b[0m \u001b[0;32mor\u001b[0m \u001b[0mscopes\u001b[0m\u001b[0;34m\u001b[0m\u001b[0;34m\u001b[0m\u001b[0m\n\u001b[1;32m    191\u001b[0m   \u001b[0mtoken\u001b[0m \u001b[0;34m=\u001b[0m \u001b[0mrequest_token\u001b[0m\u001b[0;34m(\u001b[0m\u001b[0mauth_code\u001b[0m\u001b[0;34m.\u001b[0m\u001b[0mstrip\u001b[0m\u001b[0;34m(\u001b[0m\u001b[0;34m)\u001b[0m\u001b[0;34m,\u001b[0m \u001b[0mcode_verifier\u001b[0m\u001b[0;34m,\u001b[0m \u001b[0;34m**\u001b[0m\u001b[0mclient_info\u001b[0m\u001b[0;34m)\u001b[0m\u001b[0;34m\u001b[0m\u001b[0;34m\u001b[0m\u001b[0m\n",
      "\u001b[0;31mKeyError\u001b[0m: 'client_id'"
     ]
    }
   ],
   "source": [
    "# Trigger the authentication flow.\n",
    "ee.Authenticate()\n",
    "\n",
    "# Initialize the library.\n",
    "ee.Initialize()"
   ]
  },
  {
   "cell_type": "markdown",
   "id": "9facad22-8802-442a-8629-35fba67e290f",
   "metadata": {},
   "source": [
    "After authentication we can import all the python functions defined in the scripts *f_earth_engine.py*."
   ]
  },
  {
   "cell_type": "code",
   "execution_count": 4,
   "id": "79ca0e4c-1a1b-4859-8630-4a7ffc49b997",
   "metadata": {},
   "outputs": [],
   "source": [
    "from f_earth_engine import *"
   ]
  },
  {
   "cell_type": "markdown",
   "id": "98827a13-1b21-4237-a029-bb48cb4aca16",
   "metadata": {},
   "source": [
    "### 2. Define working and data directories\n",
    "Here we define the working directory, where all the scripts and output are saved.\n",
    "\n",
    "We also define the data directory where you have the following subdirectories:\n",
    "\n",
    "/data/forcing/*netcdf forcing files*\\\n",
    "/data/shapes/*catchment shapefiles*\\\n",
    "/data/gsim_discharge/*gsim discharge timeseries*"
   ]
  },
  {
   "cell_type": "code",
   "execution_count": 5,
   "id": "26d6567f-a5a6-4f07-9b54-98df003f0623",
   "metadata": {},
   "outputs": [
    {
     "data": {
      "text/plain": [
       "'/work/users/vanoorschot/fransje/scripts/GLOBAL_SR/global_sr_module/scripts'"
      ]
     },
     "execution_count": 5,
     "metadata": {},
     "output_type": "execute_result"
    }
   ],
   "source": [
    "# Check current working directory (helpful when filling in work_dir below)\n",
    "os.getcwd()"
   ]
  },
  {
   "cell_type": "code",
   "execution_count": 6,
   "id": "6d768f5a-f5f2-4920-89b4-1799aeeacc48",
   "metadata": {},
   "outputs": [],
   "source": [
    "# define your script working directory\n",
    "# work_dir=Path(\"/home/fransjevanoors/global_sr_module\")\n",
    "work_dir=Path(\"/work/users/vanoorschot/fransje/scripts/GLOBAL_SR/global_sr_module\")\n",
    "# define your data directory\n",
    "data_dir=Path(\"/work/users/vanoorschot/fransje/scripts/GLOBAL_SR/global_sr_module/data\")"
   ]
  },
  {
   "cell_type": "markdown",
   "id": "5e3d58fc-372c-48d3-9ec0-776109f584d6",
   "metadata": {},
   "source": [
    "### 3. Load your list of catchment IDs\n",
    "Here we load the list of catchments IDs that was generated in the *run_script_main*."
   ]
  },
  {
   "cell_type": "code",
   "execution_count": 7,
   "id": "3ae9973b-a843-42ed-a4a0-f51613773320",
   "metadata": {},
   "outputs": [],
   "source": [
    "catch_id_list = np.genfromtxt(f'{work_dir}/output/catch_id_list.txt',dtype='str')"
   ]
  },
  {
   "cell_type": "markdown",
   "id": "1164bffe-2544-40a4-99cb-426d0039445b",
   "metadata": {},
   "source": [
    "### 4. Earth Engine treecover\n",
    "We are interested in the treecover in a catchment. For this we use the MODIS treecover data (https://modis.gsfc.nasa.gov/data/dataprod/mod44.php). This product includes the percentage tree cover, non tree cover, and bare soil on a 250x250 m grid. Here we regrid the tree cover to a 1x1 km grid (to reduce computational costs), average the values over the time period of interest and extract the catchment statistics (mean, max, min and std).\n",
    "\n",
    "First we create the output directory:"
   ]
  },
  {
   "cell_type": "code",
   "execution_count": 8,
   "id": "0c76b09f-50bc-4cc7-9c8a-092278e66faa",
   "metadata": {},
   "outputs": [],
   "source": [
    "# make output directory\n",
    "if not os.path.exists(f'{work_dir}/output/earth_engine_timeseries/treecover'):\n",
    "    os.makedirs(f'{work_dir}/output/earth_engine_timeseries/treecover')"
   ]
  },
  {
   "cell_type": "markdown",
   "id": "7cfe1fa6-0ee3-4c9b-94c0-b5fda33d8205",
   "metadata": {},
   "source": [
    "Now we run the *preprocess_treecover_data* and *catchment_treecover* functions from the *f_earth_engine.py* script. The output is a dataframe with the treecover statistics for each catchment."
   ]
  },
  {
   "cell_type": "code",
   "execution_count": 9,
   "id": "de93dd08-d8c3-46a6-9be0-440d77f16930",
   "metadata": {},
   "outputs": [],
   "source": [
    "# define your time period\n",
    "start_date = '2000-01-01'\n",
    "end_date = '2020-12-31'\n",
    "\n",
    "# define your directories\n",
    "shape_dir = Path(f'{data_dir}/shapes/')\n",
    "out_dir = Path(f'{work_dir}/output/earth_engine_timeseries/treecover')\n",
    "\n",
    "# preprocess your modis satellite data for your time period (interpolation and averaging)\n",
    "(MOD44B_tree_res, MOD44B_nontree_res) = preprocess_treecover_data(start_date,end_date)\n",
    "\n",
    "# loop over catch ids\n",
    "for catch_id in catch_id_list:\n",
    "    # extract catchment values and store in dataframe\n",
    "    catchment_treecover(MOD44B_tree_res, MOD44B_nontree_res, catch_id, shape_dir, out_dir)"
   ]
  },
  {
   "cell_type": "code",
   "execution_count": 10,
   "id": "ff1623ef-db14-494e-bc35-ca42a892bf48",
   "metadata": {},
   "outputs": [
    {
     "data": {
      "text/html": [
       "<div>\n",
       "<style scoped>\n",
       "    .dataframe tbody tr th:only-of-type {\n",
       "        vertical-align: middle;\n",
       "    }\n",
       "\n",
       "    .dataframe tbody tr th {\n",
       "        vertical-align: top;\n",
       "    }\n",
       "\n",
       "    .dataframe thead th {\n",
       "        text-align: right;\n",
       "    }\n",
       "</style>\n",
       "<table border=\"1\" class=\"dataframe\">\n",
       "  <thead>\n",
       "    <tr style=\"text-align: right;\">\n",
       "      <th></th>\n",
       "      <th>max_tc</th>\n",
       "      <th>mean_tc</th>\n",
       "      <th>min_tc</th>\n",
       "      <th>std_tc</th>\n",
       "      <th>max_ntc</th>\n",
       "      <th>mean_ntc</th>\n",
       "      <th>min_ntc</th>\n",
       "      <th>std_ntc</th>\n",
       "      <th>mean_nonveg</th>\n",
       "    </tr>\n",
       "  </thead>\n",
       "  <tbody>\n",
       "    <tr>\n",
       "      <th>br_0000495</th>\n",
       "      <td>40.438792</td>\n",
       "      <td>40.389229</td>\n",
       "      <td>40.329825</td>\n",
       "      <td>0.027467</td>\n",
       "      <td>47.847697</td>\n",
       "      <td>47.804183</td>\n",
       "      <td>47.755285</td>\n",
       "      <td>0.024777</td>\n",
       "      <td>11.806588</td>\n",
       "    </tr>\n",
       "  </tbody>\n",
       "</table>\n",
       "</div>"
      ],
      "text/plain": [
       "               max_tc    mean_tc     min_tc    std_tc    max_ntc   mean_ntc  \\\n",
       "br_0000495  40.438792  40.389229  40.329825  0.027467  47.847697  47.804183   \n",
       "\n",
       "              min_ntc   std_ntc  mean_nonveg  \n",
       "br_0000495  47.755285  0.024777    11.806588  "
      ]
     },
     "execution_count": 10,
     "metadata": {},
     "output_type": "execute_result"
    }
   ],
   "source": [
    "# print treecover statistics for catchment [0] in catch_id_list\n",
    "catch_id = catch_id_list[0]\n",
    "c = pd.read_csv(f'{out_dir}/{catch_id}.csv',index_col=0)\n",
    "c.head()"
   ]
  },
  {
   "cell_type": "code",
   "execution_count": 16,
   "id": "64033b0c-4fd3-44d7-a767-2362ff84add2",
   "metadata": {},
   "outputs": [],
   "source": [
    "# update conda earth engine -> update environment.yml"
   ]
  },
  {
   "cell_type": "code",
   "execution_count": null,
   "id": "6fc497b3-0d84-416d-9d05-7602c4e7a54e",
   "metadata": {},
   "outputs": [],
   "source": []
  }
 ],
 "metadata": {
  "kernelspec": {
   "display_name": "Python 3 (ipykernel)",
   "language": "python",
   "name": "python3"
  },
  "language_info": {
   "codemirror_mode": {
    "name": "ipython",
    "version": 3
   },
   "file_extension": ".py",
   "mimetype": "text/x-python",
   "name": "python",
   "nbconvert_exporter": "python",
   "pygments_lexer": "ipython3",
   "version": "3.9.7"
  }
 },
 "nbformat": 4,
 "nbformat_minor": 5
}
