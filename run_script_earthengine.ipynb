{
 "cells": [
  {
   "cell_type": "markdown",
   "id": "88aeb366-c2a6-4d8b-aaeb-f258a9b8003d",
   "metadata": {},
   "source": [
    "# Run script - Google Earth Engine "
   ]
  },
  {
   "cell_type": "markdown",
   "id": "2ebe385b-14a0-4e18-b5bb-0e28cd1e70e0",
   "metadata": {},
   "source": [
    "In this script we will gather catchment data from satellite products (e.g. tree cover, NDVI, elevation) using Google Earth Engine (GEE). GEE allows us to directly use satellite data, avoiding the struggle of downloading them. Before using it, you need to create an account: https://signup.earthengine.google.com/#!/\n"
   ]
  },
  {
   "cell_type": "markdown",
   "id": "8ad9e986-3618-4b5b-981b-c77eab91c2a0",
   "metadata": {},
   "source": [
    "### 1. Install python GEE\n",
    "GEE requires a new python environment. Take the following steps to create and activate your new python environment with GEE installed:\n",
    "1. Go to your anaconda shell\n",
    "2. Create a new python environment: *conda create -n ee_env*\n",
    "3. Activate your new environment: *conda activate ee_env* \n",
    "4. Install GEE: *conda install -c conda-forge earthengine-api*\n",
    "5. We also need to install jupyter lab: *conda install -c conda-forge jupyterlab*\n",
    "6. And Geopandas: *conda install -c conda-forge geopandas*\n",
    "\n",
    "A guideline of this installation can be found here: https://developers.google.com/earth-engine/guides/python_install-conda.\n",
    "\n",
    "Now we have successfully created a new python environment with GEE installed, we need to make sure our notebook runs in this environment. Therefore, close your notebook, open the anaconda shell once more and write the following commands:\n",
    "- *conda activate ee_env*\n",
    "- *jupyter lab*\n",
    "\n",
    "Now you can work in jupyter lab inside your *ee_env*"
   ]
  },
  {
   "cell_type": "markdown",
   "id": "7b67728d-0330-4759-ad18-111c2f4502c7",
   "metadata": {},
   "source": [
    "### 2. Getting started\n",
    "First, import all the required packages."
   ]
  },
  {
   "cell_type": "code",
   "execution_count": 1,
   "id": "b2635bf0-42de-4a3b-a107-befcdca86195",
   "metadata": {},
   "outputs": [],
   "source": [
    "# import packages\n",
    "import ee\n",
    "import pandas as pd\n",
    "import numpy as np\n",
    "import matplotlib.pyplot as plt\n",
    "import geopandas as gpd\n",
    "import os\n",
    "import glob\n",
    "from pathlib import Path"
   ]
  },
  {
   "cell_type": "markdown",
   "id": "c68078a0-2ec5-417e-9004-095751417a76",
   "metadata": {},
   "source": [
    "Before using the Earth Engine API or earthengine command line tool, you must perform a one-time authentication that authorizes access to Earth Engine on behalf of your Google account. Below you run the authentication command. A URL will be provided that generates an authorization code upon agreement. Copy the authorization code and enter it in the box below."
   ]
  },
  {
   "cell_type": "code",
   "execution_count": 2,
   "id": "99d331dd-c329-4695-83b2-7944f8f79cc3",
   "metadata": {},
   "outputs": [
    {
     "data": {
      "text/html": [
       "<p>To authorize access needed by Earth Engine, open the following\n",
       "        URL in a web browser and follow the instructions:</p>\n",
       "        <p><a href=https://accounts.google.com/o/oauth2/auth?client_id=517222506229-vsmmajv00ul0bs7p89v5m89qs8eb9359.apps.googleusercontent.com&scope=https%3A%2F%2Fwww.googleapis.com%2Fauth%2Fearthengine+https%3A%2F%2Fwww.googleapis.com%2Fauth%2Fdevstorage.full_control&redirect_uri=urn%3Aietf%3Awg%3Aoauth%3A2.0%3Aoob&response_type=code&code_challenge=ViaGdNbm8dIlJjBBvcd4B7FvfnrKyRxnV3inrb5CDXw&code_challenge_method=S256>https://accounts.google.com/o/oauth2/auth?client_id=517222506229-vsmmajv00ul0bs7p89v5m89qs8eb9359.apps.googleusercontent.com&scope=https%3A%2F%2Fwww.googleapis.com%2Fauth%2Fearthengine+https%3A%2F%2Fwww.googleapis.com%2Fauth%2Fdevstorage.full_control&redirect_uri=urn%3Aietf%3Awg%3Aoauth%3A2.0%3Aoob&response_type=code&code_challenge=ViaGdNbm8dIlJjBBvcd4B7FvfnrKyRxnV3inrb5CDXw&code_challenge_method=S256</a></p>\n",
       "        <p>The authorization workflow will generate a code, which you\n",
       "        should paste in the box below</p>\n",
       "        "
      ],
      "text/plain": [
       "<IPython.core.display.HTML object>"
      ]
     },
     "metadata": {},
     "output_type": "display_data"
    },
    {
     "name": "stdin",
     "output_type": "stream",
     "text": [
      "Enter verification code:  4/1AX4XfWgpqeTNXeMq2g8311SKuLNt1jsCfpxdYomD193M2FcUVTFSD4HYTOQ\n"
     ]
    },
    {
     "name": "stdout",
     "output_type": "stream",
     "text": [
      "\n",
      "Successfully saved authorization token.\n"
     ]
    }
   ],
   "source": [
    "# Trigger the authentication flow.\n",
    "ee.Authenticate()\n",
    "\n",
    "# Initialize the library.\n",
    "ee.Initialize()"
   ]
  },
  {
   "cell_type": "markdown",
   "id": "9facad22-8802-442a-8629-35fba67e290f",
   "metadata": {},
   "source": [
    "After authentication we can import all the python functions defined in the scripts *f_earth_engine.py*."
   ]
  },
  {
   "cell_type": "code",
   "execution_count": 3,
   "id": "79ca0e4c-1a1b-4859-8630-4a7ffc49b997",
   "metadata": {},
   "outputs": [],
   "source": [
    "from f_earth_engine import *"
   ]
  },
  {
   "cell_type": "markdown",
   "id": "98827a13-1b21-4237-a029-bb48cb4aca16",
   "metadata": {},
   "source": [
    "### 3. Define working directory\n",
    "Here we define the working directory, where all the scripts and data are saved. Make sure that you generate within this working directory the following subdirectories with the data:\\\n",
    "/work_dir/data/forcing/*netcdf forcing files*\\\n",
    "/work_dir/data/shapes/*catchment shapefiles*\\\n",
    "/work_dir/data/gsim_discharge/*gsim discharge timeseries*"
   ]
  },
  {
   "cell_type": "code",
   "execution_count": 4,
   "id": "6d768f5a-f5f2-4920-89b4-1799aeeacc48",
   "metadata": {},
   "outputs": [],
   "source": [
    "# define your working directory\n",
    "work_dir=Path(\"/work/users/vanoorschot/fransje/scripts/GLOBAL_SR/global_sr_module\")"
   ]
  },
  {
   "cell_type": "markdown",
   "id": "5e3d58fc-372c-48d3-9ec0-776109f584d6",
   "metadata": {},
   "source": [
    "### 4. Load your list of catchment IDs\n",
    "Here we load the list of catchments IDs that was generated in the *run_script_main*."
   ]
  },
  {
   "cell_type": "code",
   "execution_count": 5,
   "id": "3ae9973b-a843-42ed-a4a0-f51613773320",
   "metadata": {},
   "outputs": [],
   "source": [
    "catch_id_list = np.genfromtxt(f'{work_dir}/output/catch_id_list.txt',dtype='str')"
   ]
  },
  {
   "cell_type": "markdown",
   "id": "1164bffe-2544-40a4-99cb-426d0039445b",
   "metadata": {},
   "source": [
    "### 5. Earth Engine treecover\n",
    "We are interested in the treecover in a catchment. For this we use the MODIS treecover data (https://modis.gsfc.nasa.gov/data/dataprod/mod44.php). This product includes the percentage tree cover, non tree cover, and bare soil on a 250x250 m grid. Here we regrid the tree cover to a 1x1 km grid (to reduce computational costs), average the values over the time period of interest and extract the catchment statistics (mean, max, min and std).\n",
    "\n",
    "First we create the output directory:"
   ]
  },
  {
   "cell_type": "code",
   "execution_count": 6,
   "id": "0c76b09f-50bc-4cc7-9c8a-092278e66faa",
   "metadata": {},
   "outputs": [],
   "source": [
    "# make output directory\n",
    "if not os.path.exists(f'{work_dir}/output/earth_engine_timeseries/treecover'):\n",
    "    os.makedirs(f'{work_dir}/output/earth_engine_timeseries/treecover')"
   ]
  },
  {
   "cell_type": "markdown",
   "id": "7cfe1fa6-0ee3-4c9b-94c0-b5fda33d8205",
   "metadata": {},
   "source": [
    "Now we run the *preprocess_treecover_data* and *catchment_treecover* functions from the *f_earth_engine.py* script. The output is a dataframe with the treecover statistics for each catchment."
   ]
  },
  {
   "cell_type": "code",
   "execution_count": 8,
   "id": "de93dd08-d8c3-46a6-9be0-440d77f16930",
   "metadata": {},
   "outputs": [],
   "source": [
    "# define your time period\n",
    "start_date = '2000-01-01'\n",
    "end_date = '2020-12-31'\n",
    "\n",
    "# define your directories\n",
    "shape_dir = Path(f'{work_dir}/data/shapes/')\n",
    "out_dir = Path(f'{work_dir}/output/earth_engine_timeseries/treecover')\n",
    "\n",
    "# preprocess your modis satellite data for your time period (interpolation and averaging)\n",
    "(MOD44B_tree_res, MOD44B_nontree_res) = preprocess_treecover_data(start_date,end_date)\n",
    "\n",
    "# loop over catch ids\n",
    "for catch_id in catch_id_list:\n",
    "    # extract catchment values and store in dataframe\n",
    "    catchment_treecover(MOD44B_tree_res, MOD44B_nontree_res, catch_id, shape_dir, out_dir)"
   ]
  },
  {
   "cell_type": "code",
   "execution_count": null,
   "id": "0a389114-f0f4-44ba-93ae-f6de58c80836",
   "metadata": {},
   "outputs": [],
   "source": []
  }
 ],
 "metadata": {
  "kernelspec": {
   "display_name": "Python 3 (ipykernel)",
   "language": "python",
   "name": "python3"
  },
  "language_info": {
   "codemirror_mode": {
    "name": "ipython",
    "version": 3
   },
   "file_extension": ".py",
   "mimetype": "text/x-python",
   "name": "python",
   "nbconvert_exporter": "python",
   "pygments_lexer": "ipython3",
   "version": "3.10.2"
  }
 },
 "nbformat": 4,
 "nbformat_minor": 5
}
