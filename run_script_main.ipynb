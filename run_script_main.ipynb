{
 "cells": [
  {
   "cell_type": "markdown",
   "id": "62e3f38f-c900-4727-a9e1-2735ae539100",
   "metadata": {},
   "source": [
    "# Main run script"
   ]
  },
  {
   "cell_type": "markdown",
   "id": "9107eedc-c820-4eba-87b3-c52f84faf2fa",
   "metadata": {},
   "source": [
    "This script contains the main procedure to calculate global root zone storage capacities. "
   ]
  },
  {
   "cell_type": "markdown",
   "id": "2d86bf57-168c-4591-9050-c261b4adaafd",
   "metadata": {},
   "source": [
    "### 1. Getting started\n",
    "First, import all the required packages."
   ]
  },
  {
   "cell_type": "code",
   "execution_count": 1,
   "id": "12476d9c-f4d9-41d7-889e-4e84ec7ee35f",
   "metadata": {},
   "outputs": [],
   "source": [
    "# import packages\n",
    "import glob\n",
    "from pathlib import Path\n",
    "import os\n",
    "import numpy as np\n",
    "from datetime import datetime\n",
    "from datetime import timedelta\n",
    "import pandas as pd\n",
    "import calendar"
   ]
  },
  {
   "cell_type": "markdown",
   "id": "40d94080-a55a-49dc-bfd7-09ef86d1ffa2",
   "metadata": {},
   "source": [
    "Here we import all the python functions defined in the scripts *f_catch_characteristics.py* and *f_preprocess_discharge.py*."
   ]
  },
  {
   "cell_type": "code",
   "execution_count": 2,
   "id": "5b053a7a-23b8-434d-ae1d-19888e5f5494",
   "metadata": {},
   "outputs": [],
   "source": [
    "# import python functions\n",
    "from f_catch_characteristics import *\n",
    "from f_preprocess_discharge import *\n",
    "from f_sr_calculation import *"
   ]
  },
  {
   "cell_type": "markdown",
   "id": "65a9ed88-646a-4209-b0a1-5e01426119ee",
   "metadata": {},
   "source": [
    "### 2. Define working directory\n",
    "Here we define the working directory, where all the scripts and data are saved. Make sure that you generate within this working directory the following subdirectories with the data:\\\n",
    "/work_dir/data/forcing/*netcdf forcing files*\\\n",
    "/work_dir/data/shapes/*catchment shapefiles*\\\n",
    "/work_dir/data/gsim_discharge/*gsim discharge timeseries*\n"
   ]
  },
  {
   "cell_type": "code",
   "execution_count": 3,
   "id": "48e094df-ec04-4c83-a259-9a4395300ff0",
   "metadata": {},
   "outputs": [],
   "source": [
    "# define your working directory\n",
    "work_dir=Path(\"/work/users/vanoorschot/fransje/scripts/GLOBAL_SR/global_sr_module\")"
   ]
  },
  {
   "cell_type": "markdown",
   "id": "e725c95a-41c4-41ee-8e26-a2d21cecd45b",
   "metadata": {},
   "source": [
    "Here we create the output directory inside your working directory. In the remainder of this module, the same command will be used regularly to create directories."
   ]
  },
  {
   "cell_type": "code",
   "execution_count": 4,
   "id": "28501b38-7d4c-4c8d-9e0a-237aa5605dc2",
   "metadata": {},
   "outputs": [],
   "source": [
    "# make output directory\n",
    "if not os.path.exists(f'{work_dir}/output'):\n",
    "    os.makedirs(f'{work_dir}/output')"
   ]
  },
  {
   "cell_type": "markdown",
   "id": "140fd899-95d5-4490-b13c-aa448ba8e410",
   "metadata": {},
   "source": [
    "### 3. Make lists of catchment IDs\n",
    "The module calculates catchment root zone storage capacities for a large sample of catchments. Here we save the catchment names in a .txt file, for later use in the scripts."
   ]
  },
  {
   "cell_type": "code",
   "execution_count": 5,
   "id": "47d31e59-49f8-4e94-af71-60abddffb7c6",
   "metadata": {},
   "outputs": [],
   "source": [
    "# list the filenames of catchment shapefiles\n",
    "shape_dir = Path(f'{work_dir}/data/shapes/')\n",
    "shapefiles = glob.glob(f\"{shape_dir}/*shp\")\n",
    "\n",
    "# make an empty list\n",
    "catch_id_list = []\n",
    "\n",
    "# loop over the catchment shapefiles, extract the catchment id and store in the empty list\n",
    "for i in shapefiles:\n",
    "    catch_id_list.append(Path(i).name.split('.')[0])\n",
    "    \n",
    "# save the catchment id list in your output directory\n",
    "np.savetxt(f'{work_dir}/output/catch_id_list.txt',catch_id_list,fmt='%s')"
   ]
  },
  {
   "cell_type": "markdown",
   "id": "0baf7036-1515-444d-83f0-b7d2b6bead68",
   "metadata": {},
   "source": [
    "### 4. Preprocess GSIM discharge data\n",
    "\n",
    "The GSIM yearly discharge timeseries are stored in *.year* files. A detailed explanation of the column names is provided in Table 3 and 4 in https://essd.copernicus.org/articles/10/787/2018/. Here we preprocess these data into readable *.csv* files for each catchment. The preprocessing function *preprocess_gsim_discharge* is defined in the file *f_preprocess_discharge.py*. With this function we generate for each catchment a file with the yearly discharge timeseries and a file with the specifications of the catchment."
   ]
  },
  {
   "cell_type": "code",
   "execution_count": 6,
   "id": "a50094bb-f752-4e43-8dd9-b716cb5f0dfa",
   "metadata": {},
   "outputs": [],
   "source": [
    "# make output directories\n",
    "if not os.path.exists(f'{work_dir}/output/discharge/timeseries'):\n",
    "    os.makedirs(f'{work_dir}/output/discharge/timeseries')\n",
    "    \n",
    "if not os.path.exists(f'{work_dir}/output/discharge/characteristics'):\n",
    "    os.makedirs(f'{work_dir}/output/discharge/characteristics')"
   ]
  },
  {
   "cell_type": "code",
   "execution_count": 7,
   "id": "c6c3a68a-ac3b-4897-88e6-d39721d5335e",
   "metadata": {},
   "outputs": [],
   "source": [
    "# define folder with discharge timeseries data\n",
    "fol_in = f'{work_dir}/data/gsim_discharge/'\n",
    "\n",
    "# define output folder\n",
    "fol_out = f'{work_dir}/output/discharge/'\n",
    "\n",
    "# run preprocess_gsim_discharge function (defined in f_preprocess_discharge.py) for all catchments in catch_id_list\n",
    "for catch_id in catch_id_list:\n",
    "    preprocess_gsim_discharge(catch_id, fol_in, fol_out)"
   ]
  },
  {
   "cell_type": "markdown",
   "id": "1bfb49e0-e014-45eb-ac49-200b78d4c9b5",
   "metadata": {},
   "source": [
    "### 5. From gridded data to catchment timeseries\n",
    "For this step go to the notebook *run_script_grid_to_catchments*. This part needs a different python environment and is therefore run in another notebook. The output data of this script can be found in *work_dir/output/forcing_timeseries*."
   ]
  },
  {
   "cell_type": "markdown",
   "id": "2f7db8dd-39f3-4b02-93fc-2faaf74cb75b",
   "metadata": {},
   "source": [
    "### 6. Google earth engine for catchment characteristics\n",
    "For this step go to the notebook *run_script_earthengine*. This part needs a different python environment and is therefore run in another notebook. The output data of this script can be found in *work_dir/output/earth_engine_timeseries*."
   ]
  },
  {
   "cell_type": "markdown",
   "id": "35f9e214-04ed-499e-9e45-845bc7d74c23",
   "metadata": {},
   "source": [
    "### 7. Calculate root zone storage capacity\n",
    "Here we calculate the catchment root zone storage capacity (Sr) based on catchment water balances. First, catchment root zone storage deficits are computed as the cumulative difference between P and Et (transpiration). Second, the Sr is then calculated based on an extreme value analysis of the storage deficits. A detailed description of this method can be found here xxxxxx.\n",
    "\n",
    "Here we use the *run_sd_calculation* and *run_sr_calculation* functions from the *f_sr_calculation* file. The output of both storage deficit and Sr calculations are saved in your *work_dir/output/sr_calculation*.\n"
   ]
  },
  {
   "cell_type": "code",
   "execution_count": 8,
   "id": "409d935d-0bc8-473f-9018-a12a7af16576",
   "metadata": {},
   "outputs": [],
   "source": [
    "# make output directories\n",
    "if not os.path.exists(f'{work_dir}/output/sr_calculation/sd_catchments'):\n",
    "    os.makedirs(f'{work_dir}/output/sr_calculation/sd_catchments')\n",
    "    \n",
    "if not os.path.exists(f'{work_dir}/output/sr_calculation/sr_catchments'):\n",
    "    os.makedirs(f'{work_dir}/output/sr_calculation/sr_catchments')"
   ]
  },
  {
   "cell_type": "markdown",
   "id": "1a4bed7a-fd38-422a-9577-e20cf6be7bac",
   "metadata": {},
   "source": [
    "Calculate storage deficits using the *run_sd_calculation* function from *f_sr_calculation*"
   ]
  },
  {
   "cell_type": "code",
   "execution_count": 9,
   "id": "c0641804-4e6a-4a1c-ad7d-fceaec17bc94",
   "metadata": {},
   "outputs": [],
   "source": [
    "# define directories\n",
    "pep_dir = f'{work_dir}/output/forcing_timeseries/processed/daily'\n",
    "q_dir = f'{work_dir}/output/discharge/timeseries'\n",
    "out_dir = f'{work_dir}/output/sr_calculation/sd_catchments'\n",
    "\n",
    "# maximum interception capacity\n",
    "Si_max=2.5\n",
    "\n",
    "# run sd calculation for all catchments in catch_id_list\n",
    "for catch_id in catch_id_list:\n",
    "    run_sd_calculation(catch_id, pep_dir,q_dir,out_dir,Si_max)"
   ]
  },
  {
   "cell_type": "markdown",
   "id": "893710c3-63f6-482d-b348-9a434e79e787",
   "metadata": {},
   "source": [
    "Calculate Sr using the *run_sr_calculation* function from *f_sr_calculation*"
   ]
  },
  {
   "cell_type": "code",
   "execution_count": 10,
   "id": "882c1d56-675c-49a4-89e0-b1c5b40054c8",
   "metadata": {},
   "outputs": [],
   "source": [
    "# define directories\n",
    "sd_dir = f'{work_dir}/output/sr_calculation/sd_catchments'\n",
    "out_dir = f'{work_dir}/output/sr_calculation/sr_catchments'\n",
    "\n",
    "# define return periods\n",
    "RP = [2,3,5,10,20,30,40,50,60]\n",
    "\n",
    "# run sr calculation for all catchments in catch_id_list\n",
    "for catch_id in catch_id_list:\n",
    "    run_sr_calculation(catch_id,RP,sd_dir,out_dir)\n"
   ]
  },
  {
   "cell_type": "markdown",
   "id": "b4872350-408c-48c7-b81f-def7ac2e5610",
   "metadata": {},
   "source": [
    "### 8. Catchment descriptor variables\n",
    "For the global root zone storage capacity estimation, we need to calculate catchment descriptor variables. These descriptors can be climatological variables (e.g. mean precipitation (p_mean); seasonality of precipitation (si_p); timelag between maximum P and Ep (phi)) or landscape variables (e.g. mean treecover (tc); mean elevation (h_mean)). A detailed list of all the descriptors considered is provided here xxxxx.\\\n",
    "To calculate the catchment descriptor variables we use the *catch_characteristics* function from the *f_catch_characteristics.py* file. In this function you specify the variables of interest, the catchment ID and your in- and output folders. Then, based on all the timeseries you have generated in the preceding codes it will return a table with the catchment descriptor variables for all your catchments (that is saved as csv in your *work_dir/catchment_characteristics.csv*)."
   ]
  },
  {
   "cell_type": "code",
   "execution_count": 11,
   "id": "71ed0672-2b5b-495a-a83e-ea7630f14928",
   "metadata": {},
   "outputs": [
    {
     "data": {
      "text/html": [
       "<div>\n",
       "<style scoped>\n",
       "    .dataframe tbody tr th:only-of-type {\n",
       "        vertical-align: middle;\n",
       "    }\n",
       "\n",
       "    .dataframe tbody tr th {\n",
       "        vertical-align: top;\n",
       "    }\n",
       "\n",
       "    .dataframe thead th {\n",
       "        text-align: right;\n",
       "    }\n",
       "</style>\n",
       "<table border=\"1\" class=\"dataframe\">\n",
       "  <thead>\n",
       "    <tr style=\"text-align: right;\">\n",
       "      <th></th>\n",
       "      <th>p_mean</th>\n",
       "      <th>ep_mean</th>\n",
       "      <th>q_mean</th>\n",
       "      <th>t_mean</th>\n",
       "      <th>ai</th>\n",
       "      <th>si_p</th>\n",
       "      <th>si_ep</th>\n",
       "      <th>phi</th>\n",
       "      <th>tc</th>\n",
       "      <th>ntc</th>\n",
       "      <th>nonveg</th>\n",
       "    </tr>\n",
       "  </thead>\n",
       "  <tbody>\n",
       "    <tr>\n",
       "      <th>br_0000495</th>\n",
       "      <td>5.985058</td>\n",
       "      <td>3.635537</td>\n",
       "      <td>3.21034</td>\n",
       "      <td>27.17695</td>\n",
       "      <td>1.646265</td>\n",
       "      <td>0.610597</td>\n",
       "      <td>0.051158</td>\n",
       "      <td>6</td>\n",
       "      <td>40.389229</td>\n",
       "      <td>47.804183</td>\n",
       "      <td>11.806588</td>\n",
       "    </tr>\n",
       "    <tr>\n",
       "      <th>fr_0000326</th>\n",
       "      <td>3.540341</td>\n",
       "      <td>2.105863</td>\n",
       "      <td>1.701488</td>\n",
       "      <td>10.755472</td>\n",
       "      <td>1.681183</td>\n",
       "      <td>0.36535</td>\n",
       "      <td>0.303236</td>\n",
       "      <td>6</td>\n",
       "      <td>28.631765</td>\n",
       "      <td>56.481887</td>\n",
       "      <td>14.886349</td>\n",
       "    </tr>\n",
       "    <tr>\n",
       "      <th>us_0002247</th>\n",
       "      <td>4.276623</td>\n",
       "      <td>2.636243</td>\n",
       "      <td>3.9137</td>\n",
       "      <td>16.772313</td>\n",
       "      <td>1.622242</td>\n",
       "      <td>0.179611</td>\n",
       "      <td>0.364593</td>\n",
       "      <td>6</td>\n",
       "      <td>39.580416</td>\n",
       "      <td>49.29533</td>\n",
       "      <td>11.124253</td>\n",
       "    </tr>\n",
       "  </tbody>\n",
       "</table>\n",
       "</div>"
      ],
      "text/plain": [
       "              p_mean   ep_mean    q_mean     t_mean        ai      si_p  \\\n",
       "br_0000495  5.985058  3.635537   3.21034   27.17695  1.646265  0.610597   \n",
       "fr_0000326  3.540341  2.105863  1.701488  10.755472  1.681183   0.36535   \n",
       "us_0002247  4.276623  2.636243    3.9137  16.772313  1.622242  0.179611   \n",
       "\n",
       "               si_ep phi         tc        ntc     nonveg  \n",
       "br_0000495  0.051158   6  40.389229  47.804183  11.806588  \n",
       "fr_0000326  0.303236   6  28.631765  56.481887  14.886349  \n",
       "us_0002247  0.364593   6  39.580416   49.29533  11.124253  "
      ]
     },
     "execution_count": 11,
     "metadata": {},
     "output_type": "execute_result"
    }
   ],
   "source": [
    "# define in and output folder\n",
    "fol_in=f'{work_dir}/output/'\n",
    "fol_out=f'{work_dir}/output/'\n",
    "\n",
    "# define variables of interest\n",
    "var=['p_mean','ep_mean','q_mean','t_mean','ai','si_p','si_ep','phi','tc','ntc','nonveg']\n",
    "\n",
    "# run catch_characteristics (defined in f_catch_characteristics.py) for the catchments in your catch_id_list\n",
    "catch_characteristics(var, catch_id_list, fol_in, fol_out)"
   ]
  },
  {
   "cell_type": "code",
   "execution_count": null,
   "id": "7eb07d83-2ce2-4ac5-a28a-7d5b2c656851",
   "metadata": {},
   "outputs": [],
   "source": []
  }
 ],
 "metadata": {
  "kernelspec": {
   "display_name": "Python 3 (ipykernel)",
   "language": "python",
   "name": "python3"
  },
  "language_info": {
   "codemirror_mode": {
    "name": "ipython",
    "version": 3
   },
   "file_extension": ".py",
   "mimetype": "text/x-python",
   "name": "python",
   "nbconvert_exporter": "python",
   "pygments_lexer": "ipython3",
   "version": "3.10.2"
  }
 },
 "nbformat": 4,
 "nbformat_minor": 5
}
