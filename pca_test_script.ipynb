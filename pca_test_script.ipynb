{
 "cells": [
  {
   "cell_type": "code",
   "execution_count": 1,
   "id": "a3659aec-0979-4283-afa5-02a0ced676e3",
   "metadata": {},
   "outputs": [],
   "source": [
    "import numpy as np\n",
    "import pandas as pd\n",
    "from sklearn.preprocessing import StandardScaler\n",
    "from sklearn.decomposition import PCA\n",
    "from sklearn.cluster import KMeans\n",
    "import copy\n",
    "import matplotlib.pyplot as plt\n",
    "import glob\n",
    "from pathlib import Path\n",
    "import os\n",
    "import plotly.express as px"
   ]
  },
  {
   "cell_type": "code",
   "execution_count": 2,
   "id": "70adc233-4cff-4b78-b714-5994b3ae7db9",
   "metadata": {},
   "outputs": [],
   "source": [
    "# work_dir=Path(\"/scratch/fransjevanoors/global_sr\")\n",
    "work_dir=Path(\"/mnt/u/LSM root zone/global_sr\")"
   ]
  },
  {
   "cell_type": "code",
   "execution_count": 3,
   "id": "0296875b-65c7-49b9-94a5-a3a6b39bdfed",
   "metadata": {},
   "outputs": [],
   "source": [
    "f = f'{work_dir}/output/catchment_characteristics/catchment_characteristics_gswp-p_gleam-ep_gswp-t.csv'\n",
    "df = pd.read_csv(f,index_col=0)"
   ]
  },
  {
   "cell_type": "code",
   "execution_count": 4,
   "id": "1a64b10b-88ee-4a26-8a0e-7bdde648f2fa",
   "metadata": {},
   "outputs": [
    {
     "data": {
      "text/html": [
       "<div>\n",
       "<style scoped>\n",
       "    .dataframe tbody tr th:only-of-type {\n",
       "        vertical-align: middle;\n",
       "    }\n",
       "\n",
       "    .dataframe tbody tr th {\n",
       "        vertical-align: top;\n",
       "    }\n",
       "\n",
       "    .dataframe thead th {\n",
       "        text-align: right;\n",
       "    }\n",
       "</style>\n",
       "<table border=\"1\" class=\"dataframe\">\n",
       "  <thead>\n",
       "    <tr style=\"text-align: right;\">\n",
       "      <th></th>\n",
       "      <th>p_mean</th>\n",
       "      <th>ep_mean</th>\n",
       "      <th>q_mean</th>\n",
       "      <th>t_mean</th>\n",
       "      <th>ai</th>\n",
       "      <th>hai</th>\n",
       "      <th>tdiff_max</th>\n",
       "      <th>tdiff_mean</th>\n",
       "      <th>idu_mean</th>\n",
       "      <th>idu_max</th>\n",
       "      <th>...</th>\n",
       "      <th>slp_mean</th>\n",
       "      <th>slp_max</th>\n",
       "      <th>slp_min</th>\n",
       "      <th>slp_std</th>\n",
       "      <th>cla</th>\n",
       "      <th>snd</th>\n",
       "      <th>slt</th>\n",
       "      <th>tpi</th>\n",
       "      <th>lat</th>\n",
       "      <th>lon</th>\n",
       "    </tr>\n",
       "  </thead>\n",
       "  <tbody>\n",
       "    <tr>\n",
       "      <th>de_0000778</th>\n",
       "      <td>4.045309</td>\n",
       "      <td>2.057641</td>\n",
       "      <td>0.842493</td>\n",
       "      <td>7.638991</td>\n",
       "      <td>1.965994</td>\n",
       "      <td>0.337366</td>\n",
       "      <td>24.641665</td>\n",
       "      <td>20.637500</td>\n",
       "      <td>2.86</td>\n",
       "      <td>16.13</td>\n",
       "      <td>...</td>\n",
       "      <td>10.619948</td>\n",
       "      <td>33.791851</td>\n",
       "      <td>0.403270</td>\n",
       "      <td>7.677587</td>\n",
       "      <td>7.574111</td>\n",
       "      <td>11.43850</td>\n",
       "      <td>15.163390</td>\n",
       "      <td>1.40614</td>\n",
       "      <td>47.723927</td>\n",
       "      <td>11.933343</td>\n",
       "    </tr>\n",
       "    <tr>\n",
       "      <th>br_0001850</th>\n",
       "      <td>4.186528</td>\n",
       "      <td>2.943133</td>\n",
       "      <td>1.030596</td>\n",
       "      <td>25.107997</td>\n",
       "      <td>1.422473</td>\n",
       "      <td>0.967762</td>\n",
       "      <td>6.181352</td>\n",
       "      <td>4.359281</td>\n",
       "      <td>7.14</td>\n",
       "      <td>72.03</td>\n",
       "      <td>...</td>\n",
       "      <td>2.404713</td>\n",
       "      <td>19.018690</td>\n",
       "      <td>0.036460</td>\n",
       "      <td>1.452261</td>\n",
       "      <td>21.465250</td>\n",
       "      <td>30.03281</td>\n",
       "      <td>11.571600</td>\n",
       "      <td>3.32628</td>\n",
       "      <td>-16.616687</td>\n",
       "      <td>-49.718967</td>\n",
       "    </tr>\n",
       "    <tr>\n",
       "      <th>ca_0003156</th>\n",
       "      <td>1.235331</td>\n",
       "      <td>1.331096</td>\n",
       "      <td>0.017540</td>\n",
       "      <td>3.742158</td>\n",
       "      <td>0.928056</td>\n",
       "      <td>1.003734</td>\n",
       "      <td>43.900205</td>\n",
       "      <td>36.056585</td>\n",
       "      <td>5.33</td>\n",
       "      <td>30.03</td>\n",
       "      <td>...</td>\n",
       "      <td>0.353077</td>\n",
       "      <td>4.675838</td>\n",
       "      <td>0.000000</td>\n",
       "      <td>0.412188</td>\n",
       "      <td>13.336140</td>\n",
       "      <td>18.63596</td>\n",
       "      <td>17.658500</td>\n",
       "      <td>3.64355</td>\n",
       "      <td>49.506681</td>\n",
       "      <td>-103.275867</td>\n",
       "    </tr>\n",
       "    <tr>\n",
       "      <th>br_0001299</th>\n",
       "      <td>3.123837</td>\n",
       "      <td>2.907271</td>\n",
       "      <td>1.032392</td>\n",
       "      <td>24.338485</td>\n",
       "      <td>1.074491</td>\n",
       "      <td>1.257753</td>\n",
       "      <td>6.634216</td>\n",
       "      <td>5.093589</td>\n",
       "      <td>4.47</td>\n",
       "      <td>24.80</td>\n",
       "      <td>...</td>\n",
       "      <td>4.164966</td>\n",
       "      <td>21.969494</td>\n",
       "      <td>0.126978</td>\n",
       "      <td>2.651690</td>\n",
       "      <td>14.335770</td>\n",
       "      <td>22.00644</td>\n",
       "      <td>6.715627</td>\n",
       "      <td>2.06243</td>\n",
       "      <td>-17.108293</td>\n",
       "      <td>-39.967427</td>\n",
       "    </tr>\n",
       "    <tr>\n",
       "      <th>br_0001843</th>\n",
       "      <td>4.453621</td>\n",
       "      <td>2.944259</td>\n",
       "      <td>1.377108</td>\n",
       "      <td>24.223189</td>\n",
       "      <td>1.512646</td>\n",
       "      <td>0.877896</td>\n",
       "      <td>6.469796</td>\n",
       "      <td>4.538261</td>\n",
       "      <td>7.15</td>\n",
       "      <td>73.73</td>\n",
       "      <td>...</td>\n",
       "      <td>2.582996</td>\n",
       "      <td>10.657210</td>\n",
       "      <td>0.153662</td>\n",
       "      <td>1.180128</td>\n",
       "      <td>18.867120</td>\n",
       "      <td>24.71507</td>\n",
       "      <td>9.273455</td>\n",
       "      <td>2.71033</td>\n",
       "      <td>-16.539263</td>\n",
       "      <td>-49.184522</td>\n",
       "    </tr>\n",
       "    <tr>\n",
       "      <th>...</th>\n",
       "      <td>...</td>\n",
       "      <td>...</td>\n",
       "      <td>...</td>\n",
       "      <td>...</td>\n",
       "      <td>...</td>\n",
       "      <td>...</td>\n",
       "      <td>...</td>\n",
       "      <td>...</td>\n",
       "      <td>...</td>\n",
       "      <td>...</td>\n",
       "      <td>...</td>\n",
       "      <td>...</td>\n",
       "      <td>...</td>\n",
       "      <td>...</td>\n",
       "      <td>...</td>\n",
       "      <td>...</td>\n",
       "      <td>...</td>\n",
       "      <td>...</td>\n",
       "      <td>...</td>\n",
       "      <td>...</td>\n",
       "      <td>...</td>\n",
       "    </tr>\n",
       "    <tr>\n",
       "      <th>ca_0001384</th>\n",
       "      <td>3.196726</td>\n",
       "      <td>1.852481</td>\n",
       "      <td>2.053996</td>\n",
       "      <td>2.880652</td>\n",
       "      <td>1.725645</td>\n",
       "      <td>0.341004</td>\n",
       "      <td>40.004254</td>\n",
       "      <td>33.168757</td>\n",
       "      <td>2.74</td>\n",
       "      <td>11.63</td>\n",
       "      <td>...</td>\n",
       "      <td>3.745704</td>\n",
       "      <td>19.904703</td>\n",
       "      <td>0.002320</td>\n",
       "      <td>2.461829</td>\n",
       "      <td>5.288717</td>\n",
       "      <td>22.22545</td>\n",
       "      <td>15.004920</td>\n",
       "      <td>2.14825</td>\n",
       "      <td>47.253879</td>\n",
       "      <td>-72.245291</td>\n",
       "    </tr>\n",
       "    <tr>\n",
       "      <th>us_0001647</th>\n",
       "      <td>3.412146</td>\n",
       "      <td>2.749842</td>\n",
       "      <td>2.050785</td>\n",
       "      <td>18.061075</td>\n",
       "      <td>1.240852</td>\n",
       "      <td>0.855017</td>\n",
       "      <td>24.183295</td>\n",
       "      <td>20.816630</td>\n",
       "      <td>4.07</td>\n",
       "      <td>18.73</td>\n",
       "      <td>...</td>\n",
       "      <td>0.838095</td>\n",
       "      <td>1.561405</td>\n",
       "      <td>0.154006</td>\n",
       "      <td>0.249567</td>\n",
       "      <td>12.236070</td>\n",
       "      <td>35.50068</td>\n",
       "      <td>15.771400</td>\n",
       "      <td>3.79075</td>\n",
       "      <td>33.018864</td>\n",
       "      <td>-83.604070</td>\n",
       "    </tr>\n",
       "    <tr>\n",
       "      <th>gb_0000044</th>\n",
       "      <td>2.269773</td>\n",
       "      <td>1.157692</td>\n",
       "      <td>1.016338</td>\n",
       "      <td>9.472414</td>\n",
       "      <td>1.960603</td>\n",
       "      <td>0.677501</td>\n",
       "      <td>17.949959</td>\n",
       "      <td>13.999706</td>\n",
       "      <td>3.36</td>\n",
       "      <td>17.43</td>\n",
       "      <td>...</td>\n",
       "      <td>2.210624</td>\n",
       "      <td>7.841141</td>\n",
       "      <td>0.187004</td>\n",
       "      <td>1.120093</td>\n",
       "      <td>14.062060</td>\n",
       "      <td>22.81675</td>\n",
       "      <td>27.029190</td>\n",
       "      <td>3.33438</td>\n",
       "      <td>53.261171</td>\n",
       "      <td>-1.396872</td>\n",
       "    </tr>\n",
       "    <tr>\n",
       "      <th>br_0000392</th>\n",
       "      <td>4.171185</td>\n",
       "      <td>3.215613</td>\n",
       "      <td>1.172224</td>\n",
       "      <td>25.953768</td>\n",
       "      <td>1.297166</td>\n",
       "      <td>1.004279</td>\n",
       "      <td>4.744549</td>\n",
       "      <td>3.214524</td>\n",
       "      <td>9.28</td>\n",
       "      <td>87.60</td>\n",
       "      <td>...</td>\n",
       "      <td>2.312693</td>\n",
       "      <td>26.799967</td>\n",
       "      <td>0.000000</td>\n",
       "      <td>2.562056</td>\n",
       "      <td>15.720090</td>\n",
       "      <td>32.02823</td>\n",
       "      <td>10.318910</td>\n",
       "      <td>3.27995</td>\n",
       "      <td>-12.531370</td>\n",
       "      <td>-47.860721</td>\n",
       "    </tr>\n",
       "    <tr>\n",
       "      <th>fr_0000694</th>\n",
       "      <td>2.269398</td>\n",
       "      <td>1.559852</td>\n",
       "      <td>0.640771</td>\n",
       "      <td>11.877244</td>\n",
       "      <td>1.454880</td>\n",
       "      <td>0.847127</td>\n",
       "      <td>17.875099</td>\n",
       "      <td>14.417642</td>\n",
       "      <td>4.34</td>\n",
       "      <td>22.83</td>\n",
       "      <td>...</td>\n",
       "      <td>0.903962</td>\n",
       "      <td>3.306057</td>\n",
       "      <td>0.122767</td>\n",
       "      <td>0.632465</td>\n",
       "      <td>11.639990</td>\n",
       "      <td>23.08409</td>\n",
       "      <td>29.500510</td>\n",
       "      <td>3.92261</td>\n",
       "      <td>48.500444</td>\n",
       "      <td>-1.654862</td>\n",
       "    </tr>\n",
       "  </tbody>\n",
       "</table>\n",
       "<p>8658 rows × 62 columns</p>\n",
       "</div>"
      ],
      "text/plain": [
       "              p_mean   ep_mean    q_mean     t_mean        ai       hai  \\\n",
       "de_0000778  4.045309  2.057641  0.842493   7.638991  1.965994  0.337366   \n",
       "br_0001850  4.186528  2.943133  1.030596  25.107997  1.422473  0.967762   \n",
       "ca_0003156  1.235331  1.331096  0.017540   3.742158  0.928056  1.003734   \n",
       "br_0001299  3.123837  2.907271  1.032392  24.338485  1.074491  1.257753   \n",
       "br_0001843  4.453621  2.944259  1.377108  24.223189  1.512646  0.877896   \n",
       "...              ...       ...       ...        ...       ...       ...   \n",
       "ca_0001384  3.196726  1.852481  2.053996   2.880652  1.725645  0.341004   \n",
       "us_0001647  3.412146  2.749842  2.050785  18.061075  1.240852  0.855017   \n",
       "gb_0000044  2.269773  1.157692  1.016338   9.472414  1.960603  0.677501   \n",
       "br_0000392  4.171185  3.215613  1.172224  25.953768  1.297166  1.004279   \n",
       "fr_0000694  2.269398  1.559852  0.640771  11.877244  1.454880  0.847127   \n",
       "\n",
       "            tdiff_max  tdiff_mean  idu_mean  idu_max  ...   slp_mean  \\\n",
       "de_0000778  24.641665   20.637500      2.86    16.13  ...  10.619948   \n",
       "br_0001850   6.181352    4.359281      7.14    72.03  ...   2.404713   \n",
       "ca_0003156  43.900205   36.056585      5.33    30.03  ...   0.353077   \n",
       "br_0001299   6.634216    5.093589      4.47    24.80  ...   4.164966   \n",
       "br_0001843   6.469796    4.538261      7.15    73.73  ...   2.582996   \n",
       "...               ...         ...       ...      ...  ...        ...   \n",
       "ca_0001384  40.004254   33.168757      2.74    11.63  ...   3.745704   \n",
       "us_0001647  24.183295   20.816630      4.07    18.73  ...   0.838095   \n",
       "gb_0000044  17.949959   13.999706      3.36    17.43  ...   2.210624   \n",
       "br_0000392   4.744549    3.214524      9.28    87.60  ...   2.312693   \n",
       "fr_0000694  17.875099   14.417642      4.34    22.83  ...   0.903962   \n",
       "\n",
       "              slp_max   slp_min   slp_std        cla       snd        slt  \\\n",
       "de_0000778  33.791851  0.403270  7.677587   7.574111  11.43850  15.163390   \n",
       "br_0001850  19.018690  0.036460  1.452261  21.465250  30.03281  11.571600   \n",
       "ca_0003156   4.675838  0.000000  0.412188  13.336140  18.63596  17.658500   \n",
       "br_0001299  21.969494  0.126978  2.651690  14.335770  22.00644   6.715627   \n",
       "br_0001843  10.657210  0.153662  1.180128  18.867120  24.71507   9.273455   \n",
       "...               ...       ...       ...        ...       ...        ...   \n",
       "ca_0001384  19.904703  0.002320  2.461829   5.288717  22.22545  15.004920   \n",
       "us_0001647   1.561405  0.154006  0.249567  12.236070  35.50068  15.771400   \n",
       "gb_0000044   7.841141  0.187004  1.120093  14.062060  22.81675  27.029190   \n",
       "br_0000392  26.799967  0.000000  2.562056  15.720090  32.02823  10.318910   \n",
       "fr_0000694   3.306057  0.122767  0.632465  11.639990  23.08409  29.500510   \n",
       "\n",
       "                tpi        lat         lon  \n",
       "de_0000778  1.40614  47.723927   11.933343  \n",
       "br_0001850  3.32628 -16.616687  -49.718967  \n",
       "ca_0003156  3.64355  49.506681 -103.275867  \n",
       "br_0001299  2.06243 -17.108293  -39.967427  \n",
       "br_0001843  2.71033 -16.539263  -49.184522  \n",
       "...             ...        ...         ...  \n",
       "ca_0001384  2.14825  47.253879  -72.245291  \n",
       "us_0001647  3.79075  33.018864  -83.604070  \n",
       "gb_0000044  3.33438  53.261171   -1.396872  \n",
       "br_0000392  3.27995 -12.531370  -47.860721  \n",
       "fr_0000694  3.92261  48.500444   -1.654862  \n",
       "\n",
       "[8658 rows x 62 columns]"
      ]
     },
     "execution_count": 4,
     "metadata": {},
     "output_type": "execute_result"
    }
   ],
   "source": [
    "df"
   ]
  },
  {
   "cell_type": "code",
   "execution_count": 5,
   "id": "fb632f4b-2643-4e52-83fc-0eb1153c1f17",
   "metadata": {},
   "outputs": [
    {
     "data": {
      "text/html": [
       "<div>\n",
       "<style scoped>\n",
       "    .dataframe tbody tr th:only-of-type {\n",
       "        vertical-align: middle;\n",
       "    }\n",
       "\n",
       "    .dataframe tbody tr th {\n",
       "        vertical-align: top;\n",
       "    }\n",
       "\n",
       "    .dataframe thead th {\n",
       "        text-align: right;\n",
       "    }\n",
       "</style>\n",
       "<table border=\"1\" class=\"dataframe\">\n",
       "  <thead>\n",
       "    <tr style=\"text-align: right;\">\n",
       "      <th></th>\n",
       "      <th>p_mean</th>\n",
       "      <th>ep_mean</th>\n",
       "      <th>t_mean</th>\n",
       "      <th>ai</th>\n",
       "      <th>idu_mean</th>\n",
       "    </tr>\n",
       "  </thead>\n",
       "  <tbody>\n",
       "    <tr>\n",
       "      <th>0</th>\n",
       "      <td>0.752903</td>\n",
       "      <td>-0.094068</td>\n",
       "      <td>-0.600713</td>\n",
       "      <td>0.566929</td>\n",
       "      <td>-0.647592</td>\n",
       "    </tr>\n",
       "    <tr>\n",
       "      <th>1</th>\n",
       "      <td>0.857766</td>\n",
       "      <td>1.132628</td>\n",
       "      <td>1.509826</td>\n",
       "      <td>-0.105590</td>\n",
       "      <td>0.731660</td>\n",
       "    </tr>\n",
       "    <tr>\n",
       "      <th>2</th>\n",
       "      <td>-1.333660</td>\n",
       "      <td>-1.100571</td>\n",
       "      <td>-1.071514</td>\n",
       "      <td>-0.717351</td>\n",
       "      <td>0.148378</td>\n",
       "    </tr>\n",
       "    <tr>\n",
       "      <th>3</th>\n",
       "      <td>0.068660</td>\n",
       "      <td>1.082946</td>\n",
       "      <td>1.416857</td>\n",
       "      <td>-0.536161</td>\n",
       "      <td>-0.128761</td>\n",
       "    </tr>\n",
       "    <tr>\n",
       "      <th>4</th>\n",
       "      <td>1.056098</td>\n",
       "      <td>1.134187</td>\n",
       "      <td>1.402927</td>\n",
       "      <td>0.005985</td>\n",
       "      <td>0.734883</td>\n",
       "    </tr>\n",
       "    <tr>\n",
       "      <th>...</th>\n",
       "      <td>...</td>\n",
       "      <td>...</td>\n",
       "      <td>...</td>\n",
       "      <td>...</td>\n",
       "      <td>...</td>\n",
       "    </tr>\n",
       "    <tr>\n",
       "      <th>8641</th>\n",
       "      <td>0.122784</td>\n",
       "      <td>-0.378281</td>\n",
       "      <td>-1.175598</td>\n",
       "      <td>0.269537</td>\n",
       "      <td>-0.686263</td>\n",
       "    </tr>\n",
       "    <tr>\n",
       "      <th>8642</th>\n",
       "      <td>0.282745</td>\n",
       "      <td>0.864856</td>\n",
       "      <td>0.658444</td>\n",
       "      <td>-0.330317</td>\n",
       "      <td>-0.257663</td>\n",
       "    </tr>\n",
       "    <tr>\n",
       "      <th>8643</th>\n",
       "      <td>-0.565530</td>\n",
       "      <td>-1.340792</td>\n",
       "      <td>-0.379206</td>\n",
       "      <td>0.560258</td>\n",
       "      <td>-0.486464</td>\n",
       "    </tr>\n",
       "    <tr>\n",
       "      <th>8644</th>\n",
       "      <td>0.846373</td>\n",
       "      <td>1.510101</td>\n",
       "      <td>1.612009</td>\n",
       "      <td>-0.260637</td>\n",
       "      <td>1.421286</td>\n",
       "    </tr>\n",
       "    <tr>\n",
       "      <th>8645</th>\n",
       "      <td>-0.565809</td>\n",
       "      <td>-0.783669</td>\n",
       "      <td>-0.088663</td>\n",
       "      <td>-0.065492</td>\n",
       "      <td>-0.170654</td>\n",
       "    </tr>\n",
       "  </tbody>\n",
       "</table>\n",
       "<p>8646 rows × 5 columns</p>\n",
       "</div>"
      ],
      "text/plain": [
       "        p_mean   ep_mean    t_mean        ai  idu_mean\n",
       "0     0.752903 -0.094068 -0.600713  0.566929 -0.647592\n",
       "1     0.857766  1.132628  1.509826 -0.105590  0.731660\n",
       "2    -1.333660 -1.100571 -1.071514 -0.717351  0.148378\n",
       "3     0.068660  1.082946  1.416857 -0.536161 -0.128761\n",
       "4     1.056098  1.134187  1.402927  0.005985  0.734883\n",
       "...        ...       ...       ...       ...       ...\n",
       "8641  0.122784 -0.378281 -1.175598  0.269537 -0.686263\n",
       "8642  0.282745  0.864856  0.658444 -0.330317 -0.257663\n",
       "8643 -0.565530 -1.340792 -0.379206  0.560258 -0.486464\n",
       "8644  0.846373  1.510101  1.612009 -0.260637  1.421286\n",
       "8645 -0.565809 -0.783669 -0.088663 -0.065492 -0.170654\n",
       "\n",
       "[8646 rows x 5 columns]"
      ]
     },
     "execution_count": 5,
     "metadata": {},
     "output_type": "execute_result"
    }
   ],
   "source": [
    "#Identify the columns that should be part of the PCA-Plots\n",
    "columns = ['p_mean','ep_mean','t_mean','ai','idu_mean']\n",
    "df_sel = df[columns].dropna() # select columns for PCA\n",
    "\n",
    "x = StandardScaler().fit_transform(df_sel) #standardize the values in columns to mean=0\n",
    "x = pd.DataFrame(x, columns=columns)\n",
    "\n",
    "x"
   ]
  },
  {
   "cell_type": "code",
   "execution_count": 6,
   "id": "87b8e401-4591-4651-8cc2-bd9fdffa231c",
   "metadata": {},
   "outputs": [],
   "source": [
    "#Performing the PCA using the PCA model function from sklearn ; https://medium.com/data-science-365/principal-component-analysis-pca-with-scikit-learn-1e84a0c731b0\n",
    "pca_5 = PCA(n_components=5) #pca with 5 dimensions to see how well pca captures the variance of the data\n",
    "pca_5.fit(x)\n",
    "x_pca_5 = pca_5.transform(x)"
   ]
  },
  {
   "cell_type": "code",
   "execution_count": 7,
   "id": "ee5b7608-a7da-42f0-aa4d-ed96294d5e01",
   "metadata": {},
   "outputs": [
    {
     "name": "stdout",
     "output_type": "stream",
     "text": [
      "variance explained by all 5 principal components= 100.0\n"
     ]
    }
   ],
   "source": [
    "print('variance explained by all 5 principal components=',sum(pca_5.explained_variance_ratio_ * 100)) # this should be 100% because we include all variables"
   ]
  },
  {
   "cell_type": "code",
   "execution_count": 8,
   "id": "6754fef0-ffff-48a9-941b-4b77ca16ac2b",
   "metadata": {},
   "outputs": [
    {
     "name": "stdout",
     "output_type": "stream",
     "text": [
      "the variance explained by variable:\n",
      "p_mean 0.4717537053601009\n",
      "ep_mean 0.3417166719021876\n",
      "t_mean 0.13694083668977067\n",
      "ai 0.03608506231635756\n",
      "idu_mean 0.013503723731583265\n"
     ]
    }
   ],
   "source": [
    "a = pca_5.explained_variance_ratio_\n",
    "print('the variance explained by variable:')\n",
    "print(columns[0], a[0])\n",
    "print(columns[1], a[1])\n",
    "print(columns[2], a[2])\n",
    "print(columns[3], a[3])\n",
    "print(columns[4], a[4])"
   ]
  },
  {
   "cell_type": "code",
   "execution_count": 9,
   "id": "33723373-eb3a-49b1-9010-79ea498a457d",
   "metadata": {},
   "outputs": [
    {
     "data": {
      "text/plain": [
       "Text(0, 0.5, 'explained variance')"
      ]
     },
     "execution_count": 9,
     "metadata": {},
     "output_type": "execute_result"
    },
    {
     "data": {
      "image/png": "[encoded data removed]",
      "text/plain": [
       "<Figure size 432x288 with 1 Axes>"
      ]
     },
     "metadata": {
      "needs_background": "light"
     },
     "output_type": "display_data"
    }
   ],
   "source": [
    "plt.plot(np.cumsum(pca_5.explained_variance_ratio_))\n",
    "plt.xlabel('number of components')\n",
    "plt.ylabel('explained variance')"
   ]
  },
  {
   "cell_type": "code",
   "execution_count": null,
   "id": "9d49e3ba-5e38-46c3-91d9-530aa45b846d",
   "metadata": {},
   "outputs": [],
   "source": []
  },
  {
   "cell_type": "code",
   "execution_count": 10,
   "id": "c8f71871-cd0a-4527-a9f8-caeee0d22371",
   "metadata": {},
   "outputs": [],
   "source": [
    "#Performing the PCA using the PCA model function from sklearn ; https://medium.com/data-science-365/principal-component-analysis-pca-with-scikit-learn-1e84a0c731b0\n",
    "pca_2 = PCA(n_components=2) #pca with 2 dimensions to see how well pca captures the variance of the data\n",
    "pca_2.fit(x)\n",
    "x_pca_2 = pca_2.transform(x)"
   ]
  },
  {
   "cell_type": "code",
   "execution_count": 11,
   "id": "725cec42-d03a-47e9-9343-b6c6739f90a2",
   "metadata": {},
   "outputs": [
    {
     "name": "stdout",
     "output_type": "stream",
     "text": [
      "variance explained by 2 principal components= 81.34703772622885\n"
     ]
    }
   ],
   "source": [
    "print('variance explained by 2 principal components=',sum(pca_2.explained_variance_ratio_ * 100)) # this should be 100% because we include all variables"
   ]
  },
  {
   "cell_type": "code",
   "execution_count": 12,
   "id": "65faf190-eb29-4b87-8942-22647076c7a3",
   "metadata": {},
   "outputs": [
    {
     "name": "stdout",
     "output_type": "stream",
     "text": [
      "the variance explained by variable:\n",
      "p_mean 0.47175370536010097\n",
      "ep_mean 0.3417166719021874\n"
     ]
    }
   ],
   "source": [
    "a = pca_2.explained_variance_ratio_\n",
    "print('the variance explained by variable:')\n",
    "print(columns[0], a[0])\n",
    "print(columns[1], a[1])"
   ]
  },
  {
   "cell_type": "code",
   "execution_count": 13,
   "id": "71801df1-2c9f-4f4e-a8d1-076ed3ea7d31",
   "metadata": {},
   "outputs": [
    {
     "data": {
      "text/plain": [
       "Text(0, 0.5, 'explained variance')"
      ]
     },
     "execution_count": 13,
     "metadata": {},
     "output_type": "execute_result"
    },
    {
     "data": {
      "image/png": "[encoded data removed]",
      "text/plain": [
       "<Figure size 432x288 with 1 Axes>"
      ]
     },
     "metadata": {
      "needs_background": "light"
     },
     "output_type": "display_data"
    }
   ],
   "source": [
    "plt.plot(np.cumsum(pca_2.explained_variance_ratio_))\n",
    "plt.xlabel('number of components')\n",
    "plt.ylabel('explained variance')"
   ]
  },
  {
   "cell_type": "code",
   "execution_count": 14,
   "id": "9a1b0f8d-ff19-4b79-a17b-0514b2ab17f2",
   "metadata": {},
   "outputs": [
    {
     "data": {
      "text/plain": [
       "Text(0, 0.5, 'PC2')"
      ]
     },
     "execution_count": 14,
     "metadata": {},
     "output_type": "execute_result"
    },
    {
     "data": {
      "image/png": "[encoded data removed]",
      "text/plain": [
       "<Figure size 432x288 with 1 Axes>"
      ]
     },
     "metadata": {
      "needs_background": "light"
     },
     "output_type": "display_data"
    }
   ],
   "source": [
    "plt.scatter(x_pca_2[:,0],x_pca_2[:,1])\n",
    "plt.xlabel('PC1')\n",
    "plt.ylabel('PC2')"
   ]
  },
  {
   "cell_type": "code",
   "execution_count": 15,
   "id": "4b253d6e-9ea8-4d2a-b3c7-16cf1bb16b3b",
   "metadata": {},
   "outputs": [],
   "source": [
    "#Performing the PCA using the PCA model function from sklearn ; https://medium.com/data-science-365/principal-component-analysis-pca-with-scikit-learn-1e84a0c731b0\n",
    "pca_95 = PCA(n_components=0.95) #pca with x dimensions so that we describe 95% of the variance to see how well pca captures the variance of the data\n",
    "pca_95.fit(x)\n",
    "x_pca_95 = pca_95.transform(x)"
   ]
  },
  {
   "cell_type": "code",
   "execution_count": 16,
   "id": "5d5e5a83-1328-4263-b6c4-6f39620bfa22",
   "metadata": {},
   "outputs": [
    {
     "name": "stdout",
     "output_type": "stream",
     "text": [
      "95% of the variance explained by # principal components= 3\n"
     ]
    }
   ],
   "source": [
    "print('95% of the variance explained by # principal components=',x_pca_95.shape[1]) # this should be 100% because we include all variables"
   ]
  },
  {
   "cell_type": "code",
   "execution_count": null,
   "id": "b9d0b87a-07e2-48c1-aeff-5bc1a8b63fb6",
   "metadata": {},
   "outputs": [],
   "source": []
  },
  {
   "cell_type": "code",
   "execution_count": null,
   "id": "7958196a-3277-4208-a0f7-32731d626759",
   "metadata": {},
   "outputs": [],
   "source": []
  },
  {
   "cell_type": "code",
   "execution_count": null,
   "id": "7c1b846d-b13f-465a-b884-afbfd103a985",
   "metadata": {},
   "outputs": [],
   "source": []
  },
  {
   "cell_type": "code",
   "execution_count": null,
   "id": "970032ad-d243-41f1-90c6-d5df6a80357d",
   "metadata": {},
   "outputs": [],
   "source": []
  },
  {
   "cell_type": "code",
   "execution_count": 65,
   "id": "f7ac784d-63bc-41c2-86ae-0915ea643100",
   "metadata": {},
   "outputs": [
    {
     "data": {
      "text/html": [
       "<div>\n",
       "<style scoped>\n",
       "    .dataframe tbody tr th:only-of-type {\n",
       "        vertical-align: middle;\n",
       "    }\n",
       "\n",
       "    .dataframe tbody tr th {\n",
       "        vertical-align: top;\n",
       "    }\n",
       "\n",
       "    .dataframe thead th {\n",
       "        text-align: right;\n",
       "    }\n",
       "</style>\n",
       "<table border=\"1\" class=\"dataframe\">\n",
       "  <thead>\n",
       "    <tr style=\"text-align: right;\">\n",
       "      <th></th>\n",
       "      <th>p_mean</th>\n",
       "      <th>ep_mean</th>\n",
       "      <th>t_mean</th>\n",
       "      <th>si_p</th>\n",
       "    </tr>\n",
       "  </thead>\n",
       "  <tbody>\n",
       "    <tr>\n",
       "      <th>0</th>\n",
       "      <td>0.752903</td>\n",
       "      <td>-0.094068</td>\n",
       "      <td>-0.600713</td>\n",
       "      <td>-0.434227</td>\n",
       "    </tr>\n",
       "    <tr>\n",
       "      <th>1</th>\n",
       "      <td>0.857766</td>\n",
       "      <td>1.132628</td>\n",
       "      <td>1.509826</td>\n",
       "      <td>1.557881</td>\n",
       "    </tr>\n",
       "    <tr>\n",
       "      <th>2</th>\n",
       "      <td>-1.333660</td>\n",
       "      <td>-1.100571</td>\n",
       "      <td>-1.071514</td>\n",
       "      <td>0.634418</td>\n",
       "    </tr>\n",
       "    <tr>\n",
       "      <th>3</th>\n",
       "      <td>0.068660</td>\n",
       "      <td>1.082946</td>\n",
       "      <td>1.416857</td>\n",
       "      <td>-0.089368</td>\n",
       "    </tr>\n",
       "    <tr>\n",
       "      <th>4</th>\n",
       "      <td>1.056098</td>\n",
       "      <td>1.134187</td>\n",
       "      <td>1.402927</td>\n",
       "      <td>1.566060</td>\n",
       "    </tr>\n",
       "    <tr>\n",
       "      <th>...</th>\n",
       "      <td>...</td>\n",
       "      <td>...</td>\n",
       "      <td>...</td>\n",
       "      <td>...</td>\n",
       "    </tr>\n",
       "    <tr>\n",
       "      <th>8641</th>\n",
       "      <td>0.122784</td>\n",
       "      <td>-0.378281</td>\n",
       "      <td>-1.175598</td>\n",
       "      <td>-0.634422</td>\n",
       "    </tr>\n",
       "    <tr>\n",
       "      <th>8642</th>\n",
       "      <td>0.282745</td>\n",
       "      <td>0.864856</td>\n",
       "      <td>0.658444</td>\n",
       "      <td>-0.749959</td>\n",
       "    </tr>\n",
       "    <tr>\n",
       "      <th>8643</th>\n",
       "      <td>-0.565530</td>\n",
       "      <td>-1.340792</td>\n",
       "      <td>-0.379206</td>\n",
       "      <td>-0.912599</td>\n",
       "    </tr>\n",
       "    <tr>\n",
       "      <th>8644</th>\n",
       "      <td>0.846373</td>\n",
       "      <td>1.510101</td>\n",
       "      <td>1.612009</td>\n",
       "      <td>1.613366</td>\n",
       "    </tr>\n",
       "    <tr>\n",
       "      <th>8645</th>\n",
       "      <td>-0.565809</td>\n",
       "      <td>-0.783669</td>\n",
       "      <td>-0.088663</td>\n",
       "      <td>-0.615323</td>\n",
       "    </tr>\n",
       "  </tbody>\n",
       "</table>\n",
       "<p>8646 rows × 4 columns</p>\n",
       "</div>"
      ],
      "text/plain": [
       "        p_mean   ep_mean    t_mean      si_p\n",
       "0     0.752903 -0.094068 -0.600713 -0.434227\n",
       "1     0.857766  1.132628  1.509826  1.557881\n",
       "2    -1.333660 -1.100571 -1.071514  0.634418\n",
       "3     0.068660  1.082946  1.416857 -0.089368\n",
       "4     1.056098  1.134187  1.402927  1.566060\n",
       "...        ...       ...       ...       ...\n",
       "8641  0.122784 -0.378281 -1.175598 -0.634422\n",
       "8642  0.282745  0.864856  0.658444 -0.749959\n",
       "8643 -0.565530 -1.340792 -0.379206 -0.912599\n",
       "8644  0.846373  1.510101  1.612009  1.613366\n",
       "8645 -0.565809 -0.783669 -0.088663 -0.615323\n",
       "\n",
       "[8646 rows x 4 columns]"
      ]
     },
     "execution_count": 65,
     "metadata": {},
     "output_type": "execute_result"
    }
   ],
   "source": [
    "columns = ['p_mean','ep_mean','t_mean','si_p']\n",
    "df_sel = df[columns].dropna() # select columns for PCA\n",
    "\n",
    "x = StandardScaler().fit_transform(df_sel) #standardize the values in columns to mean=0\n",
    "x = pd.DataFrame(x, columns=columns)\n",
    "\n",
    "x"
   ]
  },
  {
   "cell_type": "code",
   "execution_count": 75,
   "id": "2b1c046e-9448-497d-b81b-1b94548f72e3",
   "metadata": {},
   "outputs": [],
   "source": [
    "pca = PCA(n_components=2)\n",
    "components = pca.fit_transform(x)\n",
    "loadings = pca.components_.T * np.sqrt(pca.explained_variance_)\n",
    "\n",
    "# components = pca.fit_transform(X)\n",
    "\n",
    "loadings = pca.components_.T * np.sqrt(pca.explained_variance_)\n",
    "\n",
    "# Create dataframe\n",
    "pca_df = pd.DataFrame(data=components[:,0:2],columns=['PC1', 'PC2'])"
   ]
  },
  {
   "cell_type": "code",
   "execution_count": 76,
   "id": "ec9a0dbd-49c7-4da7-bdf8-b79c2b682d16",
   "metadata": {},
   "outputs": [
    {
     "data": {
      "text/plain": [
       "array([[ 0.61238799,  0.7113541 ],\n",
       "       [ 0.94981173,  0.05162552],\n",
       "       [ 0.92947668, -0.06339818],\n",
       "       [ 0.65055611, -0.65441258]])"
      ]
     },
     "execution_count": 76,
     "metadata": {},
     "output_type": "execute_result"
    }
   ],
   "source": [
    "loadings"
   ]
  },
  {
   "cell_type": "code",
   "execution_count": 77,
   "id": "b9e3a2d8-8bf6-49f9-9abb-38e373f270fd",
   "metadata": {},
   "outputs": [
    {
     "data": {
      "image/png": "[encoded data removed]",
      "text/plain": [
       "<Figure size 432x432 with 1 Axes>"
      ]
     },
     "metadata": {
      "needs_background": "light"
     },
     "output_type": "display_data"
    }
   ],
   "source": [
    "fig = plt.figure(figsize=(6,6))\n",
    "ax = fig.add_subplot(111)\n",
    "ax.scatter(pca_df.PC1,pca_df.PC2,s=1)\n",
    "for i in range(len(columns)):\n",
    "    ax.arrow(x=0,y=0,dx=loadings[i,0],dy=loadings[i,1],shape='full')\n",
    "    # ax.annotate(columns[i],(loadings[i,0],loadings[i,1]))\n"
   ]
  },
  {
   "cell_type": "code",
   "execution_count": 24,
   "id": "ba80b6a2-806e-4fa5-ae6e-8da13419c192",
   "metadata": {},
   "outputs": [
    {
     "ename": "ValueError",
     "evalue": "Input contains NaN, infinity or a value too large for dtype('float64').",
     "output_type": "error",
     "traceback": [
      "\u001b[0;31m---------------------------------------------------------------------------\u001b[0m",
      "\u001b[0;31mValueError\u001b[0m                                Traceback (most recent call last)",
      "\u001b[0;32m/tmp/ipykernel_27606/3054123705.py\u001b[0m in \u001b[0;36m<module>\u001b[0;34m\u001b[0m\n\u001b[1;32m      4\u001b[0m \u001b[0;34m\u001b[0m\u001b[0m\n\u001b[1;32m      5\u001b[0m \u001b[0mpca\u001b[0m \u001b[0;34m=\u001b[0m \u001b[0mPCA\u001b[0m\u001b[0;34m(\u001b[0m\u001b[0mn_components\u001b[0m\u001b[0;34m=\u001b[0m\u001b[0;36m2\u001b[0m\u001b[0;34m)\u001b[0m\u001b[0;34m\u001b[0m\u001b[0;34m\u001b[0m\u001b[0m\n\u001b[0;32m----> 6\u001b[0;31m \u001b[0mcomponents\u001b[0m \u001b[0;34m=\u001b[0m \u001b[0mpca\u001b[0m\u001b[0;34m.\u001b[0m\u001b[0mfit_transform\u001b[0m\u001b[0;34m(\u001b[0m\u001b[0mX\u001b[0m\u001b[0;34m)\u001b[0m\u001b[0;34m\u001b[0m\u001b[0;34m\u001b[0m\u001b[0m\n\u001b[0m\u001b[1;32m      7\u001b[0m \u001b[0;34m\u001b[0m\u001b[0m\n\u001b[1;32m      8\u001b[0m \u001b[0mloadings\u001b[0m \u001b[0;34m=\u001b[0m \u001b[0mpca\u001b[0m\u001b[0;34m.\u001b[0m\u001b[0mcomponents_\u001b[0m\u001b[0;34m.\u001b[0m\u001b[0mT\u001b[0m \u001b[0;34m*\u001b[0m \u001b[0mnp\u001b[0m\u001b[0;34m.\u001b[0m\u001b[0msqrt\u001b[0m\u001b[0;34m(\u001b[0m\u001b[0mpca\u001b[0m\u001b[0;34m.\u001b[0m\u001b[0mexplained_variance_\u001b[0m\u001b[0;34m)\u001b[0m\u001b[0;34m\u001b[0m\u001b[0;34m\u001b[0m\u001b[0m\n",
      "\u001b[0;32m~/miniconda3/envs/sr_env/lib/python3.9/site-packages/sklearn/decomposition/_pca.py\u001b[0m in \u001b[0;36mfit_transform\u001b[0;34m(self, X, y)\u001b[0m\n\u001b[1;32m    405\u001b[0m         \u001b[0mC\u001b[0m\u001b[0;34m-\u001b[0m\u001b[0mordered\u001b[0m \u001b[0marray\u001b[0m\u001b[0;34m,\u001b[0m \u001b[0muse\u001b[0m \u001b[0;34m'np.ascontiguousarray'\u001b[0m\u001b[0;34m.\u001b[0m\u001b[0;34m\u001b[0m\u001b[0;34m\u001b[0m\u001b[0m\n\u001b[1;32m    406\u001b[0m         \"\"\"\n\u001b[0;32m--> 407\u001b[0;31m         \u001b[0mU\u001b[0m\u001b[0;34m,\u001b[0m \u001b[0mS\u001b[0m\u001b[0;34m,\u001b[0m \u001b[0mVt\u001b[0m \u001b[0;34m=\u001b[0m \u001b[0mself\u001b[0m\u001b[0;34m.\u001b[0m\u001b[0m_fit\u001b[0m\u001b[0;34m(\u001b[0m\u001b[0mX\u001b[0m\u001b[0;34m)\u001b[0m\u001b[0;34m\u001b[0m\u001b[0;34m\u001b[0m\u001b[0m\n\u001b[0m\u001b[1;32m    408\u001b[0m         \u001b[0mU\u001b[0m \u001b[0;34m=\u001b[0m \u001b[0mU\u001b[0m\u001b[0;34m[\u001b[0m\u001b[0;34m:\u001b[0m\u001b[0;34m,\u001b[0m \u001b[0;34m:\u001b[0m \u001b[0mself\u001b[0m\u001b[0;34m.\u001b[0m\u001b[0mn_components_\u001b[0m\u001b[0;34m]\u001b[0m\u001b[0;34m\u001b[0m\u001b[0;34m\u001b[0m\u001b[0m\n\u001b[1;32m    409\u001b[0m \u001b[0;34m\u001b[0m\u001b[0m\n",
      "\u001b[0;32m~/miniconda3/envs/sr_env/lib/python3.9/site-packages/sklearn/decomposition/_pca.py\u001b[0m in \u001b[0;36m_fit\u001b[0;34m(self, X)\u001b[0m\n\u001b[1;32m    428\u001b[0m             )\n\u001b[1;32m    429\u001b[0m \u001b[0;34m\u001b[0m\u001b[0m\n\u001b[0;32m--> 430\u001b[0;31m         X = self._validate_data(\n\u001b[0m\u001b[1;32m    431\u001b[0m             \u001b[0mX\u001b[0m\u001b[0;34m,\u001b[0m \u001b[0mdtype\u001b[0m\u001b[0;34m=\u001b[0m\u001b[0;34m[\u001b[0m\u001b[0mnp\u001b[0m\u001b[0;34m.\u001b[0m\u001b[0mfloat64\u001b[0m\u001b[0;34m,\u001b[0m \u001b[0mnp\u001b[0m\u001b[0;34m.\u001b[0m\u001b[0mfloat32\u001b[0m\u001b[0;34m]\u001b[0m\u001b[0;34m,\u001b[0m \u001b[0mensure_2d\u001b[0m\u001b[0;34m=\u001b[0m\u001b[0;32mTrue\u001b[0m\u001b[0;34m,\u001b[0m \u001b[0mcopy\u001b[0m\u001b[0;34m=\u001b[0m\u001b[0mself\u001b[0m\u001b[0;34m.\u001b[0m\u001b[0mcopy\u001b[0m\u001b[0;34m\u001b[0m\u001b[0;34m\u001b[0m\u001b[0m\n\u001b[1;32m    432\u001b[0m         )\n",
      "\u001b[0;32m~/miniconda3/envs/sr_env/lib/python3.9/site-packages/sklearn/base.py\u001b[0m in \u001b[0;36m_validate_data\u001b[0;34m(self, X, y, reset, validate_separately, **check_params)\u001b[0m\n\u001b[1;32m    559\u001b[0m             \u001b[0;32mraise\u001b[0m \u001b[0mValueError\u001b[0m\u001b[0;34m(\u001b[0m\u001b[0;34m\"Validation should be done on X, y or both.\"\u001b[0m\u001b[0;34m)\u001b[0m\u001b[0;34m\u001b[0m\u001b[0;34m\u001b[0m\u001b[0m\n\u001b[1;32m    560\u001b[0m         \u001b[0;32melif\u001b[0m \u001b[0;32mnot\u001b[0m \u001b[0mno_val_X\u001b[0m \u001b[0;32mand\u001b[0m \u001b[0mno_val_y\u001b[0m\u001b[0;34m:\u001b[0m\u001b[0;34m\u001b[0m\u001b[0;34m\u001b[0m\u001b[0m\n\u001b[0;32m--> 561\u001b[0;31m             \u001b[0mX\u001b[0m \u001b[0;34m=\u001b[0m \u001b[0mcheck_array\u001b[0m\u001b[0;34m(\u001b[0m\u001b[0mX\u001b[0m\u001b[0;34m,\u001b[0m \u001b[0;34m**\u001b[0m\u001b[0mcheck_params\u001b[0m\u001b[0;34m)\u001b[0m\u001b[0;34m\u001b[0m\u001b[0;34m\u001b[0m\u001b[0m\n\u001b[0m\u001b[1;32m    562\u001b[0m             \u001b[0mout\u001b[0m \u001b[0;34m=\u001b[0m \u001b[0mX\u001b[0m\u001b[0;34m\u001b[0m\u001b[0;34m\u001b[0m\u001b[0m\n\u001b[1;32m    563\u001b[0m         \u001b[0;32melif\u001b[0m \u001b[0mno_val_X\u001b[0m \u001b[0;32mand\u001b[0m \u001b[0;32mnot\u001b[0m \u001b[0mno_val_y\u001b[0m\u001b[0;34m:\u001b[0m\u001b[0;34m\u001b[0m\u001b[0;34m\u001b[0m\u001b[0m\n",
      "\u001b[0;32m~/miniconda3/envs/sr_env/lib/python3.9/site-packages/sklearn/utils/validation.py\u001b[0m in \u001b[0;36mcheck_array\u001b[0;34m(array, accept_sparse, accept_large_sparse, dtype, order, copy, force_all_finite, ensure_2d, allow_nd, ensure_min_samples, ensure_min_features, estimator)\u001b[0m\n\u001b[1;32m    790\u001b[0m \u001b[0;34m\u001b[0m\u001b[0m\n\u001b[1;32m    791\u001b[0m         \u001b[0;32mif\u001b[0m \u001b[0mforce_all_finite\u001b[0m\u001b[0;34m:\u001b[0m\u001b[0;34m\u001b[0m\u001b[0;34m\u001b[0m\u001b[0m\n\u001b[0;32m--> 792\u001b[0;31m             \u001b[0m_assert_all_finite\u001b[0m\u001b[0;34m(\u001b[0m\u001b[0marray\u001b[0m\u001b[0;34m,\u001b[0m \u001b[0mallow_nan\u001b[0m\u001b[0;34m=\u001b[0m\u001b[0mforce_all_finite\u001b[0m \u001b[0;34m==\u001b[0m \u001b[0;34m\"allow-nan\"\u001b[0m\u001b[0;34m)\u001b[0m\u001b[0;34m\u001b[0m\u001b[0;34m\u001b[0m\u001b[0m\n\u001b[0m\u001b[1;32m    793\u001b[0m \u001b[0;34m\u001b[0m\u001b[0m\n\u001b[1;32m    794\u001b[0m     \u001b[0;32mif\u001b[0m \u001b[0mensure_min_samples\u001b[0m \u001b[0;34m>\u001b[0m \u001b[0;36m0\u001b[0m\u001b[0;34m:\u001b[0m\u001b[0;34m\u001b[0m\u001b[0;34m\u001b[0m\u001b[0m\n",
      "\u001b[0;32m~/miniconda3/envs/sr_env/lib/python3.9/site-packages/sklearn/utils/validation.py\u001b[0m in \u001b[0;36m_assert_all_finite\u001b[0;34m(X, allow_nan, msg_dtype)\u001b[0m\n\u001b[1;32m    112\u001b[0m         ):\n\u001b[1;32m    113\u001b[0m             \u001b[0mtype_err\u001b[0m \u001b[0;34m=\u001b[0m \u001b[0;34m\"infinity\"\u001b[0m \u001b[0;32mif\u001b[0m \u001b[0mallow_nan\u001b[0m \u001b[0;32melse\u001b[0m \u001b[0;34m\"NaN, infinity\"\u001b[0m\u001b[0;34m\u001b[0m\u001b[0;34m\u001b[0m\u001b[0m\n\u001b[0;32m--> 114\u001b[0;31m             raise ValueError(\n\u001b[0m\u001b[1;32m    115\u001b[0m                 msg_err.format(\n\u001b[1;32m    116\u001b[0m                     \u001b[0mtype_err\u001b[0m\u001b[0;34m,\u001b[0m \u001b[0mmsg_dtype\u001b[0m \u001b[0;32mif\u001b[0m \u001b[0mmsg_dtype\u001b[0m \u001b[0;32mis\u001b[0m \u001b[0;32mnot\u001b[0m \u001b[0;32mNone\u001b[0m \u001b[0;32melse\u001b[0m \u001b[0mX\u001b[0m\u001b[0;34m.\u001b[0m\u001b[0mdtype\u001b[0m\u001b[0;34m\u001b[0m\u001b[0;34m\u001b[0m\u001b[0m\n",
      "\u001b[0;31mValueError\u001b[0m: Input contains NaN, infinity or a value too large for dtype('float64')."
     ]
    }
   ],
   "source": [
    "df = df\n",
    "features = columns\n",
    "X = df[features]\n",
    "\n",
    "pca = PCA(n_components=2)\n",
    "components = pca.fit_transform(X)\n",
    "\n",
    "loadings = pca.components_.T * np.sqrt(pca.explained_variance_)\n",
    "\n",
    "fig = px.scatter(components, x=0, y=1)\n",
    "\n",
    "for i, feature in enumerate(features):\n",
    "    fig.add_annotation(\n",
    "        ax=0, ay=0,\n",
    "        axref=\"x\", ayref=\"y\",\n",
    "        x=loadings[i, 0],\n",
    "        y=loadings[i, 1],\n",
    "        showarrow=True,\n",
    "        arrowsize=2,\n",
    "        arrowhead=2,\n",
    "        xanchor=\"right\",\n",
    "        yanchor=\"top\"\n",
    "    )\n",
    "    fig.add_annotation(\n",
    "        x=loadings[i, 0],\n",
    "        y=loadings[i, 1],\n",
    "        ax=0, ay=0,\n",
    "        xanchor=\"center\",\n",
    "        yanchor=\"bottom\",\n",
    "        text=feature,\n",
    "        yshift=5,\n",
    "    )\n",
    "fig.show()"
   ]
  },
  {
   "cell_type": "code",
   "execution_count": null,
   "id": "78fa81c4-cd77-4169-af5c-22b31a8ebfdb",
   "metadata": {},
   "outputs": [],
   "source": []
  },
  {
   "cell_type": "code",
   "execution_count": 23,
   "id": "d9045349-3704-4883-80e9-bfbe0462a0bc",
   "metadata": {},
   "outputs": [],
   "source": [
    "df = pd.read_csv(f,index_col=0)\n",
    "df = df.dropna()\n",
    "features = ['p_mean','ep_mean','t_mean','ai','tdiff_max','slp_mean','el_mean','si_p','si_ep']\n",
    "X = df[features]\n",
    "X = StandardScaler().fit_transform(X) #standardize all values\n",
    "X = pd.DataFrame(X,columns=features)\n",
    "\n",
    "pca = PCA(n_components=9)\n",
    "components = pca.fit_transform(X)\n",
    "\n",
    "loadings = pca.components_.T * np.sqrt(pca.explained_variance_)\n",
    " \n",
    "# Create dataframe\n",
    "pca_df = pd.DataFrame(data=components[:,0:2],columns=['PC1', 'PC2'])"
   ]
  },
  {
   "cell_type": "code",
   "execution_count": 24,
   "id": "eb68c3d6-22cf-44bf-bf9d-78a77bc3677b",
   "metadata": {},
   "outputs": [
    {
     "data": {
      "text/html": [
       "<div>\n",
       "<style scoped>\n",
       "    .dataframe tbody tr th:only-of-type {\n",
       "        vertical-align: middle;\n",
       "    }\n",
       "\n",
       "    .dataframe tbody tr th {\n",
       "        vertical-align: top;\n",
       "    }\n",
       "\n",
       "    .dataframe thead th {\n",
       "        text-align: right;\n",
       "    }\n",
       "</style>\n",
       "<table border=\"1\" class=\"dataframe\">\n",
       "  <thead>\n",
       "    <tr style=\"text-align: right;\">\n",
       "      <th></th>\n",
       "      <th>PC1</th>\n",
       "      <th>PC2</th>\n",
       "    </tr>\n",
       "  </thead>\n",
       "  <tbody>\n",
       "    <tr>\n",
       "      <th>0</th>\n",
       "      <td>-0.052475</td>\n",
       "      <td>0.082496</td>\n",
       "    </tr>\n",
       "    <tr>\n",
       "      <th>1</th>\n",
       "      <td>0.304863</td>\n",
       "      <td>-0.010878</td>\n",
       "    </tr>\n",
       "    <tr>\n",
       "      <th>2</th>\n",
       "      <td>-0.269558</td>\n",
       "      <td>-0.114378</td>\n",
       "    </tr>\n",
       "    <tr>\n",
       "      <th>3</th>\n",
       "      <td>0.220664</td>\n",
       "      <td>-0.016619</td>\n",
       "    </tr>\n",
       "    <tr>\n",
       "      <th>4</th>\n",
       "      <td>0.302555</td>\n",
       "      <td>-0.000043</td>\n",
       "    </tr>\n",
       "    <tr>\n",
       "      <th>...</th>\n",
       "      <td>...</td>\n",
       "      <td>...</td>\n",
       "    </tr>\n",
       "    <tr>\n",
       "      <th>7891</th>\n",
       "      <td>-0.195808</td>\n",
       "      <td>0.044350</td>\n",
       "    </tr>\n",
       "    <tr>\n",
       "      <th>7892</th>\n",
       "      <td>0.072096</td>\n",
       "      <td>0.011938</td>\n",
       "    </tr>\n",
       "    <tr>\n",
       "      <th>7893</th>\n",
       "      <td>-0.152355</td>\n",
       "      <td>0.053210</td>\n",
       "    </tr>\n",
       "    <tr>\n",
       "      <th>7894</th>\n",
       "      <td>0.348752</td>\n",
       "      <td>-0.016537</td>\n",
       "    </tr>\n",
       "    <tr>\n",
       "      <th>7895</th>\n",
       "      <td>-0.090993</td>\n",
       "      <td>0.004255</td>\n",
       "    </tr>\n",
       "  </tbody>\n",
       "</table>\n",
       "<p>7896 rows × 2 columns</p>\n",
       "</div>"
      ],
      "text/plain": [
       "           PC1       PC2\n",
       "0    -0.052475  0.082496\n",
       "1     0.304863 -0.010878\n",
       "2    -0.269558 -0.114378\n",
       "3     0.220664 -0.016619\n",
       "4     0.302555 -0.000043\n",
       "...        ...       ...\n",
       "7891 -0.195808  0.044350\n",
       "7892  0.072096  0.011938\n",
       "7893 -0.152355  0.053210\n",
       "7894  0.348752 -0.016537\n",
       "7895 -0.090993  0.004255\n",
       "\n",
       "[7896 rows x 2 columns]"
      ]
     },
     "execution_count": 24,
     "metadata": {},
     "output_type": "execute_result"
    }
   ],
   "source": [
    "pca_df_scaled = pca_df.copy()\n",
    " \n",
    "scaler_df = pca_df[['PC1', 'PC2']]\n",
    "scaler = 1 / (scaler_df.max() - scaler_df.min())\n",
    " \n",
    "for index in scaler.index:\n",
    "    pca_df_scaled[index] *= scaler[index]\n",
    " \n",
    "pca_df_scaled"
   ]
  },
  {
   "cell_type": "code",
   "execution_count": 25,
   "id": "bd66a9a4-00ae-4873-959b-63a8fed3199c",
   "metadata": {},
   "outputs": [
    {
     "data": {
      "text/plain": [
       "array([47.8, 20.4, 18.9,  5.2,  3.6,  2.7,  0.7,  0.5,  0.3])"
      ]
     },
     "execution_count": 25,
     "metadata": {},
     "output_type": "execute_result"
    }
   ],
   "source": [
    "per_var  = np.round(pca.explained_variance_ratio_ * 100, decimals=1)\n",
    "per_var"
   ]
  },
  {
   "cell_type": "code",
   "execution_count": 26,
   "id": "ca1127ef-d47c-432c-9064-83ffa33d0f06",
   "metadata": {},
   "outputs": [
    {
     "data": {
      "text/plain": [
       "Text(0, 0.5, 'PC2')"
      ]
     },
     "execution_count": 26,
     "metadata": {},
     "output_type": "execute_result"
    },
    {
     "data": {
      "image/png": "[encoded data removed]",
      "text/plain": [
       "<Figure size 432x432 with 1 Axes>"
      ]
     },
     "metadata": {
      "needs_background": "light"
     },
     "output_type": "display_data"
    }
   ],
   "source": [
    "xs = loadings[0]\n",
    "ys = loadings[1]\n",
    "\n",
    "fig=plt.figure(figsize=(6,6))\n",
    "ax = fig.add_subplot(111)\n",
    "ax.scatter(pca_df.PC1,pca_df.PC2,s=0.5)\n",
    "\n",
    "for i, varnames in enumerate(features):\n",
    "#     plt.scatter(xs[i], ys[i], s=200)\n",
    "    ax.arrow(\n",
    "        0, 0, # coordinates of arrow base\n",
    "        xs[i], # length of the arrow along x\n",
    "        ys[i], # length of the arrow along y\n",
    "        color='r',\n",
    "        head_width=0.02\n",
    "        )\n",
    "    ax.text(xs[i], ys[i], varnames)\n",
    "    \n",
    "# xticks = np.linspace(-0.8, 0.8, num=5)\n",
    "# yticks = np.linspace(-0.8, 0.8, num=5)\n",
    "# ax.set_xticks(xticks)\n",
    "# ax.set_yticks(yticks)\n",
    "ax.set_xlabel('PC1')\n",
    "ax.set_ylabel('PC2')"
   ]
  },
  {
   "cell_type": "code",
   "execution_count": null,
   "id": "6d07b619-fc63-4eb1-9aac-fec3ce7f7f13",
   "metadata": {},
   "outputs": [],
   "source": []
  },
  {
   "cell_type": "code",
   "execution_count": null,
   "id": "f5095a2b-a713-4b8c-a25a-0f51cddfbdc1",
   "metadata": {},
   "outputs": [],
   "source": []
  },
  {
   "cell_type": "code",
   "execution_count": null,
   "id": "03dbbe96-9875-4a2d-bc60-a6b4a0b1496c",
   "metadata": {},
   "outputs": [],
   "source": [
    "#Identify the number of clusters\n",
    "kmeans = KMeans(6)\n",
    "kmeans.fit(x_pca)\n",
    "\n",
    "#Identify the clusters\n",
    "identified_clusters = kmeans.fit_predict(x_pca)\n",
    "labels = kmeans.labels_\n",
    "\n",
    "data_with_clusters = x_pca.copy()\n",
    "data_with_clusters['Clusters'] = identified_clusters"
   ]
  }
 ],
 "metadata": {
  "kernelspec": {
   "display_name": "Python 3 (ipykernel)",
   "language": "python",
   "name": "python3"
  },
  "language_info": {
   "codemirror_mode": {
    "name": "ipython",
    "version": 3
   },
   "file_extension": ".py",
   "mimetype": "text/x-python",
   "name": "python",
   "nbconvert_exporter": "python",
   "pygments_lexer": "ipython3",
   "version": "3.9.7"
  }
 },
 "nbformat": 4,
 "nbformat_minor": 5
}
