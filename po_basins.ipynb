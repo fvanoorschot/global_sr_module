{
 "cells": [
  {
   "cell_type": "code",
   "execution_count": 1,
   "id": "f534d4b4-bad9-4fcc-bb79-7e3efaa4ada7",
   "metadata": {},
   "outputs": [],
   "source": [
    "# import packages\n",
    "import glob\n",
    "from pathlib import Path\n",
    "import os\n",
    "import numpy as np\n",
    "from datetime import datetime\n",
    "from datetime import timedelta\n",
    "import pandas as pd\n",
    "import calendar\n",
    "import geopandas as gpd\n",
    "import cartopy\n",
    "import matplotlib.pyplot as plt\n",
    "import math\n",
    "from pathos.threading import ThreadPool as Pool\n",
    "from scipy.optimize import least_squares\n",
    "import sklearn\n",
    "from sklearn.linear_model import LinearRegression\n",
    "from scipy.stats import gaussian_kde\n",
    "import statsmodels.api as sm\n",
    "from statsmodels.regression.linear_model import OLS\n",
    "from statsmodels.tools import add_constant\n",
    "import matplotlib as mpl\n",
    "import random\n",
    "from scipy.optimize import minimize\n",
    "import cartopy.crs as ccrs\n",
    "from matplotlib.colors import ListedColormap, LinearSegmentedColormap"
   ]
  },
  {
   "cell_type": "code",
   "execution_count": 2,
   "id": "67acf644-bdad-4dbd-b11d-a4bd375279f2",
   "metadata": {},
   "outputs": [],
   "source": [
    "work_dir=Path(\"/mnt/u/LSM root zone/global_sr\")\n",
    "# work_dir=Path(\"/mnt/c/Users/fransjevanoors/Documents\")"
   ]
  },
  {
   "cell_type": "code",
   "execution_count": 4,
   "id": "f677fc6f-b872-486f-aa07-5724bbb1b076",
   "metadata": {},
   "outputs": [],
   "source": [
    "df = pd.read_csv(f'{work_dir}/data/po_basin/Timeseries_PO_IT.csv',index_col=0,delimiter=';')\n",
    "c = pd.read_csv(f'{work_dir}/data/po_basin/PO_basin_locations_2.csv',index_col=0,delimiter=';', encoding='latin-1')\n",
    "# c = c.drop('Ponte Bacchello', 'index')\n",
    "# df = df.drop('Ponte Bacchello.1','columns')"
   ]
  },
  {
   "cell_type": "code",
   "execution_count": 5,
   "id": "d912332e-b615-4013-b7ca-de9d03b4347c",
   "metadata": {},
   "outputs": [],
   "source": [
    "ddf = pd.DataFrame(index=df.columns, columns=['start_year','end_year','length','X','Y'])"
   ]
  },
  {
   "cell_type": "code",
   "execution_count": 6,
   "id": "c7201e3a-f710-43d2-85b3-65c789dfdcd2",
   "metadata": {},
   "outputs": [],
   "source": [
    "for i in df.columns[:]:\n",
    "    d = df[i]\n",
    "    d = d.dropna()\n",
    "    d.index = pd.to_datetime(d.index)\n",
    "    d = d.loc[:'2010-12-31']\n",
    "    if len(d)>0:\n",
    "        sy = d.index[0].year\n",
    "        ey = d.index[-1].year\n",
    "        x = c.loc[i]['X']\n",
    "        y = c.loc[i]['Y']\n",
    "        ddf.loc[i]['start_year'] = sy\n",
    "        ddf.loc[i]['end_year'] = ey\n",
    "        ddf.loc[i]['length'] = ey-sy\n",
    "        ddf.loc[i]['X'] = x\n",
    "        ddf.loc[i]['Y'] = y\n",
    "        \n",
    "    d.to_csv(f'{work_dir}/data/po_basin/q_timeseries/{i}.csv')\n",
    "ddf.to_csv(f'{work_dir}/data/po_basin/po_basin_characteristics.csv')"
   ]
  },
  {
   "cell_type": "code",
   "execution_count": 9,
   "id": "137de975-3f22-41d6-a7ca-f43b9f3d8bce",
   "metadata": {},
   "outputs": [],
   "source": [
    "p=ddf[ddf.length>9]\n",
    "p.to_csv(f'{work_dir}/data/po_basin/po_basin_characteristics_selected.csv')"
   ]
  },
  {
   "cell_type": "code",
   "execution_count": 8,
   "id": "fe589feb-14ca-4381-8c3e-74988604a7eb",
   "metadata": {},
   "outputs": [
    {
     "data": {
      "text/plain": [
       "56"
      ]
     },
     "execution_count": 8,
     "metadata": {},
     "output_type": "execute_result"
    }
   ],
   "source": [
    "len(p)"
   ]
  },
  {
   "cell_type": "code",
   "execution_count": 13,
   "id": "c6a57165-8e60-4aea-95e7-57361636901a",
   "metadata": {},
   "outputs": [],
   "source": [
    "pp = p[['X','Y']]\n",
    "pp.to_csv(f'{work_dir}/data/po_basin/po_basin_locations_selected.csv')"
   ]
  },
  {
   "cell_type": "code",
   "execution_count": null,
   "id": "292758cf-a32b-41c4-9bec-82752bf31bd7",
   "metadata": {},
   "outputs": [],
   "source": []
  }
 ],
 "metadata": {
  "kernelspec": {
   "display_name": "Python 3 (ipykernel)",
   "language": "python",
   "name": "python3"
  },
  "language_info": {
   "codemirror_mode": {
    "name": "ipython",
    "version": 3
   },
   "file_extension": ".py",
   "mimetype": "text/x-python",
   "name": "python",
   "nbconvert_exporter": "python",
   "pygments_lexer": "ipython3",
   "version": "3.9.7"
  }
 },
 "nbformat": 4,
 "nbformat_minor": 5
}
