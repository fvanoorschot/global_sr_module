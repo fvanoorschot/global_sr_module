{
 "cells": [
  {
   "cell_type": "code",
   "execution_count": 2,
   "id": "2927643c-a70f-48c4-9114-6ab8c2db3b69",
   "metadata": {},
   "outputs": [],
   "source": [
    "# import packages\n",
    "import numpy as np\n",
    "from datetime import datetime\n",
    "from datetime import timedelta\n",
    "import pandas as pd\n",
    "import matplotlib.pyplot as plt\n",
    "import matplotlib as mpl\n",
    "import math\n",
    "from matplotlib.colors import ListedColormap, LinearSegmentedColormap\n",
    "from matplotlib import cm\n",
    "import matplotlib\n",
    "import cartopy.crs as ccrs\n",
    "import cartopy\n",
    "from pathlib import Path\n",
    "import glob\n",
    "import os\n",
    "import shutil\n",
    "import geopandas as gpd"
   ]
  },
  {
   "cell_type": "code",
   "execution_count": 3,
   "id": "6c8b0fa2-7736-47e1-9bdc-72a6ab6e6944",
   "metadata": {},
   "outputs": [],
   "source": [
    "work_dir=Path(\"/mnt/u/LSM root zone/\")"
   ]
  },
  {
   "cell_type": "code",
   "execution_count": 59,
   "id": "11d1b024-c2bb-4d3e-9b35-2f209efa8842",
   "metadata": {},
   "outputs": [],
   "source": [
    "u = pd.read_csv(f'{work_dir}/global_sr_data/us/CAMELS/us_camels_attributes.csv',index_col=0)\n",
    "uids = u.index\n",
    "np.savetxt(f'{work_dir}/global_sr/output/us_camels_ids.txt',uids,fmt='%s')"
   ]
  },
  {
   "cell_type": "code",
   "execution_count": 11,
   "id": "2fc3c41d-348d-43f7-bf5d-e2b986739c22",
   "metadata": {},
   "outputs": [
    {
     "data": {
      "image/png": "[encoded data removed]",
      "text/plain": [
       "<Figure size 576x576 with 1 Axes>"
      ]
     },
     "metadata": {
      "needs_background": "light"
     },
     "output_type": "display_data"
    }
   ],
   "source": [
    "lat_min,lat_max= 25,51\n",
    "lon_min,lon_max= -130,-60\n",
    "fig = plt.figure(figsize=(8,8))\n",
    "ax = plt.axes(projection=ccrs.PlateCarree())\n",
    "ax.coastlines(linewidth=0.001)\n",
    "ax.add_feature(cartopy.feature.OCEAN, zorder=100,facecolor='whitesmoke', edgecolor='k',linewidth=0.12)\n",
    "ax.set_global()\n",
    "ax.set_xlim(lon_min,lon_max)\n",
    "ax.set_ylim(lat_min,lat_max)\n",
    "s = ax.scatter(u.gauge_lon,u.gauge_lat)\n"
   ]
  },
  {
   "cell_type": "code",
   "execution_count": 26,
   "id": "de1fa03f-a040-435d-bd03-88d59357b02a",
   "metadata": {},
   "outputs": [],
   "source": [
    "# copy q p ep t timeseries to global_sr folders\n",
    "c_list=[]\n",
    "for filepath in glob.iglob(f'{work_dir}/global_sr_data/us/q_p_ep_timeseries/individual_catchments/*.csv'):\n",
    "    f = os.path.split(filepath)[1] # remove full path\n",
    "    a = pd.read_csv(filepath,index_col=0)\n",
    "    a = a.rename(columns={'q_camels':'Q','p_gswp':'p','t_gswp':'tas','ep_gleam':'ep'})\n",
    "    q = a['Q']\n",
    "    q.to_csv(f'{work_dir}/global_sr/output/q_timeseries_selected/{f[:-4]}.csv')\n",
    "    \n",
    "    b = a[['p','tas','ep']]\n",
    "    b.to_csv(f'{work_dir}/global_sr/output/forcing_timeseries/processed/daily/{f[:-4]}_1981_2010.csv')\n"
   ]
  },
  {
   "cell_type": "code",
   "execution_count": 155,
   "id": "d6f0f87a-3a61-465e-b064-180e42f4e987",
   "metadata": {},
   "outputs": [],
   "source": [
    "# add areas to area.csv\n",
    "area = pd.read_csv(f'{work_dir}/global_sr/output/catchment_area.csv',index_col=0)\n",
    "u = pd.read_csv(f'{work_dir}/global_sr_data/us/CAMELS/us_camels_attributes.csv',index_col=0)\n",
    "u = u.rename(columns={'area_gages2':'area'})\n",
    "# u = u['area']\n",
    "ids = np.concatenate([u.index,area.index])\n",
    "a = pd.DataFrame(index=ids, columns=['area'])\n",
    "a.loc[u.index,'area'] = u.area.values\n",
    "a.loc[area.index,'area'] = area.area.values\n",
    "a.to_csv(f'{work_dir}/global_sr/output/catchment_area2.csv')"
   ]
  },
  {
   "cell_type": "code",
   "execution_count": 57,
   "id": "95447306-8139-42b3-aed5-57c46a381654",
   "metadata": {},
   "outputs": [],
   "source": [
    "# shapes\n",
    "s = gpd.read_file(f'{work_dir}/global_sr_data/catchment_shapes/HCDN_nhru_final_671.shp')\n",
    "for i in range(len(s)):\n",
    "    ss = s.iloc[i]\n",
    "    sid = ss.hru_id\n",
    "    b = gpd.GeoSeries(ss.geometry)\n",
    "    b.to_file(f'{work_dir}/global_sr_data/us/individual_shapes/{sid}.shp')"
   ]
  },
  {
   "cell_type": "code",
   "execution_count": 29,
   "id": "367fb63b-d49e-4ad1-af80-8069f7ef3bc7",
   "metadata": {},
   "outputs": [],
   "source": [
    "# treecover\n",
    "t = pd.read_csv(f'{work_dir}/global_sr/output/treecover/gsim_shapes_treecover_italy.csv',index_col=0)\n",
    "utc = pd.read_csv(f'{work_dir}/global_sr_data/google_earth_engine/tree_cover_csv/us_tree_nontree_cover.csv',index_col=0)\n",
    "utc = utc.rename(columns={'non_veg':'mean_nonveg'})\n",
    "t = t[:-1342]\n",
    "tt = pd.concat([t,utc])\n",
    "# tt = tt.drop(columns='non_veg')\n",
    "tt.to_csv(f'{work_dir}/global_sr/output/treecover/gsim_shapes_treecover_italy.csv')"
   ]
  },
  {
   "cell_type": "code",
   "execution_count": 73,
   "id": "19fa610b-a780-4d6e-a2a7-51586b5552b3",
   "metadata": {},
   "outputs": [],
   "source": [
    "# soiltypes\n",
    "c1 = pd.read_csv(f'{work_dir}/global_sr/output/soil_types/processed/carb.csv',index_col=0)\n",
    "c2 = pd.read_csv(f'{work_dir}/global_sr/output/soil_types/ee_output/carb_shp_us.csv',index_col=0)\n",
    "c2.index = c2.hru_id\n",
    "c2 = c2[['max','mean','median','min']]\n",
    "c = pd.concat([c1,c2])\n",
    "c.to_csv(f'{work_dir}/global_sr/output/soil_types/processed/carb.csv')\n",
    "\n",
    "c1 = pd.read_csv(f'{work_dir}/global_sr/output/soil_types/processed/clay.csv',index_col=0)\n",
    "c2 = pd.read_csv(f'{work_dir}/global_sr/output/soil_types/ee_output/clay_shp_us.csv',index_col=0)\n",
    "c2.index = c2.hru_id\n",
    "c2 = c2[['max','mean','median','min']]\n",
    "c = pd.concat([c1,c2])\n",
    "c.to_csv(f'{work_dir}/global_sr/output/soil_types/processed/clay.csv')\n",
    "\n",
    "c1 = pd.read_csv(f'{work_dir}/global_sr/output/soil_types/processed/sand.csv',index_col=0)\n",
    "c2 = pd.read_csv(f'{work_dir}/global_sr/output/soil_types/ee_output/sand_shp_us.csv',index_col=0)\n",
    "c2.index = c2.hru_id\n",
    "c2 = c2[['max','mean','median','min']]\n",
    "c = pd.concat([c1,c2])\n",
    "c.to_csv(f'{work_dir}/global_sr/output/soil_types/processed/sand.csv')"
   ]
  },
  {
   "cell_type": "code",
   "execution_count": 111,
   "id": "47ee9c8e-dc2b-4c3b-a4cd-26bb544667da",
   "metadata": {},
   "outputs": [],
   "source": [
    "# lat lon\n",
    "e = pd.read_csv(f'{work_dir}/global_sr/output/lat_lon_catchment_outlets.csv', index_col=0)\n",
    "u = pd.read_csv(f'{work_dir}/global_sr_data/us/CAMELS/us_camels_attributes.csv',index_col=0)\n",
    "u = u.rename(columns={'gauge_lon':'lon','gauge_lat':'lat'})\n",
    "u = u[['lat','lon']]\n",
    "a = pd.concat([e,u])\n",
    "a.to_csv(f'{work_dir}/global_sr/output/lat_lon_catchment_outlets.csv')"
   ]
  },
  {
   "cell_type": "code",
   "execution_count": null,
   "id": "73b14d81-61a2-4f7a-ac1c-8bccca0522e3",
   "metadata": {},
   "outputs": [],
   "source": []
  }
 ],
 "metadata": {
  "kernelspec": {
   "display_name": "Python 3 (ipykernel)",
   "language": "python",
   "name": "python3"
  },
  "language_info": {
   "codemirror_mode": {
    "name": "ipython",
    "version": 3
   },
   "file_extension": ".py",
   "mimetype": "text/x-python",
   "name": "python",
   "nbconvert_exporter": "python",
   "pygments_lexer": "ipython3",
   "version": "3.9.7"
  }
 },
 "nbformat": 4,
 "nbformat_minor": 5
}
