{
 "cells": [
  {
   "cell_type": "code",
   "execution_count": 1,
   "id": "f84af37e-9476-4657-934b-b1a40006d295",
   "metadata": {},
   "outputs": [],
   "source": [
    "# import packages\n",
    "import glob\n",
    "from pathlib import Path\n",
    "import os\n",
    "import numpy as np\n",
    "from datetime import datetime\n",
    "from datetime import timedelta\n",
    "import pandas as pd\n",
    "import calendar\n",
    "import geopandas as gpd\n",
    "import cartopy\n",
    "import matplotlib.pyplot as plt\n",
    "import math\n",
    "from pathos.threading import ThreadPool as Pool\n",
    "from scipy.optimize import least_squares\n",
    "import sklearn\n",
    "from sklearn.linear_model import LinearRegression\n",
    "from scipy.stats import gaussian_kde\n",
    "import statsmodels.api as sm\n",
    "from statsmodels.regression.linear_model import OLS\n",
    "from statsmodels.tools import add_constant\n",
    "import random\n",
    "from scipy.optimize import minimize"
   ]
  },
  {
   "cell_type": "code",
   "execution_count": 2,
   "id": "0fe6063d-1589-4b4a-8c08-98b0dad6c06c",
   "metadata": {},
   "outputs": [],
   "source": [
    "# import python functions\n",
    "from f_snow_module import *\n",
    "from f_sr_calculation import *"
   ]
  },
  {
   "cell_type": "code",
   "execution_count": 3,
   "id": "5b97afc7-e876-4017-8a41-278f802e730f",
   "metadata": {},
   "outputs": [
    {
     "name": "stdout",
     "output_type": "stream",
     "text": [
      "/scratch/fransjevanoors/global_sr\n",
      "/scratch/fransjevanoors/global_sr/output\n",
      "/scratch/fransjevanoors/global_sr/data\n"
     ]
    }
   ],
   "source": [
    "work_dir=Path('/scratch/fransjevanoors/global_sr')\n",
    "#work_dir=Path('/tudelft.net/staff-umbrella/LSM root zone/global_sr')\n",
    "data_dir=Path(f'{work_dir}/data')\n",
    "out_dir = Path(f\"{work_dir}/output\")\n",
    "\n",
    "print(work_dir)\n",
    "print(out_dir)\n",
    "print(data_dir)\n",
    "work_dir=Path(\"/mnt/u/LSM root zone/global_sr\")"
   ]
  },
  {
   "cell_type": "markdown",
   "id": "3b5a9245-3522-46ba-b9c6-823eaf10a289",
   "metadata": {},
   "source": [
    "### 1. Select catchments with snow"
   ]
  },
  {
   "cell_type": "code",
   "execution_count": null,
   "id": "642650b2-07dc-4182-b74c-d13b8ca3839c",
   "metadata": {},
   "outputs": [],
   "source": [
    "# select catchments with temperature <0 AND precipitation>1, because if no p there is no snow possible\n",
    "catch_id_list = np.genfromtxt(f'{work_dir}/output/gsim_aus_catch_id_list_lo_sel.txt',dtype='str')[:]\n",
    "snow_catch=[]\n",
    "for catch_id in catch_id_list:\n",
    "    a = pd.read_csv(f'{work_dir}/output/forcing_timeseries/processed/daily/{catch_id}_1981_2010.csv',index_col=0)\n",
    "    t = a[(a.tas<0)&(a.p>1)]\n",
    "    if (len(t))>0:\n",
    "        if (len(t)>0.05*len(a)):\n",
    "            snow_catch.append(catch_id)\n",
    "np.savetxt(f'{work_dir}/output/snow/catch_id_list_snow_t_and_p.txt',snow_catch,fmt='%s')"
   ]
  },
  {
   "cell_type": "code",
   "execution_count": 4,
   "id": "d95ec9e1-482b-416c-b350-b4bc11692cc3",
   "metadata": {},
   "outputs": [
    {
     "data": {
      "text/plain": [
       "array(['ar_0000023', 'ar_0000024', 'ar_0000025', ..., 'us_0008723',\n",
       "       'us_0008726', 'us_0008766'], dtype='<U10')"
      ]
     },
     "execution_count": 4,
     "metadata": {},
     "output_type": "execute_result"
    }
   ],
   "source": [
    "snow_id_list = np.genfromtxt(f'{work_dir}/output/snow/catch_id_list_snow_t_and_p.txt',dtype='str')[:]\n",
    "snow_id_list"
   ]
  },
  {
   "cell_type": "markdown",
   "id": "444fd362-132e-49cd-813f-f0a7f666c8ff",
   "metadata": {},
   "source": [
    "### 2. get timeseries of liquid precipitation"
   ]
  },
  {
   "cell_type": "code",
   "execution_count": null,
   "id": "3335d3e0-4840-4041-9ff5-80c097930124",
   "metadata": {},
   "outputs": [],
   "source": [
    "catch_id_list = np.genfromtxt(f'{work_dir}/output/snow/catch_id_list_snow_t_and_p.txt',dtype='str')[0:3]\n",
    "\n",
    "# run in parallel\n",
    "# make lists for parallel computation\n",
    "catch_list = catch_id_list\n",
    "work_dir_list = [work_dir] * len(catch_list)\n",
    "run_function_parallel_snow(catch_list, work_dir_list)"
   ]
  },
  {
   "cell_type": "code",
   "execution_count": 5,
   "id": "a68ef6cb-407e-4d51-b59b-98fcef434897",
   "metadata": {},
   "outputs": [
    {
     "data": {
      "text/plain": [
       "2811"
      ]
     },
     "execution_count": 5,
     "metadata": {},
     "output_type": "execute_result"
    }
   ],
   "source": [
    "len(snow_id_list)"
   ]
  },
  {
   "cell_type": "code",
   "execution_count": null,
   "id": "a2be36ac-e6c7-4d41-a67d-cd272747c330",
   "metadata": {},
   "outputs": [],
   "source": []
  },
  {
   "cell_type": "code",
   "execution_count": 8,
   "id": "402e7de3-6124-4b92-8c60-4e622639b6bf",
   "metadata": {},
   "outputs": [],
   "source": [
    "catch_id_list = np.genfromtxt(f'{work_dir}/output/snow/catch_id_list_snow_t_and_p.txt',dtype='str')\n"
   ]
  },
  {
   "cell_type": "code",
   "execution_count": 4,
   "id": "a522123e-3e08-4085-99e3-e565456a584e",
   "metadata": {},
   "outputs": [
    {
     "ename": "NameError",
     "evalue": "name 'catch_id_list' is not defined",
     "output_type": "error",
     "traceback": [
      "\u001b[0;31m---------------------------------------------------------------------------\u001b[0m",
      "\u001b[0;31mNameError\u001b[0m                                 Traceback (most recent call last)",
      "\u001b[0;32m/tmp/ipykernel_2091869/3720370135.py\u001b[0m in \u001b[0;36m<module>\u001b[0;34m\u001b[0m\n\u001b[1;32m      6\u001b[0m     \u001b[0mcatch_id_list_lo_done\u001b[0m\u001b[0;34m.\u001b[0m\u001b[0mappend\u001b[0m\u001b[0;34m(\u001b[0m\u001b[0mf\u001b[0m\u001b[0;34m)\u001b[0m\u001b[0;34m\u001b[0m\u001b[0;34m\u001b[0m\u001b[0m\n\u001b[1;32m      7\u001b[0m \u001b[0;34m\u001b[0m\u001b[0m\n\u001b[0;32m----> 8\u001b[0;31m \u001b[0mdif_list\u001b[0m\u001b[0;34m=\u001b[0m\u001b[0mlist\u001b[0m\u001b[0;34m(\u001b[0m\u001b[0mset\u001b[0m\u001b[0;34m(\u001b[0m\u001b[0mcatch_id_list\u001b[0m\u001b[0;34m)\u001b[0m\u001b[0;34m-\u001b[0m\u001b[0mset\u001b[0m\u001b[0;34m(\u001b[0m\u001b[0mcatch_id_list_lo_done\u001b[0m\u001b[0;34m)\u001b[0m\u001b[0;34m)\u001b[0m\u001b[0;34m\u001b[0m\u001b[0;34m\u001b[0m\u001b[0m\n\u001b[0m\u001b[1;32m      9\u001b[0m \u001b[0;31m# dif_list\u001b[0m\u001b[0;34m\u001b[0m\u001b[0;34m\u001b[0m\u001b[0m\n",
      "\u001b[0;31mNameError\u001b[0m: name 'catch_id_list' is not defined"
     ]
    }
   ],
   "source": [
    "# check catchments that are not processed yet\n",
    "catch_id_list_lo_done = []\n",
    "for filepath in glob.iglob(f'{out_dir}/snow/timeseries/*'):\n",
    "    f = os.path.split(filepath)[1] # remove full path\n",
    "    f = f[:-4] # remove .csv extension\n",
    "    catch_id_list_lo_done.append(f)\n",
    "\n",
    "dif_list=list(set(catch_id_list)-set(catch_id_list_lo_done))\n",
    "# dif_list"
   ]
  },
  {
   "cell_type": "code",
   "execution_count": null,
   "id": "f69e5d7b-5e65-4021-9c61-930592a2a413",
   "metadata": {},
   "outputs": [],
   "source": []
  },
  {
   "cell_type": "markdown",
   "id": "522131ce-2639-4199-8642-fb57a32068ac",
   "metadata": {},
   "source": [
    "## Run sr calculation with and without snow"
   ]
  },
  {
   "cell_type": "code",
   "execution_count": 4,
   "id": "fd87b71c-9d04-49c8-89bd-116070815ce3",
   "metadata": {},
   "outputs": [],
   "source": [
    "## 2\n",
    "def run_sd_calculation(catch_id, pep_dir, q_dir, out_dir,snow_id_list, irri_id_list,snow_dir,work_dir):\n",
    "    \"\"\"\n",
    "    run calculation of storage deficits (1)\n",
    "    \n",
    "    catch_id:    str, catchment id\n",
    "    pep_dir:     str, dir, directory of P and Ep timeseries\n",
    "    q_dir:       str, dir, directory of Q timeseries\n",
    "    out_dir:     str, dir, output directory\n",
    "    \n",
    "    returns: out:sd timeseries, stores out dataframe (Sd calculation) as csv\n",
    "    \"\"\"\n",
    "    \n",
    "    if catch_id in snow_id_list:\n",
    "        s = 1 # snow is yes\n",
    "        f_pep = glob.glob(f'{snow_dir}/{catch_id}*.csv')\n",
    "\n",
    "    else:\n",
    "        s = 0 # snow is no\n",
    "        # get P Ep and Q files for catch id\n",
    "        f_pep = glob.glob(f'{pep_dir}/{catch_id}*.csv')\n",
    "\n",
    "    # read q df\n",
    "    f_q = glob.glob(f'{q_dir}/{catch_id}*.csv')\n",
    "\n",
    "    # read files as dataframes\n",
    "    q_ts = pd.read_csv(f_q[0],index_col=0)\n",
    "    q_ts.index = pd.to_datetime(q_ts.index)\n",
    "    pep_ts = pd.read_csv(f_pep[0],index_col=0)\n",
    "    pep_ts.index = pd.to_datetime(pep_ts.index)\n",
    "\n",
    "    if (s==1): #snow\n",
    "        # convert to monthly dataframes\n",
    "        df_monthly = pd.DataFrame(index=pd.date_range(pep_ts.index[0],pep_ts.index[-1],freq='M'), columns=['p','ep','ps','pm','pl'])\n",
    "        df_monthly[['p','ep','ps','pm','pl']] = pep_ts[['p','ep','ps','pm','pl']].groupby(pd.Grouper(freq=\"M\")).sum()\n",
    "\n",
    "        # calculate start hydroyear -> month after on average the wettest month\n",
    "        df_monthly_mean = df_monthly.groupby([df_monthly.index.month]).mean()\n",
    "        df_monthly_mean['liq'] = df_monthly_mean['pm'] + df_monthly_mean['pl']\n",
    "        wettest_month = (df_monthly_mean['liq']-df_monthly_mean['ep']).idxmax()\n",
    "        hydro_year_start_month = wettest_month+1\n",
    "        if hydro_year_start_month==13:\n",
    "            hydro_year_start_month=1\n",
    "\n",
    "    else: # no snow\n",
    "        # convert to monthly dataframes\n",
    "        df_monthly = pd.DataFrame(index=pd.date_range(pep_ts.index[0],pep_ts.index[-1],freq='M'), columns=['p','ep'])\n",
    "        df_monthly[['p','ep']] = pep_ts[['p','ep']].groupby(pd.Grouper(freq=\"M\")).sum()\n",
    "\n",
    "        # calculate start hydroyear -> month after on average the wettest month\n",
    "        df_monthly_mean = df_monthly.groupby([df_monthly.index.month]).mean()\n",
    "        wettest_month = (df_monthly_mean['p']-df_monthly_mean['ep']).idxmax()\n",
    "        hydro_year_start_month = wettest_month+1\n",
    "        if hydro_year_start_month==13:\n",
    "            hydro_year_start_month=1\n",
    "\n",
    "    # find the start and end date for the sr calculation based on P, Ep, Q timeseries and hydroyear\n",
    "    p_ep_start_year = pep_ts.index.year[0]\n",
    "    q_start_year = int(q_ts.index[0].year)\n",
    "    p_ep_end_year = pep_ts.index.year[-1]\n",
    "    q_end_year = int(q_ts.index[-1].year)\n",
    "\n",
    "    # test if timeseries have overlap -> if not don't continue the sd calculation\n",
    "    if q_start_year>p_ep_end_year:\n",
    "        a=1\n",
    "    elif p_ep_start_year>q_end_year:\n",
    "        a=1\n",
    "    else:\n",
    "        a=0\n",
    "        start_year = max(q_start_year,p_ep_start_year)\n",
    "        end_year = min(q_end_year,p_ep_end_year)\n",
    "        start_date = datetime(start_year,hydro_year_start_month,1)\n",
    "        end_date = datetime(end_year,hydro_year_start_month,1)\n",
    "        end_date = end_date - timedelta(days=1)\n",
    "\n",
    "        #calculate mean Q for startdate enddate timeseries\n",
    "        q_mean = q_ts.loc[start_date:end_date,'Q'].mean()\n",
    "\n",
    "        if (s==1): # snow\n",
    "            # prepare input dataframe for sd calculation\n",
    "            sd_input = pd.DataFrame(index=pd.date_range(start_date,end_date,freq='d'), columns=['p','ep','ps','pm','pl','date_start','date_end'])\n",
    "            sd_input[['p','ep','ps','pm','pl']] = pep_ts[['p','ep','ps','pm','pl']]\n",
    "            sd_input[['date_start','date_end']] = start_date, end_date\n",
    "            si_0 = 0 #initial interception storage\n",
    "            si_max = 2.5 #maximum interception storage\n",
    "\n",
    "        else: # no snow\n",
    "            # prepare input dataframe for sd calculation\n",
    "            sd_input = pd.DataFrame(index=pd.date_range(start_date,end_date,freq='d'), columns=['p','ep','date_start','date_end'])\n",
    "            sd_input[['p','ep']] = pep_ts[['p','ep']]\n",
    "            sd_input[['date_start','date_end']] = start_date, end_date\n",
    "            si_0 = 0 #initial interception storage\n",
    "            si_max = 2.5 #maximum interception storage\n",
    "\n",
    "        # run sd calculation\n",
    "        b = sd_initial(sd_input, si_0, si_max, q_mean,s)[0] #b==0: closing wb, b==1: non-closing wb > no sd calculation\n",
    "        if b==0:      \n",
    "            # save output dataframe from sd calculation\n",
    "            out = sd_initial(sd_input, si_0, si_max, q_mean,s)[1]\n",
    "            \n",
    "            if (s==1):\n",
    "                out.to_csv(f'{out_dir}/snow/sd/{catch_id}_snow.csv')\n",
    "            else: \n",
    "                out.to_csv(f'{out_dir}/snow/sd/{catch_id}_nosnow.csv')\n",
    "            return out"
   ]
  },
  {
   "cell_type": "code",
   "execution_count": 5,
   "id": "bc1dee47-9995-41f4-9d1a-d2c560eab424",
   "metadata": {},
   "outputs": [],
   "source": [
    "def run_sd_calculation_parallel(\n",
    "    catch_id_list=list,\n",
    "    pep_dir_list=list,\n",
    "    q_dir_list=list,\n",
    "    out_dir_list=list,\n",
    "    snow_id_list=list,\n",
    "    irri_id_list=list,\n",
    "    snow_dir_list=list,\n",
    "    work_dir_list=list,\n",
    "    # threads=None\n",
    "    threads=200\n",
    "):\n",
    "    \"\"\"\n",
    "    Runs function area_weighted_shapefile_rasterstats in parallel.\n",
    "\n",
    "    catch_list:  str, list, list of catchment ids\n",
    "    pep_dir_list:     str, list, list of input folders for pep forcing data\n",
    "    q_dir_list:   str, list, list of folder with q timeseries\n",
    "    output_dir_list: str, list, list of output directories\n",
    "    snow_id_list: str,list, list of catchments with snow\n",
    "    snow_dir_list: str, list, list of snow timeseries directory\n",
    "    threads:         int,       number of threads (cores), when set to None use all available threads\n",
    "\n",
    "    Returns: None\n",
    "    \"\"\"\n",
    "    # Set number of threads (cores) used for parallel run and map threads\n",
    "    if threads is None:\n",
    "        pool = Pool()\n",
    "    else:\n",
    "        pool = Pool(nodes=threads)\n",
    "    # Run parallel models\n",
    "    results = pool.map(\n",
    "        run_sd_calculation,\n",
    "        catch_id_list,\n",
    "        pep_dir_list,\n",
    "        q_dir_list,\n",
    "        out_dir_list,\n",
    "        snow_id_list,\n",
    "        irri_id_list,\n",
    "        snow_dir_list,\n",
    "        work_dir_list\n",
    "    )"
   ]
  },
  {
   "cell_type": "code",
   "execution_count": 6,
   "id": "18dbb51a-92b0-44be-9329-dd73e085d18e",
   "metadata": {},
   "outputs": [],
   "source": [
    "def run_sr_calculation(catch_id, rp_array, sd_dir, out_dir,f,snow_id_list):\n",
    "    \"\"\"\n",
    "    run sr calculation\n",
    "    \n",
    "    catch_id:   str, catchment id\n",
    "    rp_array:   int, array, array of return periods\n",
    "    sd_dir:     str, dir, directory with sd dataframes\n",
    "    out_dir:    str, dir, output directory\n",
    "    \n",
    "    returns:    sr_df, dataframe with sr for catchment, stored as csv\n",
    "    \n",
    "    \"\"\"\n",
    "    # check if sd exists for catchment id\n",
    "    if (os.path.exists(f'{sd_dir}/snow/sd/{catch_id}_nosnow.csv')==True):  \n",
    "        \n",
    "        if catch_id in snow_id_list:\n",
    "            # read storage deficit table\n",
    "            sd_table = pd.read_csv(f'{sd_dir}/snow/sd/{catch_id}_snow.csv',index_col=0)\n",
    "            sd_table.index = pd.to_datetime(sd_table.index)\n",
    "\n",
    "            # get sd, start and end year and date from sd_table\n",
    "            Sd = sd_table.Sd\n",
    "\n",
    "        else:\n",
    "            # read storage deficit table\n",
    "            sd_table = pd.read_csv(f'{sd_dir}/snow/sd/{catch_id}_nosnow.csv',index_col=0)\n",
    "            sd_table.index = pd.to_datetime(sd_table.index)\n",
    "\n",
    "            # get sd, start and end year and date from sd_table\n",
    "            Sd = sd_table.Sd\n",
    "        year_start = sd_table.index[0].year\n",
    "        year_end = sd_table.index[-1].year\n",
    "        date_start = str(sd_table.index[0].month)+'-'+str(sd_table.index[0].day)\n",
    "        date_end = str(sd_table.index[-1].month)+'-'+str(sd_table.index[-1].day)\n",
    "        if(date_end=='2-29'):\n",
    "            date_end='2-28'\n",
    "\n",
    "        if ((year_end-year_start)>10) and (sd_table.Et.max()>0):#only if our timeseries is longer than 10years and Et is not nan\n",
    "            # calculate sr for different return periods using (4)\n",
    "            sr_T = sr_return_periods_minmax_rzyear(rp_array, Sd, year_start, year_end, date_start, date_end)\n",
    "\n",
    "            # store dataframe with catchment sr values\n",
    "            sr_df = pd.DataFrame(index=[catch_id], columns=rp_array)\n",
    "            sr_df.loc[catch_id]=sr_T\n",
    "\n",
    "            if catch_id in snow_id_list:     \n",
    "                sr_df.to_csv(f'{sd_dir}/snow/sr/{catch_id}_snow.csv')\n",
    "            else:\n",
    "                sr_df.to_csv(f'{sd_dir}/snow/sr/{catch_id}_nosnow.csv')\n",
    "            return(sr_df)"
   ]
  },
  {
   "cell_type": "code",
   "execution_count": 7,
   "id": "af5da523-09c7-43b8-a85e-d7383e07e8f8",
   "metadata": {},
   "outputs": [],
   "source": [
    "def run_sr_calculation_parallel(\n",
    "    catch_id_list=list,\n",
    "    rp_array_list=list,\n",
    "    sd_dir_list=list,\n",
    "    out_dir_list=list,\n",
    "    f_list = list,\n",
    "    snow_id_list=list,\n",
    "    # threads=None\n",
    "    threads=100\n",
    "):\n",
    "    \"\"\"\n",
    "    Runs function area_weighted_shapefile_rasterstats in parallel.\n",
    "\n",
    "    catch_list:  str, list, list of catchment ids\n",
    "    rp_array_list:     str, list, list of return periods\n",
    "    sd_dir_list:   str, list, list of folder with sd\n",
    "    output_dir_list: str, list, list of output directories\n",
    "    threads:         int,       number of threads (cores), when set to None use all available threads\n",
    "\n",
    "    Returns: None\n",
    "    \"\"\"\n",
    "    # Set number of threads (cores) used for parallel run and map threads\n",
    "    if threads is None:\n",
    "        pool = Pool()\n",
    "    else:\n",
    "        pool = Pool(nodes=threads)\n",
    "    # Run parallel models\n",
    "    results = pool.map(\n",
    "        run_sr_calculation,\n",
    "        catch_id_list,\n",
    "        rp_array_list,\n",
    "        sd_dir_list,\n",
    "        out_dir_list,\n",
    "        f_list,\n",
    "        snow_id_list,\n",
    "    )"
   ]
  },
  {
   "cell_type": "code",
   "execution_count": 74,
   "id": "03888659-de09-4a1f-b5df-57909ed8b84c",
   "metadata": {},
   "outputs": [],
   "source": [
    " #RUN SNOW CATCHMENTS WITH SNOW MODULE ON\n",
    "# define directories\n",
    "pep_dir = f'{work_dir}/output/forcing_timeseries/processed/daily'\n",
    "q_dir = f'{work_dir}/output/q_timeseries_selected'\n",
    "out_dir = f'{work_dir}/output/sr_calculation/sd_catchments'\n",
    "snow_ids = np.loadtxt(f'{work_dir}/output/snow/catch_id_list_snow_t_and_p.txt',dtype='str')\n",
    "snow_dir = f'{work_dir}/output/snow/timeseries_gswp'\n",
    "irri_ids = np.loadtxt(f'{work_dir}/output/irrigation/catchment_irri_area_5percent.txt',dtype=str)\n",
    "\n",
    "c = snow_ids[:]\n",
    "catch_id_list = c[:]\n",
    "pep_dir_list = [pep_dir] * len(catch_id_list)\n",
    "q_dir_list = [q_dir] * len(catch_id_list)\n",
    "out_dir_list = [out_dir] * len(catch_id_list)\n",
    "snow_id_list = [snow_ids] * len(catch_id_list)\n",
    "snow_dir_list = [snow_dir] * len(catch_id_list)\n",
    "irri_id_list = [irri_ids] * len(catch_id_list)\n",
    "work_dir_list = [work_dir] * len(catch_id_list)\n",
    "\n",
    "run_sd_calculation_parallel(catch_id_list,pep_dir_list,q_dir_list,out_dir_list,snow_id_list,irri_id_list,snow_dir_list,work_dir_list)"
   ]
  },
  {
   "cell_type": "code",
   "execution_count": 75,
   "id": "9562955d-59dd-4541-aba7-d139474901ce",
   "metadata": {},
   "outputs": [],
   "source": [
    " #RUN SNOW CATCHMENTS WITH SNOW MODULE OFF\n",
    "# define directories\n",
    "pep_dir = f'{work_dir}/output/forcing_timeseries/processed/daily'\n",
    "q_dir = f'{work_dir}/output/q_timeseries_selected'\n",
    "out_dir = f'{work_dir}/output/sr_calculation/sd_catchments'\n",
    "snow_ids = np.loadtxt(f'{work_dir}/output/snow/catch_id_list_snow_t_and_p.txt',dtype='str')\n",
    "snow_dir = f'{work_dir}/output/snow/timeseries_gswp'\n",
    "irri_ids = np.loadtxt(f'{work_dir}/output/irrigation/catchment_irri_area_5percent.txt',dtype=str)\n",
    "\n",
    "c = snow_ids\n",
    "catch_id_list = c[:]\n",
    "snow_ids = [] #manually set snow ids to empty so that we don't use the snow module here\n",
    "pep_dir_list = [pep_dir] * len(catch_id_list)\n",
    "q_dir_list = [q_dir] * len(catch_id_list)\n",
    "out_dir_list = [out_dir] * len(catch_id_list)\n",
    "snow_id_list = [snow_ids] * len(catch_id_list)\n",
    "snow_dir_list = [snow_dir] * len(catch_id_list)\n",
    "irri_id_list = [irri_ids] * len(catch_id_list)\n",
    "work_dir_list = [work_dir] * len(catch_id_list)\n",
    "\n",
    "run_sd_calculation_parallel(catch_id_list,pep_dir_list,q_dir_list,out_dir_list,snow_id_list,irri_id_list,snow_dir_list,work_dir_list)"
   ]
  },
  {
   "cell_type": "code",
   "execution_count": 11,
   "id": "482bdb01-b687-4ea1-af2f-7a2c123b74c3",
   "metadata": {},
   "outputs": [],
   "source": [
    "# compare SD\n",
    "pep_dir = f'{work_dir}/output/forcing_timeseries/processed/daily'\n",
    "q_dir = f'{work_dir}/output/q_timeseries_selected'\n",
    "out_dir = f'{work_dir}/output/sr_calculation/sd_catchments'\n",
    "snow_ids = np.loadtxt(f'{work_dir}/output/snow/catch_id_list_snow_t_and_p.txt',dtype='str')\n",
    "snow_dir = f'{work_dir}/output/snow/timeseries_gswp'\n",
    "irri_ids = np.loadtxt(f'{work_dir}/output/irrigation/catchment_irri_area_5percent.txt',dtype=str)\n",
    "\n",
    "c = snow_ids[:]\n",
    "catch_id_list = c[:]\n",
    "catch_id = catch_id_list[0]\n",
    "\n",
    "sd_dir = f'{work_dir}/output/sr_calculation/sd_catchments'\n",
    "ds = pd.read_csv(f'{sd_dir}/snow/sd/{catch_id}_snow.csv',index_col=0)\n",
    "dns = pd.read_csv(f'{sd_dir}/snow/sd/{catch_id}_nosnow.csv',index_col=0)"
   ]
  },
  {
   "cell_type": "code",
   "execution_count": 15,
   "id": "4699652d-2973-48e6-8678-f253abb1ef46",
   "metadata": {},
   "outputs": [
    {
     "data": {
      "text/plain": [
       "<matplotlib.legend.Legend at 0x7f92098be4f0>"
      ]
     },
     "execution_count": 15,
     "metadata": {},
     "output_type": "execute_result"
    },
    {
     "data": {
      "image/png": "[encoded data removed]",
      "text/plain": [
       "<Figure size 432x288 with 1 Axes>"
      ]
     },
     "metadata": {
      "needs_background": "light"
     },
     "output_type": "display_data"
    }
   ],
   "source": [
    "ds.Sd.plot(label='snow')\n",
    "dns.Sd.plot(label='nosnow')\n",
    "plt.legend()"
   ]
  },
  {
   "cell_type": "code",
   "execution_count": 76,
   "id": "968982f5-a3bf-43d4-a5bd-53f86d8b3223",
   "metadata": {},
   "outputs": [],
   "source": [
    "# RUN SR WITH SNOW\n",
    "# define directories\n",
    "sd_dir = f'{work_dir}/output/sr_calculation/sd_catchments'\n",
    "out_dir = f'{work_dir}/output/sr_calculation/sr_catchments'\n",
    "snow_ids = np.loadtxt(f'{work_dir}/output/snow/catch_id_list_snow_t_and_p.txt',dtype='str')\n",
    "\n",
    "# define return periods\n",
    "rp_array = [2,3,5,10,20,30,40,50,60,70,80]\n",
    "f_array = ['iwu']\n",
    "catch_id_list = snow_ids[:]\n",
    "sd_dir_list = [sd_dir] * len(catch_id_list)\n",
    "out_dir_list = [out_dir] * len(catch_id_list) \n",
    "rp_array_list = [rp_array] * len(catch_id_list) \n",
    "f_list = f_array * len(catch_id_list)\n",
    "snow_id_list = catch_id_list\n",
    "\n",
    "run_sr_calculation_parallel(catch_id_list,rp_array_list,sd_dir_list,out_dir_list,f_list,snow_id_list) #run all catchments parallel on delftblue"
   ]
  },
  {
   "cell_type": "code",
   "execution_count": 82,
   "id": "e028ac71-3cff-4ccc-b0d6-67eb500cc2f0",
   "metadata": {},
   "outputs": [],
   "source": [
    "# RUN SR WITHOUT SNOW\n",
    "# define directories\n",
    "sd_dir = f'{work_dir}/output/sr_calculation/sd_catchments'\n",
    "out_dir = f'{work_dir}/output/sr_calculation/sr_catchments'\n",
    "snow_ids = np.loadtxt(f'{work_dir}/output/snow/catch_id_list_snow_t_and_p.txt',dtype='str')\n",
    "\n",
    "# define return periods\n",
    "rp_array = [2,3,5,10,20,30,40,50,60,70,80]\n",
    "f_array = ['iwu']\n",
    "catch_id_list = snow_ids[:]\n",
    "\n",
    "sd_dir_list = [sd_dir] * len(catch_id_list)\n",
    "out_dir_list = [out_dir] * len(catch_id_list) \n",
    "rp_array_list = [rp_array] * len(catch_id_list) \n",
    "f_list = f_array * len(catch_id_list)\n",
    "snow_ids = []\n",
    "snow_id_list = [snow_ids] * len(catch_id_list)\n",
    "\n",
    "run_sr_calculation_parallel(catch_id_list,rp_array_list,sd_dir_list,out_dir_list,f_list,snow_id_list) #run all catchments parallel on delftblue"
   ]
  },
  {
   "cell_type": "code",
   "execution_count": null,
   "id": "2570a9a2-b31b-4106-9d7c-08a5c2df9462",
   "metadata": {},
   "outputs": [],
   "source": [
    "ifol = f'{work_dir}/output/sr_calculation/sd_catchments/snow/'\n",
    "snow_ids = np.loadtxt(f'{work_dir}/output/snow/catch_id_list_snow_t_and_p.txt',dtype='str')\n",
    "\n",
    "sr_df = pd.DataFrame(index=snow_ids, columns=['sr_20_snow','sr_20_nosnow'])\n",
    "for catch_id in snow_ids:\n",
    "        if os.path.exists(f'{ifol}/sr/{catch_id}_snow.csv'):\n",
    "            d = pd.read_csv(f'{ifol}/sr/{catch_id}_snow.csv',index_col=0)\n",
    "            sr_df.loc[catch_id,f'sr_20_snow'] = d.loc[catch_id,'20']\n",
    "        if os.path.exists(f'{ifol}/sr/{catch_id}_nosnow.csv'):    \n",
    "            e = pd.read_csv(f'{ifol}/sr/{catch_id}_nosnow.csv',index_col=0)\n",
    "            sr_df.loc[catch_id,f'sr_20_nosnow'] = e.loc[catch_id,'20']"
   ]
  },
  {
   "cell_type": "code",
   "execution_count": 91,
   "id": "89bfbe66-5e34-4127-9762-6f8be52875c3",
   "metadata": {},
   "outputs": [
    {
     "data": {
      "text/html": [
       "<div>\n",
       "<style scoped>\n",
       "    .dataframe tbody tr th:only-of-type {\n",
       "        vertical-align: middle;\n",
       "    }\n",
       "\n",
       "    .dataframe tbody tr th {\n",
       "        vertical-align: top;\n",
       "    }\n",
       "\n",
       "    .dataframe thead th {\n",
       "        text-align: right;\n",
       "    }\n",
       "</style>\n",
       "<table border=\"1\" class=\"dataframe\">\n",
       "  <thead>\n",
       "    <tr style=\"text-align: right;\">\n",
       "      <th></th>\n",
       "      <th>sr_20_snow</th>\n",
       "      <th>sr_20_nosnow</th>\n",
       "    </tr>\n",
       "  </thead>\n",
       "  <tbody>\n",
       "    <tr>\n",
       "      <th>ar_0000023</th>\n",
       "      <td>58.18655</td>\n",
       "      <td>58.18655</td>\n",
       "    </tr>\n",
       "    <tr>\n",
       "      <th>ar_0000024</th>\n",
       "      <td>141.645905</td>\n",
       "      <td>141.645905</td>\n",
       "    </tr>\n",
       "    <tr>\n",
       "      <th>ar_0000025</th>\n",
       "      <td>79.216143</td>\n",
       "      <td>79.216143</td>\n",
       "    </tr>\n",
       "    <tr>\n",
       "      <th>ar_0000026</th>\n",
       "      <td>39.909468</td>\n",
       "      <td>39.909468</td>\n",
       "    </tr>\n",
       "    <tr>\n",
       "      <th>ar_0000027</th>\n",
       "      <td>NaN</td>\n",
       "      <td>NaN</td>\n",
       "    </tr>\n",
       "    <tr>\n",
       "      <th>...</th>\n",
       "      <td>...</td>\n",
       "      <td>...</td>\n",
       "    </tr>\n",
       "    <tr>\n",
       "      <th>us_0008702</th>\n",
       "      <td>NaN</td>\n",
       "      <td>NaN</td>\n",
       "    </tr>\n",
       "    <tr>\n",
       "      <th>us_0008704</th>\n",
       "      <td>NaN</td>\n",
       "      <td>NaN</td>\n",
       "    </tr>\n",
       "    <tr>\n",
       "      <th>us_0008723</th>\n",
       "      <td>NaN</td>\n",
       "      <td>NaN</td>\n",
       "    </tr>\n",
       "    <tr>\n",
       "      <th>us_0008726</th>\n",
       "      <td>NaN</td>\n",
       "      <td>NaN</td>\n",
       "    </tr>\n",
       "    <tr>\n",
       "      <th>us_0008766</th>\n",
       "      <td>NaN</td>\n",
       "      <td>NaN</td>\n",
       "    </tr>\n",
       "  </tbody>\n",
       "</table>\n",
       "<p>2811 rows × 2 columns</p>\n",
       "</div>"
      ],
      "text/plain": [
       "            sr_20_snow sr_20_nosnow\n",
       "ar_0000023    58.18655     58.18655\n",
       "ar_0000024  141.645905   141.645905\n",
       "ar_0000025   79.216143    79.216143\n",
       "ar_0000026   39.909468    39.909468\n",
       "ar_0000027         NaN          NaN\n",
       "...                ...          ...\n",
       "us_0008702         NaN          NaN\n",
       "us_0008704         NaN          NaN\n",
       "us_0008723         NaN          NaN\n",
       "us_0008726         NaN          NaN\n",
       "us_0008766         NaN          NaN\n",
       "\n",
       "[2811 rows x 2 columns]"
      ]
     },
     "execution_count": 91,
     "metadata": {},
     "output_type": "execute_result"
    }
   ],
   "source": [
    "sr_df.to_csv(f'{work_dir}/output/sr_calculation/all_catchments_sr_snow_nosnow.csv')\n",
    "sr_df"
   ]
  },
  {
   "cell_type": "code",
   "execution_count": 92,
   "id": "98e3d431-432a-4c0e-aa9a-da58c2d8590e",
   "metadata": {},
   "outputs": [
    {
     "data": {
      "text/plain": [
       "(0.0, 800.0)"
      ]
     },
     "execution_count": 92,
     "metadata": {},
     "output_type": "execute_result"
    },
    {
     "data": {
      "image/png": "[encoded data removed]",
      "text/plain": [
       "<Figure size 720x720 with 1 Axes>"
      ]
     },
     "metadata": {
      "needs_background": "light"
     },
     "output_type": "display_data"
    }
   ],
   "source": [
    "fig = plt.figure(figsize=(6,6))\n",
    "ax = fig.add_subplot(111)\n",
    "ax.plot(sr_df.sr_20_snow, sr_df.sr_20_nosnow, 'mo')\n",
    "ax.plot([0,900],[0,900],'k--')\n",
    "ax.set_xlabel('Sr T20 snow (mm)')\n",
    "ax.set_ylabel('Sr T20 no snow (mm)')\n",
    "ax.annotate(f'avg abs dev no snow-snow={np.round(abs(sr_df.sr_20_nosnow-sr_df.sr_20_snow).mean(),0)}mm',[100,700],size=12)\n",
    "ax.set_xlim(0,800)\n",
    "ax.set_ylim(0,800)"
   ]
  },
  {
   "cell_type": "code",
   "execution_count": null,
   "id": "ca1cfbfd-3ef7-4ce1-a157-eae780bac985",
   "metadata": {},
   "outputs": [],
   "source": []
  }
 ],
 "metadata": {
  "kernelspec": {
   "display_name": "Python 3 (ipykernel)",
   "language": "python",
   "name": "python3"
  },
  "language_info": {
   "codemirror_mode": {
    "name": "ipython",
    "version": 3
   },
   "file_extension": ".py",
   "mimetype": "text/x-python",
   "name": "python",
   "nbconvert_exporter": "python",
   "pygments_lexer": "ipython3",
   "version": "3.9.7"
  }
 },
 "nbformat": 4,
 "nbformat_minor": 5
}
