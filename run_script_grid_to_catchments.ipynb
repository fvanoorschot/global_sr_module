{
 "cells": [
  {
   "cell_type": "markdown",
   "id": "62e3f38f-c900-4727-a9e1-2735ae539100",
   "metadata": {},
   "source": [
    "# Run script - gridded data to catchment timeseries"
   ]
  },
  {
   "cell_type": "markdown",
   "id": "f31ac8f8-f3cb-4841-a27f-c6ce951f46b9",
   "metadata": {},
   "source": [
    "In this script we extract catchment timeseries of precipitation, potential evaporation and temperature from global gridded products. \n",
    "\n",
    "This scripts only works in the conda environment **sr_env**. In this environment all required packages are available. If you have **not** installed and activated this environment before opening this script, you should check the installation section in the *README* file. "
   ]
  },
  {
   "cell_type": "markdown",
   "id": "1f072c26-9428-4158-b011-45a7bf495721",
   "metadata": {},
   "source": [
    "### 1. Getting started\n",
    "First, import all the required packages."
   ]
  },
  {
   "cell_type": "code",
   "execution_count": 6,
   "id": "12476d9c-f4d9-41d7-889e-4e84ec7ee35f",
   "metadata": {},
   "outputs": [],
   "source": [
    "# import packages\n",
    "import glob\n",
    "from pathlib import Path\n",
    "import os\n",
    "import geopandas as gpd\n",
    "import iris\n",
    "import iris.pandas\n",
    "import numpy as np\n",
    "from esmvalcore import preprocessor\n",
    "from iris.coords import DimCoord\n",
    "from iris.cube import Cube\n",
    "from pathos.threading import ThreadPool as Pool\n",
    "from datetime import datetime\n",
    "from datetime import timedelta\n",
    "import pandas as pd\n",
    "import matplotlib.pyplot as plt\n",
    "from collections import Counter\n",
    "import xarray as xr"
   ]
  },
  {
   "cell_type": "markdown",
   "id": "40d94080-a55a-49dc-bfd7-09ef86d1ffa2",
   "metadata": {},
   "source": [
    "Here we import all the python functions defined in the scripts *f_grid_to_catchments.py*."
   ]
  },
  {
   "cell_type": "code",
   "execution_count": 7,
   "id": "5b053a7a-23b8-434d-ae1d-19888e5f5494",
   "metadata": {},
   "outputs": [],
   "source": [
    "# import python functions\n",
    "from f_grid_to_catchments import *"
   ]
  },
  {
   "cell_type": "markdown",
   "id": "65a9ed88-646a-4209-b0a1-5e01426119ee",
   "metadata": {},
   "source": [
    "### 2. Define working and data directories\n",
    "Here we define the working directory, where all the scripts and output are saved.\n",
    "\n",
    "We also definet he data directory where you have the following subdirectories:\n",
    "\n",
    "/data/forcing/*netcdf forcing files*\\\n",
    "/data/shapes/*catchment shapefiles*\\\n",
    "/data/gsim_discharge/*gsim discharge timeseries*\n"
   ]
  },
  {
   "cell_type": "code",
   "execution_count": 8,
   "id": "f877d246-f504-49af-b482-f01a249ecc92",
   "metadata": {},
   "outputs": [
    {
     "data": {
      "text/plain": [
       "'/home/fransjevanoors/global_sr_module'"
      ]
     },
     "execution_count": 8,
     "metadata": {},
     "output_type": "execute_result"
    }
   ],
   "source": [
    "# Check current working directory (helpful when filling in work_dir below)\n",
    "os.getcwd()"
   ]
  },
  {
   "cell_type": "code",
   "execution_count": 9,
   "id": "48e094df-ec04-4c83-a259-9a4395300ff0",
   "metadata": {},
   "outputs": [],
   "source": [
    "# define your script working directory\n",
    "# work_dir=Path(\"/home/fransjevanoors/global_sr_module\")\n",
    "# work_dir=Path(\"/work/users/vanoorschot/fransje/scripts/GLOBAL_SR/global_sr_module\")\n",
    "# define your data directory\n",
    "# data_dir=Path(\"/work/users/vanoorschot/fransje/scripts/GLOBAL_SR/global_sr_module/data\")\n",
    "work_dir=Path(\"/scratch/fransjevanoors/global_sr\")"
   ]
  },
  {
   "cell_type": "markdown",
   "id": "1bfb49e0-e014-45eb-ac49-200b78d4c9b5",
   "metadata": {},
   "source": [
    "### 3. From gridded data to catchment timeseries\n",
    "We don't have data on precipitation, potential evaporation and temperature at the catchment scale. Therefore, we use global gridded products of these parameters (there are a lot of possibilities which data to use). For doing analyses at the catchment scale, we need to convert these gridded products into catchment timeseries.\n",
    "To do this, we calculate the mean parameter values of the gridcells that fall within the catchment shapes. The procedure is defined by the functions in the *f_grid_to_catchments.py* file."
   ]
  },
  {
   "cell_type": "code",
   "execution_count": 5,
   "id": "a121ca04-36e3-45c4-a687-0de3848a696e",
   "metadata": {},
   "outputs": [],
   "source": [
    "# make output directories\n",
    "if not os.path.exists(f'{work_dir}/output/forcing_timeseries/raw'):\n",
    "    os.makedirs(f'{work_dir}/output/forcing_timeseries/raw')\n",
    "if not os.path.exists(f'{work_dir}/output/forcing_timeseries/processed'):\n",
    "    os.makedirs(f'{work_dir}/output/forcing_timeseries/processed')"
   ]
  },
  {
   "cell_type": "code",
   "execution_count": 6,
   "id": "effae491-88d1-4129-9c96-be010c08048c",
   "metadata": {},
   "outputs": [],
   "source": [
    "# define directories \n",
    "SHAPE_DIR = Path(f'{data_dir}/shapes/') # dir of shapefiles\n",
    "NC4_DIR = Path(f'{data_dir}/forcing/') # dir of netcdf forcing files\n",
    "OUT_DIR = Path(f'{work_dir}/output/forcing_timeseries/raw') # output dir"
   ]
  },
  {
   "cell_type": "markdown",
   "id": "25df1f20-ffb8-4977-a5d3-eb8f6823f620",
   "metadata": {},
   "source": [
    "The conversion from grid to catchment is computationally expensive. Therefore, we run this conversion for all catchments in parallel using the python function *pathos threadpool* (https://pathos.readthedocs.io/en/latest/pathos.html#module-pathos.threading).\n",
    "With the *construct_lists_for_parallel_function* function from *f_grid_to_catchments.py* we create lists that contain all combinations of shapefile, netcdf-file and output-directory. OPERATOR LIST NOT NEEDED?. These lists are the input for the *run_function_parallel* function from *f_grid_to_catchments.py*, which returns timeseries of the catchment mean values of precipitation (P), potential evaporation (Ep) and  temperature (T). "
   ]
  },
  {
   "cell_type": "code",
   "execution_count": 7,
   "id": "231a7885-48c3-47c2-af34-5d3e682a8d4a",
   "metadata": {},
   "outputs": [],
   "source": [
    "# Construct lists for parallel run\n",
    "(shapefile_list, netcdf_list, operator_list, output_dir_list) = construct_lists_for_parallel_function(NC4_DIR, SHAPE_DIR, OUT_DIR)"
   ]
  },
  {
   "cell_type": "code",
   "execution_count": 8,
   "id": "e28d5df1-69e7-4bb1-ac8a-ced200967d7d",
   "metadata": {},
   "outputs": [
    {
     "data": {
      "text/plain": [
       "[None,\n",
       " None,\n",
       " None,\n",
       " None,\n",
       " None,\n",
       " None,\n",
       " None,\n",
       " None,\n",
       " None,\n",
       " None,\n",
       " None,\n",
       " None,\n",
       " None,\n",
       " None,\n",
       " None,\n",
       " None,\n",
       " None,\n",
       " None]"
      ]
     },
     "execution_count": 8,
     "metadata": {},
     "output_type": "execute_result"
    }
   ],
   "source": [
    "# run function parallel\n",
    "run_function_parallel(shapefile_list, netcdf_list, operator_list, output_dir_list)"
   ]
  },
  {
   "cell_type": "markdown",
   "id": "4ec7d309-611d-4df3-ad73-778db1361987",
   "metadata": {},
   "source": [
    "The output of the *run_function_parallel* function contains daily timeseries of P, Ep and T for all catchments. Here we postprocess these data to get dataframes containing Ep, P and T together with daily, monthly and yearly timeseries, climatology and mean values (stored as *csv* files). This postprocessing is done in the *process_forcing_timeseries* function defined in *f_grid_to_catchments.py*."
   ]
  },
  {
   "cell_type": "code",
   "execution_count": 9,
   "id": "4e2bc092-97f9-4cec-bd0f-97aba6990b2f",
   "metadata": {},
   "outputs": [],
   "source": [
    "# define input directory\n",
    "fol_in=f'{work_dir}/output/forcing_timeseries/raw'\n",
    "# define output directory\n",
    "fol_out=f'{work_dir}/output/forcing_timeseries/processed'\n",
    "\n",
    "# get catch_id_list\n",
    "catch_id_list = np.genfromtxt(f'{work_dir}/output/catch_id_list.txt',dtype='str')\n",
    "\n",
    "# define variables\n",
    "var = ['Ep','P','T']\n",
    "\n",
    "# run process_forcing_timeseries (defined in f_grid_to_catchments.py) for all catchments in catch_id_list\n",
    "for catch_id in catch_id_list:\n",
    "    process_forcing_timeseries(catch_id,fol_in,fol_out,var)"
   ]
  },
  {
   "cell_type": "code",
   "execution_count": 10,
   "id": "bd544713-b9cc-41fa-93ed-3279f16f6079",
   "metadata": {},
   "outputs": [
    {
     "name": "stdout",
     "output_type": "stream",
     "text": [
      "['/work/users/vanoorschot/fransje/scripts/GLOBAL_SR/global_sr_module/output/forcing_timeseries/processed/daily/br_0000495_1995_2000.csv']\n"
     ]
    },
    {
     "data": {
      "text/html": [
       "<div>\n",
       "<style scoped>\n",
       "    .dataframe tbody tr th:only-of-type {\n",
       "        vertical-align: middle;\n",
       "    }\n",
       "\n",
       "    .dataframe tbody tr th {\n",
       "        vertical-align: top;\n",
       "    }\n",
       "\n",
       "    .dataframe thead th {\n",
       "        text-align: right;\n",
       "    }\n",
       "</style>\n",
       "<table border=\"1\" class=\"dataframe\">\n",
       "  <thead>\n",
       "    <tr style=\"text-align: right;\">\n",
       "      <th></th>\n",
       "      <th>Ep</th>\n",
       "      <th>P</th>\n",
       "      <th>T</th>\n",
       "    </tr>\n",
       "    <tr>\n",
       "      <th>time</th>\n",
       "      <th></th>\n",
       "      <th></th>\n",
       "      <th></th>\n",
       "    </tr>\n",
       "  </thead>\n",
       "  <tbody>\n",
       "    <tr>\n",
       "      <th>1995-01-01</th>\n",
       "      <td>3.011033</td>\n",
       "      <td>0.004925</td>\n",
       "      <td>28.862823</td>\n",
       "    </tr>\n",
       "    <tr>\n",
       "      <th>1995-01-02</th>\n",
       "      <td>3.397685</td>\n",
       "      <td>0.000000</td>\n",
       "      <td>28.742493</td>\n",
       "    </tr>\n",
       "    <tr>\n",
       "      <th>1995-01-03</th>\n",
       "      <td>3.092484</td>\n",
       "      <td>0.000000</td>\n",
       "      <td>29.230500</td>\n",
       "    </tr>\n",
       "    <tr>\n",
       "      <th>1995-01-04</th>\n",
       "      <td>3.917221</td>\n",
       "      <td>0.000000</td>\n",
       "      <td>28.689178</td>\n",
       "    </tr>\n",
       "    <tr>\n",
       "      <th>1995-01-05</th>\n",
       "      <td>4.295576</td>\n",
       "      <td>0.019365</td>\n",
       "      <td>28.674103</td>\n",
       "    </tr>\n",
       "  </tbody>\n",
       "</table>\n",
       "</div>"
      ],
      "text/plain": [
       "                  Ep         P          T\n",
       "time                                     \n",
       "1995-01-01  3.011033  0.004925  28.862823\n",
       "1995-01-02  3.397685  0.000000  28.742493\n",
       "1995-01-03  3.092484  0.000000  29.230500\n",
       "1995-01-04  3.917221  0.000000  28.689178\n",
       "1995-01-05  4.295576  0.019365  28.674103"
      ]
     },
     "execution_count": 10,
     "metadata": {},
     "output_type": "execute_result"
    }
   ],
   "source": [
    "# print P Ep T timeseries for catchment [0] in catch_id_list\n",
    "catch_id = catch_id_list[0]\n",
    "f = glob.glob(f'{fol_out}/daily/{catch_id}*.csv')\n",
    "print(f)\n",
    "c = pd.read_csv(f[0], index_col=0)\n",
    "c.head()"
   ]
  },
  {
   "cell_type": "markdown",
   "id": "751e2a01-1ccf-45a0-b439-64dcd2d5fdff",
   "metadata": {},
   "source": [
    "## BEDROCK DEPTH"
   ]
  },
  {
   "cell_type": "markdown",
   "id": "5557d115-cf46-4a75-aef1-d581643d572f",
   "metadata": {},
   "source": [
    "catchment mean, min, max, std bedrock depth"
   ]
  },
  {
   "cell_type": "code",
   "execution_count": 7,
   "id": "6719257c-9e30-4ae3-a074-81034c6cdc95",
   "metadata": {},
   "outputs": [],
   "source": [
    "# define directories \n",
    "nc_bd = f'{work_dir}/data/bedrock_depth/BDTICM_M_005deg.nc' # dir of netcdf forcing files\n",
    "out_dir = f'{work_dir}/output/bedrock_depth/0_05deg/' # output dir\n",
    "operator = 'mean'\n",
    "\n",
    "shape_dir = Path(f'{work_dir}/output/selected_shapes/')\n",
    "shapefile_list = glob.glob(f'{shape_dir}/*.shp')[:]\n",
    "\n",
    "netcdf_list = [nc_bd]*len(shapefile_list)\n",
    "output_dir_list = [out_dir]*len(shapefile_list)"
   ]
  },
  {
   "cell_type": "code",
   "execution_count": 8,
   "id": "02c1afdd-f995-4b1a-ab7f-9d1cc7944850",
   "metadata": {},
   "outputs": [],
   "source": [
    "# run function parallel\n",
    "run_bdepth_function_parallel(shapefile_list, netcdf_list, output_dir_list)"
   ]
  },
  {
   "cell_type": "markdown",
   "id": "63d01ff1-60d0-4cae-974a-c143095ac86a",
   "metadata": {},
   "source": [
    "percentage of catchment gridpoints at 0.01 degree with bedrock < 100 cm"
   ]
  },
  {
   "cell_type": "code",
   "execution_count": 9,
   "id": "3171b867-75b6-45b4-a909-d407d2bc7945",
   "metadata": {},
   "outputs": [],
   "source": [
    "# define directories \n",
    "nc_bd = f'{work_dir}/data/bedrock_depth/BDTICM_M_001deg.nc' # dir of netcdf forcing files\n",
    "out_dir = f'{work_dir}/output/bedrock_depth/0_01deg/' # output dir\n",
    "operator = 'mean'\n",
    "\n",
    "shape_dir = Path(f'{work_dir}/output/selected_shapes/')\n",
    "shapefile_list = glob.glob(f'{shape_dir}/*.shp')[:]\n",
    "\n",
    "netcdf_list = [nc_bd]*len(shapefile_list)\n",
    "output_dir_list = [out_dir]*len(shapefile_list)"
   ]
  },
  {
   "cell_type": "code",
   "execution_count": 10,
   "id": "dfbc61fb-a665-4278-b7b2-7fc566a24d26",
   "metadata": {},
   "outputs": [],
   "source": [
    "# run function parallel\n",
    "run_bdepth_perc_function_parallel(shapefile_list, netcdf_list, output_dir_list)"
   ]
  },
  {
   "cell_type": "code",
   "execution_count": 11,
   "id": "1509c36e-3e13-44cb-bfb3-c4ac124dca41",
   "metadata": {},
   "outputs": [],
   "source": [
    "#combine all files in one dataframe\n",
    "# list al files\n",
    "files = glob.glob(f\"{work_dir}/output/bedrock_depth/0_01deg/*\")\n",
    "li=[] #empty list\n",
    "for filename in files:\n",
    "    df = pd.read_csv(filename, index_col=0) #read file as dataframe\n",
    "    li.append(df) #append file to list\n",
    "f = pd.concat(li, axis=0) #concatenate lists\n",
    "f.to_csv(f'{work_dir}/output/bedrock_depth/all_catch_0_01_perc.csv')"
   ]
  },
  {
   "cell_type": "code",
   "execution_count": 15,
   "id": "73de193a-c095-4bd1-8567-7ed416630ab4",
   "metadata": {},
   "outputs": [],
   "source": [
    "fd = f[f.bd_perc>0.1]"
   ]
  },
  {
   "cell_type": "code",
   "execution_count": 16,
   "id": "896f8acf-396a-4f76-b6f5-b05fa28217e1",
   "metadata": {},
   "outputs": [
    {
     "data": {
      "text/html": [
       "<div>\n",
       "<style scoped>\n",
       "    .dataframe tbody tr th:only-of-type {\n",
       "        vertical-align: middle;\n",
       "    }\n",
       "\n",
       "    .dataframe tbody tr th {\n",
       "        vertical-align: top;\n",
       "    }\n",
       "\n",
       "    .dataframe thead th {\n",
       "        text-align: right;\n",
       "    }\n",
       "</style>\n",
       "<table border=\"1\" class=\"dataframe\">\n",
       "  <thead>\n",
       "    <tr style=\"text-align: right;\">\n",
       "      <th></th>\n",
       "      <th>bd_perc</th>\n",
       "    </tr>\n",
       "  </thead>\n",
       "  <tbody>\n",
       "    <tr>\n",
       "      <th>ca_0003561</th>\n",
       "      <td>0.340168</td>\n",
       "    </tr>\n",
       "    <tr>\n",
       "      <th>G0050115</th>\n",
       "      <td>0.161083</td>\n",
       "    </tr>\n",
       "    <tr>\n",
       "      <th>ca_0004413</th>\n",
       "      <td>0.111513</td>\n",
       "    </tr>\n",
       "    <tr>\n",
       "      <th>ca_0005473</th>\n",
       "      <td>0.290076</td>\n",
       "    </tr>\n",
       "    <tr>\n",
       "      <th>304499</th>\n",
       "      <td>0.495536</td>\n",
       "    </tr>\n",
       "    <tr>\n",
       "      <th>...</th>\n",
       "      <td>...</td>\n",
       "    </tr>\n",
       "    <tr>\n",
       "      <th>mx_0000050</th>\n",
       "      <td>0.171759</td>\n",
       "    </tr>\n",
       "    <tr>\n",
       "      <th>ca_0003778</th>\n",
       "      <td>0.297876</td>\n",
       "    </tr>\n",
       "    <tr>\n",
       "      <th>ca_0005163</th>\n",
       "      <td>0.136578</td>\n",
       "    </tr>\n",
       "    <tr>\n",
       "      <th>401012</th>\n",
       "      <td>0.401891</td>\n",
       "    </tr>\n",
       "    <tr>\n",
       "      <th>ca_0001655</th>\n",
       "      <td>0.885845</td>\n",
       "    </tr>\n",
       "  </tbody>\n",
       "</table>\n",
       "<p>429 rows × 1 columns</p>\n",
       "</div>"
      ],
      "text/plain": [
       "             bd_perc\n",
       "ca_0003561  0.340168\n",
       "G0050115    0.161083\n",
       "ca_0004413  0.111513\n",
       "ca_0005473  0.290076\n",
       "304499      0.495536\n",
       "...              ...\n",
       "mx_0000050  0.171759\n",
       "ca_0003778  0.297876\n",
       "ca_0005163  0.136578\n",
       "401012      0.401891\n",
       "ca_0001655  0.885845\n",
       "\n",
       "[429 rows x 1 columns]"
      ]
     },
     "execution_count": 16,
     "metadata": {},
     "output_type": "execute_result"
    }
   ],
   "source": [
    "fd"
   ]
  },
  {
   "cell_type": "markdown",
   "id": "afe233da-023c-4a3e-adc9-46e178bbea4e",
   "metadata": {},
   "source": [
    "## IWU IRRIGATION WATER USE"
   ]
  },
  {
   "cell_type": "code",
   "execution_count": 5,
   "id": "4b0df6fe-536d-4a4c-b1e8-ec360d07b346",
   "metadata": {},
   "outputs": [],
   "source": [
    "# define directories \n",
    "nc_bd = f'{work_dir}/data/IWU_irri_data/IWU_2011_2018.nc' # dir of netcdf forcing files\n",
    "out_dir = f'{work_dir}/output/irrigation/raw/' # output dir\n",
    "operator = 'mean'\n",
    "\n",
    "shape_dir = Path(f'{work_dir}/output/selected_shapes/')\n",
    "shapefile_list = glob.glob(f'{shape_dir}/*.shp')[0:15]\n",
    "\n",
    "netcdf_list = [nc_bd]*len(shapefile_list)\n",
    "output_dir_list = [out_dir]*len(shapefile_list)"
   ]
  },
  {
   "cell_type": "code",
   "execution_count": null,
   "id": "b56f8459-c74c-4e02-adcf-cd98260f7f23",
   "metadata": {},
   "outputs": [],
   "source": [
    "# run function parallel\n",
    "run_iwu_function_parallel(shapefile_list, netcdf_list, output_dir_list) # run all catchments as job file"
   ]
  },
  {
   "cell_type": "code",
   "execution_count": 11,
   "id": "4ecaabb3-cd3b-492b-8b6b-ff8fb6d6f45a",
   "metadata": {},
   "outputs": [],
   "source": [
    "# process timeseries -> monthly to monthly means and yearly values\n",
    "catch_id_list = np.genfromtxt(f'{work_dir}/output/gsim_aus_catch_id_list_lo_sel.txt',dtype='str')[:]\n",
    "\n",
    "catch_id_list = list(catch_id_list)\n",
    "work_dir_list = [work_dir]*len(catch_id_list)"
   ]
  },
  {
   "cell_type": "code",
   "execution_count": 12,
   "id": "829504a8-a8dc-4174-8543-b385629a37df",
   "metadata": {},
   "outputs": [],
   "source": [
    "run_iwu_processing_parallel(catch_id_list,work_dir_list) "
   ]
  },
  {
   "cell_type": "code",
   "execution_count": 13,
   "id": "2f417072-3e1d-4705-a864-46967192c2f4",
   "metadata": {},
   "outputs": [],
   "source": [
    "# combine mean values in one dataframe\n",
    "# list al files\n",
    "files = glob.glob(f\"{work_dir}/output/irrigation/processed/mean/*\")\n",
    "li=[] #empty list\n",
    "for filename in files:\n",
    "    df = pd.read_csv(filename, index_col=0) #read file as dataframe\n",
    "    li.append(df) #append file to list\n",
    "f = pd.concat(li, axis=0) #concatenate lists\n",
    "f.to_csv(f'{work_dir}/output/irrigation/mean_irrigation_all_catchments.csv')"
   ]
  },
  {
   "cell_type": "code",
   "execution_count": 14,
   "id": "1840d490-857d-4866-924a-5c2a62242707",
   "metadata": {},
   "outputs": [
    {
     "data": {
      "text/html": [
       "<div>\n",
       "<style scoped>\n",
       "    .dataframe tbody tr th:only-of-type {\n",
       "        vertical-align: middle;\n",
       "    }\n",
       "\n",
       "    .dataframe tbody tr th {\n",
       "        vertical-align: top;\n",
       "    }\n",
       "\n",
       "    .dataframe thead th {\n",
       "        text-align: right;\n",
       "    }\n",
       "</style>\n",
       "<table border=\"1\" class=\"dataframe\">\n",
       "  <thead>\n",
       "    <tr style=\"text-align: right;\">\n",
       "      <th></th>\n",
       "      <th>iwu_mean_mmday</th>\n",
       "    </tr>\n",
       "  </thead>\n",
       "  <tbody>\n",
       "    <tr>\n",
       "      <th>za_0000167</th>\n",
       "      <td>0.010661</td>\n",
       "    </tr>\n",
       "    <tr>\n",
       "      <th>us_0006572</th>\n",
       "      <td>0.002885</td>\n",
       "    </tr>\n",
       "    <tr>\n",
       "      <th>de_0000129</th>\n",
       "      <td>0.009031</td>\n",
       "    </tr>\n",
       "    <tr>\n",
       "      <th>es_0000787</th>\n",
       "      <td>0.111952</td>\n",
       "    </tr>\n",
       "    <tr>\n",
       "      <th>br_0001831</th>\n",
       "      <td>0.002705</td>\n",
       "    </tr>\n",
       "    <tr>\n",
       "      <th>...</th>\n",
       "      <td>...</td>\n",
       "    </tr>\n",
       "    <tr>\n",
       "      <th>br_0001145</th>\n",
       "      <td>0.000517</td>\n",
       "    </tr>\n",
       "    <tr>\n",
       "      <th>138113A</th>\n",
       "      <td>0.008703</td>\n",
       "    </tr>\n",
       "    <tr>\n",
       "      <th>is_0000004</th>\n",
       "      <td>0.000000</td>\n",
       "    </tr>\n",
       "    <tr>\n",
       "      <th>br_0002204</th>\n",
       "      <td>0.011027</td>\n",
       "    </tr>\n",
       "    <tr>\n",
       "      <th>us_0005811</th>\n",
       "      <td>0.000031</td>\n",
       "    </tr>\n",
       "  </tbody>\n",
       "</table>\n",
       "<p>8658 rows × 1 columns</p>\n",
       "</div>"
      ],
      "text/plain": [
       "            iwu_mean_mmday\n",
       "za_0000167        0.010661\n",
       "us_0006572        0.002885\n",
       "de_0000129        0.009031\n",
       "es_0000787        0.111952\n",
       "br_0001831        0.002705\n",
       "...                    ...\n",
       "br_0001145        0.000517\n",
       "138113A           0.008703\n",
       "is_0000004        0.000000\n",
       "br_0002204        0.011027\n",
       "us_0005811        0.000031\n",
       "\n",
       "[8658 rows x 1 columns]"
      ]
     },
     "execution_count": 14,
     "metadata": {},
     "output_type": "execute_result"
    }
   ],
   "source": [
    "f"
   ]
  },
  {
   "cell_type": "markdown",
   "id": "01b0a31d-9ec6-41b1-8230-9c6a4d27ddf0",
   "metadata": {},
   "source": [
    "## IRRIGATED AREA"
   ]
  },
  {
   "cell_type": "code",
   "execution_count": 73,
   "id": "4c6959fe-674b-4e8a-89cb-ee27ecced5ed",
   "metadata": {},
   "outputs": [
    {
     "data": {
      "text/plain": [
       "'/scratch/fransjevanoors/global_sr/output/selected_shapes/fr_0000674.shp'"
      ]
     },
     "execution_count": 73,
     "metadata": {},
     "output_type": "execute_result"
    }
   ],
   "source": [
    "catchment_netcdf = f'{work_dir}/data/irrigated_area/AEI_HYDE_FINAL_IR_2005.nc'\n",
    "n = xr.open_dataset(catchment_netcdf)\n",
    "shape_dir = Path(f'{work_dir}/output/selected_shapes/')\n",
    "shapefile_list = glob.glob(f'{shape_dir}/*.shp')\n",
    "catchment_shapefile = shapefile_list[100]\n",
    "grid_resolution=0.1\n",
    "regrid_first=False\n",
    "statistical_operator='mean'\n",
    "catchment_shapefile"
   ]
  },
  {
   "cell_type": "code",
   "execution_count": 74,
   "id": "8ad7db65-997e-4b34-b93d-d51319ac2965",
   "metadata": {},
   "outputs": [
    {
     "data": {
      "text/html": [
       "<div><svg style=\"position: absolute; width: 0; height: 0; overflow: hidden\">\n",
       "<defs>\n",
       "<symbol id=\"icon-database\" viewBox=\"0 0 32 32\">\n",
       "<path d=\"M16 0c-8.837 0-16 2.239-16 5v4c0 2.761 7.163 5 16 5s16-2.239 16-5v-4c0-2.761-7.163-5-16-5z\"></path>\n",
       "<path d=\"M16 17c-8.837 0-16-2.239-16-5v6c0 2.761 7.163 5 16 5s16-2.239 16-5v-6c0 2.761-7.163 5-16 5z\"></path>\n",
       "<path d=\"M16 26c-8.837 0-16-2.239-16-5v6c0 2.761 7.163 5 16 5s16-2.239 16-5v-6c0 2.761-7.163 5-16 5z\"></path>\n",
       "</symbol>\n",
       "<symbol id=\"icon-file-text2\" viewBox=\"0 0 32 32\">\n",
       "<path d=\"M28.681 7.159c-0.694-0.947-1.662-2.053-2.724-3.116s-2.169-2.030-3.116-2.724c-1.612-1.182-2.393-1.319-2.841-1.319h-15.5c-1.378 0-2.5 1.121-2.5 2.5v27c0 1.378 1.122 2.5 2.5 2.5h23c1.378 0 2.5-1.122 2.5-2.5v-19.5c0-0.448-0.137-1.23-1.319-2.841zM24.543 5.457c0.959 0.959 1.712 1.825 2.268 2.543h-4.811v-4.811c0.718 0.556 1.584 1.309 2.543 2.268zM28 29.5c0 0.271-0.229 0.5-0.5 0.5h-23c-0.271 0-0.5-0.229-0.5-0.5v-27c0-0.271 0.229-0.5 0.5-0.5 0 0 15.499-0 15.5 0v7c0 0.552 0.448 1 1 1h7v19.5z\"></path>\n",
       "<path d=\"M23 26h-14c-0.552 0-1-0.448-1-1s0.448-1 1-1h14c0.552 0 1 0.448 1 1s-0.448 1-1 1z\"></path>\n",
       "<path d=\"M23 22h-14c-0.552 0-1-0.448-1-1s0.448-1 1-1h14c0.552 0 1 0.448 1 1s-0.448 1-1 1z\"></path>\n",
       "<path d=\"M23 18h-14c-0.552 0-1-0.448-1-1s0.448-1 1-1h14c0.552 0 1 0.448 1 1s-0.448 1-1 1z\"></path>\n",
       "</symbol>\n",
       "</defs>\n",
       "</svg>\n",
       "<style>/* CSS stylesheet for displaying xarray objects in jupyterlab.\n",
       " *\n",
       " */\n",
       "\n",
       ":root {\n",
       "  --xr-font-color0: var(--jp-content-font-color0, rgba(0, 0, 0, 1));\n",
       "  --xr-font-color2: var(--jp-content-font-color2, rgba(0, 0, 0, 0.54));\n",
       "  --xr-font-color3: var(--jp-content-font-color3, rgba(0, 0, 0, 0.38));\n",
       "  --xr-border-color: var(--jp-border-color2, #e0e0e0);\n",
       "  --xr-disabled-color: var(--jp-layout-color3, #bdbdbd);\n",
       "  --xr-background-color: var(--jp-layout-color0, white);\n",
       "  --xr-background-color-row-even: var(--jp-layout-color1, white);\n",
       "  --xr-background-color-row-odd: var(--jp-layout-color2, #eeeeee);\n",
       "}\n",
       "\n",
       "html[theme=dark],\n",
       "body.vscode-dark {\n",
       "  --xr-font-color0: rgba(255, 255, 255, 1);\n",
       "  --xr-font-color2: rgba(255, 255, 255, 0.54);\n",
       "  --xr-font-color3: rgba(255, 255, 255, 0.38);\n",
       "  --xr-border-color: #1F1F1F;\n",
       "  --xr-disabled-color: #515151;\n",
       "  --xr-background-color: #111111;\n",
       "  --xr-background-color-row-even: #111111;\n",
       "  --xr-background-color-row-odd: #313131;\n",
       "}\n",
       "\n",
       ".xr-wrap {\n",
       "  display: block !important;\n",
       "  min-width: 300px;\n",
       "  max-width: 700px;\n",
       "}\n",
       "\n",
       ".xr-text-repr-fallback {\n",
       "  /* fallback to plain text repr when CSS is not injected (untrusted notebook) */\n",
       "  display: none;\n",
       "}\n",
       "\n",
       ".xr-header {\n",
       "  padding-top: 6px;\n",
       "  padding-bottom: 6px;\n",
       "  margin-bottom: 4px;\n",
       "  border-bottom: solid 1px var(--xr-border-color);\n",
       "}\n",
       "\n",
       ".xr-header > div,\n",
       ".xr-header > ul {\n",
       "  display: inline;\n",
       "  margin-top: 0;\n",
       "  margin-bottom: 0;\n",
       "}\n",
       "\n",
       ".xr-obj-type,\n",
       ".xr-array-name {\n",
       "  margin-left: 2px;\n",
       "  margin-right: 10px;\n",
       "}\n",
       "\n",
       ".xr-obj-type {\n",
       "  color: var(--xr-font-color2);\n",
       "}\n",
       "\n",
       ".xr-sections {\n",
       "  padding-left: 0 !important;\n",
       "  display: grid;\n",
       "  grid-template-columns: 150px auto auto 1fr 20px 20px;\n",
       "}\n",
       "\n",
       ".xr-section-item {\n",
       "  display: contents;\n",
       "}\n",
       "\n",
       ".xr-section-item input {\n",
       "  display: none;\n",
       "}\n",
       "\n",
       ".xr-section-item input + label {\n",
       "  color: var(--xr-disabled-color);\n",
       "}\n",
       "\n",
       ".xr-section-item input:enabled + label {\n",
       "  cursor: pointer;\n",
       "  color: var(--xr-font-color2);\n",
       "}\n",
       "\n",
       ".xr-section-item input:enabled + label:hover {\n",
       "  color: var(--xr-font-color0);\n",
       "}\n",
       "\n",
       ".xr-section-summary {\n",
       "  grid-column: 1;\n",
       "  color: var(--xr-font-color2);\n",
       "  font-weight: 500;\n",
       "}\n",
       "\n",
       ".xr-section-summary > span {\n",
       "  display: inline-block;\n",
       "  padding-left: 0.5em;\n",
       "}\n",
       "\n",
       ".xr-section-summary-in:disabled + label {\n",
       "  color: var(--xr-font-color2);\n",
       "}\n",
       "\n",
       ".xr-section-summary-in + label:before {\n",
       "  display: inline-block;\n",
       "  content: '►';\n",
       "  font-size: 11px;\n",
       "  width: 15px;\n",
       "  text-align: center;\n",
       "}\n",
       "\n",
       ".xr-section-summary-in:disabled + label:before {\n",
       "  color: var(--xr-disabled-color);\n",
       "}\n",
       "\n",
       ".xr-section-summary-in:checked + label:before {\n",
       "  content: '▼';\n",
       "}\n",
       "\n",
       ".xr-section-summary-in:checked + label > span {\n",
       "  display: none;\n",
       "}\n",
       "\n",
       ".xr-section-summary,\n",
       ".xr-section-inline-details {\n",
       "  padding-top: 4px;\n",
       "  padding-bottom: 4px;\n",
       "}\n",
       "\n",
       ".xr-section-inline-details {\n",
       "  grid-column: 2 / -1;\n",
       "}\n",
       "\n",
       ".xr-section-details {\n",
       "  display: none;\n",
       "  grid-column: 1 / -1;\n",
       "  margin-bottom: 5px;\n",
       "}\n",
       "\n",
       ".xr-section-summary-in:checked ~ .xr-section-details {\n",
       "  display: contents;\n",
       "}\n",
       "\n",
       ".xr-array-wrap {\n",
       "  grid-column: 1 / -1;\n",
       "  display: grid;\n",
       "  grid-template-columns: 20px auto;\n",
       "}\n",
       "\n",
       ".xr-array-wrap > label {\n",
       "  grid-column: 1;\n",
       "  vertical-align: top;\n",
       "}\n",
       "\n",
       ".xr-preview {\n",
       "  color: var(--xr-font-color3);\n",
       "}\n",
       "\n",
       ".xr-array-preview,\n",
       ".xr-array-data {\n",
       "  padding: 0 5px !important;\n",
       "  grid-column: 2;\n",
       "}\n",
       "\n",
       ".xr-array-data,\n",
       ".xr-array-in:checked ~ .xr-array-preview {\n",
       "  display: none;\n",
       "}\n",
       "\n",
       ".xr-array-in:checked ~ .xr-array-data,\n",
       ".xr-array-preview {\n",
       "  display: inline-block;\n",
       "}\n",
       "\n",
       ".xr-dim-list {\n",
       "  display: inline-block !important;\n",
       "  list-style: none;\n",
       "  padding: 0 !important;\n",
       "  margin: 0;\n",
       "}\n",
       "\n",
       ".xr-dim-list li {\n",
       "  display: inline-block;\n",
       "  padding: 0;\n",
       "  margin: 0;\n",
       "}\n",
       "\n",
       ".xr-dim-list:before {\n",
       "  content: '(';\n",
       "}\n",
       "\n",
       ".xr-dim-list:after {\n",
       "  content: ')';\n",
       "}\n",
       "\n",
       ".xr-dim-list li:not(:last-child):after {\n",
       "  content: ',';\n",
       "  padding-right: 5px;\n",
       "}\n",
       "\n",
       ".xr-has-index {\n",
       "  font-weight: bold;\n",
       "}\n",
       "\n",
       ".xr-var-list,\n",
       ".xr-var-item {\n",
       "  display: contents;\n",
       "}\n",
       "\n",
       ".xr-var-item > div,\n",
       ".xr-var-item label,\n",
       ".xr-var-item > .xr-var-name span {\n",
       "  background-color: var(--xr-background-color-row-even);\n",
       "  margin-bottom: 0;\n",
       "}\n",
       "\n",
       ".xr-var-item > .xr-var-name:hover span {\n",
       "  padding-right: 5px;\n",
       "}\n",
       "\n",
       ".xr-var-list > li:nth-child(odd) > div,\n",
       ".xr-var-list > li:nth-child(odd) > label,\n",
       ".xr-var-list > li:nth-child(odd) > .xr-var-name span {\n",
       "  background-color: var(--xr-background-color-row-odd);\n",
       "}\n",
       "\n",
       ".xr-var-name {\n",
       "  grid-column: 1;\n",
       "}\n",
       "\n",
       ".xr-var-dims {\n",
       "  grid-column: 2;\n",
       "}\n",
       "\n",
       ".xr-var-dtype {\n",
       "  grid-column: 3;\n",
       "  text-align: right;\n",
       "  color: var(--xr-font-color2);\n",
       "}\n",
       "\n",
       ".xr-var-preview {\n",
       "  grid-column: 4;\n",
       "}\n",
       "\n",
       ".xr-var-name,\n",
       ".xr-var-dims,\n",
       ".xr-var-dtype,\n",
       ".xr-preview,\n",
       ".xr-attrs dt {\n",
       "  white-space: nowrap;\n",
       "  overflow: hidden;\n",
       "  text-overflow: ellipsis;\n",
       "  padding-right: 10px;\n",
       "}\n",
       "\n",
       ".xr-var-name:hover,\n",
       ".xr-var-dims:hover,\n",
       ".xr-var-dtype:hover,\n",
       ".xr-attrs dt:hover {\n",
       "  overflow: visible;\n",
       "  width: auto;\n",
       "  z-index: 1;\n",
       "}\n",
       "\n",
       ".xr-var-attrs,\n",
       ".xr-var-data {\n",
       "  display: none;\n",
       "  background-color: var(--xr-background-color) !important;\n",
       "  padding-bottom: 5px !important;\n",
       "}\n",
       "\n",
       ".xr-var-attrs-in:checked ~ .xr-var-attrs,\n",
       ".xr-var-data-in:checked ~ .xr-var-data {\n",
       "  display: block;\n",
       "}\n",
       "\n",
       ".xr-var-data > table {\n",
       "  float: right;\n",
       "}\n",
       "\n",
       ".xr-var-name span,\n",
       ".xr-var-data,\n",
       ".xr-attrs {\n",
       "  padding-left: 25px !important;\n",
       "}\n",
       "\n",
       ".xr-attrs,\n",
       ".xr-var-attrs,\n",
       ".xr-var-data {\n",
       "  grid-column: 1 / -1;\n",
       "}\n",
       "\n",
       "dl.xr-attrs {\n",
       "  padding: 0;\n",
       "  margin: 0;\n",
       "  display: grid;\n",
       "  grid-template-columns: 125px auto;\n",
       "}\n",
       "\n",
       ".xr-attrs dt,\n",
       ".xr-attrs dd {\n",
       "  padding: 0;\n",
       "  margin: 0;\n",
       "  float: left;\n",
       "  padding-right: 10px;\n",
       "  width: auto;\n",
       "}\n",
       "\n",
       ".xr-attrs dt {\n",
       "  font-weight: normal;\n",
       "  grid-column: 1;\n",
       "}\n",
       "\n",
       ".xr-attrs dt:hover span {\n",
       "  display: inline-block;\n",
       "  background: var(--xr-background-color);\n",
       "  padding-right: 10px;\n",
       "}\n",
       "\n",
       ".xr-attrs dd {\n",
       "  grid-column: 2;\n",
       "  white-space: pre-wrap;\n",
       "  word-break: break-all;\n",
       "}\n",
       "\n",
       ".xr-icon-database,\n",
       ".xr-icon-file-text2 {\n",
       "  display: inline-block;\n",
       "  vertical-align: middle;\n",
       "  width: 1em;\n",
       "  height: 1.5em !important;\n",
       "  stroke-width: 0;\n",
       "  stroke: currentColor;\n",
       "  fill: currentColor;\n",
       "}\n",
       "</style><pre class='xr-text-repr-fallback'>&lt;xarray.Dataset&gt;\n",
       "Dimensions:                 (time: 1, lon: 4320, lat: 2160)\n",
       "Coordinates:\n",
       "  * time                    (time) datetime64[ns] 2005-01-01\n",
       "  * lon                     (lon) float64 -180.0 -179.9 -179.8 ... 179.8 179.9\n",
       "  * lat                     (lat) float64 90.0 89.92 89.83 ... -89.83 -89.92\n",
       "Data variables:\n",
       "    AEI_HYDE_FINAL_IR_2005  (time, lat, lon) float32 ...\n",
       "Attributes:\n",
       "    CDI:          Climate Data Interface version 1.9.10 (https://mpimet.mpg.d...\n",
       "    Conventions:  CF-1.6\n",
       "    history:      Fri May 12 16:46:11 2023: cdo -setctomiss,-9999 2_AEI_HYDE_...\n",
       "    CDO:          Climate Data Operators version 1.9.10 (https://mpimet.mpg.d...</pre><div class='xr-wrap' style='display:none'><div class='xr-header'><div class='xr-obj-type'>xarray.Dataset</div></div><ul class='xr-sections'><li class='xr-section-item'><input id='section-644f132a-b3f8-4d97-8721-1a68cc6df60b' class='xr-section-summary-in' type='checkbox' disabled ><label for='section-644f132a-b3f8-4d97-8721-1a68cc6df60b' class='xr-section-summary'  title='Expand/collapse section'>Dimensions:</label><div class='xr-section-inline-details'><ul class='xr-dim-list'><li><span class='xr-has-index'>time</span>: 1</li><li><span class='xr-has-index'>lon</span>: 4320</li><li><span class='xr-has-index'>lat</span>: 2160</li></ul></div><div class='xr-section-details'></div></li><li class='xr-section-item'><input id='section-4923808e-287b-40ae-be88-6dbf8ce57fc7' class='xr-section-summary-in' type='checkbox'  checked><label for='section-4923808e-287b-40ae-be88-6dbf8ce57fc7' class='xr-section-summary' >Coordinates: <span>(3)</span></label><div class='xr-section-inline-details'></div><div class='xr-section-details'><ul class='xr-var-list'><li class='xr-var-item'><div class='xr-var-name'><span class='xr-has-index'>time</span></div><div class='xr-var-dims'>(time)</div><div class='xr-var-dtype'>datetime64[ns]</div><div class='xr-var-preview xr-preview'>2005-01-01</div><input id='attrs-9bb1580f-780c-4ec2-854f-f005a1939111' class='xr-var-attrs-in' type='checkbox' ><label for='attrs-9bb1580f-780c-4ec2-854f-f005a1939111' title='Show/Hide attributes'><svg class='icon xr-icon-file-text2'><use xlink:href='#icon-file-text2'></use></svg></label><input id='data-b28e496b-3a5e-4619-a3ed-e79a9ff1d0cd' class='xr-var-data-in' type='checkbox'><label for='data-b28e496b-3a5e-4619-a3ed-e79a9ff1d0cd' title='Show/Hide data repr'><svg class='icon xr-icon-database'><use xlink:href='#icon-database'></use></svg></label><div class='xr-var-attrs'><dl class='xr-attrs'><dt><span>standard_name :</span></dt><dd>time</dd><dt><span>axis :</span></dt><dd>T</dd></dl></div><div class='xr-var-data'><pre>array([&#x27;2005-01-01T00:00:00.000000000&#x27;], dtype=&#x27;datetime64[ns]&#x27;)</pre></div></li><li class='xr-var-item'><div class='xr-var-name'><span class='xr-has-index'>lon</span></div><div class='xr-var-dims'>(lon)</div><div class='xr-var-dtype'>float64</div><div class='xr-var-preview xr-preview'>-180.0 -179.9 ... 179.8 179.9</div><input id='attrs-dcb42781-8e48-4580-9bf9-acd935880ccf' class='xr-var-attrs-in' type='checkbox' ><label for='attrs-dcb42781-8e48-4580-9bf9-acd935880ccf' title='Show/Hide attributes'><svg class='icon xr-icon-file-text2'><use xlink:href='#icon-file-text2'></use></svg></label><input id='data-b6d6f79f-92c8-490a-9bdf-419b2e94a14a' class='xr-var-data-in' type='checkbox'><label for='data-b6d6f79f-92c8-490a-9bdf-419b2e94a14a' title='Show/Hide data repr'><svg class='icon xr-icon-database'><use xlink:href='#icon-database'></use></svg></label><div class='xr-var-attrs'><dl class='xr-attrs'><dt><span>standard_name :</span></dt><dd>longitude</dd><dt><span>long_name :</span></dt><dd>longitude</dd><dt><span>units :</span></dt><dd>degrees_east</dd><dt><span>axis :</span></dt><dd>X</dd></dl></div><div class='xr-var-data'><pre>array([-180.      , -179.916667, -179.833334, ...,  179.748561,  179.831894,\n",
       "        179.915227])</pre></div></li><li class='xr-var-item'><div class='xr-var-name'><span class='xr-has-index'>lat</span></div><div class='xr-var-dims'>(lat)</div><div class='xr-var-dtype'>float64</div><div class='xr-var-preview xr-preview'>90.0 89.92 89.83 ... -89.83 -89.92</div><input id='attrs-c0e793c8-cef9-4879-9577-b3645da7652e' class='xr-var-attrs-in' type='checkbox' ><label for='attrs-c0e793c8-cef9-4879-9577-b3645da7652e' title='Show/Hide attributes'><svg class='icon xr-icon-file-text2'><use xlink:href='#icon-file-text2'></use></svg></label><input id='data-67ea5a8e-099d-4a2d-8fb6-df893249400f' class='xr-var-data-in' type='checkbox'><label for='data-67ea5a8e-099d-4a2d-8fb6-df893249400f' title='Show/Hide data repr'><svg class='icon xr-icon-database'><use xlink:href='#icon-database'></use></svg></label><div class='xr-var-attrs'><dl class='xr-attrs'><dt><span>standard_name :</span></dt><dd>latitude</dd><dt><span>long_name :</span></dt><dd>latitude</dd><dt><span>units :</span></dt><dd>degrees_north</dd><dt><span>axis :</span></dt><dd>Y</dd></dl></div><div class='xr-var-data'><pre>array([ 90.      ,  89.916667,  89.833334, ..., -89.749281, -89.832614,\n",
       "       -89.915947])</pre></div></li></ul></div></li><li class='xr-section-item'><input id='section-3473c480-3db7-493b-8644-bc3d558c91b6' class='xr-section-summary-in' type='checkbox'  checked><label for='section-3473c480-3db7-493b-8644-bc3d558c91b6' class='xr-section-summary' >Data variables: <span>(1)</span></label><div class='xr-section-inline-details'></div><div class='xr-section-details'><ul class='xr-var-list'><li class='xr-var-item'><div class='xr-var-name'><span>AEI_HYDE_FINAL_IR_2005</span></div><div class='xr-var-dims'>(time, lat, lon)</div><div class='xr-var-dtype'>float32</div><div class='xr-var-preview xr-preview'>...</div><input id='attrs-d6012af7-6265-495b-b63f-518b108c4be7' class='xr-var-attrs-in' type='checkbox' disabled><label for='attrs-d6012af7-6265-495b-b63f-518b108c4be7' title='Show/Hide attributes'><svg class='icon xr-icon-file-text2'><use xlink:href='#icon-file-text2'></use></svg></label><input id='data-d043e5d0-90e7-4c85-941c-b44fa86133ee' class='xr-var-data-in' type='checkbox'><label for='data-d043e5d0-90e7-4c85-941c-b44fa86133ee' title='Show/Hide data repr'><svg class='icon xr-icon-database'><use xlink:href='#icon-database'></use></svg></label><div class='xr-var-attrs'><dl class='xr-attrs'></dl></div><div class='xr-var-data'><pre>[9331200 values with dtype=float32]</pre></div></li></ul></div></li><li class='xr-section-item'><input id='section-a12c2677-aa2f-4aca-8b41-39eb5a11ffcd' class='xr-section-summary-in' type='checkbox'  checked><label for='section-a12c2677-aa2f-4aca-8b41-39eb5a11ffcd' class='xr-section-summary' >Attributes: <span>(4)</span></label><div class='xr-section-inline-details'></div><div class='xr-section-details'><dl class='xr-attrs'><dt><span>CDI :</span></dt><dd>Climate Data Interface version 1.9.10 (https://mpimet.mpg.de/cdi)</dd><dt><span>Conventions :</span></dt><dd>CF-1.6</dd><dt><span>history :</span></dt><dd>Fri May 12 16:46:11 2023: cdo -setctomiss,-9999 2_AEI_HYDE_FINAL_IR_2005.nc AEI_HYDE_FINAL_IR_2005.nc\n",
       "Fri May 12 16:46:11 2023: cdo -f nc4 -settaxis,2005-01-01,00:00:00 -setname,AEI_HYDE_FINAL_IR_2005 -input,asc_grid_chirps.txt 2_AEI_HYDE_FINAL_IR_2005.nc</dd><dt><span>CDO :</span></dt><dd>Climate Data Operators version 1.9.10 (https://mpimet.mpg.de/cdo)</dd></dl></div></li></ul></div></div>"
      ],
      "text/plain": [
       "<xarray.Dataset>\n",
       "Dimensions:                 (time: 1, lon: 4320, lat: 2160)\n",
       "Coordinates:\n",
       "  * time                    (time) datetime64[ns] 2005-01-01\n",
       "  * lon                     (lon) float64 -180.0 -179.9 -179.8 ... 179.8 179.9\n",
       "  * lat                     (lat) float64 90.0 89.92 89.83 ... -89.83 -89.92\n",
       "Data variables:\n",
       "    AEI_HYDE_FINAL_IR_2005  (time, lat, lon) float32 ...\n",
       "Attributes:\n",
       "    CDI:          Climate Data Interface version 1.9.10 (https://mpimet.mpg.d...\n",
       "    Conventions:  CF-1.6\n",
       "    history:      Fri May 12 16:46:11 2023: cdo -setctomiss,-9999 2_AEI_HYDE_...\n",
       "    CDO:          Climate Data Operators version 1.9.10 (https://mpimet.mpg.d..."
      ]
     },
     "execution_count": 74,
     "metadata": {},
     "output_type": "execute_result"
    }
   ],
   "source": [
    "n"
   ]
  },
  {
   "cell_type": "code",
   "execution_count": 75,
   "id": "a73139c3-d215-4be3-a43e-c66e23166e3a",
   "metadata": {},
   "outputs": [],
   "source": [
    "# Load iris cube of netcdf\n",
    "cube = iris.load_cube(catchment_netcdf)\n",
    "cube.dim_coords[1].guess_bounds()\n",
    "cube.dim_coords[2].guess_bounds()\n",
    "\n",
    "# Create target grid and regrid cube\n",
    "if regrid_first is True:\n",
    "    target_cube = regridding_target_cube(catchment_shapefile, grid_resolution, buffer=1) #create the regrid target cube\n",
    "    cube = preprocessor.regrid(cube, target_cube, scheme=\"area_weighted\") #regrid the netcdf file (conservative) to a higher resolution\n",
    "\n",
    "# From cube extract shapefile shape\n",
    "cube = preprocessor.extract_shape(cube, catchment_shapefile, method=\"contains\") #use all grid cells that lie >50% inside the catchment shape\n",
    "\n",
    "# Calculate area weighted statistics of extracted grid cells (inside catchment shape)\n",
    "cube_stats = preprocessor.area_statistics(cube, statistical_operator)\n",
    "\n",
    "# Convert cube to dataframe\n",
    "df = iris.pandas.as_data_frame(cube_stats/100)\n",
    "\n",
    "# Change column names of timeseries dataframe\n",
    "df = df.reset_index()\n",
    "df = df.set_axis([\"time\", cube_stats.name()], axis=1)"
   ]
  },
  {
   "cell_type": "code",
   "execution_count": 76,
   "id": "6591da9e-e248-475e-a0f2-d7940da741b9",
   "metadata": {},
   "outputs": [
    {
     "data": {
      "text/html": [
       "<div>\n",
       "<style scoped>\n",
       "    .dataframe tbody tr th:only-of-type {\n",
       "        vertical-align: middle;\n",
       "    }\n",
       "\n",
       "    .dataframe tbody tr th {\n",
       "        vertical-align: top;\n",
       "    }\n",
       "\n",
       "    .dataframe thead th {\n",
       "        text-align: right;\n",
       "    }\n",
       "</style>\n",
       "<table border=\"1\" class=\"dataframe\">\n",
       "  <thead>\n",
       "    <tr style=\"text-align: right;\">\n",
       "      <th></th>\n",
       "      <th>time</th>\n",
       "      <th>AEI_HYDE_FINAL_IR_2005</th>\n",
       "    </tr>\n",
       "  </thead>\n",
       "  <tbody>\n",
       "    <tr>\n",
       "      <th>0</th>\n",
       "      <td>2005-01-01 00:00:00</td>\n",
       "      <td>0.76816</td>\n",
       "    </tr>\n",
       "  </tbody>\n",
       "</table>\n",
       "</div>"
      ],
      "text/plain": [
       "                  time  AEI_HYDE_FINAL_IR_2005\n",
       "0  2005-01-01 00:00:00                 0.76816"
      ]
     },
     "execution_count": 76,
     "metadata": {},
     "output_type": "execute_result"
    }
   ],
   "source": [
    "df"
   ]
  },
  {
   "cell_type": "code",
   "execution_count": 77,
   "id": "a7644966-2e33-4bf7-876c-e6559524b14b",
   "metadata": {},
   "outputs": [
    {
     "name": "stdout",
     "output_type": "stream",
     "text": [
      "0.00514456\n",
      "239.3448\n",
      "1.231323684288\n"
     ]
    }
   ],
   "source": [
    "df = pd.read_csv(f'{work_dir}/output/catchment_characteristics/catchment_characteristics_gswp-p_gleam-ep_gswp-t.csv',index_col=0)\n",
    "df = df.loc['fr_0000674']\n",
    "print(df.ir_mean)\n",
    "print(df.area)\n",
    "print(df.ir_mean*df.area)"
   ]
  },
  {
   "cell_type": "code",
   "execution_count": null,
   "id": "6eef01ed-60ce-42b1-bd01-2224e2d8c0b4",
   "metadata": {},
   "outputs": [],
   "source": []
  },
  {
   "cell_type": "code",
   "execution_count": null,
   "id": "7e131039-554b-4ebc-a12d-b4e4d1e5397f",
   "metadata": {},
   "outputs": [],
   "source": [
    "## 2\n",
    "def area_weighted_shapefile_rasterstats(\n",
    "    catchment_shapefile,\n",
    "    catchment_netcdf,\n",
    "    statistical_operator,\n",
    "    output_dir,\n",
    "    output_csv=True,\n",
    "    return_cube=False,\n",
    "    regrid_first=True,\n",
    "    grid_resolution=0.1\n",
    "):\n",
    "    \n",
    "    \"\"\"\n",
    "    Calculate area weighted zonal statistics of netcdfs using a shapefile to extract netcdf data.\n",
    "\n",
    "    catchment_shapefile:  str, catchment shapefile\n",
    "    catchment_netcdf:     str, netcdf file\n",
    "    statistical_operator: str, (mean, median (NOT area weighted), sum, variance, min, max, rms)\n",
    "    - https://docs.esmvaltool.org/projects/esmvalcore/en/latest/api/esmvalcore.preprocessor.html#esmvalcore.preprocessor.area_statistics\n",
    "    output_csv:          bool, True stores csv output and False stores netcdf output\n",
    "    regrid_first:        bool, True regrid cube first before extracting shape, False do not regrid first\n",
    "    grid_resolution:    float, grid cell size of target cube in degrees\n",
    "    Returns: iris cube, stores .csv file or .nc file\n",
    "    \"\"\"\n",
    "    \n",
    "    # Load iris cube of netcdf\n",
    "    cube = iris.load_cube(catchment_netcdf)\n",
    "    cube.dim_coords[1].guess_bounds()\n",
    "    cube.dim_coords[2].guess_bounds()\n",
    "    \n",
    "    # extract dates of netcdf timeseries to be used as filename\n",
    "    time_start,time_end = cube.coord('time')[0],cube.coord('time')[-1]\n",
    "    point_start, point_end = np.float(time_start.points), np.float(time_end.points)\n",
    "    unit = time_start.units\n",
    "    l = unit.num2date(0)\n",
    "    d = datetime(year=l.year, month=l.month, day=l.day)\n",
    "    date_start, date_end = d + timedelta(days=point_start), d + timedelta(days=point_end)\n",
    "    y_start, y_end = date_start.year, date_end.year\n",
    "    \n",
    "    # Create target grid and regrid cube\n",
    "    if regrid_first is True:\n",
    "        target_cube = regridding_target_cube(catchment_shapefile, grid_resolution, buffer=1) #create the regrid target cube\n",
    "        cube = preprocessor.regrid(cube, target_cube, scheme=\"area_weighted\") #regrid the netcdf file (conservative) to a higher resolution\n",
    "\n",
    "    # From cube extract shapefile shape\n",
    "    cube = preprocessor.extract_shape(cube, catchment_shapefile, method=\"contains\") #use all grid cells that lie >50% inside the catchment shape\n",
    "\n",
    "    # Calculate area weighted statistics of extracted grid cells (inside catchment shape)\n",
    "    cube_stats = preprocessor.area_statistics(cube, statistical_operator)\n",
    "\n",
    "    if output_csv is True: #save the timeseries as csv\n",
    "        # Convert cube to dataframe\n",
    "        df = iris.pandas.as_data_frame(cube_stats)\n",
    "\n",
    "        # Change column names of timeseries dataframe\n",
    "        df = df.reset_index()\n",
    "        df = df.set_axis([\"time\", cube_stats.name()], axis=1)\n",
    "        \n",
    "        var=0\n",
    "        if (catchment_netcdf.split('/')[-1].split('_')[0] == 'pr'): #pr is gswp daily precipitation\n",
    "            var='P'\n",
    "        if (catchment_netcdf.split('/')[-1].split('_')[0] == 'Ep'): #Ep is GLEAM potential evaporation\n",
    "            var='Ep'\n",
    "        if (catchment_netcdf.split('/')[-1].split('_')[0] == 'tas'): #tas is gswp mean daily temperature\n",
    "            var='T'\n",
    "        if (catchment_netcdf.split('/')[-1].split('_')[0] == 'pre'): #pre is cru monthly precipitation\n",
    "            var='P'\n",
    "        if (catchment_netcdf.split('/')[-1].split('_')[0] == 'precipitation'): #precipitation is mswep precipitation\n",
    "            var='P'\n",
    "        # Write csv as output\n",
    "        df.to_csv(f\"{output_dir}/{Path(catchment_shapefile).name.split('.')[0]}_{var}_{statistical_operator}_{y_start}_{y_end}.csv\")\n",
    "       \n",
    "    # if output_csv is False -> save the netcdf cube\n",
    "    else:\n",
    "        iris.save(cube_stats, f\"{output_dir}/{Path(catchment_shapefile).name.split('.')[0]}_{var}_{statistical_operator}_{y_start}_{y_end}.nc\")\n",
    "\n",
    "    # return cube yes or no\n",
    "    if return_cube == True:\n",
    "        return cube\n",
    "    else:\n",
    "        return"
   ]
  },
  {
   "cell_type": "code",
   "execution_count": null,
   "id": "5951c4a9-4a1c-46d0-a640-63d4eb47a91d",
   "metadata": {},
   "outputs": [],
   "source": []
  },
  {
   "cell_type": "code",
   "execution_count": null,
   "id": "222e7848-3839-4938-910a-fc089d28a41a",
   "metadata": {},
   "outputs": [],
   "source": []
  },
  {
   "cell_type": "code",
   "execution_count": null,
   "id": "ad3509e9-0046-4e08-863d-c5b5ddc5a58e",
   "metadata": {},
   "outputs": [],
   "source": []
  },
  {
   "cell_type": "markdown",
   "id": "8d957be6-8d90-46bd-bd1c-d441b691b25b",
   "metadata": {},
   "source": [
    "### MSWEP PRECIPITATION"
   ]
  },
  {
   "cell_type": "code",
   "execution_count": 5,
   "id": "0316c07a-880d-4360-b098-99452fc859e7",
   "metadata": {},
   "outputs": [],
   "source": [
    "# merge NETCDFs\n",
    "import xarray as xr\n",
    "a = xr.open_dataset(f'{work_dir}/data/mswep_p/years_processed/1979.nc')\n",
    "b = xr.open_dataset(f'{work_dir}/data/mswep_p/years_processed/1980.nc')\n",
    "# c = xr.open_dataset(f'{work_dir}/data/mswep_p/years_processed/1981.nc')\n",
    "# d = xr.open_dataset(f'{work_dir}/data/mswep_p/years_processed/1982.nc')\n",
    "# e = xr.open_dataset(f'{work_dir}/data/mswep_p/years_processed/1983.nc')\n",
    "# f = xr.open_dataset(f'{work_dir}/data/mswep_p/years_processed/1984.nc')\n",
    "# g = xr.concat([a,b],dim='time')"
   ]
  },
  {
   "cell_type": "code",
   "execution_count": null,
   "id": "3866ccb3-9664-40f6-8ef1-7e8d1d105472",
   "metadata": {},
   "outputs": [],
   "source": [
    "g = xr.concat([a,b],dim='time')"
   ]
  },
  {
   "cell_type": "code",
   "execution_count": null,
   "id": "65284e31-ae83-46bb-9352-755fe0f4a93b",
   "metadata": {},
   "outputs": [],
   "source": []
  },
  {
   "cell_type": "code",
   "execution_count": 5,
   "id": "a75ab2d7-dfec-4762-9b48-e8325fbfb588",
   "metadata": {},
   "outputs": [],
   "source": [
    "# define directories \n",
    "out_dir = f'{work_dir}/output/forcing_timeseries/mswep_p/raw/' # output dir\n",
    "operator = 'mean'\n",
    "\n",
    "shape_dir = Path(f'{work_dir}/output/selected_shapes/')\n",
    "shapefiles = glob.glob(f'{shape_dir}/*.shp')[0:2]\n",
    "netcdfs = glob.glob(f'{work_dir}/data/mswep_p/years_processed/*.nc')\n",
    "\n",
    "shapefile_list = shapefiles * len(netcdfs)\n",
    "shapefile_list.sort()\n",
    "netcdf_list = netcdfs * len(shapefiles)\n",
    "output_dir_list = [out_dir] * len(shapefile_list)\n",
    "operator_list = [operator]*len(shapefile_list)"
   ]
  },
  {
   "cell_type": "code",
   "execution_count": null,
   "id": "86e616e5-701f-4e85-beb0-1832c321492a",
   "metadata": {},
   "outputs": [],
   "source": [
    "run_function_parallel(shapefile_list, netcdf_list, operator_list, output_dir_list)"
   ]
  },
  {
   "cell_type": "code",
   "execution_count": null,
   "id": "c6b485d3-4357-48fe-82a7-b23b041793c9",
   "metadata": {},
   "outputs": [],
   "source": [
    "# post process daily per year csv files to all years combined, daily monthly and mean"
   ]
  },
  {
   "cell_type": "code",
   "execution_count": 22,
   "id": "b8bb3cfd-6d61-4193-97f6-8ee761e6767e",
   "metadata": {},
   "outputs": [
    {
     "data": {
      "text/plain": [
       "8622"
      ]
     },
     "execution_count": 22,
     "metadata": {},
     "output_type": "execute_result"
    }
   ],
   "source": [
    "# check which catchments are missing\n",
    "catch_list = np.genfromtxt(f'{work_dir}/output/gsim_aus_catch_id_list_lo_sel.txt',dtype='str')[:]\n",
    "el_id_list=[]\n",
    "for filepath in glob.iglob(f'{work_dir}/output/forcing_timeseries/mswep_p/raw/*.csv'):\n",
    "    f = os.path.split(filepath)[1] # remove full path\n",
    "    f = f[:-21] # remove .csv extension\n",
    "    el_id_list.append(f)\n",
    "    \n",
    "a = dict(Counter(el_id_list)) # count duplicates\n",
    "\n",
    "b = a.items()\n",
    "c = list(b)\n",
    "d = np.array(c)\n",
    "l = []\n",
    "for i in range(len(d)): # only catchments with 41 files are complete, so only remove them from catch id list\n",
    "    if (d[i,1]=='41'):\n",
    "        l.append(d[i,0])\n",
    "dif = list(set(catch_list) - set(l))\n",
    "len(dif)"
   ]
  },
  {
   "cell_type": "code",
   "execution_count": null,
   "id": "905bfae9-a25b-48db-b432-9abccc8a1515",
   "metadata": {},
   "outputs": [],
   "source": []
  },
  {
   "cell_type": "code",
   "execution_count": null,
   "id": "67c5bc92-a528-4e44-ac3f-e36277be80db",
   "metadata": {},
   "outputs": [],
   "source": []
  },
  {
   "cell_type": "markdown",
   "id": "69f70470-897e-4209-bc70-29f6b3d5e508",
   "metadata": {},
   "source": [
    "## CRU PRECIPITATION - monthly"
   ]
  },
  {
   "cell_type": "markdown",
   "id": "8a074dda-fa21-425a-aded-945df12dd902",
   "metadata": {},
   "source": [
    "### run grid to catchments"
   ]
  },
  {
   "cell_type": "code",
   "execution_count": 8,
   "id": "0e2fb27f-0af4-4fd4-ae9e-0f604f254b5b",
   "metadata": {},
   "outputs": [],
   "source": [
    "# define directories \n",
    "nc_cru = f'{work_dir}/data/cru_p/cru_ts4.06_1961_2010_pre.nc' # dir of netcdf forcing files\n",
    "out_dir = f'{work_dir}/output/forcing_timeseries/cru_p/area_weighted' # output dir\n",
    "operator = 'mean'\n",
    "\n",
    "shape_dir = Path(f'{work_dir}/output/selected_shapes/')\n",
    "shapefile_list = glob.glob(f'{shape_dir}/*.shp')[0:5]\n",
    "\n",
    "netcdf_list = [nc_cru]*len(shapefile_list)\n",
    "output_dir_list = [out_dir]*len(shapefile_list)\n",
    "operator_list = [operator]*len(shapefile_list)"
   ]
  },
  {
   "cell_type": "code",
   "execution_count": null,
   "id": "a937e67d-0017-49d4-87bf-77771a541ae5",
   "metadata": {},
   "outputs": [],
   "source": [
    "# run function parallel\n",
    "run_cru_function_parallel(shapefile_list, netcdf_list, operator_list, output_dir_list)"
   ]
  },
  {
   "cell_type": "markdown",
   "id": "887ac3e4-f594-4959-bcc8-21eefffc615a",
   "metadata": {},
   "source": [
    "### process timeseries"
   ]
  },
  {
   "cell_type": "code",
   "execution_count": 11,
   "id": "b1a46aa3-57d1-4893-aff2-4fee05a515e8",
   "metadata": {},
   "outputs": [],
   "source": [
    "catch_id_list = np.loadtxt(f'{work_dir}/output/gsim_aus_catch_id_list_lo_sel.txt',dtype=str)[:]\n",
    "regrid_type='area_weighted'\n",
    "\n",
    "work_dir_list = [work_dir]*len(catch_id_list)\n",
    "regrid_type_list = [regrid_type]*len(catch_id_list)\n",
    "\n",
    "run_cru_processing_function_parallel(catch_id_list,work_dir_list,regrid_type_list)"
   ]
  },
  {
   "cell_type": "code",
   "execution_count": 12,
   "id": "69f1038a-3d93-479b-863e-ec59cf586bbe",
   "metadata": {},
   "outputs": [],
   "source": [
    "catch_id_list = np.loadtxt(f'{work_dir}/output/gsim_aus_catch_id_list_lo_sel.txt',dtype=str)[:]\n",
    "regrid_type='nearest_neighbour'\n",
    "\n",
    "work_dir_list = [work_dir]*len(catch_id_list)\n",
    "regrid_type_list = [regrid_type]*len(catch_id_list)\n",
    "\n",
    "run_cru_processing_function_parallel(catch_id_list,work_dir_list,regrid_type_list)"
   ]
  },
  {
   "cell_type": "code",
   "execution_count": 29,
   "id": "0bcff616-4964-4ef0-b1cb-c16289f3069c",
   "metadata": {},
   "outputs": [],
   "source": [
    "# merge cru mean values in dataframe - area weighted\n",
    "files = glob.glob(f\"{work_dir}/output/forcing_timeseries/cru_p/area_weighted/processed/mean/*\")[:]\n",
    "li=[] #empty list\n",
    "for filename in files:\n",
    "    df = pd.read_csv(filename, index_col=0) #read file as dataframe\n",
    "    f1 = filename.split('mean/')[1]\n",
    "    f2 = f1.split('_1961')[0]\n",
    "    d = pd.DataFrame(index=[f2],columns=['cru_mean_p_aw'])\n",
    "    d['cru_mean_p_aw'] = df['0'].values\n",
    "    li.append(d) #append file to list\n",
    "aw = pd.concat(li, axis=0) #concatenate lists\n",
    "aw.to_csv(f\"{work_dir}/output/forcing_timeseries/cru_p/mean_p_area_weighted.csv\")"
   ]
  },
  {
   "cell_type": "code",
   "execution_count": 30,
   "id": "bed16c8f-9ae6-48b4-bd92-c68356489fc9",
   "metadata": {},
   "outputs": [],
   "source": [
    "# merge cru mean values in dataframe - nearest neighbour\n",
    "files = glob.glob(f\"{work_dir}/output/forcing_timeseries/cru_p/nearest_neighbour/processed/mean/*\")[:]\n",
    "li=[] #empty list\n",
    "for filename in files:\n",
    "    df = pd.read_csv(filename, index_col=0) #read file as dataframe\n",
    "    f1 = filename.split('mean/')[1]\n",
    "    f2 = f1.split('_1961')[0]\n",
    "    d = pd.DataFrame(index=[f2],columns=['cru_mean_p_nn'])\n",
    "    d['cru_mean_p_nn'] = df['0'].values\n",
    "    li.append(d) #append file to list\n",
    "nn = pd.concat(li, axis=0) #concatenate lists\n",
    "nn.to_csv(f\"{work_dir}/output/forcing_timeseries/cru_p/mean_p_nearest_neighbour.csv\")"
   ]
  },
  {
   "cell_type": "code",
   "execution_count": 31,
   "id": "8ed2a951-032d-4c89-9d6e-9603a3cf7dd4",
   "metadata": {},
   "outputs": [],
   "source": [
    "cb = pd.concat([aw,nn],axis=1)\n",
    "cb.to_csv(f\"{work_dir}/output/forcing_timeseries/cru_p/mean_p.csv\")"
   ]
  },
  {
   "cell_type": "code",
   "execution_count": 32,
   "id": "ff9c63ba-a6c1-4016-9ae7-b4810a8ec8e8",
   "metadata": {},
   "outputs": [
    {
     "data": {
      "text/html": [
       "<div>\n",
       "<style scoped>\n",
       "    .dataframe tbody tr th:only-of-type {\n",
       "        vertical-align: middle;\n",
       "    }\n",
       "\n",
       "    .dataframe tbody tr th {\n",
       "        vertical-align: top;\n",
       "    }\n",
       "\n",
       "    .dataframe thead th {\n",
       "        text-align: right;\n",
       "    }\n",
       "</style>\n",
       "<table border=\"1\" class=\"dataframe\">\n",
       "  <thead>\n",
       "    <tr style=\"text-align: right;\">\n",
       "      <th></th>\n",
       "      <th>cru_mean_p_aw</th>\n",
       "      <th>cru_mean_p_nn</th>\n",
       "    </tr>\n",
       "  </thead>\n",
       "  <tbody>\n",
       "    <tr>\n",
       "      <th>ch_0000103</th>\n",
       "      <td>3.898726</td>\n",
       "      <td>3.890731</td>\n",
       "    </tr>\n",
       "    <tr>\n",
       "      <th>us_0002154</th>\n",
       "      <td>3.928862</td>\n",
       "      <td>3.923121</td>\n",
       "    </tr>\n",
       "    <tr>\n",
       "      <th>ca_0003144</th>\n",
       "      <td>1.139313</td>\n",
       "      <td>1.139023</td>\n",
       "    </tr>\n",
       "    <tr>\n",
       "      <th>us_0000227</th>\n",
       "      <td>3.305487</td>\n",
       "      <td>3.305487</td>\n",
       "    </tr>\n",
       "    <tr>\n",
       "      <th>de_0000803</th>\n",
       "      <td>1.962505</td>\n",
       "      <td>1.962505</td>\n",
       "    </tr>\n",
       "    <tr>\n",
       "      <th>...</th>\n",
       "      <td>...</td>\n",
       "      <td>...</td>\n",
       "    </tr>\n",
       "    <tr>\n",
       "      <th>ca_0000756</th>\n",
       "      <td>2.681718</td>\n",
       "      <td>2.672363</td>\n",
       "    </tr>\n",
       "    <tr>\n",
       "      <th>fr_0000894</th>\n",
       "      <td>2.470836</td>\n",
       "      <td>2.466738</td>\n",
       "    </tr>\n",
       "    <tr>\n",
       "      <th>br_0003043</th>\n",
       "      <td>5.130479</td>\n",
       "      <td>4.980619</td>\n",
       "    </tr>\n",
       "    <tr>\n",
       "      <th>ca_0001736</th>\n",
       "      <td>4.072753</td>\n",
       "      <td>4.085046</td>\n",
       "    </tr>\n",
       "    <tr>\n",
       "      <th>br_0001346</th>\n",
       "      <td>3.900797</td>\n",
       "      <td>3.864908</td>\n",
       "    </tr>\n",
       "  </tbody>\n",
       "</table>\n",
       "<p>8658 rows × 2 columns</p>\n",
       "</div>"
      ],
      "text/plain": [
       "            cru_mean_p_aw  cru_mean_p_nn\n",
       "ch_0000103       3.898726       3.890731\n",
       "us_0002154       3.928862       3.923121\n",
       "ca_0003144       1.139313       1.139023\n",
       "us_0000227       3.305487       3.305487\n",
       "de_0000803       1.962505       1.962505\n",
       "...                   ...            ...\n",
       "ca_0000756       2.681718       2.672363\n",
       "fr_0000894       2.470836       2.466738\n",
       "br_0003043       5.130479       4.980619\n",
       "ca_0001736       4.072753       4.085046\n",
       "br_0001346       3.900797       3.864908\n",
       "\n",
       "[8658 rows x 2 columns]"
      ]
     },
     "execution_count": 32,
     "metadata": {},
     "output_type": "execute_result"
    }
   ],
   "source": [
    "cb"
   ]
  },
  {
   "cell_type": "code",
   "execution_count": null,
   "id": "a56955f6-f818-4104-bbc1-0b20aea533dc",
   "metadata": {},
   "outputs": [],
   "source": []
  },
  {
   "cell_type": "markdown",
   "id": "749d9dfb-cd1d-458a-9365-ec02106ecf65",
   "metadata": {},
   "source": [
    "## CHIRPS PRECIPITATION - PROBLEMS"
   ]
  },
  {
   "cell_type": "code",
   "execution_count": null,
   "id": "5db41799-f7f9-4974-8d9d-3f08e09f3232",
   "metadata": {},
   "outputs": [],
   "source": [
    "# CHIRPS"
   ]
  },
  {
   "cell_type": "code",
   "execution_count": 5,
   "id": "42e527a0-3649-4d9d-8866-5a8866509036",
   "metadata": {},
   "outputs": [],
   "source": [
    "nc_chirps = f'{work_dir}/data/chirps_p/chirps-v2.0.1981.days_p01.nc' # dir of netcdf forcing files\n",
    "out_dir = f'{work_dir}/output/forcing_timeseries/chirps_p/area_weighted' # output dir\n",
    "operator = 'mean'\n",
    "\n",
    "shape_dir = Path(f'{work_dir}/output/selected_shapes/')\n",
    "shapefile_list = glob.glob(f'{shape_dir}/*.shp')[0]"
   ]
  },
  {
   "cell_type": "code",
   "execution_count": 6,
   "id": "9d278eed-9c27-4282-b0a0-6a3040c636f3",
   "metadata": {},
   "outputs": [],
   "source": [
    "regrid_first=False #resolution is 0.05 degree, so very high"
   ]
  },
  {
   "cell_type": "code",
   "execution_count": 7,
   "id": "3330c52d-5b65-4895-b8e7-2ed43d710613",
   "metadata": {},
   "outputs": [],
   "source": [
    "catchment_netcdf = nc_chirps\n",
    "catchment_shapefile = shapefile_list\n",
    "statistical_operator='mean'"
   ]
  },
  {
   "cell_type": "code",
   "execution_count": 8,
   "id": "e13cd57e-8136-4b87-ba2a-64e18178552b",
   "metadata": {},
   "outputs": [
    {
     "data": {
      "text/plain": [
       "'/scratch/fransjevanoors/global_sr/data/chirps_p/chirps-v2.0.1981.days_p01.nc'"
      ]
     },
     "execution_count": 8,
     "metadata": {},
     "output_type": "execute_result"
    }
   ],
   "source": [
    "catchment_netcdf"
   ]
  },
  {
   "cell_type": "code",
   "execution_count": 20,
   "id": "c9e8b8f5-8156-4bda-8d4e-72efdede6264",
   "metadata": {},
   "outputs": [
    {
     "ename": "ValueError",
     "evalue": "coordinate's range greater than coordinate's unit's modulus",
     "output_type": "error",
     "traceback": [
      "\u001b[0;31m---------------------------------------------------------------------------\u001b[0m",
      "\u001b[0;31mValueError\u001b[0m                                Traceback (most recent call last)",
      "\u001b[0;32m/tmp/ipykernel_2949279/1284619814.py\u001b[0m in \u001b[0;36m<module>\u001b[0;34m\u001b[0m\n\u001b[1;32m     22\u001b[0m \u001b[0mcube\u001b[0m\u001b[0;34m.\u001b[0m\u001b[0mdim_coords\u001b[0m\u001b[0;34m[\u001b[0m\u001b[0;36m2\u001b[0m\u001b[0;34m]\u001b[0m\u001b[0;34m.\u001b[0m\u001b[0mguess_bounds\u001b[0m\u001b[0;34m(\u001b[0m\u001b[0;34m)\u001b[0m\u001b[0;34m\u001b[0m\u001b[0;34m\u001b[0m\u001b[0m\n\u001b[1;32m     23\u001b[0m \u001b[0;31m# From cube extract shapefile shape\u001b[0m\u001b[0;34m\u001b[0m\u001b[0;34m\u001b[0m\u001b[0m\n\u001b[0;32m---> 24\u001b[0;31m \u001b[0mcube\u001b[0m \u001b[0;34m=\u001b[0m \u001b[0mpreprocessor\u001b[0m\u001b[0;34m.\u001b[0m\u001b[0mextract_shape\u001b[0m\u001b[0;34m(\u001b[0m\u001b[0mcube\u001b[0m\u001b[0;34m,\u001b[0m \u001b[0mcatchment_shapefile\u001b[0m\u001b[0;34m,\u001b[0m \u001b[0mmethod\u001b[0m\u001b[0;34m=\u001b[0m\u001b[0;34m\"contains\"\u001b[0m\u001b[0;34m)\u001b[0m \u001b[0;31m#use all grid cells that lie >50% inside the catchment shape\u001b[0m\u001b[0;34m\u001b[0m\u001b[0;34m\u001b[0m\u001b[0m\n\u001b[0m\u001b[1;32m     25\u001b[0m \u001b[0;34m\u001b[0m\u001b[0m\n\u001b[1;32m     26\u001b[0m \u001b[0;31m# Calculate area weighted statistics of extracted grid cells (inside catchment shape)\u001b[0m\u001b[0;34m\u001b[0m\u001b[0;34m\u001b[0m\u001b[0m\n",
      "\u001b[0;32m~/.conda/envs/sr_env/lib/python3.9/site-packages/esmvalcore/preprocessor/_area.py\u001b[0m in \u001b[0;36mextract_shape\u001b[0;34m(cube, shapefile, method, crop, decomposed, ids)\u001b[0m\n\u001b[1;32m    632\u001b[0m                 \u001b[0mids\u001b[0m\u001b[0;34m=\u001b[0m\u001b[0mids\u001b[0m\u001b[0;34m,\u001b[0m\u001b[0;34m\u001b[0m\u001b[0;34m\u001b[0m\u001b[0m\n\u001b[1;32m    633\u001b[0m             )\n\u001b[0;32m--> 634\u001b[0;31m             cube = _crop_cube(cube,\n\u001b[0m\u001b[1;32m    635\u001b[0m                               \u001b[0mstart_longitude\u001b[0m\u001b[0;34m=\u001b[0m\u001b[0mlon_min\u001b[0m\u001b[0;34m,\u001b[0m\u001b[0;34m\u001b[0m\u001b[0;34m\u001b[0m\u001b[0m\n\u001b[1;32m    636\u001b[0m                               \u001b[0mstart_latitude\u001b[0m\u001b[0;34m=\u001b[0m\u001b[0mlat_min\u001b[0m\u001b[0;34m,\u001b[0m\u001b[0;34m\u001b[0m\u001b[0;34m\u001b[0m\u001b[0m\n",
      "\u001b[0;32m~/.conda/envs/sr_env/lib/python3.9/site-packages/esmvalcore/preprocessor/_area.py\u001b[0m in \u001b[0;36m_crop_cube\u001b[0;34m(cube, start_longitude, start_latitude, end_longitude, end_latitude, cmor_coords)\u001b[0m\n\u001b[1;32m    387\u001b[0m         \u001b[0;32mif\u001b[0m \u001b[0mend_latitude\u001b[0m \u001b[0;34m>\u001b[0m \u001b[0;36m90.\u001b[0m\u001b[0;34m:\u001b[0m\u001b[0;34m\u001b[0m\u001b[0;34m\u001b[0m\u001b[0m\n\u001b[1;32m    388\u001b[0m             \u001b[0mend_latitude\u001b[0m \u001b[0;34m=\u001b[0m \u001b[0;36m90.\u001b[0m\u001b[0;34m\u001b[0m\u001b[0;34m\u001b[0m\u001b[0m\n\u001b[0;32m--> 389\u001b[0;31m         cube = extract_region(cube, start_longitude, end_longitude,\n\u001b[0m\u001b[1;32m    390\u001b[0m                               start_latitude, end_latitude)\n\u001b[1;32m    391\u001b[0m     \u001b[0;32mreturn\u001b[0m \u001b[0mcube\u001b[0m\u001b[0;34m\u001b[0m\u001b[0;34m\u001b[0m\u001b[0m\n",
      "\u001b[0;32m~/.conda/envs/sr_env/lib/python3.9/site-packages/esmvalcore/preprocessor/_area.py\u001b[0m in \u001b[0;36mextract_region\u001b[0;34m(cube, start_longitude, end_longitude, start_latitude, end_latitude)\u001b[0m\n\u001b[1;32m     59\u001b[0m         \u001b[0;31m# To check only the center, ignore_bounds must be set to\u001b[0m\u001b[0;34m\u001b[0m\u001b[0;34m\u001b[0m\u001b[0m\n\u001b[1;32m     60\u001b[0m         \u001b[0;31m# True (default) is False\u001b[0m\u001b[0;34m\u001b[0m\u001b[0;34m\u001b[0m\u001b[0m\n\u001b[0;32m---> 61\u001b[0;31m         region_subset = cube.intersection(\n\u001b[0m\u001b[1;32m     62\u001b[0m             \u001b[0mlongitude\u001b[0m\u001b[0;34m=\u001b[0m\u001b[0;34m(\u001b[0m\u001b[0mstart_longitude\u001b[0m\u001b[0;34m,\u001b[0m \u001b[0mend_longitude\u001b[0m\u001b[0;34m)\u001b[0m\u001b[0;34m,\u001b[0m\u001b[0;34m\u001b[0m\u001b[0;34m\u001b[0m\u001b[0m\n\u001b[1;32m     63\u001b[0m             \u001b[0mlatitude\u001b[0m\u001b[0;34m=\u001b[0m\u001b[0;34m(\u001b[0m\u001b[0mstart_latitude\u001b[0m\u001b[0;34m,\u001b[0m \u001b[0mend_latitude\u001b[0m\u001b[0;34m)\u001b[0m\u001b[0;34m,\u001b[0m\u001b[0;34m\u001b[0m\u001b[0;34m\u001b[0m\u001b[0m\n",
      "\u001b[0;32m~/.conda/envs/sr_env/lib/python3.9/site-packages/iris/cube.py\u001b[0m in \u001b[0;36mintersection\u001b[0;34m(self, *args, **kwargs)\u001b[0m\n\u001b[1;32m   2536\u001b[0m             \u001b[0mresult\u001b[0m \u001b[0;34m=\u001b[0m \u001b[0mresult\u001b[0m\u001b[0;34m.\u001b[0m\u001b[0m_intersect\u001b[0m\u001b[0;34m(\u001b[0m\u001b[0;34m*\u001b[0m\u001b[0marg\u001b[0m\u001b[0;34m,\u001b[0m \u001b[0mignore_bounds\u001b[0m\u001b[0;34m=\u001b[0m\u001b[0mignore_bounds\u001b[0m\u001b[0;34m)\u001b[0m\u001b[0;34m\u001b[0m\u001b[0;34m\u001b[0m\u001b[0m\n\u001b[1;32m   2537\u001b[0m         \u001b[0;32mfor\u001b[0m \u001b[0mname\u001b[0m\u001b[0;34m,\u001b[0m \u001b[0mvalue\u001b[0m \u001b[0;32min\u001b[0m \u001b[0mkwargs\u001b[0m\u001b[0;34m.\u001b[0m\u001b[0mitems\u001b[0m\u001b[0;34m(\u001b[0m\u001b[0;34m)\u001b[0m\u001b[0;34m:\u001b[0m\u001b[0;34m\u001b[0m\u001b[0;34m\u001b[0m\u001b[0m\n\u001b[0;32m-> 2538\u001b[0;31m             result = result._intersect(\n\u001b[0m\u001b[1;32m   2539\u001b[0m                 \u001b[0mname\u001b[0m\u001b[0;34m,\u001b[0m \u001b[0;34m*\u001b[0m\u001b[0mvalue\u001b[0m\u001b[0;34m,\u001b[0m \u001b[0mignore_bounds\u001b[0m\u001b[0;34m=\u001b[0m\u001b[0mignore_bounds\u001b[0m\u001b[0;34m\u001b[0m\u001b[0;34m\u001b[0m\u001b[0m\n\u001b[1;32m   2540\u001b[0m             )\n",
      "\u001b[0;32m~/.conda/envs/sr_env/lib/python3.9/site-packages/iris/cube.py\u001b[0m in \u001b[0;36m_intersect\u001b[0;34m(self, name_or_coord, minimum, maximum, min_inclusive, max_inclusive, ignore_bounds)\u001b[0m\n\u001b[1;32m   2562\u001b[0m                 \u001b[0;34m\"coordinate units with no modulus are not yet\"\u001b[0m \u001b[0;34m\" supported\"\u001b[0m\u001b[0;34m\u001b[0m\u001b[0;34m\u001b[0m\u001b[0m\n\u001b[1;32m   2563\u001b[0m             )\n\u001b[0;32m-> 2564\u001b[0;31m         subsets, points, bounds = self._intersect_modulus(\n\u001b[0m\u001b[1;32m   2565\u001b[0m             \u001b[0mcoord\u001b[0m\u001b[0;34m,\u001b[0m\u001b[0;34m\u001b[0m\u001b[0;34m\u001b[0m\u001b[0m\n\u001b[1;32m   2566\u001b[0m             \u001b[0mminimum\u001b[0m\u001b[0;34m,\u001b[0m\u001b[0;34m\u001b[0m\u001b[0;34m\u001b[0m\u001b[0m\n",
      "\u001b[0;32m~/.conda/envs/sr_env/lib/python3.9/site-packages/iris/cube.py\u001b[0m in \u001b[0;36m_intersect_modulus\u001b[0;34m(self, coord, minimum, maximum, min_inclusive, max_inclusive, ignore_bounds)\u001b[0m\n\u001b[1;32m   2760\u001b[0m             \u001b[0mvalues\u001b[0m \u001b[0;34m=\u001b[0m \u001b[0mcoord\u001b[0m\u001b[0;34m.\u001b[0m\u001b[0mpoints\u001b[0m\u001b[0;34m\u001b[0m\u001b[0;34m\u001b[0m\u001b[0m\n\u001b[1;32m   2761\u001b[0m         \u001b[0;32mif\u001b[0m \u001b[0mvalues\u001b[0m\u001b[0;34m.\u001b[0m\u001b[0mmax\u001b[0m\u001b[0;34m(\u001b[0m\u001b[0;34m)\u001b[0m \u001b[0;34m>\u001b[0m \u001b[0mvalues\u001b[0m\u001b[0;34m.\u001b[0m\u001b[0mmin\u001b[0m\u001b[0;34m(\u001b[0m\u001b[0;34m)\u001b[0m \u001b[0;34m+\u001b[0m \u001b[0mmodulus\u001b[0m\u001b[0;34m:\u001b[0m\u001b[0;34m\u001b[0m\u001b[0;34m\u001b[0m\u001b[0m\n\u001b[0;32m-> 2762\u001b[0;31m             raise ValueError(\n\u001b[0m\u001b[1;32m   2763\u001b[0m                 \u001b[0;34m\"coordinate's range greater than coordinate's\"\u001b[0m\u001b[0;34m\u001b[0m\u001b[0;34m\u001b[0m\u001b[0m\n\u001b[1;32m   2764\u001b[0m                 \u001b[0;34m\" unit's modulus\"\u001b[0m\u001b[0;34m\u001b[0m\u001b[0;34m\u001b[0m\u001b[0m\n",
      "\u001b[0;31mValueError\u001b[0m: coordinate's range greater than coordinate's unit's modulus"
     ]
    }
   ],
   "source": [
    "# Load iris cube of netcdf\n",
    "cube = iris.load_cube(catchment_netcdf)\n",
    "# cube.dim_coords[1].guess_bounds()\n",
    "# cube.dim_coords[2].guess_bounds()\n",
    "\n",
    "# extract dates of netcdf timeseries to be used as filename\n",
    "time_start,time_end = cube.coord('time')[0],cube.coord('time')[-1]\n",
    "point_start, point_end = time_start.points, time_end.points\n",
    "unit = time_start.units\n",
    "l = unit.num2date(0)\n",
    "d = datetime(year=l.year, month=l.month, day=l.day)\n",
    "date_start, date_end = d + timedelta(days=int(point_start[0])), d + timedelta(days=int(point_end[0]))\n",
    "y_start, y_end = date_start.year, date_end.year\n",
    "\n",
    "# Create target grid and regrid cube\n",
    "if regrid_first is True:\n",
    "    target_cube = regridding_target_cube(catchment_shapefile, grid_resolution, buffer=1) #create the regrid target cube\n",
    "    # cube = preprocessor.regrid(cube, target_cube, scheme=\"area_weighted\") #regrid the netcdf file (conservative) to a higher resolution\n",
    "    cube = preprocessor.regrid(cube, target_cube, scheme=\"nearest\") #regrid the netcdf file (nearest neighbour) to a higher resolution\n",
    "\n",
    "cube.dim_coords[1].guess_bounds()\n",
    "cube.dim_coords[2].guess_bounds()\n",
    "# From cube extract shapefile shape\n",
    "cube = preprocessor.extract_shape(cube, catchment_shapefile, method=\"contains\") #use all grid cells that lie >50% inside the catchment shape\n",
    "\n",
    "# Calculate area weighted statistics of extracted grid cells (inside catchment shape)\n",
    "cube_stats = preprocessor.area_statistics(cube, statistical_operator)\n",
    "\n",
    "# Convert cube to dataframe\n",
    "df = iris.pandas.as_data_frame(cube_stats)\n",
    "\n",
    "# Change column names of timeseries dataframe\n",
    "df = df.reset_index()\n",
    "df = df.set_axis([\"time\", cube_stats.name()], axis=1)\n",
    "\n",
    "dates = pd.date_range(date_start,date_end + timedelta(days=31),freq='M')\n",
    "df.index = dates\n",
    "df = df.drop(columns='time')\n",
    "df.precipitation = df.precipitation/df.index.days_in_month\n",
    "\n",
    "var='p'\n",
    "# Write csv as output\n",
    "df.to_csv(f\"{output_dir}/{Path(catchment_shapefile).name.split('.')[0]}_{var}_{statistical_operator}_{y_start}_{y_end}.csv\")"
   ]
  },
  {
   "cell_type": "code",
   "execution_count": 17,
   "id": "39f2b887-8579-43ac-8bcc-cb37ee71516e",
   "metadata": {},
   "outputs": [],
   "source": [
    "# Load iris cube of netcdf\n",
    "cube = iris.load_cube(catchment_netcdf)\n",
    "# cube.dim_coords[1].guess_bounds()\n",
    "# cube.dim_coords[2].guess_bounds()"
   ]
  },
  {
   "cell_type": "code",
   "execution_count": 18,
   "id": "f1028a84-15c1-427c-952f-7324dc54fe26",
   "metadata": {},
   "outputs": [
    {
     "data": {
      "text/html": [
       "\n",
       "<style>\n",
       "  a.iris {\n",
       "      text-decoration: none !important;\n",
       "  }\n",
       "  table.iris {\n",
       "      white-space: pre;\n",
       "      border: 1px solid;\n",
       "      border-color: #9c9c9c;\n",
       "      font-family: monaco, monospace;\n",
       "  }\n",
       "  th.iris {\n",
       "      background: #303f3f;\n",
       "      color: #e0e0e0;\n",
       "      border-left: 1px solid;\n",
       "      border-color: #9c9c9c;\n",
       "      font-size: 1.05em;\n",
       "      min-width: 50px;\n",
       "      max-width: 125px;\n",
       "  }\n",
       "  tr.iris :first-child {\n",
       "      border-right: 1px solid #9c9c9c !important;\n",
       "  }\n",
       "  td.iris-title {\n",
       "      background: #d5dcdf;\n",
       "      border-top: 1px solid #9c9c9c;\n",
       "      font-weight: bold;\n",
       "  }\n",
       "  .iris-word-cell {\n",
       "      text-align: left !important;\n",
       "      white-space: pre;\n",
       "  }\n",
       "  .iris-subheading-cell {\n",
       "      padding-left: 2em !important;\n",
       "  }\n",
       "  .iris-inclusion-cell {\n",
       "      padding-right: 1em !important;\n",
       "  }\n",
       "  .iris-panel-body {\n",
       "      padding-top: 0px;\n",
       "  }\n",
       "  .iris-panel-title {\n",
       "      padding-left: 3em;\n",
       "  }\n",
       "  .iris-panel-title {\n",
       "      margin-top: 7px;\n",
       "  }\n",
       "</style>\n",
       "<table class=\"iris\" id=\"23454223076656\">\n",
       "    <tr class=\"iris\">\n",
       "<th class=\"iris iris-word-cell\">Climate Hazards Group Infrared Precipitation With Stations (mm/day)</th>\n",
       "<th class=\"iris iris-word-cell\">time</th>\n",
       "<th class=\"iris iris-word-cell\">latitude</th>\n",
       "<th class=\"iris iris-word-cell\">longitude</th>\n",
       "</tr>\n",
       "    <tr class=\"iris\">\n",
       "<td class=\"iris-word-cell iris-subheading-cell\">Shape</td>\n",
       "<td class=\"iris iris-inclusion-cell\">365</td>\n",
       "<td class=\"iris iris-inclusion-cell\">1800</td>\n",
       "<td class=\"iris iris-inclusion-cell\">3600</td>\n",
       "</tr>\n",
       "    <tr class=\"iris\">\n",
       "    <td class=\"iris-title iris-word-cell\">Dimension coordinates</td>\n",
       "    <td class=\"iris-title\"></td>\n",
       "    <td class=\"iris-title\"></td>\n",
       "    <td class=\"iris-title\"></td>\n",
       "</tr>\n",
       "<tr class=\"iris\">\n",
       "    <td class=\"iris-word-cell iris-subheading-cell\">\ttime</td>\n",
       "    <td class=\"iris-inclusion-cell\">x</td>\n",
       "    <td class=\"iris-inclusion-cell\">-</td>\n",
       "    <td class=\"iris-inclusion-cell\">-</td>\n",
       "</tr>\n",
       "<tr class=\"iris\">\n",
       "    <td class=\"iris-word-cell iris-subheading-cell\">\tlatitude</td>\n",
       "    <td class=\"iris-inclusion-cell\">-</td>\n",
       "    <td class=\"iris-inclusion-cell\">x</td>\n",
       "    <td class=\"iris-inclusion-cell\">-</td>\n",
       "</tr>\n",
       "<tr class=\"iris\">\n",
       "    <td class=\"iris-word-cell iris-subheading-cell\">\tlongitude</td>\n",
       "    <td class=\"iris-inclusion-cell\">-</td>\n",
       "    <td class=\"iris-inclusion-cell\">-</td>\n",
       "    <td class=\"iris-inclusion-cell\">x</td>\n",
       "</tr>\n",
       "<tr class=\"iris\">\n",
       "    <td class=\"iris-title iris-word-cell\">Attributes</td>\n",
       "    <td class=\"iris-title\"></td>\n",
       "    <td class=\"iris-title\"></td>\n",
       "    <td class=\"iris-title\"></td>\n",
       "</tr>\n",
       "<tr class=\"iris\">\n",
       "    <td class=\"iris-word-cell iris-subheading-cell\">\tCDI                                                           Climate Data Interface version 1.9.10 (https</td>\n",
       "    <td class=\"iris-word-cell\" colspan=\"3\">/mpimet.mpg.de/cdi)</td>\n",
       "</tr>\n",
       "<tr class=\"iris\">\n",
       "    <td class=\"iris-word-cell iris-subheading-cell\">\tCDO                                                           Climate Data Operators version 1.9.10 (https</td>\n",
       "    <td class=\"iris-word-cell\" colspan=\"3\">/mpimet.mpg.de/cdo)<br>Conventions                                                   CF-1.6<br>acknowledgements                                              The Climate Hazards Group InfraRed Precipitation with Stations development...<br>comments                                                       time variable denotes the first day of the given day.<br>creator_email                                                 pete@geog.ucsb.edu<br>creator_name                                                  Pete Peterson<br>date_created                                                  2015-11-20</td>\n",
       "</tr>\n",
       "<tr class=\"iris\">\n",
       "    <td class=\"iris-word-cell iris-subheading-cell\">\tdocumentation                                                 http</td>\n",
       "    <td class=\"iris-word-cell\" colspan=\"3\">/pubs.usgs.gov/ds/832/</td>\n",
       "</tr>\n",
       "<tr class=\"iris\">\n",
       "    <td class=\"iris-word-cell iris-subheading-cell\">\tfaq                                                           http</td>\n",
       "    <td class=\"iris-word-cell\" colspan=\"3\">/chg-wiki.geog.ucsb.edu/wiki/CHIRPS_FAQ</td>\n",
       "</tr>\n",
       "<tr class=\"iris\">\n",
       "    <td class=\"iris-word-cell iris-subheading-cell\">\tftp_url                                                       ftp</td>\n",
       "    <td class=\"iris-word-cell\" colspan=\"3\">/chg-ftpout.geog.ucsb.edu/pub/org/chg/products/CHIRPS-latest/<br>geostatial_lat_max                                            50.0<br>geostatial_lat_min                                            -50.0<br>geostatial_lon_max                                            180.0<br>geostatial_lon_min                                            -180.0</td>\n",
       "</tr>\n",
       "<tr class=\"iris\">\n",
       "    <td class=\"iris-word-cell iris-subheading-cell\">\thistory                                                       &#x27;Wed Mar 01 13</td>\n",
       "    <td class=\"iris-word-cell\" colspan=\"3\">0:42 2023: cdo remapcon,r3600x1800 chirps-v2.0.1981.days_p05.nc...<br>institution                                                   Climate Hazards Group.  University of California at Santa Barbara<br>invalid_standard_name                                         convective precipitation rate<br>reference                                                     Funk, C.C., Peterson, P.J., Landsfeld, M.F., Pedreros, D.H., Verdin, J.P.,...<br>time_step                                                     day<br>title                                                         CHIRPS Version 2.0<br>version                                                       Version 2.0</td>\n",
       "</tr>\n",
       "<tr class=\"iris\">\n",
       "    <td class=\"iris-word-cell iris-subheading-cell\">\twebsite                                                       http</td>\n",
       "    <td class=\"iris-word-cell\" colspan=\"3\">/chg.geog.ucsb.edu/data/chirps/index.html</td>\n",
       "</tr>\n",
       "</table>\n",
       "        "
      ],
      "text/plain": [
       "<iris 'Cube' of Climate Hazards group InfraRed Precipitation with Stations / (mm/day) (time: 365; latitude: 1800; longitude: 3600)>"
      ]
     },
     "execution_count": 18,
     "metadata": {},
     "output_type": "execute_result"
    }
   ],
   "source": [
    "cube"
   ]
  },
  {
   "cell_type": "code",
   "execution_count": 12,
   "id": "59ac7ba6-9a63-4715-897c-7c51a06c97bc",
   "metadata": {},
   "outputs": [
    {
     "data": {
      "text/plain": [
       "DimCoord(array([0.000e+00, 1.000e-01, 2.000e-01, ..., 3.597e+02, 3.598e+02,\n",
       "       3.599e+02]), bounds=array([[-5.0000e-02,  5.0000e-02],\n",
       "       [ 5.0000e-02,  1.5000e-01],\n",
       "       [ 1.5000e-01,  2.5000e-01],\n",
       "       ...,\n",
       "       [ 3.5965e+02,  3.5975e+02],\n",
       "       [ 3.5975e+02,  3.5985e+02],\n",
       "       [ 3.5985e+02,  3.5995e+02]]), standard_name='longitude', units=Unit('degrees'), long_name='longitude', var_name='lon')"
      ]
     },
     "execution_count": 12,
     "metadata": {},
     "output_type": "execute_result"
    }
   ],
   "source": [
    "cube.coord(\"longitude\") "
   ]
  },
  {
   "cell_type": "code",
   "execution_count": 13,
   "id": "a98cb2b8-46d2-48c8-b2fb-13f0093b9376",
   "metadata": {},
   "outputs": [
    {
     "data": {
      "text/plain": [
       "DimCoord(array([-89.95, -89.85, -89.75, ...,  89.75,  89.85,  89.95]), bounds=array([[-90. , -89.9],\n",
       "       [-89.9, -89.8],\n",
       "       [-89.8, -89.7],\n",
       "       ...,\n",
       "       [ 89.7,  89.8],\n",
       "       [ 89.8,  89.9],\n",
       "       [ 89.9,  90. ]]), standard_name='latitude', units=Unit('degrees'), long_name='latitude', var_name='lat')"
      ]
     },
     "execution_count": 13,
     "metadata": {},
     "output_type": "execute_result"
    }
   ],
   "source": [
    "cube.coord(\"latitude\") "
   ]
  },
  {
   "cell_type": "code",
   "execution_count": null,
   "id": "1eee1a67-b986-4ba2-bcc1-7e92953abdab",
   "metadata": {},
   "outputs": [],
   "source": []
  },
  {
   "cell_type": "code",
   "execution_count": null,
   "id": "93cd4db8-5b3b-4554-881e-8f065870c050",
   "metadata": {},
   "outputs": [],
   "source": [
    "## grid to catchments for cru precipitation\n",
    "def area_weighted_shapefile_rasterstats_cru(\n",
    "    catchment_shapefile,\n",
    "    catchment_netcdf,\n",
    "    statistical_operator,\n",
    "    output_dir,\n",
    "    output_csv=True,\n",
    "    return_cube=False,\n",
    "    regrid_first=True,\n",
    "    grid_resolution=0.1\n",
    "):\n",
    "    \n",
    "    \"\"\"\n",
    "    Calculate area weighted zonal statistics of netcdfs using a shapefile to extract netcdf data.\n",
    "\n",
    "    catchment_shapefile:  str, catchment shapefile\n",
    "    catchment_netcdf:     str, netcdf file\n",
    "    statistical_operator: str, (mean, median (NOT area weighted), sum, variance, min, max, rms)\n",
    "    - https://docs.esmvaltool.org/projects/esmvalcore/en/latest/api/esmvalcore.preprocessor.html#esmvalcore.preprocessor.area_statistics\n",
    "    output_csv:          bool, True stores csv output and False stores netcdf output\n",
    "    regrid_first:        bool, True regrid cube first before extracting shape, False do not regrid first\n",
    "    grid_resolution:    float, grid cell size of target cube in degrees\n",
    "    Returns: iris cube, stores .csv file or .nc file\n",
    "    \"\"\"\n",
    "\n",
    "    # Load iris cube of netcdf\n",
    "    cube = iris.load_cube(catchment_netcdf)\n",
    "    cube.dim_coords[1].guess_bounds()\n",
    "    cube.dim_coords[2].guess_bounds()\n",
    "\n",
    "    # extract dates of netcdf timeseries to be used as filename\n",
    "    time_start,time_end = cube.coord('time')[0],cube.coord('time')[-1]\n",
    "    point_start, point_end = time_start.points, time_end.points\n",
    "    unit = time_start.units\n",
    "    l = unit.num2date(0)\n",
    "    d = datetime(year=l.year, month=l.month, day=l.day)\n",
    "    date_start, date_end = d + timedelta(days=int(point_start[0])), d + timedelta(days=int(point_end[0]))\n",
    "    y_start, y_end = date_start.year, date_end.year\n",
    "\n",
    "    # Create target grid and regrid cube\n",
    "    if regrid_first is True:\n",
    "        target_cube = regridding_target_cube(catchment_shapefile, grid_resolution, buffer=1) #create the regrid target cube\n",
    "        # cube = preprocessor.regrid(cube, target_cube, scheme=\"area_weighted\") #regrid the netcdf file (conservative) to a higher resolution\n",
    "        cube = preprocessor.regrid(cube, target_cube, scheme=\"nearest\") #regrid the netcdf file (nearest neighbour) to a higher resolution\n",
    "\n",
    "    # From cube extract shapefile shape\n",
    "    cube = preprocessor.extract_shape(cube, catchment_shapefile, method=\"contains\") #use all grid cells that lie >50% inside the catchment shape\n",
    "\n",
    "    # Calculate area weighted statistics of extracted grid cells (inside catchment shape)\n",
    "    cube_stats = preprocessor.area_statistics(cube, statistical_operator)\n",
    "\n",
    "    # Convert cube to dataframe\n",
    "    df = iris.pandas.as_data_frame(cube_stats)\n",
    "\n",
    "    # Change column names of timeseries dataframe\n",
    "    df = df.reset_index()\n",
    "    df = df.set_axis([\"time\", cube_stats.name()], axis=1)\n",
    "\n",
    "    dates = pd.date_range(date_start,date_end + timedelta(days=31),freq='M')\n",
    "    df.index = dates\n",
    "    df = df.drop(columns='time')\n",
    "    df.precipitation = df.precipitation/df.index.days_in_month\n",
    "\n",
    "    var='p'\n",
    "    # Write csv as output\n",
    "    df.to_csv(f\"{output_dir}/{Path(catchment_shapefile).name.split('.')[0]}_{var}_{statistical_operator}_{y_start}_{y_end}.csv\")"
   ]
  },
  {
   "cell_type": "code",
   "execution_count": null,
   "id": "1759a65a-3c5d-4bf6-8da8-3e2c594c28f2",
   "metadata": {},
   "outputs": [],
   "source": []
  },
  {
   "cell_type": "code",
   "execution_count": null,
   "id": "2c067afa-0692-49d4-baf6-ba0e0125b683",
   "metadata": {},
   "outputs": [],
   "source": []
  },
  {
   "cell_type": "code",
   "execution_count": null,
   "id": "548b2e76-3976-44b8-8af9-b2b40651c593",
   "metadata": {},
   "outputs": [],
   "source": []
  },
  {
   "cell_type": "code",
   "execution_count": null,
   "id": "4803ceca-cf0b-4437-aa63-c7171b25d62e",
   "metadata": {},
   "outputs": [],
   "source": []
  },
  {
   "cell_type": "code",
   "execution_count": null,
   "id": "7573da75-58cf-4369-9527-8f51d9e869e9",
   "metadata": {},
   "outputs": [],
   "source": []
  }
 ],
 "metadata": {
  "kernelspec": {
   "display_name": "Python 3 (ipykernel)",
   "language": "python",
   "name": "python3"
  },
  "language_info": {
   "codemirror_mode": {
    "name": "ipython",
    "version": 3
   },
   "file_extension": ".py",
   "mimetype": "text/x-python",
   "name": "python",
   "nbconvert_exporter": "python",
   "pygments_lexer": "ipython3",
   "version": "3.9.7"
  }
 },
 "nbformat": 4,
 "nbformat_minor": 5
}
