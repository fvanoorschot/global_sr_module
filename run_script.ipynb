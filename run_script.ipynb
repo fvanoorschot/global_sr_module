{
 "cells": [
  {
   "cell_type": "code",
   "execution_count": 1,
   "id": "181a9be9-fd9a-4366-90bc-a5b871cd9183",
   "metadata": {},
   "outputs": [],
   "source": [
    "import glob\n",
    "from pathlib import Path\n",
    "import os\n",
    "\n",
    "import geopandas as gpd\n",
    "import iris\n",
    "import iris.pandas\n",
    "import numpy as np\n",
    "from esmvalcore import preprocessor\n",
    "from iris.coords import DimCoord\n",
    "from iris.cube import Cube\n",
    "from pathos.threading import ThreadPool as Pool\n",
    "from datetime import datetime\n",
    "from datetime import timedelta\n",
    "import pandas as pd"
   ]
  },
  {
   "cell_type": "code",
   "execution_count": 2,
   "id": "5b053a7a-23b8-434d-ae1d-19888e5f5494",
   "metadata": {},
   "outputs": [],
   "source": [
    "from f_grid_to_catchments import *\n",
    "from f_postprocess_timeseries import *\n",
    "from f_catch_characteristics import *\n",
    "from f_preprocess_discharge import *"
   ]
  },
  {
   "cell_type": "markdown",
   "id": "65a9ed88-646a-4209-b0a1-5e01426119ee",
   "metadata": {},
   "source": [
    "## Define paths"
   ]
  },
  {
   "cell_type": "code",
   "execution_count": 3,
   "id": "48e094df-ec04-4c83-a259-9a4395300ff0",
   "metadata": {},
   "outputs": [],
   "source": [
    "# define here your working directory -> in this directory you need a folder with data/shapes (shapefiles) and data/forcing (netcdf forcing)\n",
    "work_dir=Path(\"/work/users/vanoorschot/fransje/scripts/GLOBAL_SR/global_sr_module\")\n",
    "\n",
    "# make output directory\n",
    "if not os.path.exists(f'{work_dir}/output'):\n",
    "    os.makedirs(f'{work_dir}/output')"
   ]
  },
  {
   "cell_type": "markdown",
   "id": "140fd899-95d5-4490-b13c-aa448ba8e410",
   "metadata": {},
   "source": [
    "## Catchment IDs"
   ]
  },
  {
   "cell_type": "code",
   "execution_count": 4,
   "id": "47d31e59-49f8-4e94-af71-60abddffb7c6",
   "metadata": {},
   "outputs": [],
   "source": [
    "# make list of catchment ids\n",
    "SHAPE_DIR = Path(f'{work_dir}/data/shapes/')\n",
    "shapefiles = glob.glob(f\"{SHAPE_DIR}/*shp\")\n",
    "catch_id_list = []\n",
    "for i in shapefiles:\n",
    "    catch_id_list.append(Path(i).name.split('.')[0])\n",
    "np.savetxt(f'{work_dir}/output/catch_id_list.txt',catch_id_list,fmt='%s')"
   ]
  },
  {
   "cell_type": "markdown",
   "id": "0baf7036-1515-444d-83f0-b7d2b6bead68",
   "metadata": {},
   "source": [
    "## Preprocess discharge data"
   ]
  },
  {
   "cell_type": "code",
   "execution_count": 5,
   "id": "a50094bb-f752-4e43-8dd9-b716cb5f0dfa",
   "metadata": {},
   "outputs": [],
   "source": [
    "# set paths\n",
    "if not os.path.exists(f'{work_dir}/output/discharge/timeseries'):\n",
    "    os.makedirs(f'{work_dir}/output/discharge/timeseries')\n",
    "    \n",
    "if not os.path.exists(f'{work_dir}/output/discharge/characteristics'):\n",
    "    os.makedirs(f'{work_dir}/output/discharge/characteristics')\n",
    "\n",
    "fol_in = f'{work_dir}/data/gsim_discharge/'\n",
    "fol_out = f'{work_dir}/output/discharge/'\n",
    "for j in catch_id_list:\n",
    "    catch_id = j\n",
    "    preprocess_gsim_discharge(catch_id, fol_in, fol_out)"
   ]
  },
  {
   "cell_type": "markdown",
   "id": "1bfb49e0-e014-45eb-ac49-200b78d4c9b5",
   "metadata": {},
   "source": [
    "## Grid to catchments"
   ]
  },
  {
   "cell_type": "code",
   "execution_count": 6,
   "id": "a121ca04-36e3-45c4-a687-0de3848a696e",
   "metadata": {},
   "outputs": [
    {
     "data": {
      "text/plain": [
       "[None, None, None, None, None, None, None, None, None]"
      ]
     },
     "execution_count": 6,
     "metadata": {},
     "output_type": "execute_result"
    }
   ],
   "source": [
    "# Set Paths\n",
    "if not os.path.exists(f'{work_dir}/output/forcing_timeseries/raw'):\n",
    "    os.makedirs(f'{work_dir}/output/forcing_timeseries/raw')\n",
    "if not os.path.exists(f'{work_dir}/output/forcing_timeseries/processed'):\n",
    "    os.makedirs(f'{work_dir}/output/forcing_timeseries/processed')\n",
    "\n",
    "SHAPE_DIR = Path(f'{work_dir}/data/shapes/')\n",
    "NC4_DIR = Path(f'{work_dir}/data/forcing/')\n",
    "OUT_DIR = Path(f'{work_dir}/output/forcing_timeseries/raw')\n",
    "\n",
    "# Construct lists for parallel run\n",
    "(\n",
    "    shapefile_list,\n",
    "    netcdf_list,\n",
    "    operator_list,\n",
    "    output_dir_list,\n",
    ") = construct_lists_for_parallel_function(NC4_DIR, SHAPE_DIR, OUT_DIR)\n",
    "\n",
    "# run function parallel\n",
    "run_function_parallel(shapefile_list, netcdf_list, operator_list, output_dir_list)"
   ]
  },
  {
   "cell_type": "markdown",
   "id": "3a2133a1-6023-4db6-b19f-20424c9a1416",
   "metadata": {},
   "source": [
    "## Post process timeseries"
   ]
  },
  {
   "cell_type": "code",
   "execution_count": 7,
   "id": "cb57be19-0c7b-4ceb-91a7-45381645a681",
   "metadata": {},
   "outputs": [],
   "source": [
    "fol_in=f'{work_dir}/output/forcing_timeseries/raw'\n",
    "fol_out=f'{work_dir}/output/forcing_timeseries/processed'\n",
    "var = ['Ep','P','T']\n",
    "for j in catch_id_list:\n",
    "    process_forcing_timeseries(j,fol_in,fol_out,var)"
   ]
  },
  {
   "cell_type": "markdown",
   "id": "11b2671e-60ae-43e8-9d4c-87fef4564366",
   "metadata": {},
   "source": [
    "## Descriptor variables"
   ]
  },
  {
   "cell_type": "code",
   "execution_count": 8,
   "id": "a4f899cb-78f7-4da7-91c0-db16a9c841ad",
   "metadata": {},
   "outputs": [
    {
     "data": {
      "text/html": [
       "<div>\n",
       "<style scoped>\n",
       "    .dataframe tbody tr th:only-of-type {\n",
       "        vertical-align: middle;\n",
       "    }\n",
       "\n",
       "    .dataframe tbody tr th {\n",
       "        vertical-align: top;\n",
       "    }\n",
       "\n",
       "    .dataframe thead th {\n",
       "        text-align: right;\n",
       "    }\n",
       "</style>\n",
       "<table border=\"1\" class=\"dataframe\">\n",
       "  <thead>\n",
       "    <tr style=\"text-align: right;\">\n",
       "      <th></th>\n",
       "      <th>p_mean</th>\n",
       "      <th>ep_mean</th>\n",
       "      <th>q_mean</th>\n",
       "      <th>t_mean</th>\n",
       "      <th>ai</th>\n",
       "      <th>rc</th>\n",
       "      <th>ea_wb</th>\n",
       "      <th>si_p</th>\n",
       "      <th>si_ep</th>\n",
       "      <th>phi</th>\n",
       "      <th>st</th>\n",
       "      <th>tc</th>\n",
       "      <th>ntc</th>\n",
       "      <th>nonveg</th>\n",
       "      <th>start_year</th>\n",
       "      <th>end_year</th>\n",
       "    </tr>\n",
       "  </thead>\n",
       "  <tbody>\n",
       "    <tr>\n",
       "      <th>br_0000495</th>\n",
       "      <td>5.985058</td>\n",
       "      <td>3.635537</td>\n",
       "      <td>3.21034</td>\n",
       "      <td>27.17695</td>\n",
       "      <td>1.646265</td>\n",
       "      <td>NaN</td>\n",
       "      <td>NaN</td>\n",
       "      <td>0.610597</td>\n",
       "      <td>0.051158</td>\n",
       "      <td>6</td>\n",
       "      <td>NaN</td>\n",
       "      <td>NaN</td>\n",
       "      <td>NaN</td>\n",
       "      <td>NaN</td>\n",
       "      <td>NaN</td>\n",
       "      <td>NaN</td>\n",
       "    </tr>\n",
       "    <tr>\n",
       "      <th>fr_0000326</th>\n",
       "      <td>3.540341</td>\n",
       "      <td>2.105863</td>\n",
       "      <td>1.701488</td>\n",
       "      <td>10.755472</td>\n",
       "      <td>1.681183</td>\n",
       "      <td>NaN</td>\n",
       "      <td>NaN</td>\n",
       "      <td>0.36535</td>\n",
       "      <td>0.303236</td>\n",
       "      <td>6</td>\n",
       "      <td>NaN</td>\n",
       "      <td>NaN</td>\n",
       "      <td>NaN</td>\n",
       "      <td>NaN</td>\n",
       "      <td>NaN</td>\n",
       "      <td>NaN</td>\n",
       "    </tr>\n",
       "    <tr>\n",
       "      <th>us_0002247</th>\n",
       "      <td>4.276623</td>\n",
       "      <td>2.636243</td>\n",
       "      <td>3.9137</td>\n",
       "      <td>16.772313</td>\n",
       "      <td>1.622242</td>\n",
       "      <td>NaN</td>\n",
       "      <td>NaN</td>\n",
       "      <td>0.179611</td>\n",
       "      <td>0.364593</td>\n",
       "      <td>6</td>\n",
       "      <td>NaN</td>\n",
       "      <td>NaN</td>\n",
       "      <td>NaN</td>\n",
       "      <td>NaN</td>\n",
       "      <td>NaN</td>\n",
       "      <td>NaN</td>\n",
       "    </tr>\n",
       "  </tbody>\n",
       "</table>\n",
       "</div>"
      ],
      "text/plain": [
       "              p_mean   ep_mean    q_mean     t_mean        ai   rc ea_wb  \\\n",
       "br_0000495  5.985058  3.635537   3.21034   27.17695  1.646265  NaN   NaN   \n",
       "fr_0000326  3.540341  2.105863  1.701488  10.755472  1.681183  NaN   NaN   \n",
       "us_0002247  4.276623  2.636243    3.9137  16.772313  1.622242  NaN   NaN   \n",
       "\n",
       "                si_p     si_ep phi   st   tc  ntc nonveg start_year end_year  \n",
       "br_0000495  0.610597  0.051158   6  NaN  NaN  NaN    NaN        NaN      NaN  \n",
       "fr_0000326   0.36535  0.303236   6  NaN  NaN  NaN    NaN        NaN      NaN  \n",
       "us_0002247  0.179611  0.364593   6  NaN  NaN  NaN    NaN        NaN      NaN  "
      ]
     },
     "execution_count": 8,
     "metadata": {},
     "output_type": "execute_result"
    }
   ],
   "source": [
    "fol_in=f'{work_dir}/output/'\n",
    "fol_out=f'{work_dir}/output/'\n",
    "var=['p_mean','ep_mean','q_mean','t_mean','ai','rc','ea_wb','si_p','si_ep','phi','st','tc','ntc','nonveg','start_year','end_year']\n",
    "catch_id = catch_id_list\n",
    "catch_characteristics(var, catch_id, fol_in, fol_out)"
   ]
  },
  {
   "cell_type": "code",
   "execution_count": null,
   "id": "cbc4456c-b5a9-4109-97ea-0d265ff61f71",
   "metadata": {},
   "outputs": [],
   "source": []
  }
 ],
 "metadata": {
  "kernelspec": {
   "display_name": "Python 3 (ipykernel)",
   "language": "python",
   "name": "python3"
  },
  "language_info": {
   "codemirror_mode": {
    "name": "ipython",
    "version": 3
   },
   "file_extension": ".py",
   "mimetype": "text/x-python",
   "name": "python",
   "nbconvert_exporter": "python",
   "pygments_lexer": "ipython3",
   "version": "3.9.7"
  }
 },
 "nbformat": 4,
 "nbformat_minor": 5
}
